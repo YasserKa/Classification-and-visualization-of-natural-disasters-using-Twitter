{
 "cells": [
  {
   "cell_type": "code",
   "execution_count": 1,
   "id": "dacf4ef7",
   "metadata": {},
   "outputs": [
    {
     "name": "stderr",
     "output_type": "stream",
     "text": [
      "2022-10-07 09:11:36.803761: I tensorflow/stream_executor/cuda/cuda_gpu_executor.cc:975] successful NUMA node read from SysFS had negative value (-1), but there must be at least one NUMA node, so returning NUMA node zero\n",
      "2022-10-07 09:11:36.896727: W tensorflow/stream_executor/platform/default/dso_loader.cc:64] Could not load dynamic library 'libcudnn.so.8'; dlerror: libcudnn.so.8: cannot open shared object file: No such file or directory\n",
      "2022-10-07 09:11:36.896743: W tensorflow/core/common_runtime/gpu/gpu_device.cc:1850] Cannot dlopen some GPU libraries. Please make sure the missing libraries mentioned above are installed properly if you would like to use GPU. Follow the guide at https://www.tensorflow.org/install/gpu for how to download and setup the required libraries for your platform.\n",
      "Skipping registering GPU devices...\n"
     ]
    }
   ],
   "source": [
    "from src.data.preprocess import remove_not_needed_elements_from_string\n",
    "from transformers import AutoModel, AutoTokenizer\n",
    "from transformers import pipeline\n",
    "import pandas as pd\n",
    "from hydra import compose, initialize\n",
    "from omegaconf import DictConfig\n",
    "from tqdm.notebook import tqdm\n",
    "from geopy.geocoders import Nominatim\n",
    "import plotly.express as px\n",
    "from shapely.geometry import Point\n",
    "import geopandas as gpd\n",
    "from urllib.request import urlopen\n",
    "import json\n",
    "import ast"
   ]
  },
  {
   "cell_type": "code",
   "execution_count": 4,
   "id": "b108cddf",
   "metadata": {},
   "outputs": [
    {
     "name": "stdout",
     "output_type": "stream",
     "text": [
      "Number of tweets that explicity mentions locations\n",
      "591/5035\n"
     ]
    }
   ],
   "source": [
    "with initialize(version_base=None, config_path=\"../conf\"):\n",
    "    cfg: DictConfig = compose(config_name=\"config\")\n",
    "\n",
    "path_to_data = cfg.supervisor.processed\n",
    "\n",
    "df = pd.read_csv(\"../\" + path_to_data)\n",
    "\n",
    "print(\n",
    "    f\"Number of tweets that explicity mentions Swedish locations\\n{len(df[df['mentions_location'] == 1])}/{len(df)}\"\n",
    ")"
   ]
  },
  {
   "cell_type": "code",
   "execution_count": 5,
   "id": "31c40d9b",
   "metadata": {},
   "outputs": [
    {
     "name": "stderr",
     "output_type": "stream",
     "text": [
      "Some weights of the model checkpoint at KB/bert-base-swedish-cased were not used when initializing BertModel: ['cls.predictions.decoder.bias', 'cls.predictions.bias', 'cls.predictions.transform.dense.weight', 'cls.predictions.decoder.weight', 'cls.predictions.transform.dense.bias', 'cls.predictions.transform.LayerNorm.bias', 'cls.predictions.transform.LayerNorm.weight']\n",
      "- This IS expected if you are initializing BertModel from the checkpoint of a model trained on another task or with another architecture (e.g. initializing a BertForSequenceClassification model from a BertForPreTraining model).\n",
      "- This IS NOT expected if you are initializing BertModel from the checkpoint of a model that you expect to be exactly identical (initializing a BertForSequenceClassification model from a BertForSequenceClassification model).\n"
     ]
    }
   ],
   "source": [
    "tok = AutoTokenizer.from_pretrained(\"KB/bert-base-swedish-cased\")\n",
    "model = AutoModel.from_pretrained(\"KB/bert-base-swedish-cased\")\n",
    "nlp = pipeline(\n",
    "    \"ner\",\n",
    "    model=\"KB/bert-base-swedish-cased-ner\",\n",
    "    tokenizer=\"KB/bert-base-swedish-cased-ner\",\n",
    ")"
   ]
  },
  {
   "cell_type": "code",
   "execution_count": 6,
   "id": "e6b3e70e",
   "metadata": {
    "scrolled": true
   },
   "outputs": [
    {
     "data": {
      "application/vnd.jupyter.widget-view+json": {
       "model_id": "fb7b1ed2212941c493eddc8428d01a0c",
       "version_major": 2,
       "version_minor": 0
      },
      "text/plain": [
       "NER NLP:   0%|          | 0/1493 [00:00<?, ?it/s]"
      ]
     },
     "metadata": {},
     "output_type": "display_data"
    },
    {
     "name": "stderr",
     "output_type": "stream",
     "text": [
      "Asking to truncate to max_length but no maximum length is provided and the model has no predefined maximum length. Default to no truncation.\n"
     ]
    },
    {
     "name": "stdout",
     "output_type": "stream",
     "text": [
      "ÖSREGN: Översvämning i Malmbäck  \n",
      "{'entity': 'LOC', 'score': 0.92924124, 'index': 2, 'word': '##SR', 'start': 1, 'end': 3}\n",
      "[{'entity': 'LOC', 'score': 0.92924124, 'index': 2, 'word': '##SR', 'start': 1, 'end': 3}, {'entity': 'LOC', 'score': 0.976103, 'index': 3, 'word': '##EG', 'start': 3, 'end': 5}, {'entity': 'LOC', 'score': 0.9978521, 'index': 10, 'word': 'Malm', 'start': 23, 'end': 27}, {'entity': 'LOC', 'score': 0.9973863, 'index': 11, 'word': '##bäck', 'start': 27, 'end': 31}]\n",
      "-----------------------------------\n",
      "ÖSREGN: Översvämning i Malmbäck  \n",
      "{'entity': 'LOC', 'score': 0.976103, 'index': 3, 'word': '##EG', 'start': 3, 'end': 5}\n",
      "[{'entity': 'LOC', 'score': 0.92924124, 'index': 2, 'word': '##SR', 'start': 1, 'end': 3}, {'entity': 'LOC', 'score': 0.976103, 'index': 3, 'word': '##EG', 'start': 3, 'end': 5}, {'entity': 'LOC', 'score': 0.9978521, 'index': 10, 'word': 'Malm', 'start': 23, 'end': 27}, {'entity': 'LOC', 'score': 0.9973863, 'index': 11, 'word': '##bäck', 'start': 27, 'end': 31}]\n",
      "-----------------------------------\n",
      "Vej styrtede sammen i vildt regnvejr    Hovstien ved Vilhelmsborg styrtede sammen efter kraftig regn den  . september\n",
      "{'entity': 'PER', 'score': 0.8879649, 'index': 14, 'word': '##sti', 'start': 43, 'end': 46}\n",
      "[{'entity': 'PER', 'score': 0.8879649, 'index': 14, 'word': '##sti', 'start': 43, 'end': 46}, {'entity': 'LOC', 'score': 0.9987826, 'index': 17, 'word': 'Vilhelm', 'start': 53, 'end': 60}, {'entity': 'LOC', 'score': 0.99709725, 'index': 18, 'word': '##sborg', 'start': 60, 'end': 65}, {'entity': 'TME', 'score': 0.9960978, 'index': 26, 'word': 'den', 'start': 101, 'end': 104}, {'entity': 'TME', 'score': 0.9983973, 'index': 27, 'word': '.', 'start': 106, 'end': 107}, {'entity': 'TME', 'score': 0.99952865, 'index': 28, 'word': 'september', 'start': 108, 'end': 117}]\n",
      "-----------------------------------\n",
      "Lv   Bänteby-Hallerud (SOS): Vägskador, översvämning. Störning   #Övrigt #trafikP \n",
      "{'entity': 'LOC', 'score': 0.48331064, 'index': 4, 'word': '##änt', 'start': 6, 'end': 9}\n",
      "[{'entity': 'LOC', 'score': 0.48331064, 'index': 4, 'word': '##änt', 'start': 6, 'end': 9}, {'entity': 'PER', 'score': 0.92568177, 'index': 7, 'word': 'Halle', 'start': 13, 'end': 18}, {'entity': 'PER', 'score': 0.8957097, 'index': 8, 'word': '##rud', 'start': 18, 'end': 21}]\n",
      "-----------------------------------\n",
      "    Oversvømmelser i denne viadukt frembringer spændende barndomsminder frem fra Ålborg i  erne\n",
      "{'entity': 'PER', 'score': 0.68258935, 'index': 19, 'word': '##min', 'start': 65, 'end': 68}\n",
      "[{'entity': 'PER', 'score': 0.68258935, 'index': 19, 'word': '##min', 'start': 65, 'end': 68}, {'entity': 'LOC', 'score': 0.9972011, 'index': 24, 'word': 'Ål', 'start': 81, 'end': 83}, {'entity': 'LOC', 'score': 0.9983897, 'index': 25, 'word': '##borg', 'start': 83, 'end': 87}]\n",
      "-----------------------------------\n",
      "Vejle udskrev i foråret en idékonkurrence om, hvordan byen bedst beskyttes mod stormflod. Vinderen leverer et stærkt og helhedstænkende bud på stormflodsbeskyttelse, hvor vandet er en integreret del af Fjordbyen:   #dkgreen #dkklima #havetstiger  \n",
      "{'entity': 'PER', 'score': 0.41568965, 'index': 2, 'word': '##jl', 'start': 2, 'end': 4}\n",
      "[{'entity': 'PER', 'score': 0.41568965, 'index': 2, 'word': '##jl', 'start': 2, 'end': 4}]\n",
      "-----------------------------------\n",
      "DEBATT: Skyddsvallar blir alldeles för dyrt och omfattande, skriver Lars Hansson #Uddevalla #översvämning  \n",
      "{'entity': 'PER', 'score': 0.4376638, 'index': 6, 'word': '##svall', 'start': 13, 'end': 18}\n",
      "[{'entity': 'PER', 'score': 0.4376638, 'index': 6, 'word': '##svall', 'start': 13, 'end': 18}, {'entity': 'PER', 'score': 0.99989605, 'index': 16, 'word': 'Lars', 'start': 68, 'end': 72}, {'entity': 'PER', 'score': 0.99989474, 'index': 17, 'word': 'Hansson', 'start': 73, 'end': 80}, {'entity': 'PER', 'score': 0.973421, 'index': 18, 'word': '#', 'start': 81, 'end': 82}, {'entity': 'LOC', 'score': 0.70953417, 'index': 19, 'word': 'Uddevalla', 'start': 82, 'end': 91}]\n",
      "-----------------------------------\n",
      "ÖVERSVÄMNINGAR. Då behövs skyddsvallar som står säkert och vem som helst kan ställa upp snabbt. DamLite är helt överlägset. Säkert, enkelt och svenskt. Bl.a. MSB har köpt in och använt flera gånger i skarpa lägen.     \n",
      "{'entity': 'PER', 'score': 0.44347984, 'index': 24, 'word': '##L', 'start': 99, 'end': 100}\n",
      "[{'entity': 'PER', 'score': 0.44347984, 'index': 24, 'word': '##L', 'start': 99, 'end': 100}, {'entity': 'ORG', 'score': 0.999443, 'index': 40, 'word': 'MS', 'start': 158, 'end': 160}, {'entity': 'ORG', 'score': 0.9992211, 'index': 41, 'word': '##B', 'start': 160, 'end': 161}, {'entity': 'MSR', 'score': 0.9998343, 'index': 47, 'word': 'flera', 'start': 185, 'end': 190}, {'entity': 'MSR', 'score': 0.9998023, 'index': 48, 'word': 'gånger', 'start': 191, 'end': 197}]\n",
      "-----------------------------------\n",
      "#Teuvanjoki eilinen sade nosti virtaamaa mutta tänään maisema oli aurinkoinen #tulva #ELYkeskus   #Tjöckå solen lyser upp landskapet efter gårdagens regn #översvämning #NTMcentralen  \n",
      "{'entity': 'LOC', 'score': 0.7768488, 'index': 40, 'word': '##öck', 'start': 101, 'end': 104}\n",
      "[{'entity': 'LOC', 'score': 0.7768488, 'index': 40, 'word': '##öck', 'start': 101, 'end': 104}, {'entity': 'ORG', 'score': 0.4938934, 'index': 53, 'word': 'NT', 'start': 169, 'end': 171}]\n",
      "-----------------------------------\n",
      "#StormenDennis har dragit fram över de brittiska öarna i helgen. Hundratals människor har evakuerats på grund av översvämningar i södra Wales. Samtidigt som rekordmånga vädervarningar, över  , utlystes i England. Hör mer i #Morgonstudion kl. .   \n",
      "{'entity': 'EVN', 'score': 0.91049933, 'index': 4, 'word': '##Den', 'start': 8, 'end': 11}\n",
      "[{'entity': 'EVN', 'score': 0.91049933, 'index': 4, 'word': '##Den', 'start': 8, 'end': 11}, {'entity': 'EVN', 'score': 0.83963376, 'index': 5, 'word': '##nis', 'start': 11, 'end': 14}, {'entity': 'TME', 'score': 0.99963987, 'index': 13, 'word': 'i', 'start': 55, 'end': 56}, {'entity': 'TME', 'score': 0.9997371, 'index': 14, 'word': 'helgen', 'start': 57, 'end': 63}, {'entity': 'LOC', 'score': 0.99911326, 'index': 27, 'word': 'Wales', 'start': 136, 'end': 141}, {'entity': 'TME', 'score': 0.9997167, 'index': 29, 'word': 'Samtidigt', 'start': 143, 'end': 152}, {'entity': 'LOC', 'score': 0.9991172, 'index': 43, 'word': 'England', 'start': 204, 'end': 211}]\n",
      "-----------------------------------\n",
      "#StormenDennis har dragit fram över de brittiska öarna i helgen. Hundratals människor har evakuerats på grund av översvämningar i södra Wales. Samtidigt som rekordmånga vädervarningar, över  , utlystes i England. Hör mer i #Morgonstudion kl. .   \n",
      "{'entity': 'EVN', 'score': 0.83963376, 'index': 5, 'word': '##nis', 'start': 11, 'end': 14}\n",
      "[{'entity': 'EVN', 'score': 0.91049933, 'index': 4, 'word': '##Den', 'start': 8, 'end': 11}, {'entity': 'EVN', 'score': 0.83963376, 'index': 5, 'word': '##nis', 'start': 11, 'end': 14}, {'entity': 'TME', 'score': 0.99963987, 'index': 13, 'word': 'i', 'start': 55, 'end': 56}, {'entity': 'TME', 'score': 0.9997371, 'index': 14, 'word': 'helgen', 'start': 57, 'end': 63}, {'entity': 'LOC', 'score': 0.99911326, 'index': 27, 'word': 'Wales', 'start': 136, 'end': 141}, {'entity': 'TME', 'score': 0.9997167, 'index': 29, 'word': 'Samtidigt', 'start': 143, 'end': 152}, {'entity': 'LOC', 'score': 0.9991172, 'index': 43, 'word': 'England', 'start': 204, 'end': 211}]\n",
      "-----------------------------------\n",
      "Jippie, översvämning i källaren 😡\n",
      "{'entity': 'PER', 'score': 0.8150067, 'index': 2, 'word': '##pp', 'start': 2, 'end': 4}\n",
      "[{'entity': 'PER', 'score': 0.8150067, 'index': 2, 'word': '##pp', 'start': 2, 'end': 4}]\n",
      "-----------------------------------\n",
      "BAGAHAHAH översvämning inne på Ica gg\n",
      "{'entity': 'LOC', 'score': 0.54560703, 'index': 2, 'word': '##GA', 'start': 2, 'end': 4}\n",
      "[{'entity': 'LOC', 'score': 0.54560703, 'index': 2, 'word': '##GA', 'start': 2, 'end': 4}, {'entity': 'LOC', 'score': 0.59124696, 'index': 3, 'word': '##HA', 'start': 4, 'end': 6}, {'entity': 'LOC', 'score': 0.4619706, 'index': 4, 'word': '##HA', 'start': 6, 'end': 8}, {'entity': 'LOC', 'score': 0.93158686, 'index': 10, 'word': 'Ica', 'start': 31, 'end': 34}]\n",
      "-----------------------------------\n",
      "BAGAHAHAH översvämning inne på Ica gg\n",
      "{'entity': 'LOC', 'score': 0.59124696, 'index': 3, 'word': '##HA', 'start': 4, 'end': 6}\n",
      "[{'entity': 'LOC', 'score': 0.54560703, 'index': 2, 'word': '##GA', 'start': 2, 'end': 4}, {'entity': 'LOC', 'score': 0.59124696, 'index': 3, 'word': '##HA', 'start': 4, 'end': 6}, {'entity': 'LOC', 'score': 0.4619706, 'index': 4, 'word': '##HA', 'start': 6, 'end': 8}, {'entity': 'LOC', 'score': 0.93158686, 'index': 10, 'word': 'Ica', 'start': 31, 'end': 34}]\n",
      "-----------------------------------\n",
      "BAGAHAHAH översvämning inne på Ica gg\n",
      "{'entity': 'LOC', 'score': 0.4619706, 'index': 4, 'word': '##HA', 'start': 6, 'end': 8}\n",
      "[{'entity': 'LOC', 'score': 0.54560703, 'index': 2, 'word': '##GA', 'start': 2, 'end': 4}, {'entity': 'LOC', 'score': 0.59124696, 'index': 3, 'word': '##HA', 'start': 4, 'end': 6}, {'entity': 'LOC', 'score': 0.4619706, 'index': 4, 'word': '##HA', 'start': 6, 'end': 8}, {'entity': 'LOC', 'score': 0.93158686, 'index': 10, 'word': 'Ica', 'start': 31, 'end': 34}]\n",
      "-----------------------------------\n"
     ]
    }
   ],
   "source": [
    "def get_location_entities(text: str):\n",
    "    text = remove_not_needed_elements_from_string(text)\n",
    "    # Remove stopwords\n",
    "    tokens = nlp(text)\n",
    "    updated_tokens = []\n",
    "    for token in tokens:\n",
    "        if token[\"word\"].startswith(\"##\"):\n",
    "            try:\n",
    "                updated_tokens[-1][\"word\"] += token[\"word\"][2:]\n",
    "            except Exception:\n",
    "                continue\n",
    "        else:\n",
    "            updated_tokens += [token]\n",
    "    loc_entities = list(filter(lambda x: x[\"entity\"] == \"LOC\", updated_tokens))\n",
    "    return [{entity[\"word\"]: entity[\"score\"]} for entity in loc_entities]\n",
    "\n",
    "\n",
    "# Use NER on only relevant tweets\n",
    "df = df[df[\"relevant\"] == 1]\n",
    "tqdm.pandas(desc=\"NER NLP\")\n",
    "df[\"tokens\"] = df[\"raw_text\"].progress_apply(get_location_entities)"
   ]
  },
  {
   "cell_type": "markdown",
   "id": "3ec5e3dd",
   "metadata": {},
   "source": [
    "The NLP pipeline seems to generate tokens missing it's initial part that's needed for the subsequents that contains \"##\" at the start"
   ]
  },
  {
   "cell_type": "markdown",
   "id": "35e513c4",
   "metadata": {},
   "source": [
    "Now, let's filter out non-swedish locations"
   ]
  },
  {
   "cell_type": "code",
   "execution_count": 92,
   "id": "fc68abf6",
   "metadata": {},
   "outputs": [],
   "source": [
    "geolocater = Nominatim(user_agent=\"flood_detection\")"
   ]
  },
  {
   "cell_type": "code",
   "execution_count": 4,
   "id": "8c71603d",
   "metadata": {
    "scrolled": true
   },
   "outputs": [
    {
     "data": {
      "application/vnd.jupyter.widget-view+json": {
       "model_id": "09a09626b9e949e597d12843e41dcb59",
       "version_major": 2,
       "version_minor": 0
      },
      "text/plain": [
       "Is Swidish location:   0%|          | 0/1493 [00:00<?, ?it/s]"
      ]
     },
     "metadata": {},
     "output_type": "display_data"
    },
    {
     "ename": "AttributeError",
     "evalue": "'str' object has no attribute 'keys'",
     "output_type": "error",
     "traceback": [
      "\u001b[0;31m---------------------------------------------------------------------------\u001b[0m",
      "\u001b[0;31mAttributeError\u001b[0m                            Traceback (most recent call last)",
      "Cell \u001b[0;32mIn [4], line 17\u001b[0m\n\u001b[1;32m     15\u001b[0m df[\u001b[38;5;124m\"\u001b[39m\u001b[38;5;124mhas_loc_entities\u001b[39m\u001b[38;5;124m\"\u001b[39m] \u001b[38;5;241m=\u001b[39m df[\u001b[38;5;124m\"\u001b[39m\u001b[38;5;124mtokens\u001b[39m\u001b[38;5;124m\"\u001b[39m]\u001b[38;5;241m.\u001b[39mapply(\u001b[38;5;28;01mlambda\u001b[39;00m x: \u001b[38;5;28mlen\u001b[39m(x) \u001b[38;5;241m>\u001b[39m \u001b[38;5;241m0\u001b[39m)\n\u001b[1;32m     16\u001b[0m tqdm\u001b[38;5;241m.\u001b[39mpandas(desc\u001b[38;5;241m=\u001b[39m\u001b[38;5;124m\"\u001b[39m\u001b[38;5;124mIs Swidish location\u001b[39m\u001b[38;5;124m\"\u001b[39m)\n\u001b[0;32m---> 17\u001b[0m df[\u001b[38;5;124m\"\u001b[39m\u001b[38;5;124mloc_ent_is_swedish\u001b[39m\u001b[38;5;124m\"\u001b[39m] \u001b[38;5;241m=\u001b[39m \u001b[43mdf\u001b[49m\u001b[43m[\u001b[49m\u001b[38;5;124;43m\"\u001b[39;49m\u001b[38;5;124;43mtokens\u001b[39;49m\u001b[38;5;124;43m\"\u001b[39;49m\u001b[43m]\u001b[49m\u001b[38;5;241;43m.\u001b[39;49m\u001b[43mprogress_apply\u001b[49m\u001b[43m(\u001b[49m\u001b[43mis_swedish_geo\u001b[49m\u001b[43m)\u001b[49m\n\u001b[1;32m     18\u001b[0m df\u001b[38;5;241m.\u001b[39mto_csv(\u001b[38;5;124m\"\u001b[39m\u001b[38;5;124mfile1.csv\u001b[39m\u001b[38;5;124m\"\u001b[39m)\n",
      "File \u001b[0;32m~/.local/share/virtualenvs/thesis-Yg64ltAd/lib/python3.10/site-packages/tqdm/std.py:814\u001b[0m, in \u001b[0;36mtqdm.pandas.<locals>.inner_generator.<locals>.inner\u001b[0;34m(df, func, *args, **kwargs)\u001b[0m\n\u001b[1;32m    811\u001b[0m \u001b[38;5;66;03m# Apply the provided function (in **kwargs)\u001b[39;00m\n\u001b[1;32m    812\u001b[0m \u001b[38;5;66;03m# on the df using our wrapper (which provides bar updating)\u001b[39;00m\n\u001b[1;32m    813\u001b[0m \u001b[38;5;28;01mtry\u001b[39;00m:\n\u001b[0;32m--> 814\u001b[0m     \u001b[38;5;28;01mreturn\u001b[39;00m \u001b[38;5;28;43mgetattr\u001b[39;49m\u001b[43m(\u001b[49m\u001b[43mdf\u001b[49m\u001b[43m,\u001b[49m\u001b[43m \u001b[49m\u001b[43mdf_function\u001b[49m\u001b[43m)\u001b[49m\u001b[43m(\u001b[49m\u001b[43mwrapper\u001b[49m\u001b[43m,\u001b[49m\u001b[43m \u001b[49m\u001b[38;5;241;43m*\u001b[39;49m\u001b[38;5;241;43m*\u001b[39;49m\u001b[43mkwargs\u001b[49m\u001b[43m)\u001b[49m\n\u001b[1;32m    815\u001b[0m \u001b[38;5;28;01mfinally\u001b[39;00m:\n\u001b[1;32m    816\u001b[0m     t\u001b[38;5;241m.\u001b[39mclose()\n",
      "File \u001b[0;32m~/.local/share/virtualenvs/thesis-Yg64ltAd/lib/python3.10/site-packages/pandas/core/series.py:4774\u001b[0m, in \u001b[0;36mSeries.apply\u001b[0;34m(self, func, convert_dtype, args, **kwargs)\u001b[0m\n\u001b[1;32m   4664\u001b[0m \u001b[38;5;28;01mdef\u001b[39;00m \u001b[38;5;21mapply\u001b[39m(\n\u001b[1;32m   4665\u001b[0m     \u001b[38;5;28mself\u001b[39m,\n\u001b[1;32m   4666\u001b[0m     func: AggFuncType,\n\u001b[0;32m   (...)\u001b[0m\n\u001b[1;32m   4669\u001b[0m     \u001b[38;5;241m*\u001b[39m\u001b[38;5;241m*\u001b[39mkwargs,\n\u001b[1;32m   4670\u001b[0m ) \u001b[38;5;241m-\u001b[39m\u001b[38;5;241m>\u001b[39m DataFrame \u001b[38;5;241m|\u001b[39m Series:\n\u001b[1;32m   4671\u001b[0m     \u001b[38;5;124;03m\"\"\"\u001b[39;00m\n\u001b[1;32m   4672\u001b[0m \u001b[38;5;124;03m    Invoke function on values of Series.\u001b[39;00m\n\u001b[1;32m   4673\u001b[0m \n\u001b[0;32m   (...)\u001b[0m\n\u001b[1;32m   4772\u001b[0m \u001b[38;5;124;03m    dtype: float64\u001b[39;00m\n\u001b[1;32m   4773\u001b[0m \u001b[38;5;124;03m    \"\"\"\u001b[39;00m\n\u001b[0;32m-> 4774\u001b[0m     \u001b[38;5;28;01mreturn\u001b[39;00m \u001b[43mSeriesApply\u001b[49m\u001b[43m(\u001b[49m\u001b[38;5;28;43mself\u001b[39;49m\u001b[43m,\u001b[49m\u001b[43m \u001b[49m\u001b[43mfunc\u001b[49m\u001b[43m,\u001b[49m\u001b[43m \u001b[49m\u001b[43mconvert_dtype\u001b[49m\u001b[43m,\u001b[49m\u001b[43m \u001b[49m\u001b[43margs\u001b[49m\u001b[43m,\u001b[49m\u001b[43m \u001b[49m\u001b[43mkwargs\u001b[49m\u001b[43m)\u001b[49m\u001b[38;5;241;43m.\u001b[39;49m\u001b[43mapply\u001b[49m\u001b[43m(\u001b[49m\u001b[43m)\u001b[49m\n",
      "File \u001b[0;32m~/.local/share/virtualenvs/thesis-Yg64ltAd/lib/python3.10/site-packages/pandas/core/apply.py:1100\u001b[0m, in \u001b[0;36mSeriesApply.apply\u001b[0;34m(self)\u001b[0m\n\u001b[1;32m   1097\u001b[0m     \u001b[38;5;28;01mreturn\u001b[39;00m \u001b[38;5;28mself\u001b[39m\u001b[38;5;241m.\u001b[39mapply_str()\n\u001b[1;32m   1099\u001b[0m \u001b[38;5;66;03m# self.f is Callable\u001b[39;00m\n\u001b[0;32m-> 1100\u001b[0m \u001b[38;5;28;01mreturn\u001b[39;00m \u001b[38;5;28;43mself\u001b[39;49m\u001b[38;5;241;43m.\u001b[39;49m\u001b[43mapply_standard\u001b[49m\u001b[43m(\u001b[49m\u001b[43m)\u001b[49m\n",
      "File \u001b[0;32m~/.local/share/virtualenvs/thesis-Yg64ltAd/lib/python3.10/site-packages/pandas/core/apply.py:1151\u001b[0m, in \u001b[0;36mSeriesApply.apply_standard\u001b[0;34m(self)\u001b[0m\n\u001b[1;32m   1149\u001b[0m     \u001b[38;5;28;01melse\u001b[39;00m:\n\u001b[1;32m   1150\u001b[0m         values \u001b[38;5;241m=\u001b[39m obj\u001b[38;5;241m.\u001b[39mastype(\u001b[38;5;28mobject\u001b[39m)\u001b[38;5;241m.\u001b[39m_values\n\u001b[0;32m-> 1151\u001b[0m         mapped \u001b[38;5;241m=\u001b[39m \u001b[43mlib\u001b[49m\u001b[38;5;241;43m.\u001b[39;49m\u001b[43mmap_infer\u001b[49m\u001b[43m(\u001b[49m\n\u001b[1;32m   1152\u001b[0m \u001b[43m            \u001b[49m\u001b[43mvalues\u001b[49m\u001b[43m,\u001b[49m\n\u001b[1;32m   1153\u001b[0m \u001b[43m            \u001b[49m\u001b[43mf\u001b[49m\u001b[43m,\u001b[49m\n\u001b[1;32m   1154\u001b[0m \u001b[43m            \u001b[49m\u001b[43mconvert\u001b[49m\u001b[38;5;241;43m=\u001b[39;49m\u001b[38;5;28;43mself\u001b[39;49m\u001b[38;5;241;43m.\u001b[39;49m\u001b[43mconvert_dtype\u001b[49m\u001b[43m,\u001b[49m\n\u001b[1;32m   1155\u001b[0m \u001b[43m        \u001b[49m\u001b[43m)\u001b[49m\n\u001b[1;32m   1157\u001b[0m \u001b[38;5;28;01mif\u001b[39;00m \u001b[38;5;28mlen\u001b[39m(mapped) \u001b[38;5;129;01mand\u001b[39;00m \u001b[38;5;28misinstance\u001b[39m(mapped[\u001b[38;5;241m0\u001b[39m], ABCSeries):\n\u001b[1;32m   1158\u001b[0m     \u001b[38;5;66;03m# GH#43986 Need to do list(mapped) in order to get treated as nested\u001b[39;00m\n\u001b[1;32m   1159\u001b[0m     \u001b[38;5;66;03m#  See also GH#25959 regarding EA support\u001b[39;00m\n\u001b[1;32m   1160\u001b[0m     \u001b[38;5;28;01mreturn\u001b[39;00m obj\u001b[38;5;241m.\u001b[39m_constructor_expanddim(\u001b[38;5;28mlist\u001b[39m(mapped), index\u001b[38;5;241m=\u001b[39mobj\u001b[38;5;241m.\u001b[39mindex)\n",
      "File \u001b[0;32m~/.local/share/virtualenvs/thesis-Yg64ltAd/lib/python3.10/site-packages/pandas/_libs/lib.pyx:2919\u001b[0m, in \u001b[0;36mpandas._libs.lib.map_infer\u001b[0;34m()\u001b[0m\n",
      "File \u001b[0;32m~/.local/share/virtualenvs/thesis-Yg64ltAd/lib/python3.10/site-packages/tqdm/std.py:809\u001b[0m, in \u001b[0;36mtqdm.pandas.<locals>.inner_generator.<locals>.inner.<locals>.wrapper\u001b[0;34m(*args, **kwargs)\u001b[0m\n\u001b[1;32m    803\u001b[0m \u001b[38;5;28;01mdef\u001b[39;00m \u001b[38;5;21mwrapper\u001b[39m(\u001b[38;5;241m*\u001b[39margs, \u001b[38;5;241m*\u001b[39m\u001b[38;5;241m*\u001b[39mkwargs):\n\u001b[1;32m    804\u001b[0m     \u001b[38;5;66;03m# update tbar correctly\u001b[39;00m\n\u001b[1;32m    805\u001b[0m     \u001b[38;5;66;03m# it seems `pandas apply` calls `func` twice\u001b[39;00m\n\u001b[1;32m    806\u001b[0m     \u001b[38;5;66;03m# on the first column/row to decide whether it can\u001b[39;00m\n\u001b[1;32m    807\u001b[0m     \u001b[38;5;66;03m# take a fast or slow code path; so stop when t.total==t.n\u001b[39;00m\n\u001b[1;32m    808\u001b[0m     t\u001b[38;5;241m.\u001b[39mupdate(n\u001b[38;5;241m=\u001b[39m\u001b[38;5;241m1\u001b[39m \u001b[38;5;28;01mif\u001b[39;00m \u001b[38;5;129;01mnot\u001b[39;00m t\u001b[38;5;241m.\u001b[39mtotal \u001b[38;5;129;01mor\u001b[39;00m t\u001b[38;5;241m.\u001b[39mn \u001b[38;5;241m<\u001b[39m t\u001b[38;5;241m.\u001b[39mtotal \u001b[38;5;28;01melse\u001b[39;00m \u001b[38;5;241m0\u001b[39m)\n\u001b[0;32m--> 809\u001b[0m     \u001b[38;5;28;01mreturn\u001b[39;00m \u001b[43mfunc\u001b[49m\u001b[43m(\u001b[49m\u001b[38;5;241;43m*\u001b[39;49m\u001b[43margs\u001b[49m\u001b[43m,\u001b[49m\u001b[43m \u001b[49m\u001b[38;5;241;43m*\u001b[39;49m\u001b[38;5;241;43m*\u001b[39;49m\u001b[43mkwargs\u001b[49m\u001b[43m)\u001b[49m\n",
      "Cell \u001b[0;32mIn [4], line 3\u001b[0m, in \u001b[0;36mis_swedish_geo\u001b[0;34m(list_entities)\u001b[0m\n\u001b[1;32m      1\u001b[0m \u001b[38;5;28;01mdef\u001b[39;00m \u001b[38;5;21mis_swedish_geo\u001b[39m(list_entities):\n\u001b[1;32m      2\u001b[0m     \u001b[38;5;28;01mfor\u001b[39;00m geo \u001b[38;5;129;01min\u001b[39;00m list_entities:\n\u001b[0;32m----> 3\u001b[0m         entity_name \u001b[38;5;241m=\u001b[39m \u001b[38;5;28mlist\u001b[39m(\u001b[43mgeo\u001b[49m\u001b[38;5;241;43m.\u001b[39;49m\u001b[43mkeys\u001b[49m())[\u001b[38;5;241m0\u001b[39m]\n\u001b[1;32m      4\u001b[0m         swedish_location \u001b[38;5;241m=\u001b[39m geolocator\u001b[38;5;241m.\u001b[39mgeocode(\n\u001b[1;32m      5\u001b[0m             entity_name, country_codes\u001b[38;5;241m=\u001b[39m\u001b[38;5;124m\"\u001b[39m\u001b[38;5;124mse\u001b[39m\u001b[38;5;124m\"\u001b[39m, language\u001b[38;5;241m=\u001b[39m\u001b[38;5;124m\"\u001b[39m\u001b[38;5;124men\u001b[39m\u001b[38;5;124m\"\u001b[39m, extratags\u001b[38;5;241m=\u001b[39m\u001b[38;5;28;01mTrue\u001b[39;00m\n\u001b[1;32m      6\u001b[0m         )\n\u001b[1;32m      7\u001b[0m         \u001b[38;5;28;01mif\u001b[39;00m swedish_location \u001b[38;5;129;01mis\u001b[39;00m \u001b[38;5;129;01mnot\u001b[39;00m \u001b[38;5;28;01mNone\u001b[39;00m:\n\u001b[1;32m      8\u001b[0m             \u001b[38;5;66;03m#             if swedish_location.raw['importance'] > 0.5:\u001b[39;00m\n\u001b[1;32m      9\u001b[0m             \u001b[38;5;66;03m# if 'population' in swedish_location.raw['extratags'] and \\\u001b[39;00m\n\u001b[1;32m     10\u001b[0m             \u001b[38;5;66;03m#     int(swedish_location.raw['extratags']['population']) > 1000:\u001b[39;00m\n",
      "\u001b[0;31mAttributeError\u001b[0m: 'str' object has no attribute 'keys'"
     ]
    }
   ],
   "source": [
    "def is_swedish_geo(list_entities):\n",
    "    for geo in list_entities:\n",
    "        entity_name = list(geo.keys())[0]\n",
    "        swedish_location = geolocator.geocode(\n",
    "            entity_name, country_codes=\"se\", language=\"en\", extratags=True\n",
    "        )\n",
    "        if swedish_location is not None:\n",
    "            #             if swedish_location.raw['importance'] > 0.5:\n",
    "            # if 'population' in swedish_location.raw['extratags'] and \\\n",
    "            #     int(swedish_location.raw['extratags']['population']) > 1000:\n",
    "            return swedish_location.raw\n",
    "    return False\n",
    "\n",
    "\n",
    "df[\"has_loc_entities\"] = df[\"tokens\"].apply(lambda x: len(x) > 0)\n",
    "tqdm.pandas(desc=\"Is Swidish location\")\n",
    "df[\"loc_ent_is_swedish\"] = df[\"tokens\"].progress_apply(is_swedish_geo)\n",
    "df.to_csv(\"file1.csv\")"
   ]
  },
  {
   "cell_type": "code",
   "execution_count": 2,
   "id": "b97f0fde",
   "metadata": {},
   "outputs": [
    {
     "data": {
      "text/html": [
       "<div>\n",
       "<style scoped>\n",
       "    .dataframe tbody tr th:only-of-type {\n",
       "        vertical-align: middle;\n",
       "    }\n",
       "\n",
       "    .dataframe tbody tr th {\n",
       "        vertical-align: top;\n",
       "    }\n",
       "\n",
       "    .dataframe thead th {\n",
       "        text-align: right;\n",
       "    }\n",
       "</style>\n",
       "<table border=\"1\" class=\"dataframe\">\n",
       "  <thead>\n",
       "    <tr style=\"text-align: right;\">\n",
       "      <th>Predicted</th>\n",
       "      <th>False</th>\n",
       "      <th>True</th>\n",
       "    </tr>\n",
       "    <tr>\n",
       "      <th>Actual</th>\n",
       "      <th></th>\n",
       "      <th></th>\n",
       "    </tr>\n",
       "  </thead>\n",
       "  <tbody>\n",
       "    <tr>\n",
       "      <th>0.0</th>\n",
       "      <td>772</td>\n",
       "      <td>218</td>\n",
       "    </tr>\n",
       "    <tr>\n",
       "      <th>1.0</th>\n",
       "      <td>33</td>\n",
       "      <td>469</td>\n",
       "    </tr>\n",
       "  </tbody>\n",
       "</table>\n",
       "</div>"
      ],
      "text/plain": [
       "Predicted  False  True \n",
       "Actual                 \n",
       "0.0          772    218\n",
       "1.0           33    469"
      ]
     },
     "execution_count": 2,
     "metadata": {},
     "output_type": "execute_result"
    }
   ],
   "source": [
    "df = pd.read_csv(\"file1.csv\")\n",
    "\n",
    "confusion_matrix = pd.crosstab(\n",
    "    df[\"mentions_location\"],\n",
    "    df[\"loc_ent_is_swedish\"] != \"False\",\n",
    "    rownames=[\"Actual\"],\n",
    "    colnames=[\"Predicted\"],\n",
    ")\n",
    "confusion_matrix"
   ]
  },
  {
   "cell_type": "markdown",
   "id": "85dcc322",
   "metadata": {},
   "source": [
    "## Error analysis"
   ]
  },
  {
   "cell_type": "code",
   "execution_count": 94,
   "id": "8f421733",
   "metadata": {},
   "outputs": [],
   "source": [
    "# False negatives\n",
    "needed_columns = ['id', 'tokens', 'raw_text', 'text']\n",
    "false_neg = df[(df[\"mentions_location\"] == 1) & (df[\"loc_ent_is_swedish\"] == \"False\")][needed_columns]"
   ]
  },
  {
   "cell_type": "code",
   "execution_count": 52,
   "id": "5ff9874f",
   "metadata": {},
   "outputs": [
    {
     "data": {
      "text/html": [
       "<div>\n",
       "<style scoped>\n",
       "    .dataframe tbody tr th:only-of-type {\n",
       "        vertical-align: middle;\n",
       "    }\n",
       "\n",
       "    .dataframe tbody tr th {\n",
       "        vertical-align: top;\n",
       "    }\n",
       "\n",
       "    .dataframe thead th {\n",
       "        text-align: right;\n",
       "    }\n",
       "</style>\n",
       "<table border=\"1\" class=\"dataframe\">\n",
       "  <thead>\n",
       "    <tr style=\"text-align: right;\">\n",
       "      <th></th>\n",
       "      <th>id</th>\n",
       "      <th>tokens</th>\n",
       "      <th>raw_text</th>\n",
       "      <th>text</th>\n",
       "    </tr>\n",
       "  </thead>\n",
       "  <tbody>\n",
       "    <tr>\n",
       "      <th>261</th>\n",
       "      <td>893482866151231488</td>\n",
       "      <td>[{'Färgargårdens': 0.9966882}]</td>\n",
       "      <td>Regnet vräker ner och innehåller hagel. Det mu...</td>\n",
       "      <td>the rain pours contains hail its rumbling writ...</td>\n",
       "    </tr>\n",
       "    <tr>\n",
       "      <th>314</th>\n",
       "      <td>1148141876035428352</td>\n",
       "      <td>[{'Kullabygden': 0.98074657}]</td>\n",
       "      <td>Skyfall över Kullabygden – många översvämninga...</td>\n",
       "      <td>heavy rain kullabygden  floods</td>\n",
       "    </tr>\n",
       "    <tr>\n",
       "      <th>532</th>\n",
       "      <td>1404035141140467715</td>\n",
       "      <td>[{'Lapplandsfjällen': 0.999564}]</td>\n",
       "      <td>Lapplandsfjällen (Väder) SMHI varning klass 1 ...</td>\n",
       "      <td>lapland mountains weather smhi warning class h...</td>\n",
       "    </tr>\n",
       "    <tr>\n",
       "      <th>551</th>\n",
       "      <td>1403759207103541252</td>\n",
       "      <td>[{'FarstaO': 0.9812517}]</td>\n",
       "      <td>Jösses vad det regnar, var i Farsta-hOoden, åt...</td>\n",
       "      <td>jeez rain farstahooden roads blocked floods ca...</td>\n",
       "    </tr>\n",
       "    <tr>\n",
       "      <th>752</th>\n",
       "      <td>808624344381485056</td>\n",
       "      <td>[{'Växjöhotell': 0.8389809}]</td>\n",
       "      <td>Översvämning på Växjöhotell https://t.co/Bza2T...</td>\n",
       "      <td>flooding växjöhotell</td>\n",
       "    </tr>\n",
       "    <tr>\n",
       "      <th>1089</th>\n",
       "      <td>1323375668059688960</td>\n",
       "      <td>[{'Gumbodahamn': 0.99864274}]</td>\n",
       "      <td>Lv 738 Vippersrönningen–Gumbodahamn (Trafikstö...</td>\n",
       "      <td>lv vippersrönningen–gumbodahamn traffic distur...</td>\n",
       "    </tr>\n",
       "    <tr>\n",
       "      <th>1164</th>\n",
       "      <td>833576058058371072</td>\n",
       "      <td>[{'Sydkusten': 0.99791116}]</td>\n",
       "      <td>Översvämningar och jordskred på kusten - Sydku...</td>\n",
       "      <td>floods landslides coast  sydkustenes</td>\n",
       "    </tr>\n",
       "    <tr>\n",
       "      <th>1226</th>\n",
       "      <td>1035449418542006272</td>\n",
       "      <td>[{'Sydsverige': 0.99941397}]</td>\n",
       "      <td>E22 översvämmad i intensiva skyfallet SMHI var...</td>\n",
       "      <td>e flooded intense downpour smhi warns heavy do...</td>\n",
       "    </tr>\n",
       "    <tr>\n",
       "      <th>1492</th>\n",
       "      <td>618744167938818048</td>\n",
       "      <td>[{'Stockholmsområdet': 0.9994622}]</td>\n",
       "      <td>Kraftigt regn på väg in över Stockholmsområdet...</td>\n",
       "      <td>heavy rain moving stockholm area  risk floodin...</td>\n",
       "    </tr>\n",
       "  </tbody>\n",
       "</table>\n",
       "</div>"
      ],
      "text/plain": [
       "                       id                              tokens  \\\n",
       "261    893482866151231488      [{'Färgargårdens': 0.9966882}]   \n",
       "314   1148141876035428352       [{'Kullabygden': 0.98074657}]   \n",
       "532   1404035141140467715    [{'Lapplandsfjällen': 0.999564}]   \n",
       "551   1403759207103541252            [{'FarstaO': 0.9812517}]   \n",
       "752    808624344381485056        [{'Växjöhotell': 0.8389809}]   \n",
       "1089  1323375668059688960       [{'Gumbodahamn': 0.99864274}]   \n",
       "1164   833576058058371072         [{'Sydkusten': 0.99791116}]   \n",
       "1226  1035449418542006272        [{'Sydsverige': 0.99941397}]   \n",
       "1492   618744167938818048  [{'Stockholmsområdet': 0.9994622}]   \n",
       "\n",
       "                                               raw_text  \\\n",
       "261   Regnet vräker ner och innehåller hagel. Det mu...   \n",
       "314   Skyfall över Kullabygden – många översvämninga...   \n",
       "532   Lapplandsfjällen (Väder) SMHI varning klass 1 ...   \n",
       "551   Jösses vad det regnar, var i Farsta-hOoden, åt...   \n",
       "752   Översvämning på Växjöhotell https://t.co/Bza2T...   \n",
       "1089  Lv 738 Vippersrönningen–Gumbodahamn (Trafikstö...   \n",
       "1164  Översvämningar och jordskred på kusten - Sydku...   \n",
       "1226  E22 översvämmad i intensiva skyfallet SMHI var...   \n",
       "1492  Kraftigt regn på väg in över Stockholmsområdet...   \n",
       "\n",
       "                                                   text  \n",
       "261   the rain pours contains hail its rumbling writ...  \n",
       "314                      heavy rain kullabygden  floods  \n",
       "532   lapland mountains weather smhi warning class h...  \n",
       "551   jeez rain farstahooden roads blocked floods ca...  \n",
       "752                                flooding växjöhotell  \n",
       "1089  lv vippersrönningen–gumbodahamn traffic distur...  \n",
       "1164               floods landslides coast  sydkustenes  \n",
       "1226  e flooded intense downpour smhi warns heavy do...  \n",
       "1492  heavy rain moving stockholm area  risk floodin...  "
      ]
     },
     "execution_count": 52,
     "metadata": {},
     "output_type": "execute_result"
    }
   ],
   "source": [
    "# Locations extracted by NER, not recognized by geocoders\n",
    "false_neg[false_neg['tokens'].apply(lambda x: len(ast.literal_eval(x)) > 0)]"
   ]
  },
  {
   "cell_type": "code",
   "execution_count": 68,
   "id": "7c4ce5b6",
   "metadata": {},
   "outputs": [
    {
     "name": "stdout",
     "output_type": "stream",
     "text": [
      "None\n",
      "None\n",
      "None\n"
     ]
    }
   ],
   "source": [
    "# Another geocoder\n",
    "from geopy.geocoders import GeoNames\n",
    "geonames_geolocater = GeoNames(\"yasser_kaddoura\")\n",
    "print(geonames_geolocater.geocode(\"Skånska\", country=\"SE\", country_bias=\"SE\"))\n",
    "print(geonames_geolocater.geocode(\"Kullabygden\", country=\"SE\", country_bias=\"SE\"))\n",
    "print(geonames_geolocater.geocode(\"Sydkusten\", country=\"SE\", country_bias=\"SE\"))"
   ]
  },
  {
   "cell_type": "code",
   "execution_count": 53,
   "id": "ffdb844b",
   "metadata": {},
   "outputs": [
    {
     "data": {
      "text/html": [
       "<div>\n",
       "<style scoped>\n",
       "    .dataframe tbody tr th:only-of-type {\n",
       "        vertical-align: middle;\n",
       "    }\n",
       "\n",
       "    .dataframe tbody tr th {\n",
       "        vertical-align: top;\n",
       "    }\n",
       "\n",
       "    .dataframe thead th {\n",
       "        text-align: right;\n",
       "    }\n",
       "</style>\n",
       "<table border=\"1\" class=\"dataframe\">\n",
       "  <thead>\n",
       "    <tr style=\"text-align: right;\">\n",
       "      <th></th>\n",
       "      <th>id</th>\n",
       "      <th>tokens</th>\n",
       "      <th>raw_text</th>\n",
       "      <th>text</th>\n",
       "    </tr>\n",
       "  </thead>\n",
       "  <tbody>\n",
       "    <tr>\n",
       "      <th>59</th>\n",
       "      <td>1438895332784582663</td>\n",
       "      <td>[]</td>\n",
       "      <td>@JakopDalunde fast översvämningar i gävle kan ...</td>\n",
       "      <td>floods gävle hardly attributed climate change ...</td>\n",
       "    </tr>\n",
       "    <tr>\n",
       "      <th>265</th>\n",
       "      <td>893393481602826240</td>\n",
       "      <td>[]</td>\n",
       "      <td>Stopp på E6 efter översvämning är en illusion+...</td>\n",
       "      <td>stop e flood illusion</td>\n",
       "    </tr>\n",
       "    <tr>\n",
       "      <th>266</th>\n",
       "      <td>893390880526262273</td>\n",
       "      <td>[]</td>\n",
       "      <td>JUST NU: Stopp på väg på grund av översvämning...</td>\n",
       "      <td>right now road stoppage flooding illusion</td>\n",
       "    </tr>\n",
       "    <tr>\n",
       "      <th>269</th>\n",
       "      <td>893385509795266560</td>\n",
       "      <td>[]</td>\n",
       "      <td>Stopp på E6 efter översvämning https://t.co/Xk...</td>\n",
       "      <td>stop e flooding</td>\n",
       "    </tr>\n",
       "    <tr>\n",
       "      <th>277</th>\n",
       "      <td>1028405310069846017</td>\n",
       "      <td>[]</td>\n",
       "      <td>Ojojoj... alla Halmstadbors samlade böner, dan...</td>\n",
       "      <td>whoops halmstad residents collected prayers da...</td>\n",
       "    </tr>\n",
       "    <tr>\n",
       "      <th>327</th>\n",
       "      <td>639080984290308096</td>\n",
       "      <td>[]</td>\n",
       "      <td>Gamla ledningar bakom översvämningar på E18 ht...</td>\n",
       "      <td>old wiring flooding e</td>\n",
       "    </tr>\n",
       "    <tr>\n",
       "      <th>356</th>\n",
       "      <td>898747159423492096</td>\n",
       "      <td>[]</td>\n",
       "      <td>Mycket vatten på R40 https://t.co/A68M6yGvVV\\n...</td>\n",
       "      <td>lots water r borastidning nyheter översvämning...</td>\n",
       "    </tr>\n",
       "    <tr>\n",
       "      <th>367</th>\n",
       "      <td>767730451767300096</td>\n",
       "      <td>[]</td>\n",
       "      <td>#Vattenföring'en har ökat i #Närpes å pga regn...</td>\n",
       "      <td>vattenföring increased närpes å rain lower wee...</td>\n",
       "    </tr>\n",
       "    <tr>\n",
       "      <th>477</th>\n",
       "      <td>644473393262297088</td>\n",
       "      <td>[]</td>\n",
       "      <td>Lv 957 Bänteby-Hallerud (SOS): Vägskador, över...</td>\n",
       "      <td>lv bäntebyhallerud sos road damage flooding di...</td>\n",
       "    </tr>\n",
       "    <tr>\n",
       "      <th>484</th>\n",
       "      <td>1026840737013485568</td>\n",
       "      <td>[]</td>\n",
       "      <td>Översvämning återigen https://t.co/ouAxRWgjGD ...</td>\n",
       "      <td>flooding karlskoga</td>\n",
       "    </tr>\n",
       "    <tr>\n",
       "      <th>672</th>\n",
       "      <td>735835585307369472</td>\n",
       "      <td>[]</td>\n",
       "      <td>Kmr bli översvämning i äby</td>\n",
       "      <td>kmr flood äby</td>\n",
       "    </tr>\n",
       "    <tr>\n",
       "      <th>786</th>\n",
       "      <td>880474759796068353</td>\n",
       "      <td>[]</td>\n",
       "      <td>Det ska bli oväder här i syd. Bäst att vara fö...</td>\n",
       "      <td>there storms south best prepared ramen middang...</td>\n",
       "    </tr>\n",
       "    <tr>\n",
       "      <th>824</th>\n",
       "      <td>1397938929182167056</td>\n",
       "      <td>[]</td>\n",
       "      <td>Lv 617 Bo Kyrka–Brevens bruk (Trafikstörning) ...</td>\n",
       "      <td>lv bo kyrka–brevens bruk traffic disruption ro...</td>\n",
       "    </tr>\n",
       "    <tr>\n",
       "      <th>938</th>\n",
       "      <td>640964992318185472</td>\n",
       "      <td>[]</td>\n",
       "      <td>Översvämning i kumla💦 http://t.co/K89QShnE8C</td>\n",
       "      <td>flood kumla</td>\n",
       "    </tr>\n",
       "    <tr>\n",
       "      <th>943</th>\n",
       "      <td>640910477908905985</td>\n",
       "      <td>[]</td>\n",
       "      <td>Vilka fina planeringar alla #lärare kommer att...</td>\n",
       "      <td>what nice plans teachers able flooding jaerfal...</td>\n",
       "    </tr>\n",
       "    <tr>\n",
       "      <th>953</th>\n",
       "      <td>640869333762240512</td>\n",
       "      <td>[]</td>\n",
       "      <td>Pers åkrar under vatten efter helgens skyfall:...</td>\n",
       "      <td>pers fields water weekends downpour overfloodi...</td>\n",
       "    </tr>\n",
       "    <tr>\n",
       "      <th>973</th>\n",
       "      <td>640786491359277056</td>\n",
       "      <td>[]</td>\n",
       "      <td>Min bror är alltså ledig från skolan idag efte...</td>\n",
       "      <td>so brother school today its impossible flooding</td>\n",
       "    </tr>\n",
       "    <tr>\n",
       "      <th>1191</th>\n",
       "      <td>636870064784953344</td>\n",
       "      <td>[]</td>\n",
       "      <td>Som gammal va-ingenjör vet jag att det inom ko...</td>\n",
       "      <td>as old va engineer i know soon flood someones ...</td>\n",
       "    </tr>\n",
       "    <tr>\n",
       "      <th>1218</th>\n",
       "      <td>1035824846205280256</td>\n",
       "      <td>[]</td>\n",
       "      <td>Skånska kustkommuner i uppror mot riskbedömnin...</td>\n",
       "      <td>skånes coastal municipalities rebellion flood ...</td>\n",
       "    </tr>\n",
       "    <tr>\n",
       "      <th>1238</th>\n",
       "      <td>1404800827127181312</td>\n",
       "      <td>[]</td>\n",
       "      <td>ÖVERSVÄMNING I HÖGDALEN!\\nMAT FÖR MILJONER SLÄ...</td>\n",
       "      <td>flooding in the high valley food for millions ...</td>\n",
       "    </tr>\n",
       "    <tr>\n",
       "      <th>1278</th>\n",
       "      <td>1229399645488648194</td>\n",
       "      <td>[]</td>\n",
       "      <td>Lv 638 Åker–Nyhom (Trafikstörning) Vägen avstä...</td>\n",
       "      <td>lv åker–nyhom traffic disruption the road clos...</td>\n",
       "    </tr>\n",
       "    <tr>\n",
       "      <th>1295</th>\n",
       "      <td>1229320131010007040</td>\n",
       "      <td>[]</td>\n",
       "      <td>EXTRA: Många översvämningar på Höglandet https...</td>\n",
       "      <td>extra many floods highlands</td>\n",
       "    </tr>\n",
       "    <tr>\n",
       "      <th>1296</th>\n",
       "      <td>1229313339848896512</td>\n",
       "      <td>[]</td>\n",
       "      <td>ÖVERSVÄMNING – TRE KLASS 1-VARNINGAR PÅ HÖGLAN...</td>\n",
       "      <td>flooding  three class warnings in the highlands</td>\n",
       "    </tr>\n",
       "    <tr>\n",
       "      <th>1301</th>\n",
       "      <td>1229308494874136576</td>\n",
       "      <td>[]</td>\n",
       "      <td>SMHI varnar för oväder i flera delar av landet...</td>\n",
       "      <td>smhi warns storms parts country read krisinfor...</td>\n",
       "    </tr>\n",
       "  </tbody>\n",
       "</table>\n",
       "</div>"
      ],
      "text/plain": [
       "                       id tokens  \\\n",
       "59    1438895332784582663     []   \n",
       "265    893393481602826240     []   \n",
       "266    893390880526262273     []   \n",
       "269    893385509795266560     []   \n",
       "277   1028405310069846017     []   \n",
       "327    639080984290308096     []   \n",
       "356    898747159423492096     []   \n",
       "367    767730451767300096     []   \n",
       "477    644473393262297088     []   \n",
       "484   1026840737013485568     []   \n",
       "672    735835585307369472     []   \n",
       "786    880474759796068353     []   \n",
       "824   1397938929182167056     []   \n",
       "938    640964992318185472     []   \n",
       "943    640910477908905985     []   \n",
       "953    640869333762240512     []   \n",
       "973    640786491359277056     []   \n",
       "1191   636870064784953344     []   \n",
       "1218  1035824846205280256     []   \n",
       "1238  1404800827127181312     []   \n",
       "1278  1229399645488648194     []   \n",
       "1295  1229320131010007040     []   \n",
       "1296  1229313339848896512     []   \n",
       "1301  1229308494874136576     []   \n",
       "\n",
       "                                               raw_text  \\\n",
       "59    @JakopDalunde fast översvämningar i gävle kan ...   \n",
       "265   Stopp på E6 efter översvämning är en illusion+...   \n",
       "266   JUST NU: Stopp på väg på grund av översvämning...   \n",
       "269   Stopp på E6 efter översvämning https://t.co/Xk...   \n",
       "277   Ojojoj... alla Halmstadbors samlade böner, dan...   \n",
       "327   Gamla ledningar bakom översvämningar på E18 ht...   \n",
       "356   Mycket vatten på R40 https://t.co/A68M6yGvVV\\n...   \n",
       "367   #Vattenföring'en har ökat i #Närpes å pga regn...   \n",
       "477   Lv 957 Bänteby-Hallerud (SOS): Vägskador, över...   \n",
       "484   Översvämning återigen https://t.co/ouAxRWgjGD ...   \n",
       "672                          Kmr bli översvämning i äby   \n",
       "786   Det ska bli oväder här i syd. Bäst att vara fö...   \n",
       "824   Lv 617 Bo Kyrka–Brevens bruk (Trafikstörning) ...   \n",
       "938        Översvämning i kumla💦 http://t.co/K89QShnE8C   \n",
       "943   Vilka fina planeringar alla #lärare kommer att...   \n",
       "953   Pers åkrar under vatten efter helgens skyfall:...   \n",
       "973   Min bror är alltså ledig från skolan idag efte...   \n",
       "1191  Som gammal va-ingenjör vet jag att det inom ko...   \n",
       "1218  Skånska kustkommuner i uppror mot riskbedömnin...   \n",
       "1238  ÖVERSVÄMNING I HÖGDALEN!\\nMAT FÖR MILJONER SLÄ...   \n",
       "1278  Lv 638 Åker–Nyhom (Trafikstörning) Vägen avstä...   \n",
       "1295  EXTRA: Många översvämningar på Höglandet https...   \n",
       "1296  ÖVERSVÄMNING – TRE KLASS 1-VARNINGAR PÅ HÖGLAN...   \n",
       "1301  SMHI varnar för oväder i flera delar av landet...   \n",
       "\n",
       "                                                   text  \n",
       "59    floods gävle hardly attributed climate change ...  \n",
       "265                               stop e flood illusion  \n",
       "266           right now road stoppage flooding illusion  \n",
       "269                                     stop e flooding  \n",
       "277   whoops halmstad residents collected prayers da...  \n",
       "327                               old wiring flooding e  \n",
       "356   lots water r borastidning nyheter översvämning...  \n",
       "367   vattenföring increased närpes å rain lower wee...  \n",
       "477   lv bäntebyhallerud sos road damage flooding di...  \n",
       "484                                  flooding karlskoga  \n",
       "672                                       kmr flood äby  \n",
       "786   there storms south best prepared ramen middang...  \n",
       "824   lv bo kyrka–brevens bruk traffic disruption ro...  \n",
       "938                                         flood kumla  \n",
       "943   what nice plans teachers able flooding jaerfal...  \n",
       "953   pers fields water weekends downpour overfloodi...  \n",
       "973     so brother school today its impossible flooding  \n",
       "1191  as old va engineer i know soon flood someones ...  \n",
       "1218  skånes coastal municipalities rebellion flood ...  \n",
       "1238  flooding in the high valley food for millions ...  \n",
       "1278  lv åker–nyhom traffic disruption the road clos...  \n",
       "1295                        extra many floods highlands  \n",
       "1296    flooding  three class warnings in the highlands  \n",
       "1301  smhi warns storms parts country read krisinfor...  "
      ]
     },
     "execution_count": 53,
     "metadata": {},
     "output_type": "execute_result"
    }
   ],
   "source": [
    "# Locations not extracted by NER\n",
    "# Gavla wsn't recognized\n",
    "# E18 E6 wasn't recognized (Are these places?)\n",
    "false_neg[false_neg['tokens'].apply(lambda x: len(ast.literal_eval(x)) == 0)]"
   ]
  },
  {
   "cell_type": "code",
   "execution_count": 78,
   "id": "6d6ca653",
   "metadata": {},
   "outputs": [
    {
     "name": "stdout",
     "output_type": "stream",
     "text": [
      "Skanska, Mälarvägen, Runby, Smedby, Upplands Väsby, Upplands Väsby kommun, Stockholm County, 194 04, Sweden\n",
      "167, Grinneröd, Uddevalla kommun, Västra Götaland County, 444 97, Sweden\n",
      "Bromma stadsdelsområde, Stockholms kommun, Stockholm County, Sweden\n"
     ]
    }
   ],
   "source": [
    "# Geocoder seems to identify some of the locations not extracted by NER\n",
    "# To increase recall, use geocders on text \n",
    "print(geolocator.geocode(\"Skånska\", country_codes=\"se\", language=\"en\", extratags=True ))\n",
    "print(geolocator.geocode(\"E6\", country_codes=\"se\", language=\"en\", extratags=True ))\n",
    "print(geolocator.geocode(\"Höglandet\", country_codes=\"se\", language=\"en\", extratags=True ))"
   ]
  },
  {
   "cell_type": "code",
   "execution_count": 84,
   "id": "ac9f927b",
   "metadata": {
    "scrolled": true
   },
   "outputs": [
    {
     "data": {
      "text/html": [
       "<div>\n",
       "<style scoped>\n",
       "    .dataframe tbody tr th:only-of-type {\n",
       "        vertical-align: middle;\n",
       "    }\n",
       "\n",
       "    .dataframe tbody tr th {\n",
       "        vertical-align: top;\n",
       "    }\n",
       "\n",
       "    .dataframe thead th {\n",
       "        text-align: right;\n",
       "    }\n",
       "</style>\n",
       "<table border=\"1\" class=\"dataframe\">\n",
       "  <thead>\n",
       "    <tr style=\"text-align: right;\">\n",
       "      <th></th>\n",
       "      <th>id</th>\n",
       "      <th>tokens</th>\n",
       "      <th>raw_text</th>\n",
       "      <th>text</th>\n",
       "    </tr>\n",
       "  </thead>\n",
       "  <tbody>\n",
       "    <tr>\n",
       "      <th>1</th>\n",
       "      <td>907315054151962629</td>\n",
       "      <td>[{'Miami': 0.9995778}, {'Beach': 0.9994505}]</td>\n",
       "      <td>Inga översvämningar eller strukturella skador ...</td>\n",
       "      <td>no flooding structural damage miami beach obam...</td>\n",
       "    </tr>\n",
       "    <tr>\n",
       "      <th>8</th>\n",
       "      <td>907249999553159168</td>\n",
       "      <td>[{'Florida': 0.9995338}]</td>\n",
       "      <td>Stormflod hotar Florida i Irmas spår\\nhttps://...</td>\n",
       "      <td>storm surge threatens florida irmas wake</td>\n",
       "    </tr>\n",
       "    <tr>\n",
       "      <th>11</th>\n",
       "      <td>907216307321491456</td>\n",
       "      <td>[{'Florida': 0.9996426}]</td>\n",
       "      <td>Nu stiger vattennivåerna – varning för översvä...</td>\n",
       "      <td>now water levels rising  flood warning florida...</td>\n",
       "    </tr>\n",
       "    <tr>\n",
       "      <th>13</th>\n",
       "      <td>907197471339794434</td>\n",
       "      <td>[{'Florida': 0.99937505}]</td>\n",
       "      <td>Nu stiger vattennivåerna – varning för översvä...</td>\n",
       "      <td>now water levels rising  florida flood warning...</td>\n",
       "    </tr>\n",
       "    <tr>\n",
       "      <th>14</th>\n",
       "      <td>907169643898572800</td>\n",
       "      <td>[{'Trelleborg': 0.99761}]</td>\n",
       "      <td>Nu laddar vi inför #Kustmöte2017 i #Trelleborg...</td>\n",
       "      <td>now charging kustmöte trelleborg the interest ...</td>\n",
       "    </tr>\n",
       "    <tr>\n",
       "      <th>15</th>\n",
       "      <td>907168859228135424</td>\n",
       "      <td>[{'Florida': 0.9993895}]</td>\n",
       "      <td>Meteorologer varnar för enorma översvämningar ...</td>\n",
       "      <td>meteorologists warn massive flooding florida e...</td>\n",
       "    </tr>\n",
       "    <tr>\n",
       "      <th>19</th>\n",
       "      <td>907128844431237120</td>\n",
       "      <td>[{'Florida': 0.99947363}]</td>\n",
       "      <td>Orkanen Irma härjar Florida – livsfarliga över...</td>\n",
       "      <td>hurricane irma ravages florida  lifethreatenin...</td>\n",
       "    </tr>\n",
       "    <tr>\n",
       "      <th>20</th>\n",
       "      <td>907123196159242240</td>\n",
       "      <td>[{'Florida': 0.9991867}]</td>\n",
       "      <td>Nu stiger vattennivåerna – varning för översvä...</td>\n",
       "      <td>now water levels rising  florida flood warning</td>\n",
       "    </tr>\n",
       "    <tr>\n",
       "      <th>21</th>\n",
       "      <td>907116790093938688</td>\n",
       "      <td>[{'Florida': 0.9995834}]</td>\n",
       "      <td>Meteorologer varnar för enorma översvämningar ...</td>\n",
       "      <td>meteorologists warn huge floods florida  afton...</td>\n",
       "    </tr>\n",
       "    <tr>\n",
       "      <th>24</th>\n",
       "      <td>907044532767936514</td>\n",
       "      <td>[{'Florida': 0.9992543}]</td>\n",
       "      <td>Nu stiger vattennivåerna – varning för översvä...</td>\n",
       "      <td>now water levels rising  florida flood warning...</td>\n",
       "    </tr>\n",
       "    <tr>\n",
       "      <th>25</th>\n",
       "      <td>907010395180806150</td>\n",
       "      <td>[{'Miami': 0.99929166}]</td>\n",
       "      <td>https://t.co/yGFHXxhsnl Miami under vatten – l...</td>\n",
       "      <td>miami water  life threatening flooding news</td>\n",
       "    </tr>\n",
       "    <tr>\n",
       "      <th>26</th>\n",
       "      <td>906996567688847360</td>\n",
       "      <td>[{'Florida': 0.99906725}, {'Malmö': 0.99964035...</td>\n",
       "      <td>@ZoranMarkovic_1 Sjukt. Har inte fattat hur st...</td>\n",
       "      <td>sick havent realized big irma is double width...</td>\n",
       "    </tr>\n",
       "    <tr>\n",
       "      <th>32</th>\n",
       "      <td>906952264904003584</td>\n",
       "      <td>[{'Toscana': 0.999448}]</td>\n",
       "      <td>Flera döda i översvämningar i Toscana https://...</td>\n",
       "      <td>several dead floods tuscany</td>\n",
       "    </tr>\n",
       "    <tr>\n",
       "      <th>34</th>\n",
       "      <td>906939243284635648</td>\n",
       "      <td>[{'Florida': 0.9989654}]</td>\n",
       "      <td>Översvämningar hotar i orkanens spår. Åtminsto...</td>\n",
       "      <td>flooding threatens hurricanes wake at people d...</td>\n",
       "    </tr>\n",
       "    <tr>\n",
       "      <th>37</th>\n",
       "      <td>906922949441093633</td>\n",
       "      <td>[{'Florida': 0.9996599}]</td>\n",
       "      <td>Orkanen Irmas öga har nått södra Florida - 4,5...</td>\n",
       "      <td>hurricane irmas eye reached south florida   me...</td>\n",
       "    </tr>\n",
       "    <tr>\n",
       "      <th>38</th>\n",
       "      <td>906922190054019073</td>\n",
       "      <td>[{'Toscana': 0.999448}]</td>\n",
       "      <td>Flera döda i översvämningar i Toscana https://...</td>\n",
       "      <td>several dead floods tuscany</td>\n",
       "    </tr>\n",
       "    <tr>\n",
       "      <th>39</th>\n",
       "      <td>906919570878984192</td>\n",
       "      <td>[{'Miami': 0.999335}]</td>\n",
       "      <td>Delar av Miami står under vatten – svåra övers...</td>\n",
       "      <td>parts miami water  severe flooding expected ir...</td>\n",
       "    </tr>\n",
       "    <tr>\n",
       "      <th>40</th>\n",
       "      <td>906903328487067649</td>\n",
       "      <td>[{'Toscana': 0.9995449}]</td>\n",
       "      <td>Flera döda i översvämningar i Toscana https://...</td>\n",
       "      <td>several dead floods tuscany</td>\n",
       "    </tr>\n",
       "    <tr>\n",
       "      <th>41</th>\n",
       "      <td>906902078613794816</td>\n",
       "      <td>[{'Toscana': 0.99944705}]</td>\n",
       "      <td>Flera döda i översvämningar i Toscana | SVT Ny...</td>\n",
       "      <td>several dead floods tuscany  svt news</td>\n",
       "    </tr>\n",
       "    <tr>\n",
       "      <th>42</th>\n",
       "      <td>906901903841394689</td>\n",
       "      <td>[{'Toscana': 0.9992787}]</td>\n",
       "      <td>Flera döda i översvämningar i #Toscana https:/...</td>\n",
       "      <td>several dead floods tuscany yle</td>\n",
       "    </tr>\n",
       "    <tr>\n",
       "      <th>43</th>\n",
       "      <td>906899530624507911</td>\n",
       "      <td>[{'Europa': 0.9995664}, {'Toscana': 0.99876773...</td>\n",
       "      <td>Även i Europa dör människor nu i översvämning!...</td>\n",
       "      <td>even europe people dying flood several dead fl...</td>\n",
       "    </tr>\n",
       "    <tr>\n",
       "      <th>44</th>\n",
       "      <td>906894252134858752</td>\n",
       "      <td>[{'Italien': 0.9991873}]</td>\n",
       "      <td>@antonalmqvist1 Varit översvämning i Italien d...</td>\n",
       "      <td>where flood italy thats reason it</td>\n",
       "    </tr>\n",
       "    <tr>\n",
       "      <th>45</th>\n",
       "      <td>906894235466596352</td>\n",
       "      <td>[{'Livorno': 0.999178}, {'Toscana': 0.9990964}...</td>\n",
       "      <td>Flera människor har omkommit i översvämningar ...</td>\n",
       "      <td>several people died floods coastal city livorn...</td>\n",
       "    </tr>\n",
       "    <tr>\n",
       "      <th>48</th>\n",
       "      <td>906887710769651714</td>\n",
       "      <td>[{'Toscana': 0.99929357}]</td>\n",
       "      <td>Efter torka kommer regnen. Minst sju döda i öv...</td>\n",
       "      <td>after drought comes rain at seven dead floods ...</td>\n",
       "    </tr>\n",
       "    <tr>\n",
       "      <th>51</th>\n",
       "      <td>906884956827340800</td>\n",
       "      <td>[{'Toscana': 0.9994998}, {'Italien': 0.99918133}]</td>\n",
       "      <td>JUST NU: Minst sex döda i översvämningar i Tos...</td>\n",
       "      <td>right now at dead floods tuscany italy svtnyheter</td>\n",
       "    </tr>\n",
       "    <tr>\n",
       "      <th>54</th>\n",
       "      <td>1438927856650833921</td>\n",
       "      <td>[{'Frankrike': 0.9992592}, {'Nimes': 0.9966528}]</td>\n",
       "      <td>Apokalyps i Frankrike! Kraftig storm med övers...</td>\n",
       "      <td>apocalypse france heavy storm flooding hits ni...</td>\n",
       "    </tr>\n",
       "    <tr>\n",
       "      <th>55</th>\n",
       "      <td>1438922305418235908</td>\n",
       "      <td>[{'Frankrike': 0.99941564}]</td>\n",
       "      <td>Frankrike varnar för röda nivåer !! mycket kra...</td>\n",
       "      <td>france warns red levels  heavy downpour floodi...</td>\n",
       "    </tr>\n",
       "    <tr>\n",
       "      <th>57</th>\n",
       "      <td>1438921385221492736</td>\n",
       "      <td>[{'Europa': 0.99969685}, {'Frankrike': 0.99902...</td>\n",
       "      <td>Europa lider igen! Kraftig översvämning i Fran...</td>\n",
       "      <td>europe suffers again severe flooding france end</td>\n",
       "    </tr>\n",
       "    <tr>\n",
       "      <th>62</th>\n",
       "      <td>1438871142182363142</td>\n",
       "      <td>[{'Sverige': 0.99839896}, {'Gävle': 0.9990809}]</td>\n",
       "      <td>@JakopDalunde Fast dylika översvämningar är in...</td>\n",
       "      <td>although floods new they happen sweden however...</td>\n",
       "    </tr>\n",
       "    <tr>\n",
       "      <th>77</th>\n",
       "      <td>1438595094794342400</td>\n",
       "      <td>[{'Gävle': 0.9992059}]</td>\n",
       "      <td>Skadorna av årets översvämning i Gävle kostar ...</td>\n",
       "      <td>the damage years flood gävle costs million plu...</td>\n",
       "    </tr>\n",
       "    <tr>\n",
       "      <th>81</th>\n",
       "      <td>1438491979634122755</td>\n",
       "      <td>[{'Grönland': 0.99952567}, {'Danmarks': 0.9987...</td>\n",
       "      <td>@Stort_allvar @RogerBe09919995 DET gäller även...</td>\n",
       "      <td>allvar that applies greenland received absolut...</td>\n",
       "    </tr>\n",
       "    <tr>\n",
       "      <th>93</th>\n",
       "      <td>902255491753156610</td>\n",
       "      <td>[{'Vita': 0.9990287}, {'huset': 0.9988159}]</td>\n",
       "      <td>Handelsunderskott och översvämningar så långt ...</td>\n",
       "      <td>trade deficit floods far white house president...</td>\n",
       "    </tr>\n",
       "    <tr>\n",
       "      <th>124</th>\n",
       "      <td>902052364831641600</td>\n",
       "      <td>[{'Texas': 0.99964046}, {'Vita': 0.9990017}, {...</td>\n",
       "      <td>Varför åker Trump till Texas? Klimatförändring...</td>\n",
       "      <td>why trump going texas climate change increasin...</td>\n",
       "    </tr>\n",
       "    <tr>\n",
       "      <th>152</th>\n",
       "      <td>1421583982454616071</td>\n",
       "      <td>[{'Alperna': 0.99955195}]</td>\n",
       "      <td>Världens åskväder över Alperna, syns rakt unde...</td>\n",
       "      <td>the worlds thunderstorm alps visible directly ...</td>\n",
       "    </tr>\n",
       "    <tr>\n",
       "      <th>162</th>\n",
       "      <td>1421520893738639365</td>\n",
       "      <td>[{'Europa': 0.99960595}, {'Tyskland': 0.999109...</td>\n",
       "      <td>En del av Europa har gått under vatten! Svåra ...</td>\n",
       "      <td>part europe gone water severe flooding germany...</td>\n",
       "    </tr>\n",
       "    <tr>\n",
       "      <th>178</th>\n",
       "      <td>1421381143312707585</td>\n",
       "      <td>[{'Tyskland': 0.99943465}, {'Belgien': 0.99927...</td>\n",
       "      <td>180 personer dog nyss i översvämningar i Tyskl...</td>\n",
       "      <td>people died floods germany belgium according s...</td>\n",
       "    </tr>\n",
       "    <tr>\n",
       "      <th>184</th>\n",
       "      <td>1421340731248107523</td>\n",
       "      <td>[{'Birger': 0.99949336}, {'Jarlsgatan': 0.9993...</td>\n",
       "      <td>@SvD Birger Jarlsgatan är ett gammalt vattendr...</td>\n",
       "      <td>birger jarlsgatan old waterway cats butt so fa...</td>\n",
       "    </tr>\n",
       "    <tr>\n",
       "      <th>187</th>\n",
       "      <td>1421289591168962575</td>\n",
       "      <td>[{'Ryssland': 0.99906164}, {'Kina': 0.9994825}...</td>\n",
       "      <td>Så IKEA pojkarna avverkar massa skogsytor i Ry...</td>\n",
       "      <td>so ikea boys cut lots forest areas russia and ...</td>\n",
       "    </tr>\n",
       "    <tr>\n",
       "      <th>191</th>\n",
       "      <td>1421211170980175878</td>\n",
       "      <td>[{'Krim': 0.9994228}, {'Kerch': 0.75776803}, {...</td>\n",
       "      <td>Kris! 📢 Krim går under vatten! Svåra översvämn...</td>\n",
       "      <td>crisis  crimea going water severe flooding ker...</td>\n",
       "    </tr>\n",
       "    <tr>\n",
       "      <th>192</th>\n",
       "      <td>1421210256227581957</td>\n",
       "      <td>[{'Europa': 0.9996753}, {'Belgien': 0.99910444}]</td>\n",
       "      <td>Europa lider igen! Tuff översvämning i Belgien...</td>\n",
       "      <td>europe suffers again tough flood belgium dinan...</td>\n",
       "    </tr>\n",
       "    <tr>\n",
       "      <th>193</th>\n",
       "      <td>1421195585546244098</td>\n",
       "      <td>[{'Timbro': 0.97129905}, {'Sverige': 0.99893945}]</td>\n",
       "      <td>Vilken fantastisk nyhet! Timbro har löst klima...</td>\n",
       "      <td>what fantastic news timbro solved climate thre...</td>\n",
       "    </tr>\n",
       "    <tr>\n",
       "      <th>197</th>\n",
       "      <td>1421182558696521730</td>\n",
       "      <td>[{'Ryssland': 0.9994893}, {'Canada': 0.9984492...</td>\n",
       "      <td>Ryssland, Canada, USA - bränder \\nTyskland, Be...</td>\n",
       "      <td>russia canada usa  fires germany belgium  floo...</td>\n",
       "    </tr>\n",
       "    <tr>\n",
       "      <th>210</th>\n",
       "      <td>1105332308993687552</td>\n",
       "      <td>[{'Thailand': 0.9994863}, {'Sverige': 0.998799...</td>\n",
       "      <td>Angående klimat och väder i Thailand finns det...</td>\n",
       "      <td>regarding climate weather thailand thing it ex...</td>\n",
       "    </tr>\n",
       "    <tr>\n",
       "      <th>221</th>\n",
       "      <td>1159450037182783489</td>\n",
       "      <td>[{'KI': 0.9846734}, {'Wenzhou': 0.98599863}, {...</td>\n",
       "      <td>KINA: Tyfonen Lekima forventes at ramme kysten...</td>\n",
       "      <td>china typhoon lekima expected hit coast near w...</td>\n",
       "    </tr>\n",
       "    <tr>\n",
       "      <th>233</th>\n",
       "      <td>1159171105669693441</td>\n",
       "      <td>[{'Nordjylland': 0.9994578}, {'Randers': 0.988...</td>\n",
       "      <td>Varsel om kraftig regn og lokale #skybrud i No...</td>\n",
       "      <td>warning heavy rain local cloudbursts northern ...</td>\n",
       "    </tr>\n",
       "    <tr>\n",
       "      <th>238</th>\n",
       "      <td>1159077965424156673</td>\n",
       "      <td>[{'Tulun': 0.99927133}, {'Sibirien': 0.9996208...</td>\n",
       "      <td>Boende i staden Tulun, Sibirien: läskigt att b...</td>\n",
       "      <td>living city tulun siberia scary live floods wo...</td>\n",
       "    </tr>\n",
       "    <tr>\n",
       "      <th>290</th>\n",
       "      <td>1028305826396741634</td>\n",
       "      <td>[{'Polen': 0.9990226}]</td>\n",
       "      <td>@YttraYttra2 Då blir det nog översvämning istä...</td>\n",
       "      <td>then probably flood instead ask poland help again</td>\n",
       "    </tr>\n",
       "    <tr>\n",
       "      <th>305</th>\n",
       "      <td>1027972707768590336</td>\n",
       "      <td>[{'Sverige': 0.99893636}]</td>\n",
       "      <td>Hela världen har olika klimat. Naturkatastrofe...</td>\n",
       "      <td>the world different climates natural disasters...</td>\n",
       "    </tr>\n",
       "    <tr>\n",
       "      <th>307</th>\n",
       "      <td>1027941878619103233</td>\n",
       "      <td>[{'Krakow': 0.9994005}]</td>\n",
       "      <td>Här har det smält, F N:s klimatmöten från 1992...</td>\n",
       "      <td>here melted un climate meetings  easily worryi...</td>\n",
       "    </tr>\n",
       "    <tr>\n",
       "      <th>309</th>\n",
       "      <td>1148339000819757056</td>\n",
       "      <td>[{'Kina': 0.99962604}]</td>\n",
       "      <td>Omfattande översvämningar i östra Kina https:/...</td>\n",
       "      <td>extensive flooding eastern china</td>\n",
       "    </tr>\n",
       "  </tbody>\n",
       "</table>\n",
       "</div>"
      ],
      "text/plain": [
       "                      id                                             tokens  \\\n",
       "1     907315054151962629       [{'Miami': 0.9995778}, {'Beach': 0.9994505}]   \n",
       "8     907249999553159168                           [{'Florida': 0.9995338}]   \n",
       "11    907216307321491456                           [{'Florida': 0.9996426}]   \n",
       "13    907197471339794434                          [{'Florida': 0.99937505}]   \n",
       "14    907169643898572800                          [{'Trelleborg': 0.99761}]   \n",
       "15    907168859228135424                           [{'Florida': 0.9993895}]   \n",
       "19    907128844431237120                          [{'Florida': 0.99947363}]   \n",
       "20    907123196159242240                           [{'Florida': 0.9991867}]   \n",
       "21    907116790093938688                           [{'Florida': 0.9995834}]   \n",
       "24    907044532767936514                           [{'Florida': 0.9992543}]   \n",
       "25    907010395180806150                            [{'Miami': 0.99929166}]   \n",
       "26    906996567688847360  [{'Florida': 0.99906725}, {'Malmö': 0.99964035...   \n",
       "32    906952264904003584                            [{'Toscana': 0.999448}]   \n",
       "34    906939243284635648                           [{'Florida': 0.9989654}]   \n",
       "37    906922949441093633                           [{'Florida': 0.9996599}]   \n",
       "38    906922190054019073                            [{'Toscana': 0.999448}]   \n",
       "39    906919570878984192                              [{'Miami': 0.999335}]   \n",
       "40    906903328487067649                           [{'Toscana': 0.9995449}]   \n",
       "41    906902078613794816                          [{'Toscana': 0.99944705}]   \n",
       "42    906901903841394689                           [{'Toscana': 0.9992787}]   \n",
       "43    906899530624507911  [{'Europa': 0.9995664}, {'Toscana': 0.99876773...   \n",
       "44    906894252134858752                           [{'Italien': 0.9991873}]   \n",
       "45    906894235466596352  [{'Livorno': 0.999178}, {'Toscana': 0.9990964}...   \n",
       "48    906887710769651714                          [{'Toscana': 0.99929357}]   \n",
       "51    906884956827340800  [{'Toscana': 0.9994998}, {'Italien': 0.99918133}]   \n",
       "54   1438927856650833921   [{'Frankrike': 0.9992592}, {'Nimes': 0.9966528}]   \n",
       "55   1438922305418235908                        [{'Frankrike': 0.99941564}]   \n",
       "57   1438921385221492736  [{'Europa': 0.99969685}, {'Frankrike': 0.99902...   \n",
       "62   1438871142182363142    [{'Sverige': 0.99839896}, {'Gävle': 0.9990809}]   \n",
       "77   1438595094794342400                             [{'Gävle': 0.9992059}]   \n",
       "81   1438491979634122755  [{'Grönland': 0.99952567}, {'Danmarks': 0.9987...   \n",
       "93    902255491753156610        [{'Vita': 0.9990287}, {'huset': 0.9988159}]   \n",
       "124   902052364831641600  [{'Texas': 0.99964046}, {'Vita': 0.9990017}, {...   \n",
       "152  1421583982454616071                          [{'Alperna': 0.99955195}]   \n",
       "162  1421520893738639365  [{'Europa': 0.99960595}, {'Tyskland': 0.999109...   \n",
       "178  1421381143312707585  [{'Tyskland': 0.99943465}, {'Belgien': 0.99927...   \n",
       "184  1421340731248107523  [{'Birger': 0.99949336}, {'Jarlsgatan': 0.9993...   \n",
       "187  1421289591168962575  [{'Ryssland': 0.99906164}, {'Kina': 0.9994825}...   \n",
       "191  1421211170980175878  [{'Krim': 0.9994228}, {'Kerch': 0.75776803}, {...   \n",
       "192  1421210256227581957   [{'Europa': 0.9996753}, {'Belgien': 0.99910444}]   \n",
       "193  1421195585546244098  [{'Timbro': 0.97129905}, {'Sverige': 0.99893945}]   \n",
       "197  1421182558696521730  [{'Ryssland': 0.9994893}, {'Canada': 0.9984492...   \n",
       "210  1105332308993687552  [{'Thailand': 0.9994863}, {'Sverige': 0.998799...   \n",
       "221  1159450037182783489  [{'KI': 0.9846734}, {'Wenzhou': 0.98599863}, {...   \n",
       "233  1159171105669693441  [{'Nordjylland': 0.9994578}, {'Randers': 0.988...   \n",
       "238  1159077965424156673  [{'Tulun': 0.99927133}, {'Sibirien': 0.9996208...   \n",
       "290  1028305826396741634                             [{'Polen': 0.9990226}]   \n",
       "305  1027972707768590336                          [{'Sverige': 0.99893636}]   \n",
       "307  1027941878619103233                            [{'Krakow': 0.9994005}]   \n",
       "309  1148339000819757056                             [{'Kina': 0.99962604}]   \n",
       "\n",
       "                                              raw_text  \\\n",
       "1    Inga översvämningar eller strukturella skador ...   \n",
       "8    Stormflod hotar Florida i Irmas spår\\nhttps://...   \n",
       "11   Nu stiger vattennivåerna – varning för översvä...   \n",
       "13   Nu stiger vattennivåerna – varning för översvä...   \n",
       "14   Nu laddar vi inför #Kustmöte2017 i #Trelleborg...   \n",
       "15   Meteorologer varnar för enorma översvämningar ...   \n",
       "19   Orkanen Irma härjar Florida – livsfarliga över...   \n",
       "20   Nu stiger vattennivåerna – varning för översvä...   \n",
       "21   Meteorologer varnar för enorma översvämningar ...   \n",
       "24   Nu stiger vattennivåerna – varning för översvä...   \n",
       "25   https://t.co/yGFHXxhsnl Miami under vatten – l...   \n",
       "26   @ZoranMarkovic_1 Sjukt. Har inte fattat hur st...   \n",
       "32   Flera döda i översvämningar i Toscana https://...   \n",
       "34   Översvämningar hotar i orkanens spår. Åtminsto...   \n",
       "37   Orkanen Irmas öga har nått södra Florida - 4,5...   \n",
       "38   Flera döda i översvämningar i Toscana https://...   \n",
       "39   Delar av Miami står under vatten – svåra övers...   \n",
       "40   Flera döda i översvämningar i Toscana https://...   \n",
       "41   Flera döda i översvämningar i Toscana | SVT Ny...   \n",
       "42   Flera döda i översvämningar i #Toscana https:/...   \n",
       "43   Även i Europa dör människor nu i översvämning!...   \n",
       "44   @antonalmqvist1 Varit översvämning i Italien d...   \n",
       "45   Flera människor har omkommit i översvämningar ...   \n",
       "48   Efter torka kommer regnen. Minst sju döda i öv...   \n",
       "51   JUST NU: Minst sex döda i översvämningar i Tos...   \n",
       "54   Apokalyps i Frankrike! Kraftig storm med övers...   \n",
       "55   Frankrike varnar för röda nivåer !! mycket kra...   \n",
       "57   Europa lider igen! Kraftig översvämning i Fran...   \n",
       "62   @JakopDalunde Fast dylika översvämningar är in...   \n",
       "77   Skadorna av årets översvämning i Gävle kostar ...   \n",
       "81   @Stort_allvar @RogerBe09919995 DET gäller även...   \n",
       "93   Handelsunderskott och översvämningar så långt ...   \n",
       "124  Varför åker Trump till Texas? Klimatförändring...   \n",
       "152  Världens åskväder över Alperna, syns rakt unde...   \n",
       "162  En del av Europa har gått under vatten! Svåra ...   \n",
       "178  180 personer dog nyss i översvämningar i Tyskl...   \n",
       "184  @SvD Birger Jarlsgatan är ett gammalt vattendr...   \n",
       "187  Så IKEA pojkarna avverkar massa skogsytor i Ry...   \n",
       "191  Kris! 📢 Krim går under vatten! Svåra översvämn...   \n",
       "192  Europa lider igen! Tuff översvämning i Belgien...   \n",
       "193  Vilken fantastisk nyhet! Timbro har löst klima...   \n",
       "197  Ryssland, Canada, USA - bränder \\nTyskland, Be...   \n",
       "210  Angående klimat och väder i Thailand finns det...   \n",
       "221  KINA: Tyfonen Lekima forventes at ramme kysten...   \n",
       "233  Varsel om kraftig regn og lokale #skybrud i No...   \n",
       "238  Boende i staden Tulun, Sibirien: läskigt att b...   \n",
       "290  @YttraYttra2 Då blir det nog översvämning istä...   \n",
       "305  Hela världen har olika klimat. Naturkatastrofe...   \n",
       "307  Här har det smält, F N:s klimatmöten från 1992...   \n",
       "309  Omfattande översvämningar i östra Kina https:/...   \n",
       "\n",
       "                                                  text  \n",
       "1    no flooding structural damage miami beach obam...  \n",
       "8             storm surge threatens florida irmas wake  \n",
       "11   now water levels rising  flood warning florida...  \n",
       "13   now water levels rising  florida flood warning...  \n",
       "14   now charging kustmöte trelleborg the interest ...  \n",
       "15   meteorologists warn massive flooding florida e...  \n",
       "19   hurricane irma ravages florida  lifethreatenin...  \n",
       "20      now water levels rising  florida flood warning  \n",
       "21   meteorologists warn huge floods florida  afton...  \n",
       "24   now water levels rising  florida flood warning...  \n",
       "25         miami water  life threatening flooding news  \n",
       "26    sick havent realized big irma is double width...  \n",
       "32                         several dead floods tuscany  \n",
       "34   flooding threatens hurricanes wake at people d...  \n",
       "37   hurricane irmas eye reached south florida   me...  \n",
       "38                         several dead floods tuscany  \n",
       "39   parts miami water  severe flooding expected ir...  \n",
       "40                         several dead floods tuscany  \n",
       "41               several dead floods tuscany  svt news  \n",
       "42                     several dead floods tuscany yle  \n",
       "43   even europe people dying flood several dead fl...  \n",
       "44                   where flood italy thats reason it  \n",
       "45   several people died floods coastal city livorn...  \n",
       "48   after drought comes rain at seven dead floods ...  \n",
       "51   right now at dead floods tuscany italy svtnyheter  \n",
       "54   apocalypse france heavy storm flooding hits ni...  \n",
       "55   france warns red levels  heavy downpour floodi...  \n",
       "57     europe suffers again severe flooding france end  \n",
       "62   although floods new they happen sweden however...  \n",
       "77   the damage years flood gävle costs million plu...  \n",
       "81   allvar that applies greenland received absolut...  \n",
       "93   trade deficit floods far white house president...  \n",
       "124  why trump going texas climate change increasin...  \n",
       "152  the worlds thunderstorm alps visible directly ...  \n",
       "162  part europe gone water severe flooding germany...  \n",
       "178  people died floods germany belgium according s...  \n",
       "184  birger jarlsgatan old waterway cats butt so fa...  \n",
       "187  so ikea boys cut lots forest areas russia and ...  \n",
       "191  crisis  crimea going water severe flooding ker...  \n",
       "192  europe suffers again tough flood belgium dinan...  \n",
       "193  what fantastic news timbro solved climate thre...  \n",
       "197  russia canada usa  fires germany belgium  floo...  \n",
       "210  regarding climate weather thailand thing it ex...  \n",
       "221  china typhoon lekima expected hit coast near w...  \n",
       "233  warning heavy rain local cloudbursts northern ...  \n",
       "238  living city tulun siberia scary live floods wo...  \n",
       "290  then probably flood instead ask poland help again  \n",
       "305  the world different climates natural disasters...  \n",
       "307  here melted un climate meetings  easily worryi...  \n",
       "309                   extensive flooding eastern china  "
      ]
     },
     "execution_count": 84,
     "metadata": {},
     "output_type": "execute_result"
    }
   ],
   "source": [
    "# False positives\n",
    "false_pos = df[(df[\"mentions_location\"] == 0) & (df[\"loc_ent_is_swedish\"] != \"False\")][needed_columns]\n",
    "false_pos.head(50)\n",
    "# Sweden has locations that contains florida and miami\n",
    "# Idea: Increase precision by: \n",
    "# - Make more restrictive classification using data extracted from geocoders regarding location (e.g. population, type, popularity)\n",
    "# - Check non-swedish enteries for that location and if they are (e.g. more popular) filter the swedish entry out"
   ]
  },
  {
   "cell_type": "code",
   "execution_count": 3,
   "id": "6fd82f54",
   "metadata": {},
   "outputs": [],
   "source": [
    "def parse_raw_text(raw_json):\n",
    "    if raw_json == \"False\":\n",
    "        return pd.Series(5 * [False])\n",
    "    return pd.Series(\n",
    "        [\n",
    "            ast.literal_eval(raw_json)[\"class\"],\n",
    "            ast.literal_eval(raw_json)[\"importance\"],\n",
    "            ast.literal_eval(raw_json)[\"type\"],\n",
    "            ast.literal_eval(raw_json)[\"display_name\"],\n",
    "            float(ast.literal_eval(raw_json)[\"lat\"]),\n",
    "            float(ast.literal_eval(raw_json)[\"lon\"]),\n",
    "        ]\n",
    "    )\n",
    "\n",
    "\n",
    "df[\n",
    "    [\n",
    "        \"loc_class\",\n",
    "        \"loc_importance\",\n",
    "        \"loc_type\",\n",
    "        \"loc_display_name\",\n",
    "        \"loc_lat\",\n",
    "        \"loc_lon\",\n",
    "    ]\n",
    "] = df[\"loc_ent_is_swedish\"].apply(parse_raw_text)"
   ]
  },
  {
   "cell_type": "code",
   "execution_count": 10,
   "id": "f0cb4c2e",
   "metadata": {
    "lines_to_next_cell": 2
   },
   "outputs": [],
   "source": [
    "def get_color(row):\n",
    "    if (row[\"mentions_location\"] == 1 and row[\"loc_ent_is_swedish\"] != \"False\"):\n",
    "        return \"blue\"\n",
    "    elif row[\"mentions_location\"] == 0 and row[\"loc_ent_is_swedish\"] != \"False\":\n",
    "        return \"red\"\n",
    "\n",
    "df[\"color\"] = df.apply(get_color, axis=1,)"
   ]
  },
  {
   "cell_type": "code",
   "execution_count": 11,
   "id": "e1d18ef0",
   "metadata": {},
   "outputs": [],
   "source": [
    "# Get the geojson file and load it as a geopandas dataframe\n",
    "with urlopen(\n",
    "    \"https://raw.githubusercontent.com/ostropunk/swegeojson/master/geodata/kommun/Kommun_RT90_region.json\"\n",
    ") as response:\n",
    "    sweden_json = json.load(response)\n",
    "\n",
    "sweden_geo_df = gpd.GeoDataFrame.from_features(sweden_json[\"features\"])\n",
    "geometry = [Point(x, y) for x, y in zip(df[\"loc_lon\"], df[\"loc_lat\"])]"
   ]
  },
  {
   "cell_type": "code",
   "execution_count": 12,
   "id": "6c29f36a",
   "metadata": {},
   "outputs": [
    {
     "data": {
      "application/vnd.plotly.v1+json": {
       "config": {
        "plotlyServerURL": "https://plot.ly"
       },
       "data": [
        {
         "customdata": [
          [
           907315054151962600
          ],
          [
           907249999553159200
          ],
          [
           907216307321491500
          ],
          [
           907197471339794400
          ],
          [
           907169643898572800
          ],
          [
           907168859228135400
          ],
          [
           907128844431237100
          ],
          [
           907123196159242200
          ],
          [
           907116790093938700
          ],
          [
           907044532767936500
          ],
          [
           907010395180806100
          ],
          [
           906996567688847400
          ],
          [
           906952264904003600
          ],
          [
           906939243284635600
          ],
          [
           906922949441093600
          ],
          [
           906922190054019100
          ],
          [
           906919570878984200
          ],
          [
           906903328487067600
          ],
          [
           906902078613794800
          ],
          [
           906901903841394700
          ],
          [
           906899530624507900
          ],
          [
           906894252134858800
          ],
          [
           906894235466596400
          ],
          [
           906887710769651700
          ],
          [
           906884956827340800
          ],
          [
           1438927856650834000
          ],
          [
           1438922305418236000
          ],
          [
           1438921385221492700
          ],
          [
           1438871142182363100
          ],
          [
           1438595094794342400
          ],
          [
           1438491979634122800
          ],
          [
           902255491753156600
          ],
          [
           902052364831641600
          ],
          [
           1421583982454616000
          ],
          [
           1421520893738639400
          ],
          [
           1421381143312707600
          ],
          [
           1421340731248107500
          ],
          [
           1421289591168962600
          ],
          [
           1421211170980176000
          ],
          [
           1421210256227582000
          ],
          [
           1421195585546244000
          ],
          [
           1421182558696521700
          ],
          [
           1105332308993687600
          ],
          [
           1159450037182783500
          ],
          [
           1159171105669693400
          ],
          [
           1159077965424156700
          ],
          [
           1028305826396741600
          ],
          [
           1027972707768590300
          ],
          [
           1027941878619103200
          ],
          [
           1148339000819757000
          ],
          [
           1148319179176644600
          ],
          [
           1148228025349283800
          ],
          [
           1147807556422787100
          ],
          [
           639213837615525900
          ],
          [
           639029049885655000
          ],
          [
           639022484633878500
          ],
          [
           639016019214909400
          ],
          [
           639015301317853200
          ],
          [
           639015236008153100
          ],
          [
           639001027513987100
          ],
          [
           638832996041134100
          ],
          [
           899381296383889400
          ],
          [
           899332872468910100
          ],
          [
           767628353503391700
          ],
          [
           1416181920988336000
          ],
          [
           1416167910150639600
          ],
          [
           1416155903254990800
          ],
          [
           1416150658546344000
          ],
          [
           1416149425219588000
          ],
          [
           1416148928152621000
          ],
          [
           1416136317411463200
          ],
          [
           1416134213959655400
          ],
          [
           1416116799385620500
          ],
          [
           1416116410972049400
          ],
          [
           1416114188402008000
          ],
          [
           1416114175189917700
          ],
          [
           1416114172572622800
          ],
          [
           1416113974739939300
          ],
          [
           1416104403497533400
          ],
          [
           1416098090172534800
          ],
          [
           1416097538210472000
          ],
          [
           1416096327528759300
          ],
          [
           1416089854329426000
          ],
          [
           1416085033241227300
          ],
          [
           1416084459405856800
          ],
          [
           1416078018460725200
          ],
          [
           1416073661006684200
          ],
          [
           1416071808902652000
          ],
          [
           1416070196083708000
          ],
          [
           1416069264059076600
          ],
          [
           644837216498417700
          ],
          [
           644475818765353000
          ],
          [
           1026744719878115300
          ],
          [
           1026591408025563100
          ],
          [
           1026350840293060600
          ],
          [
           1413645192624812000
          ],
          [
           1413607493977231400
          ],
          [
           1413606679984414700
          ],
          [
           1413503925488078800
          ],
          [
           1413432679740096500
          ],
          [
           1413364426875490300
          ],
          [
           1413063693789712400
          ],
          [
           1404195285518147600
          ],
          [
           1403966137948381200
          ],
          [
           1403830577552298000
          ],
          [
           1403795254013272000
          ],
          [
           1403782782707458000
          ],
          [
           1174355842134696000
          ],
          [
           1174345655776620500
          ],
          [
           1174291980169429000
          ],
          [
           917343721796128800
          ],
          [
           917276721157681200
          ],
          [
           1310273055088947200
          ],
          [
           1309819138248978400
          ],
          [
           1309810936837025800
          ],
          [
           1424236370722234400
          ],
          [
           1424141545675055000
          ],
          [
           1424037338829791200
          ],
          [
           735871907216560100
          ],
          [
           735807067311767600
          ],
          [
           750987170245124100
          ],
          [
           750793820611149800
          ],
          [
           750751181899698200
          ],
          [
           750621000082006000
          ],
          [
           750603753598947300
          ],
          [
           892849446425317400
          ],
          [
           892370449082011600
          ],
          [
           808929686013300700
          ],
          [
           1033442737440391200
          ],
          [
           1033235409042587600
          ],
          [
           1033022870782394400
          ],
          [
           1032881966155227100
          ],
          [
           1032879119879598100
          ],
          [
           1029802322967318500
          ],
          [
           1029722288642510800
          ],
          [
           1029646277057962000
          ],
          [
           880162897279819800
          ],
          [
           880084613225472000
          ],
          [
           1397911990169837600
          ],
          [
           1397844836196262000
          ],
          [
           736586562658521100
          ],
          [
           782986658358722600
          ],
          [
           782941714449399800
          ],
          [
           889112029327495200
          ],
          [
           1286983293079031800
          ],
          [
           1286928896454283300
          ],
          [
           1286915929054609400
          ],
          [
           1286753092453752800
          ],
          [
           1286738726840868900
          ],
          [
           1286570864906043400
          ],
          [
           1286554729997271000
          ],
          [
           1286293968876114000
          ],
          [
           1286246797367795700
          ],
          [
           640885636271075300
          ],
          [
           640872494023475200
          ],
          [
           1313564014052597800
          ],
          [
           1313536512038903800
          ],
          [
           1313513341168636000
          ],
          [
           1313450647027617800
          ],
          [
           1313384214516117500
          ],
          [
           1323667920250130400
          ],
          [
           1323603848464879600
          ],
          [
           1323603339918102500
          ],
          [
           1428469067325788200
          ],
          [
           1428458828811669500
          ],
          [
           1428457666133823500
          ],
          [
           1428446483339255800
          ],
          [
           1428440869976293400
          ],
          [
           1428437792321904600
          ],
          [
           1428427012633415700
          ],
          [
           1428415510832730000
          ],
          [
           1428408772960063500
          ],
          [
           1428370898915143700
          ],
          [
           1428355566984777700
          ],
          [
           1428351677430599700
          ],
          [
           1428349436028018700
          ],
          [
           1428341052088496000
          ],
          [
           637186673533694000
          ],
          [
           636950722198704100
          ],
          [
           636943337178554400
          ],
          [
           636932483649409000
          ],
          [
           636895541364965400
          ],
          [
           636866204859285500
          ],
          [
           636857099218235400
          ],
          [
           915456220613496800
          ],
          [
           1405214077031485400
          ],
          [
           1404763296365006800
          ],
          [
           1404742214161477600
          ],
          [
           744555704611147800
          ],
          [
           744474222345486300
          ],
          [
           744450850945441800
          ],
          [
           1229489359604322300
          ],
          [
           1229378808840704000
          ],
          [
           1229276734526230500
          ],
          [
           963011187226103800
          ],
          [
           738127843792543700
          ],
          [
           738122608562970600
          ],
          [
           738116372442423300
          ],
          [
           738055554933919700
          ],
          [
           737951759402991600
          ],
          [
           737738795567730700
          ],
          [
           1441749554768978000
          ],
          [
           1441715899803656200
          ],
          [
           1441470163426046000
          ],
          [
           1441276025778761700
          ],
          [
           1183337836050817000
          ],
          [
           1183317288596004900
          ],
          [
           1183273291169054700
          ],
          [
           1182898400079036400
          ],
          [
           935461304487350300
          ],
          [
           1147562793731862500
          ],
          [
           1125834960215117800
          ],
          [
           1158341121073963000
          ],
          [
           1158012438610108400
          ],
          [
           747032950013825000
          ],
          [
           619230729562648600
          ],
          [
           619137827700363300
          ],
          [
           618834707908661200
          ]
         ],
         "hovertemplate": "<b>%{hovertext}</b><br><br>color=red<br>loc_lat=%{lat}<br>loc_lon=%{lon}<br>id=%{customdata[0]}<extra></extra>",
         "hovertext": [
          "Miami, 28, Lindövägen, Oxelbergen, Norrköping, Norrköpings kommun, Östergötland County, 602 28, Sweden",
          "Florida, Ryd, Tingsryds kommun, Kronoberg County, 360 10, Sweden",
          "Florida, Ryd, Tingsryds kommun, Kronoberg County, 360 10, Sweden",
          "Florida, Ryd, Tingsryds kommun, Kronoberg County, 360 10, Sweden",
          "Trelleborg, Trelleborgs kommun, Skåne County, 231 61, Sweden",
          "Florida, Ryd, Tingsryds kommun, Kronoberg County, 360 10, Sweden",
          "Florida, Ryd, Tingsryds kommun, Kronoberg County, 360 10, Sweden",
          "Florida, Ryd, Tingsryds kommun, Kronoberg County, 360 10, Sweden",
          "Florida, Ryd, Tingsryds kommun, Kronoberg County, 360 10, Sweden",
          "Florida, Ryd, Tingsryds kommun, Kronoberg County, 360 10, Sweden",
          "Miami, 28, Lindövägen, Oxelbergen, Norrköping, Norrköpings kommun, Östergötland County, 602 28, Sweden",
          "Florida, Ryd, Tingsryds kommun, Kronoberg County, 360 10, Sweden",
          "Toscana, Karolinagatan, Huvudsta, Solna kommun, Stockholms kommun, Stockholm County, 171 58, Sweden",
          "Florida, Ryd, Tingsryds kommun, Kronoberg County, 360 10, Sweden",
          "Florida, Ryd, Tingsryds kommun, Kronoberg County, 360 10, Sweden",
          "Toscana, Karolinagatan, Huvudsta, Solna kommun, Stockholms kommun, Stockholm County, 171 58, Sweden",
          "Miami, 28, Lindövägen, Oxelbergen, Norrköping, Norrköpings kommun, Östergötland County, 602 28, Sweden",
          "Toscana, Karolinagatan, Huvudsta, Solna kommun, Stockholms kommun, Stockholm County, 171 58, Sweden",
          "Toscana, Karolinagatan, Huvudsta, Solna kommun, Stockholms kommun, Stockholm County, 171 58, Sweden",
          "Toscana, Karolinagatan, Huvudsta, Solna kommun, Stockholms kommun, Stockholm County, 171 58, Sweden",
          "Europa, Gamla stan, Södermalms stadsdelsområde, Stockholm, Stockholms kommun, Stockholm County, 111 31, Sweden",
          "Italien, Järpås distrikt, Lidköpings kommun, Västra Götaland County, 531 94, Sweden",
          "Toscana, Karolinagatan, Huvudsta, Solna kommun, Stockholms kommun, Stockholm County, 171 58, Sweden",
          "Toscana, Karolinagatan, Huvudsta, Solna kommun, Stockholms kommun, Stockholm County, 171 58, Sweden",
          "Toscana, Karolinagatan, Huvudsta, Solna kommun, Stockholms kommun, Stockholm County, 171 58, Sweden",
          "Frankrike, Uppsala, Uppsala kommun, Uppsala County, 755 97, Sweden",
          "Frankrike, Uppsala, Uppsala kommun, Uppsala County, 755 97, Sweden",
          "Europa, Gamla stan, Södermalms stadsdelsområde, Stockholm, Stockholms kommun, Stockholm County, 111 31, Sweden",
          "Sweden",
          "Gävle, Gävle kommun, Gävleborg County, Sweden",
          "Grönland, Bua Södra, Kärrsgärde, Stora Bugärde, Härryda kommun, Västra Götaland County, Sweden",
          "Vitå, Luleå kommun, Norrbotten County, Sweden",
          "Vitå, Luleå kommun, Norrbotten County, Sweden",
          "Alperna, Storumans kommun, Västerbotten County, Sweden",
          "Europa, Gamla stan, Södermalms stadsdelsområde, Stockholm, Stockholms kommun, Stockholm County, 111 31, Sweden",
          "Tyskland, Söderköpings kommun, Östergötland County, Sweden",
          "Birger Jarlsgatan, Norrmalm, Norrmalms stadsdelsområde, Stockholm, Stockholms kommun, Stockholm County, 113 58, Sweden",
          "Ryssland, Amnehärads distrikt, Gullspångs kommun, Västra Götaland County, Sweden",
          "Ryssland, Amnehärads distrikt, Gullspångs kommun, Västra Götaland County, Sweden",
          "Europa, Gamla stan, Södermalms stadsdelsområde, Stockholm, Stockholms kommun, Stockholm County, 111 31, Sweden",
          "Sweden",
          "Ryssland, Amnehärads distrikt, Gullspångs kommun, Västra Götaland County, Sweden",
          "Sweden",
          "Wenzhou, Johan Enbergs väg, Huvudsta, Solna kommun, Stockholms kommun, Stockholm County, 171 61, Sweden",
          "Randersgatan, Kista, Rinkeby-Kista stadsdelsområde, Stockholm, Stockholms kommun, Stockholm County, 164 42, Sweden",
          "Sibirien, Halmstad, Halmstads kommun, Halland County, 302 90, Sweden",
          "Polen, Munkedals kommun, Västra Götaland County, Sweden",
          "Sweden",
          "Krakow, Fiskartorpet, Fellingsbro, Lindesbergs kommun, Örebro County, Sweden",
          "Kina, Malå kommun, Västerbotten County, Sweden",
          "DC, 120, Emmaboda, Emmaboda kommun, Kalmar County, 361 30, Sweden",
          "DC, 120, Emmaboda, Emmaboda kommun, Kalmar County, 361 30, Sweden",
          "Kina, Malå kommun, Västerbotten County, Sweden",
          "Norge, Nynäs, Villastan, Gävle, Gävle kommun, Gävleborg County, Sweden",
          "Norge, Nynäs, Villastan, Gävle, Gävle kommun, Gävleborg County, Sweden",
          "Norge, Nynäs, Villastan, Gävle, Gävle kommun, Gävleborg County, Sweden",
          "Norge, Nynäs, Villastan, Gävle, Gävle kommun, Gävleborg County, Sweden",
          "Norge, Nynäs, Villastan, Gävle, Gävle kommun, Gävleborg County, Sweden",
          "Norge, Nynäs, Villastan, Gävle, Gävle kommun, Gävleborg County, Sweden",
          "Norge, Nynäs, Villastan, Gävle, Gävle kommun, Gävleborg County, Sweden",
          "Ryssland, Amnehärads distrikt, Gullspångs kommun, Västra Götaland County, Sweden",
          "Asien, Filipstads kommun, Värmland County, Sweden",
          "Asien, Filipstads kommun, Värmland County, Sweden",
          "Ängelholms kommun, Skåne County, Sweden",
          "Tyskland, Söderköpings kommun, Östergötland County, Sweden",
          "Sweden",
          "Sweden",
          "Tyskland, Söderköpings kommun, Östergötland County, Sweden",
          "Tyskland, Söderköpings kommun, Östergötland County, Sweden",
          "Polen, Munkedals kommun, Västra Götaland County, Sweden",
          "Tyskland, Söderköpings kommun, Östergötland County, Sweden",
          "Sweden",
          "Tyskland, Söderköpings kommun, Östergötland County, Sweden",
          "German Embassy, Skarpögatan, Östermalm, Östermalms stadsdelsområde, Stockholms kommun, Stockholm County, 115 27, Sweden",
          "Tyskland, Söderköpings kommun, Östergötland County, Sweden",
          "Tyskland, Söderköpings kommun, Östergötland County, Sweden",
          "Tyskland, Söderköpings kommun, Östergötland County, Sweden",
          "Europa, Gamla stan, Södermalms stadsdelsområde, Stockholm, Stockholms kommun, Stockholm County, 111 31, Sweden",
          "Heda Skandinavien AB, Ekensberg, Nyköping, Nyköpings kommun, Södermanland County, Sweden",
          "Tyskland, Söderköpings kommun, Östergötland County, Sweden",
          "Norden, Enköpings kommun, Uppsala County, 749 72, Sweden",
          "Tyskland, Söderköpings kommun, Östergötland County, Sweden",
          "Europa, Gamla stan, Södermalms stadsdelsområde, Stockholm, Stockholms kommun, Stockholm County, 111 31, Sweden",
          "Kina, Malå kommun, Västerbotten County, Sweden",
          "Spanien, Ekerö kommun, Stockholm County, 178 92, Sweden",
          "Sweden",
          "Tyskland, Söderköpings kommun, Östergötland County, Sweden",
          "Tyskland, Söderköpings kommun, Östergötland County, Sweden",
          "Kina, Malå kommun, Västerbotten County, Sweden",
          "Sweden",
          "Vilhelmsborg, Gnosjö kommun, Jönköping County, 330 33, Sweden",
          "NärNaturen-VästSverige AB, 69, Bueråsvägen, Norra Hagen, Onsala kyrkby, Kungsbacka kommun, Halland County, 439 91, Sweden",
          "Island, Forshems distrikt, Götene kommun, Västra Götaland County, Sweden",
          "Sweden",
          "Sweden",
          "England, Arvika kommun, Värmland County, Sweden",
          "Krakow, Fiskartorpet, Fellingsbro, Lindesbergs kommun, Örebro County, Sweden",
          "Årena, Västerviks kommun, Kalmar County, 590 92, Sweden",
          "Ålborg, Skottvallen, Forsbacka, Gävle kommun, Gävleborg County, Sweden",
          "Tunnelbana blue line, Norrmalm, Norrmalms stadsdelsområde, Stockholms kommun, Stockholm County, Sweden",
          "Jylland, Stångby, Lund Municipality, Skåne County, Sweden",
          "Tranås kommun, Jönköping County, Sweden",
          "Finland, Amerika, Gertrudsvik, Västervik, Västerviks kommun, Kalmar County, Sweden",
          "Stockholm, Stockholms kommun, Stockholm County, 111 29, Sweden",
          "Sweden",
          "Danmark, Uppsala kommun, Uppsala County, 754 54, Sweden",
          "Luleå, Luleå kommun, Norrbotten County, 971 28, Sweden",
          "Malmo, Malmö kommun, Skåne County, Sweden",
          "Malmo, Malmö kommun, Skåne County, Sweden",
          "Spanien, Ekerö kommun, Stockholm County, 178 92, Sweden",
          "Uppsala, Uppsala kommun, Uppsala County, 753 20, Sweden",
          "Gothenburg Central, Nils Ericsonsplatsen, Gullbergsvass, Stampen, Centrum, Gothenburg, Göteborgs Stad, Västra Götaland County, 411 03, Sweden",
          "Flian, Västra Götaland County, 531 93, Sweden",
          "Danmark, Uppsala kommun, Uppsala County, 754 54, Sweden",
          "Danmark, Uppsala kommun, Uppsala County, 754 54, Sweden",
          "Grekland, Skutskär, Älvkarleby kommun, Uppsala County, 814 30, Sweden",
          "Sweden",
          "Japan, Saxnäs, Vilhelmina kommun, Västerbotten County, Sweden",
          "Karlstad, Karlstads kommun, Värmland County, 652 24, Sweden",
          "Region Norrland, Sweden",
          "Öresund, Marks kommun, Västra Götaland County, 511 92, Sweden",
          "Paris, Norrtälje kommun, Stockholm County, 761 98, Sweden",
          "Kina, Malå kommun, Västerbotten County, Sweden",
          "Kina, Malå kommun, Västerbotten County, Sweden",
          "Alm, Hallsbergs kommun, Örebro County, 692 92, Sweden",
          "Miami, 28, Lindövägen, Oxelbergen, Norrköping, Norrköpings kommun, Östergötland County, 602 28, Sweden",
          "Ösjövålen, Södra, Härjedalens kommun, Jämtland County, Sweden",
          "Skåne County, Sweden",
          "Sweden",
          "Amerika, Töreboda kommun, Västra Götaland County, Sweden",
          "Sweden",
          "Hawaii, Årjängs kommun, Värmland County, Sweden",
          "Dam, Kårsta, Glesbygd Indal, Indal District, Sundsvall Municipality, Västernorrland County, Sweden",
          "Sweden",
          "Sweden",
          "Sweden",
          "Embassy of Portugal, Drottninggatan, Sabbatsberg, Vasastaden, Norrmalms stadsdelsområde, Stockholms kommun, Stockholm County, 111 60, Sweden",
          "Sweden",
          "Golfbanan, Robertsfors, Robertsfors kommun, Västerbotten County, Sweden",
          "Västkusten, Hedemora, Hedemora kommun, Dalarna County, 776 32, Sweden",
          "Paris, Norrtälje kommun, Stockholm County, 761 98, Sweden",
          "Stadshagens idrottsplats, Sankt Göransgatan, Hornsberg, Stadshagen, Kungsholmens stadsdelsområde, Stockholm, Stockholms kommun, Stockholm County, 112 18, Sweden",
          "Nord, Älvsbyns kommun, Norrbotten County, Sweden",
          "Japan, Saxnäs, Vilhelmina kommun, Västerbotten County, Sweden",
          "Kina, Malå kommun, Västerbotten County, Sweden",
          "Kina, Malå kommun, Västerbotten County, Sweden",
          "Kina, Malå kommun, Västerbotten County, Sweden",
          "Europa, Gamla stan, Södermalms stadsdelsområde, Stockholm, Stockholms kommun, Stockholm County, 111 31, Sweden",
          "Sweden",
          "Italien, Järpås distrikt, Lidköpings kommun, Västra Götaland County, 531 94, Sweden",
          "Franska värdshuset, Djurgårdsslätten, Djurgårdsstaden, Djurgården, Östermalms stadsdelsområde, Stockholm, Stockholms kommun, Stockholm County, 115 21, Sweden",
          "Europa, Gamla stan, Södermalms stadsdelsområde, Stockholm, Stockholms kommun, Stockholm County, 111 31, Sweden",
          "Asien, Filipstads kommun, Värmland County, Sweden",
          "Stockholm, Stockholms kommun, Stockholm County, 111 29, Sweden",
          "Stockholm, Stockholms kommun, Stockholm County, 111 29, Sweden",
          "Frankrike, Uppsala, Uppsala kommun, Uppsala County, 755 97, Sweden",
          "Frankrike, Uppsala, Uppsala kommun, Uppsala County, 755 97, Sweden",
          "Embassy of France, Kommendörsgatan, Villastaden, Östermalm, Östermalms stadsdelsområde, Stockholms kommun, Stockholm County, 114 60, Sweden",
          "Prag, Valdemarsviks kommun, Östergötland County, Sweden",
          "Uddevalla, Uddevalla kommun, Västra Götaland County, 451 30, Sweden",
          "Sweden",
          "Sveriges meteorologiska och hydrologiska institut, 1, Folkborgsvägen, Klockaretorpet, Norrköping, Norrköpings kommun, Östergötland County, 601 76, Sweden",
          "Vietnam, Norra Skeppargatan, Nynäs, Villastan, Gävle, Gävle kommun, Gävleborg County, 801 38, Sweden",
          "Sibirien, Halmstad, Halmstads kommun, Halland County, 302 90, Sweden",
          "Kina, Malå kommun, Västerbotten County, Sweden",
          "Skåne County, Sweden",
          "Lillebrors Bageri, Rörstrandsgatan, Rörstrand, Vasastaden, Norrmalms stadsdelsområde, Stockholm, Stockholms kommun, Stockholm County, 113 40, Sweden",
          "Söderkulla, Borås, Borås kommun, Västra Götaland County, 504 50, Sweden",
          "Sweden",
          "Harrys, 6, Renmarkstorget, Centrum, Centrala stan, Umeå, Umeå kommun, Västerbotten County, 903 26, Sweden",
          "Gävle, Gävle kommun, Gävleborg County, Sweden",
          "Ryssland, Amnehärads distrikt, Gullspångs kommun, Västra Götaland County, Sweden",
          "Gävle, Gävle kommun, Gävleborg County, Sweden",
          "Gävle, Gävle kommun, Gävleborg County, Sweden",
          "Sweden",
          "Ryssland, Amnehärads distrikt, Gullspångs kommun, Västra Götaland County, Sweden",
          "Sweden",
          "Skåne County, Sweden",
          "NärNaturen-VästSverige AB, 69, Bueråsvägen, Norra Hagen, Onsala kyrkby, Kungsbacka kommun, Halland County, 439 91, Sweden",
          "NärNaturen-VästSverige AB, 69, Bueråsvägen, Norra Hagen, Onsala kyrkby, Kungsbacka kommun, Halland County, 439 91, Sweden",
          "NärNaturen-VästSverige AB, 69, Bueråsvägen, Norra Hagen, Onsala kyrkby, Kungsbacka kommun, Halland County, 439 91, Sweden",
          "NärNaturen-VästSverige AB, 69, Bueråsvägen, Norra Hagen, Onsala kyrkby, Kungsbacka kommun, Halland County, 439 91, Sweden",
          "NärNaturen-VästSverige AB, 69, Bueråsvägen, Norra Hagen, Onsala kyrkby, Kungsbacka kommun, Halland County, 439 91, Sweden",
          "NärNaturen-VästSverige AB, 69, Bueråsvägen, Norra Hagen, Onsala kyrkby, Kungsbacka kommun, Halland County, 439 91, Sweden",
          "Ösjövålen, Södra, Härjedalens kommun, Jämtland County, Sweden",
          "Afrika, Sigtuna, Sigtuna kommun, Stockholm County, Sweden",
          "Sweden",
          "Peru, Slädene distrikt, Vara kommun, Västra Götaland County, Sweden",
          "Kina, Malå kommun, Västerbotten County, Sweden",
          "Indonesienvägen, Arvidsjaurs kommun, Norrbotten County, Sweden",
          "Gothenburg, Göteborgs Stad, Västra Götaland County, 411 10, Sweden",
          "Esbogatan, Husby, Rinkeby-Kista stadsdelsområde, Stockholms kommun, Stockholm County, 164 34, Sweden",
          "Sälen, Malung-Sälens kommun, Dalarna County, Sweden",
          "England, Arvika kommun, Värmland County, Sweden",
          "Malmös nappträd, Nordlinds stig, Rönneholm, Innerstaden, Malmo, Malmö kommun, Skåne County, 217 48, Sweden",
          "Tyskland, Söderköpings kommun, Östergötland County, Sweden",
          "Tyskland, Söderköpings kommun, Östergötland County, Sweden",
          "Tyskland, Söderköpings kommun, Östergötland County, Sweden",
          "Bryssel, Fabriksgatan, Valhalla, Örnsköldsvik District, Örnsköldsviks kommun, Västernorrland County, 891 39, Sweden",
          "Frankrike, Uppsala, Uppsala kommun, Uppsala County, 755 97, Sweden",
          "Neptun, Mörbylånga, Mörbylånga kommun, Kalmar County, Sweden",
          "Grönland, Bua Södra, Kärrsgärde, Stora Bugärde, Härryda kommun, Västra Götaland County, Sweden",
          "Grönland, Bua Södra, Kärrsgärde, Stora Bugärde, Härryda kommun, Västra Götaland County, Sweden",
          "Spanien, Ekerö kommun, Stockholm County, 178 92, Sweden",
          "Europa, Gamla stan, Södermalms stadsdelsområde, Stockholm, Stockholms kommun, Stockholm County, 111 31, Sweden",
          "Sweden",
          "Japan, Saxnäs, Vilhelmina kommun, Västerbotten County, Sweden",
          "Japan, Saxnäs, Vilhelmina kommun, Västerbotten County, Sweden",
          "Japan, Saxnäs, Vilhelmina kommun, Västerbotten County, Sweden",
          "Gothenburg, Göteborgs Stad, Västra Götaland County, 411 10, Sweden",
          "Sveriges meteorologiska och hydrologiska institut, 1, Folkborgsvägen, Klockaretorpet, Norrköping, Norrköpings kommun, Östergötland County, 601 76, Sweden",
          "Kanada, Haninge kommun, Stockholm County, Sweden",
          "Ryssland, Amnehärads distrikt, Gullspångs kommun, Västra Götaland County, Sweden",
          "Grönland, Bua Södra, Kärrsgärde, Stora Bugärde, Härryda kommun, Västra Götaland County, Sweden",
          "ICA, Gustavslund, Helsingborg, Helsingborgs kommun, Skåne County, Sweden",
          "Ryssland, Amnehärads distrikt, Gullspångs kommun, Västra Götaland County, Sweden",
          "Sweden",
          "Mariehamn, Räknö, Norrtälje kommun, Stockholm County, Sweden"
         ],
         "lat": [
          58.5901768,
          56.4730372,
          56.4730372,
          56.4730372,
          55.37592,
          56.4730372,
          56.4730372,
          56.4730372,
          56.4730372,
          56.4730372,
          58.5901768,
          56.4730372,
          59.3522445,
          56.4730372,
          56.4730372,
          59.3522445,
          58.5901768,
          59.3522445,
          59.3522445,
          59.3522445,
          59.3254265,
          58.3817034,
          59.3522445,
          59.3522445,
          59.3522445,
          59.8787303,
          59.8787303,
          59.3254265,
          59.6749712,
          60.6750132,
          57.64887535,
          65.9268121,
          65.9268121,
          65.1502138,
          59.3254265,
          58.313438000000005,
          59.3383389,
          59.008677399999996,
          59.008677399999996,
          59.3254265,
          59.6749712,
          59.008677399999996,
          59.6749712,
          59.347255,
          59.3966611,
          56.6566309,
          58.4902785,
          59.6749712,
          59.428587,
          65.0745892,
          56.625297849999995,
          56.625297849999995,
          65.0745892,
          60.678738100000004,
          60.678738100000004,
          60.678738100000004,
          60.678738100000004,
          60.678738100000004,
          60.678738100000004,
          60.678738100000004,
          59.008677399999996,
          60.0330605,
          60.0330605,
          56.2429224,
          58.313438000000005,
          59.6749712,
          59.6749712,
          58.313438000000005,
          58.313438000000005,
          58.4902785,
          58.313438000000005,
          59.6749712,
          58.313438000000005,
          59.334404,
          58.313438000000005,
          58.313438000000005,
          58.313438000000005,
          59.3254265,
          58.771502749999996,
          58.313438000000005,
          59.7856557,
          58.313438000000005,
          59.3254265,
          65.0745892,
          59.3731603,
          59.6749712,
          58.313438000000005,
          58.313438000000005,
          65.0745892,
          59.6749712,
          57.2551645,
          57.4290911,
          58.71706575,
          59.6749712,
          59.6749712,
          59.743273900000005,
          59.428587,
          57.6552737,
          60.61113865,
          59.32921555,
          55.749918199999996,
          58.05,
          57.785717649999995,
          59.3251172,
          59.6749712,
          59.8322934,
          65.5831187,
          55.6052931,
          55.6052931,
          59.3731603,
          59.8586126,
          57.7091812,
          58.3463571,
          59.8322934,
          59.8322934,
          60.613466,
          59.6749712,
          64.97316570000001,
          59.3809146,
          64.6149221,
          57.4411391,
          59.7623158,
          65.0745892,
          65.0745892,
          59.0865476,
          58.5901768,
          62.6842554,
          55.8479416,
          59.6749712,
          58.6408056,
          59.6749712,
          59.285261399999996,
          62.56438180000001,
          59.6749712,
          59.6749712,
          59.6749712,
          59.3389627,
          59.6749712,
          64.18103500000001,
          60.2703126,
          59.7623158,
          59.3372021,
          65.709302,
          64.97316570000001,
          65.0745892,
          65.0745892,
          65.0745892,
          59.3254265,
          59.6749712,
          58.3817034,
          59.322874,
          59.3254265,
          60.0330605,
          59.3251172,
          59.3251172,
          59.8787303,
          59.8787303,
          59.3388532,
          58.3374865,
          58.3490555,
          59.6749712,
          58.5812314,
          60.6762383,
          56.6566309,
          65.0745892,
          55.8479416,
          59.3401233,
          57.7084204,
          59.6749712,
          63.8259768,
          60.6750132,
          59.008677399999996,
          60.6750132,
          60.6750132,
          59.6749712,
          59.008677399999996,
          59.6749712,
          55.8479416,
          57.4290911,
          57.4290911,
          57.4290911,
          57.4290911,
          57.4290911,
          57.4290911,
          62.6842554,
          59.6142411,
          59.6749712,
          58.3839536,
          65.0745892,
          66.002035,
          57.7072326,
          59.4159407,
          61.1557237,
          59.743273900000005,
          55.5953759,
          58.313438000000005,
          58.313438000000005,
          58.313438000000005,
          63.29019915000001,
          59.8787303,
          56.523087000000004,
          57.64887535,
          57.64887535,
          59.3731603,
          59.3254265,
          59.6749712,
          64.97316570000001,
          64.97316570000001,
          64.97316570000001,
          57.7072326,
          58.5812314,
          59.0233101,
          59.008677399999996,
          57.64887535,
          56.0375921,
          59.008677399999996,
          59.6749712,
          59.65993145
         ],
         "legendgroup": "red",
         "lon": [
          16.2068103,
          14.7062358,
          14.7062358,
          14.7062358,
          13.1461522,
          14.7062358,
          14.7062358,
          14.7062358,
          14.7062358,
          14.7062358,
          16.2068103,
          14.7062358,
          17.9965506,
          14.7062358,
          14.7062358,
          17.9965506,
          16.2068103,
          17.9965506,
          17.9965506,
          17.9965506,
          18.0730097,
          13.0250077,
          17.9965506,
          17.9965506,
          17.9965506,
          17.8097767,
          17.8097767,
          18.0730097,
          14.5208584,
          17.1467019,
          12.391988937939697,
          22.4266368,
          22.4266368,
          16.7771488,
          18.0730097,
          16.97531090476957,
          18.0687493,
          13.979553025363435,
          13.979553025363435,
          18.0730097,
          14.5208584,
          13.979553025363435,
          14.5208584,
          18.00358,
          17.9411091,
          12.853649,
          11.4560423,
          14.5208584,
          15.569462308662619,
          18.9471698,
          15.561185571365359,
          15.561185571365359,
          18.9471698,
          17.13672951130811,
          17.13672951130811,
          17.13672951130811,
          17.13672951130811,
          17.13672951130811,
          17.13672951130811,
          17.13672951130811,
          13.979553025363435,
          14.3364473,
          14.3364473,
          12.8619375,
          16.97531090476957,
          14.5208584,
          14.5208584,
          16.97531090476957,
          16.97531090476957,
          11.4560423,
          16.97531090476957,
          14.5208584,
          16.97531090476957,
          18.1063627,
          16.97531090476957,
          16.97531090476957,
          16.97531090476957,
          18.0730097,
          17.031311485463256,
          16.97531090476957,
          17.0936173,
          16.97531090476957,
          18.0730097,
          18.9471698,
          17.4968743,
          14.5208584,
          16.97531090476957,
          16.97531090476957,
          18.9471698,
          14.5208584,
          13.8264993,
          11.9652016,
          13.609916610859322,
          14.5208584,
          14.5208584,
          12.711520968966536,
          15.569462308662619,
          16.181546,
          16.902684019810508,
          18.079236051930607,
          13.186282625410453,
          14.833333,
          16.606463868575254,
          18.0710935,
          14.5208584,
          17.744172,
          22.1459535,
          13.0001566,
          13.0001566,
          17.4968743,
          17.6387436,
          11.9730036,
          13.2957041,
          17.744172,
          17.744172,
          17.3913549,
          14.5208584,
          15.359918895365677,
          13.5027631,
          17.83272124323154,
          12.6746403,
          18.8036565,
          18.9471698,
          18.9471698,
          15.1923198,
          16.2068103,
          12.3069891,
          13.633711699754647,
          14.5208584,
          14.2489819,
          14.5208584,
          12.160300668473258,
          17.130987521485054,
          14.5208584,
          14.5208584,
          14.5208584,
          18.0566222,
          14.5208584,
          20.875231390196905,
          15.9564302,
          18.8036565,
          18.018371301469152,
          20.5509474,
          15.359918895365677,
          18.9471698,
          18.9471698,
          18.9471698,
          18.0730097,
          14.5208584,
          13.0250077,
          18.103057,
          18.0730097,
          14.3364473,
          18.0710935,
          18.0710935,
          17.8097767,
          17.8097767,
          18.0793072,
          16.3135672,
          11.9382855,
          14.5208584,
          16.1480899,
          17.1381906,
          12.853649,
          18.9471698,
          13.633711699754647,
          18.0338859,
          12.9584384,
          14.5208584,
          20.2598299,
          17.1467019,
          13.979553025363435,
          17.1467019,
          17.1467019,
          14.5208584,
          13.979553025363435,
          14.5208584,
          13.633711699754647,
          11.9652016,
          11.9652016,
          11.9652016,
          11.9652016,
          11.9652016,
          11.9652016,
          12.3069891,
          17.721838841356586,
          14.5208584,
          12.8970518,
          18.9471698,
          19.8150737,
          11.9670171,
          17.9339227,
          13.2694088,
          12.711520968966536,
          12.9764623,
          16.97531090476957,
          16.97531090476957,
          16.97531090476957,
          18.713619551809643,
          17.8097767,
          16.371609900127908,
          12.391988937939697,
          12.391988937939697,
          17.4968743,
          18.0730097,
          14.5208584,
          15.359918895365677,
          15.359918895365677,
          15.359918895365677,
          11.9670171,
          16.1480899,
          18.2076155,
          13.979553025363435,
          12.391988937939697,
          12.782735695753953,
          13.979553025363435,
          14.5208584,
          18.776880225
         ],
         "marker": {
          "color": "red"
         },
         "mode": "markers",
         "name": "red",
         "showlegend": true,
         "subplot": "mapbox",
         "type": "scattermapbox"
        },
        {
         "customdata": [
          [
           907076144410787800
          ],
          [
           906892870501707800
          ],
          [
           1438853739042021400
          ],
          [
           1438836801913905200
          ],
          [
           1438741870830657500
          ],
          [
           1438528715651231700
          ],
          [
           1438450121298096000
          ],
          [
           1438429738591268900
          ],
          [
           902024692185403400
          ],
          [
           901844176664440800
          ],
          [
           901769883033239600
          ],
          [
           1421528525551644700
          ],
          [
           1421338419528183800
          ],
          [
           1421335868640567300
          ],
          [
           1421195213146570800
          ],
          [
           1421154383409029000
          ],
          [
           1159525555303264300
          ],
          [
           1159335870232715300
          ],
          [
           1159161164351324200
          ],
          [
           1159073039629336600
          ],
          [
           1091361433898504200
          ],
          [
           893867572852125700
          ],
          [
           893837802735108100
          ],
          [
           893831017605152800
          ],
          [
           893562240846057500
          ],
          [
           893553144218755100
          ],
          [
           893552860834746400
          ],
          [
           893503260056834000
          ],
          [
           893386891919319000
          ],
          [
           893380294128095200
          ],
          [
           893379792594231300
          ],
          [
           1028372146974847000
          ],
          [
           1028345323440296000
          ],
          [
           1028311057595547600
          ],
          [
           1028299308330876900
          ],
          [
           1028283652973776900
          ],
          [
           1028272566492966900
          ],
          [
           1028227804872302600
          ],
          [
           1148139969023811600
          ],
          [
           1148139200363057200
          ],
          [
           1147843996745683000
          ],
          [
           639135088131702800
          ],
          [
           639081871226347500
          ],
          [
           638818610425692200
          ],
          [
           899000844288438300
          ],
          [
           898804120034914300
          ],
          [
           1416136204228210700
          ],
          [
           1416130078929531000
          ],
          [
           1416123713666355200
          ],
          [
           1416099849100042200
          ],
          [
           1416095664233193500
          ],
          [
           1416089500569194500
          ],
          [
           644974375251390500
          ],
          [
           644970120188588000
          ],
          [
           644958536204685300
          ],
          [
           644958535554625500
          ],
          [
           644954163655282700
          ],
          [
           644921356186861600
          ],
          [
           644885147230167000
          ],
          [
           644883536625819600
          ],
          [
           644871444799684600
          ],
          [
           644841418708623400
          ],
          [
           644837011212234800
          ],
          [
           644825425265475600
          ],
          [
           644818043504214000
          ],
          [
           644767582738710500
          ],
          [
           644762811638263800
          ],
          [
           644594520244494300
          ],
          [
           644581337488302100
          ],
          [
           644574556028428300
          ],
          [
           644565498684768300
          ],
          [
           644563990064947200
          ],
          [
           644562349509210100
          ],
          [
           644537070908653600
          ],
          [
           644522715236315100
          ],
          [
           644521328234491900
          ],
          [
           644507741403246600
          ],
          [
           644474903068995600
          ],
          [
           644473765682745300
          ],
          [
           644468350018388000
          ],
          [
           644466845274128400
          ],
          [
           1026747053009920000
          ],
          [
           1026390971934756900
          ],
          [
           1026389458579406800
          ],
          [
           1026364729508462600
          ],
          [
           1413030593995198500
          ],
          [
           1413030499010891800
          ],
          [
           1413008297347666000
          ],
          [
           1404112665841180700
          ],
          [
           1403944779197599700
          ],
          [
           1403822229289320400
          ],
          [
           1403789831679905800
          ],
          [
           1403780830816788500
          ],
          [
           1403772892136026000
          ],
          [
           1403769405339844600
          ],
          [
           1403755624727515100
          ],
          [
           1403750705748394000
          ],
          [
           1403750075608834000
          ],
          [
           1403716549786144800
          ],
          [
           1174280241281470500
          ],
          [
           1127585206792335400
          ],
          [
           917361906767114200
          ],
          [
           917332646799212500
          ],
          [
           917277044156887000
          ],
          [
           917276974967599100
          ],
          [
           917269327325392900
          ],
          [
           917264051465605100
          ],
          [
           917254457938862100
          ],
          [
           1424414954820673500
          ],
          [
           1424125349508624400
          ],
          [
           1273719204512923600
          ],
          [
           645101207875420200
          ],
          [
           645101207409791000
          ],
          [
           645101206906511400
          ],
          [
           645096903340789800
          ],
          [
           645069419731886100
          ],
          [
           645069418096164900
          ],
          [
           645069405857153000
          ],
          [
           645065308902834200
          ],
          [
           645053557444624400
          ],
          [
           645053556731547600
          ],
          [
           645053556203110400
          ],
          [
           645049293661864000
          ],
          [
           735932012800966700
          ],
          [
           735932011769135100
          ],
          [
           735932011215499300
          ],
          [
           735915396692385800
          ],
          [
           735915395689906200
          ],
          [
           735915395023016000
          ],
          [
           735915386168848400
          ],
          [
           735898492590297100
          ],
          [
           735898490686046200
          ],
          [
           735898490140827600
          ],
          [
           735898474831614000
          ],
          [
           735898474307293200
          ],
          [
           735880785295736800
          ],
          [
           735880784775680000
          ],
          [
           735880784175898600
          ],
          [
           735880779599904800
          ],
          [
           735845379011399700
          ],
          [
           735845378503872500
          ],
          [
           735845377937662000
          ],
          [
           735845356928442400
          ],
          [
           735794004344856600
          ],
          [
           735794003615047700
          ],
          [
           735793995910119400
          ],
          [
           735775877288460300
          ],
          [
           735775874809663500
          ],
          [
           735775868774031400
          ],
          [
           735740791549616100
          ],
          [
           735740789746106400
          ],
          [
           735727595665293300
          ],
          [
           735723864144019500
          ],
          [
           735722663738363900
          ],
          [
           735722659472769000
          ],
          [
           735667764170481700
          ],
          [
           735667762941599700
          ],
          [
           735569247246659600
          ],
          [
           735569246047088600
          ],
          [
           735551531215409200
          ],
          [
           735538060255985700
          ],
          [
           735521631813144600
          ],
          [
           751181721987579900
          ],
          [
           751181721513652200
          ],
          [
           751098483457847300
          ],
          [
           751098482736455700
          ],
          [
           751009510894940200
          ],
          [
           751009510060273700
          ],
          [
           750991819681345500
          ],
          [
           750991818888585200
          ],
          [
           750975196232757200
          ],
          [
           750975195490295800
          ],
          [
           750958374561296400
          ],
          [
           750958373785350100
          ],
          [
           750941067873181700
          ],
          [
           750941066669416400
          ],
          [
           750924534727921700
          ],
          [
           750924533968703500
          ],
          [
           750876071529111600
          ],
          [
           750876070212014100
          ],
          [
           750811664375697400
          ],
          [
           750811663465668600
          ],
          [
           750734355098579000
          ],
          [
           750734354356121600
          ],
          [
           750690248091316200
          ],
          [
           750690234027749400
          ],
          [
           750661161956184000
          ],
          [
           750580107564253200
          ],
          [
           750571025943978000
          ],
          [
           892377761964318700
          ],
          [
           892357938651816000
          ],
          [
           892286020590460900
          ],
          [
           809115170538713100
          ],
          [
           1032926954461323300
          ],
          [
           1032922694642217000
          ],
          [
           1203678235663519700
          ],
          [
           1203607436936056800
          ],
          [
           1203255824237375500
          ],
          [
           1203251860645253000
          ],
          [
           880336860354097200
          ],
          [
           880275736720011300
          ],
          [
           880084936862179300
          ],
          [
           1398281241263329300
          ],
          [
           1398254515393118200
          ],
          [
           1398243662027501600
          ],
          [
           1398227325360263200
          ],
          [
           1398201427571495000
          ],
          [
           1398144791096053800
          ],
          [
           1398141700384637000
          ],
          [
           1398132253331497000
          ],
          [
           1397972591869112300
          ],
          [
           1397937131574550500
          ],
          [
           1397917172249235500
          ],
          [
           1397882011499573200
          ],
          [
           1397881927668011000
          ],
          [
           1397872543961387000
          ],
          [
           1397866979902492700
          ],
          [
           1397862137909944300
          ],
          [
           1397860194470740000
          ],
          [
           1397855384946217000
          ],
          [
           1397851997739626500
          ],
          [
           1397850223871938600
          ],
          [
           1397824270382817300
          ],
          [
           736628254832922600
          ],
          [
           736628253486506000
          ],
          [
           736512836743094300
          ],
          [
           736512836264972300
          ],
          [
           736481859434086400
          ],
          [
           736481858939179000
          ],
          [
           736465866099970000
          ],
          [
           736465865592475600
          ],
          [
           736465865118502900
          ],
          [
           736465864514490400
          ],
          [
           736465860152447000
          ],
          [
           736449918479536100
          ],
          [
           736449917967839200
          ],
          [
           736449917271593000
          ],
          [
           736449916713717800
          ],
          [
           736449909117849600
          ],
          [
           736448716895195100
          ],
          [
           736417872923242500
          ],
          [
           736417866606579700
          ],
          [
           736417866141040600
          ],
          [
           736417865541275600
          ],
          [
           736417865033781200
          ],
          [
           736369248717660200
          ],
          [
           736369248226955300
          ],
          [
           736369247715250200
          ],
          [
           736369247249662000
          ],
          [
           736369246381477900
          ],
          [
           736305309677981700
          ],
          [
           736305309237563400
          ],
          [
           736305308549689300
          ],
          [
           736305307958317000
          ],
          [
           736305307371114500
          ],
          [
           736288481757007900
          ],
          [
           736288481270497300
          ],
          [
           736288474492481500
          ],
          [
           736288474022740000
          ],
          [
           736288473028649000
          ],
          [
           736203890262179800
          ],
          [
           736203882842492900
          ],
          [
           736203882293022700
          ],
          [
           736203881710030800
          ],
          [
           736203881009545200
          ],
          [
           889149467580092400
          ],
          [
           889142118693965800
          ],
          [
           1286723531695366100
          ],
          [
           1286691501385318400
          ],
          [
           640944455260983300
          ],
          [
           640932784232616000
          ],
          [
           640886722738409500
          ],
          [
           640875530657615900
          ],
          [
           640857079956275200
          ],
          [
           640855385566482400
          ],
          [
           640837863672705000
          ],
          [
           640831834365030400
          ],
          [
           640827724072927200
          ],
          [
           640823786447708200
          ],
          [
           640817508447060000
          ],
          [
           640793879365713900
          ],
          [
           640791002341634000
          ],
          [
           640788948420313100
          ],
          [
           640779637090558000
          ],
          [
           640771461024718800
          ],
          [
           640762829826576400
          ],
          [
           640754728394227700
          ],
          [
           640742677961568300
          ],
          [
           640735385572671500
          ],
          [
           640707318284357600
          ],
          [
           640671062649360400
          ],
          [
           627215572401541100
          ],
          [
           627215571931762700
          ],
          [
           627215571445248000
          ],
          [
           627215570904174600
          ],
          [
           627215570417664000
          ],
          [
           627215569746567200
          ],
          [
           627215569301938200
          ],
          [
           627215568685416400
          ],
          [
           627113778077941800
          ],
          [
           627113777582985200
          ],
          [
           627113777100685300
          ],
          [
           627113776630898700
          ],
          [
           627113776165294100
          ],
          [
           627113775624257500
          ],
          [
           627113774881841200
          ],
          [
           627113752341708800
          ],
          [
           627060297065435100
          ],
          [
           627060296432123900
          ],
          [
           627060290769801200
          ],
          [
           627060290304262100
          ],
          [
           627060289847038000
          ],
          [
           627060289410891800
          ],
          [
           627060288869810200
          ],
          [
           627048824976977900
          ],
          [
           627046374232735700
          ],
          [
           627046373758738400
          ],
          [
           627046373276434400
          ],
          [
           627046372697575400
          ],
          [
           627046372194275300
          ],
          [
           627046371691003900
          ],
          [
           627046371024085000
          ],
          [
           626980961406820400
          ],
          [
           626980960886784000
          ],
          [
           626980960391823400
          ],
          [
           626980959905312800
          ],
          [
           626980959062245400
          ],
          [
           626980958504362000
          ],
          [
           626980958038790100
          ],
          [
           626947723732848600
          ],
          [
           626947723246313500
          ],
          [
           626947718041178100
          ],
          [
           626947717445603300
          ],
          [
           626947716975853600
          ],
          [
           626947716455735300
          ],
          [
           626947715755307000
          ],
          [
           626885431389515800
          ],
          [
           626885430785540100
          ],
          [
           626885430282223600
          ],
          [
           626885429711753200
          ],
          [
           1313954063608885200
          ],
          [
           1313475895513026600
          ],
          [
           1313408310968754200
          ],
          [
           1323657194244657200
          ],
          [
           1323652518317097000
          ],
          [
           1323635648058822700
          ],
          [
           1323629909265232000
          ],
          [
           1323595447076900900
          ],
          [
           1323582528800936000
          ],
          [
           1323487844099362800
          ],
          [
           1323389432154697700
          ],
          [
           1323374370954293200
          ],
          [
           1323363045234647000
          ],
          [
           1323359757026078700
          ],
          [
           1323346156659814400
          ],
          [
           1323345653263667200
          ],
          [
           1323340368243548200
          ],
          [
           1323331045077536800
          ],
          [
           1323326011065409500
          ],
          [
           1323295325340209200
          ],
          [
           1323288571395100700
          ],
          [
           1323272702329790500
          ],
          [
           1323271190996258800
          ],
          [
           1323267366206189600
          ],
          [
           1428470151159193600
          ],
          [
           1428459437036015600
          ],
          [
           1428401098847621000
          ],
          [
           1428393391503589400
          ],
          [
           1428377662477766700
          ],
          [
           1428377493036322800
          ],
          [
           1428358464917565400
          ],
          [
           1428340524088533000
          ],
          [
           636942483210039300
          ],
          [
           636863997032042500
          ],
          [
           886112767396237300
          ],
          [
           886110313791270900
          ],
          [
           886055754503008300
          ],
          [
           886055527343587300
          ],
          [
           915540688758087700
          ],
          [
           915531797638914000
          ],
          [
           915421524596727800
          ],
          [
           1035947207424442400
          ],
          [
           1035945993328574500
          ],
          [
           1035689263965319200
          ],
          [
           1035608173741330400
          ],
          [
           1035431508021010400
          ],
          [
           1035428290599813100
          ],
          [
           1035427551232122900
          ],
          [
           1035408703258812400
          ],
          [
           1035402014958776300
          ],
          [
           1405030096164032500
          ],
          [
           1404997933704138800
          ],
          [
           1229514771612995600
          ],
          [
           1229485167972114400
          ],
          [
           1229471611729956900
          ],
          [
           1229438248361103400
          ],
          [
           1229422162030792700
          ],
          [
           1229416008580030500
          ],
          [
           1229412435817308200
          ],
          [
           1229411775600365600
          ],
          [
           1229392098492928000
          ],
          [
           1229373271717617700
          ],
          [
           1229370678471790600
          ],
          [
           1229359624190595000
          ],
          [
           1229357664704106500
          ],
          [
           1229356754665902000
          ],
          [
           1229353824931938300
          ],
          [
           1229345598408667100
          ],
          [
           1229340961320382500
          ],
          [
           1229336014784749600
          ],
          [
           1229312230598029300
          ],
          [
           1229309012040007700
          ],
          [
           1229302674182590500
          ],
          [
           1229296927612768300
          ],
          [
           1229294659467456500
          ],
          [
           1229293352874541000
          ],
          [
           1229263974849556500
          ],
          [
           1229233765731274800
          ],
          [
           1151483501058887700
          ],
          [
           963311816645505000
          ],
          [
           738130750487339000
          ],
          [
           738130749631631400
          ],
          [
           738130749036109800
          ],
          [
           738010634537840600
          ],
          [
           738010633938063400
          ],
          [
           738010625629147100
          ],
          [
           737952838136025100
          ],
          [
           737952837339091000
          ],
          [
           737952836630282200
          ],
          [
           737907382223802400
          ],
          [
           737907381699514400
          ],
          [
           737907373369663500
          ],
          [
           737842049106497500
          ],
          [
           737842048607395800
          ],
          [
           737842047906893800
          ],
          [
           737825964806287400
          ],
          [
           737825964294606800
          ],
          [
           737825963774464000
          ],
          [
           737726200039231500
          ],
          [
           737726192204271600
          ],
          [
           737726191050883100
          ],
          [
           737656232195063800
          ],
          [
           737656224594964500
          ],
          [
           737656223546347500
          ],
          [
           1441646259329065000
          ],
          [
           1441560467613302800
          ],
          [
           1441388485496094700
          ],
          [
           1441388481096290300
          ],
          [
           1441375454154289200
          ],
          [
           1183260690225795000
          ],
          [
           1183232893944025000
          ],
          [
           935437932915241000
          ],
          [
           625397698749792300
          ],
          [
           625371065045401600
          ],
          [
           625291678295961600
          ],
          [
           625250627506057200
          ],
          [
           625192886057840600
          ],
          [
           625070162316689400
          ],
          [
           625070032557486100
          ],
          [
           625069533418500100
          ],
          [
           625069400727531500
          ],
          [
           1125362163663683600
          ],
          [
           1158458219125252000
          ],
          [
           1158251380324405200
          ],
          [
           747506814321713200
          ],
          [
           747095300129628200
          ],
          [
           747062155912982500
          ],
          [
           747057428030701600
          ],
          [
           618754958993682400
          ]
         ],
         "hovertemplate": "<b>%{hovertext}</b><br><br>color=blue<br>loc_lat=%{lat}<br>loc_lon=%{lon}<br>id=%{customdata[0]}<extra></extra>",
         "hovertext": [
          "Örsundsbro, Enköpings kommun, Uppsala County, 749 60, Sweden",
          "Holmalund, Svenljunga kommun, Västra Götaland County, Sweden",
          "Gävle, Gävle kommun, Gävleborg County, Sweden",
          "Gävleborg County, Sweden",
          "Blekinge County, Sweden",
          "Gävle, Gävle kommun, Gävleborg County, Sweden",
          "Uddevalla, Uddevalla kommun, Västra Götaland County, 451 30, Sweden",
          "Uddevalla, Uddevalla kommun, Västra Götaland County, 451 30, Sweden",
          "Värnamo, Värnamo kommun, Jönköping County, 331 30, Sweden",
          "Blekinge County, Sweden",
          "Skåne County, Sweden",
          "Linköping, Linköpings kommun, Östergötland County, 582 23, Sweden",
          "Lysekils kommun, Västra Götaland County, Sweden",
          "Biblioteksgatan, Villastaden, Östermalm, Östermalms stadsdelsområde, Stockholm, Stockholms kommun, Stockholm County, 106 63, Sweden",
          "Söderfjärden, Tranvikholmen, Norrtälje kommun, Stockholm County, 764 57, Sweden",
          "Province of Bohuslän, Sweden",
          "Sweden",
          "Halland County, Sweden",
          "Söderköping, Söderköpings kommun, Östergötland County, 614 30, Sweden",
          "Danmark, Uppsala kommun, Uppsala County, 754 54, Sweden",
          "Region Svealand, Sweden",
          "Söderhamn, Söderhamns kommun, Gävleborg County, 826 30, Sweden",
          "Söderhamn, Söderhamns kommun, Gävleborg County, 826 30, Sweden",
          "Söderhamn, Söderhamns kommun, Gävleborg County, 826 30, Sweden",
          "Eslövs kommun, Skåne County, Sweden",
          "Norrsundet, Gävle kommun, Gävleborg County, 817 30, Sweden",
          "Norrsundet, Gävle kommun, Gävleborg County, 817 30, Sweden",
          "Gävleborg County, Sweden",
          "Skåne County, Sweden",
          "Eslövs Stadshus, 2, Gröna torg, Backarna, Eslöv, Eslövs kommun, Skåne County, 241 80, Sweden",
          "Eslövs Stadshus, 2, Gröna torg, Backarna, Eslöv, Eslövs kommun, Skåne County, 241 80, Sweden",
          "Regementsvägen, Polacksbacken, Uppsala, Uppsala kommun, Uppsala County, 752 37, Sweden",
          "Gothenburg, Göteborgs Stad, Västra Götaland County, 411 10, Sweden",
          "Gothenburg, Göteborgs Stad, Västra Götaland County, 411 10, Sweden",
          "Gothenburg, Göteborgs Stad, Västra Götaland County, 411 10, Sweden",
          "Gothenburg, Göteborgs Stad, Västra Götaland County, 411 10, Sweden",
          "Malmbäck, Nässjö kommun, Jönköping County, Sweden",
          "Gothenburg, Göteborgs Stad, Västra Götaland County, 411 10, Sweden",
          "Skåne County, Sweden",
          "Ätrans Frititidsanläggning, N 836, Esered, Ätran, Falkenbergs kommun, Halland County, Sweden",
          "Rosenlundsparken, Skanstull, Södermalm, Södermalms stadsdelsområde, Stockholms kommun, Stockholm County, Sweden",
          "Hallebol, Åmåls kommun, Västra Götaland County, Sweden",
          "Mangskog, Arvika kommun, Värmland County, 671 96, Sweden",
          "NärNaturen-VästSverige AB, 69, Bueråsvägen, Norra Hagen, Onsala kyrkby, Kungsbacka kommun, Halland County, 439 91, Sweden",
          "Jämtland County, Sweden",
          "Växjö, Växjö kommun, Kronoberg County, 351 04, Sweden",
          "Malmo, Malmö kommun, Skåne County, Sweden",
          "Kristinehamn, Kristinehamns kommun, Värmland County, 681 31, Sweden",
          "Sörsjön, Malung-Sälens kommun, Dalarna County, Sweden",
          "Skåne County, Sweden",
          "Skåne County, Sweden",
          "Embassy of Belgium, Fleminggatan, Kungsholmen, Kungsholmens stadsdelsområde, Stockholms kommun, Stockholm County, 112 27, Sweden",
          "Västerbotten County, Sweden",
          "Västerbotten County, Sweden",
          "Västerbotten County, Sweden",
          "Norrbotten County, Sweden",
          "Västerbotten County, Sweden",
          "Västerbotten County, Sweden",
          "Myrtorp, Snopptorp, Eskilstuna, Eskilstuna kommun, Södermanland County, 632 32, Sweden",
          "Västerbotten County, Sweden",
          "Västerbotten County, Sweden",
          "Västerbotten County, Sweden",
          "Västerbotten County, Sweden",
          "Järfälla, Järfälla kommun, Stockholm County, 177 41, Sweden",
          "Västerbotten County, Sweden",
          "Vägsjöfors, Vitsand distrikt, Torsby kommun, Värmland County, Sweden",
          "Århult, Skövde kommun, Västra Götaland County, Sweden",
          "Luleå, Luleå kommun, Norrbotten County, 971 28, Sweden",
          "Region Norrland, Sweden",
          "Myrtorp, Snopptorp, Eskilstuna, Eskilstuna kommun, Södermanland County, 632 32, Sweden",
          "Värmskogs kyrka, S 668, Värmskog, Grums kommun, Värmland County, 664 92, Sweden",
          "Nolby, Alingsås distrikt, Alingsås, Alingsås kommun, Västra Götaland County, 441 39, Sweden",
          "Dunsjöfjället, Västra, Bergs kommun, Jämtland County, Sweden",
          "Myrtorp, Snopptorp, Eskilstuna, Eskilstuna kommun, Södermanland County, 632 32, Sweden",
          "Kristinefors, Motala kommun, Östergötland County, Sweden",
          "Kristinefors, Motala kommun, Östergötland County, Sweden",
          "Olebyn, Säffle kommun, Värmland County, 661 96, Sweden",
          "Bänteby, Dalby distrikt, Torsby kommun, Värmland County, 680 60, Sweden",
          "Gamla, Norrköpings kommun, Östergötland County, 617 90, Sweden",
          "Riksgränsen, Rallarvägen, Riksgränsen, Kiruna kommun, Norrbotten County, 981 94, Sweden",
          "Röjdåfors, Östmark distrikt, Torsby kommun, Värmland County, Sweden",
          "Damm, Sannarp, Halmstad, Halmstads kommun, Halland County, Sweden",
          "Ladugårdsgärdet, Östermalms stadsdelsområde, Stockholms kommun, Stockholm County, Sweden",
          "Ladugårdsgärdet, Östermalms stadsdelsområde, Stockholms kommun, Stockholm County, Sweden",
          "Ladugårdsgärdet, Östermalms stadsdelsområde, Stockholms kommun, Stockholm County, Sweden",
          "Aneby kommun, Jönköping County, Sweden",
          "Aneby kommun, Jönköping County, Sweden",
          "Lillån, Bureå, Skellefteå kommun, Västerbotten County, 932 52, Sweden",
          "Högdalen, Sjösavägen, Högdalen, Enskede-Årsta-Vantörs stadsdelsområde, Stockholms kommun, Stockholm County, 124 36, Sweden",
          "Farsta, Farsta stadsdelsområde, Stockholm, Stockholms kommun, Stockholm County, 123 33, Sweden",
          "Sweden",
          "Gubbängen, Herrhagsvägen, Enskede, Farsta stadsdelsområde, Stockholms kommun, Stockholm County, 122 45, Sweden",
          "Stockholm, Stockholms kommun, Stockholm County, 111 29, Sweden",
          "Stockholm, Stockholms kommun, Stockholm County, 111 29, Sweden",
          "Stockholm, Stockholms kommun, Stockholm County, 111 29, Sweden",
          "Ösjövålen, Södra, Härjedalens kommun, Jämtland County, Sweden",
          "Essingeleden, Nybohov, Liljeholmen, Hägersten-Älvsjö stadsdelsområde, Stockholms kommun, Stockholm County, 126 32, Sweden",
          "Skebokvarnsvägen, Högdalen, Enskede-Årsta-Vantörs stadsdelsområde, Stockholm, Stockholms kommun, Stockholm County, 124 36, Sweden",
          "Holmalund, Svenljunga kommun, Västra Götaland County, Sweden",
          "Malmo, Malmö kommun, Skåne County, Sweden",
          "Ösjövålen, Södra, Härjedalens kommun, Jämtland County, Sweden",
          "Gävle, Gävle kommun, Gävleborg County, Sweden",
          "Province of Uppland, Sweden",
          "Gävle, Gävle kommun, Gävleborg County, Sweden",
          "Gävle, Gävle kommun, Gävleborg County, Sweden",
          "Gävle, Gävle kommun, Gävleborg County, Sweden",
          "Gävle, Gävle kommun, Gävleborg County, Sweden",
          "Gävle, Gävle kommun, Gävleborg County, Sweden",
          "Smedby, Kalmar kommun, Kalmar County, 394 71, Sweden",
          "Ulvsundavägen, Annedal, Mariehäll, Bromma stadsdelsområde, Stockholm, Stockholms kommun, Stockholm County, 168 66, Sweden",
          "Värmdöleden, Skuru, Nacka, Nacka kommun, Stockholm County, 131 46, Sweden",
          "Västerbotten County, Sweden",
          "Norrbotten County, Sweden",
          "Norrbotten County, Sweden",
          "Västerbotten County, Sweden",
          "Norrbotten County, Sweden",
          "Norrbotten County, Sweden",
          "Västerbotten County, Sweden",
          "Västerbotten County, Sweden",
          "Västerbotten County, Sweden",
          "Norrbotten County, Sweden",
          "Norrbotten County, Sweden",
          "Västerbotten County, Sweden",
          "Värmlands, Glesbygd Norrlindsjö, Hassel, Matfors kommundel, Attmar District, Sundsvall Municipality, Västernorrland County, Sweden",
          "Uppsala, Uppsala kommun, Uppsala County, 753 20, Sweden",
          "Dalarna County, Sweden",
          "Uppsala, Uppsala kommun, Uppsala County, 753 20, Sweden",
          "Dalarna County, Sweden",
          "Gävleborg County, Sweden",
          "Värmlands, Glesbygd Norrlindsjö, Hassel, Matfors kommundel, Attmar District, Sundsvall Municipality, Västernorrland County, Sweden",
          "Värmlands, Glesbygd Norrlindsjö, Hassel, Matfors kommundel, Attmar District, Sundsvall Municipality, Västernorrland County, Sweden",
          "Gävleborg County, Sweden",
          "Gävleborg County, Sweden",
          "Uppsala, Uppsala kommun, Uppsala County, 753 20, Sweden",
          "Dalarna County, Sweden",
          "Uppsala, Uppsala kommun, Uppsala County, 753 20, Sweden",
          "Dalarna County, Sweden",
          "Gävleborg County, Sweden",
          "Värmlands, Glesbygd Norrlindsjö, Hassel, Matfors kommundel, Attmar District, Sundsvall Municipality, Västernorrland County, Sweden",
          "Värmlands, Glesbygd Norrlindsjö, Hassel, Matfors kommundel, Attmar District, Sundsvall Municipality, Västernorrland County, Sweden",
          "Uppsala, Uppsala kommun, Uppsala County, 753 20, Sweden",
          "Gävleborg County, Sweden",
          "Dalarna County, Sweden",
          "Uppsala, Uppsala kommun, Uppsala County, 753 20, Sweden",
          "Dalarna County, Sweden",
          "Värmlands, Glesbygd Norrlindsjö, Hassel, Matfors kommundel, Attmar District, Sundsvall Municipality, Västernorrland County, Sweden",
          "Värmlands, Glesbygd Norrlindsjö, Hassel, Matfors kommundel, Attmar District, Sundsvall Municipality, Västernorrland County, Sweden",
          "Gävleborg County, Sweden",
          "Uppsala, Uppsala kommun, Uppsala County, 753 20, Sweden",
          "Värmlands, Glesbygd Norrlindsjö, Hassel, Matfors kommundel, Attmar District, Sundsvall Municipality, Västernorrland County, Sweden",
          "Dalarna County, Sweden",
          "Karlstad, Karlstads kommun, Värmland County, 652 24, Sweden",
          "Sveriges meteorologiska och hydrologiska institut, 1, Folkborgsvägen, Klockaretorpet, Norrköping, Norrköpings kommun, Östergötland County, 601 76, Sweden",
          "Värmlands, Glesbygd Norrlindsjö, Hassel, Matfors kommundel, Attmar District, Sundsvall Municipality, Västernorrland County, Sweden",
          "Dalarna County, Sweden",
          "Värmlands, Glesbygd Norrlindsjö, Hassel, Matfors kommundel, Attmar District, Sundsvall Municipality, Västernorrland County, Sweden",
          "Dalarna County, Sweden",
          "Värmlands, Glesbygd Norrlindsjö, Hassel, Matfors kommundel, Attmar District, Sundsvall Municipality, Västernorrland County, Sweden",
          "Dalarna County, Sweden",
          "Gävle, Gävle kommun, Gävleborg County, Sweden",
          "Värmlands, Glesbygd Norrlindsjö, Hassel, Matfors kommundel, Attmar District, Sundsvall Municipality, Västernorrland County, Sweden",
          "Värmlands, Glesbygd Norrlindsjö, Hassel, Matfors kommundel, Attmar District, Sundsvall Municipality, Västernorrland County, Sweden",
          "Norrbotten County, Sweden",
          "Norrbotten County, Sweden",
          "Norrbotten County, Sweden",
          "Norrbotten County, Sweden",
          "Norrbotten County, Sweden",
          "Norrbotten County, Sweden",
          "Norrbotten County, Sweden",
          "Norrbotten County, Sweden",
          "Norrbotten County, Sweden",
          "Norrbotten County, Sweden",
          "Norrbotten County, Sweden",
          "Norrbotten County, Sweden",
          "Norrbotten County, Sweden",
          "Norrbotten County, Sweden",
          "Norrbotten County, Sweden",
          "Norrbotten County, Sweden",
          "Norrbotten County, Sweden",
          "Norrbotten County, Sweden",
          "Norrbotten County, Sweden",
          "Norrbotten County, Sweden",
          "Norrbotten County, Sweden",
          "Norrbotten County, Sweden",
          "Norrbotten County, Sweden",
          "Norrbotten County, Sweden",
          "Norrbotten County, Sweden",
          "Bjuvs kommun, Skåne County, Sweden",
          "Bjuvs kommun, Skåne County, Sweden",
          "Gothenburg, Göteborgs Stad, Västra Götaland County, 411 10, Sweden",
          "Kalmar County, Sweden",
          "Skåne County, Sweden",
          "Ängelholms kommun, Skåne County, Sweden",
          "Malmo, Malmö kommun, Skåne County, Sweden",
          "Möllevången, Östra Grevie, Vellinge kommun, Skåne County, 235 99, Sweden",
          "Essingeleden, Nybohov, Liljeholmen, Hägersten-Älvsjö stadsdelsområde, Stockholms kommun, Stockholm County, 126 32, Sweden",
          "Värmlands, Glesbygd Norrlindsjö, Hassel, Matfors kommundel, Attmar District, Sundsvall Municipality, Västernorrland County, Sweden",
          "Dunsjöfjället, Västra, Bergs kommun, Jämtland County, Sweden",
          "Öslöv, Eslövs kommun, Skåne County, 241 40, Sweden",
          "Gotland, Sweden",
          "Blekinge County, Sweden",
          "Sweden",
          "Österhaningevägen, Åbrunna, Jordbro, Haninge kommun, Stockholm County, 137 64, Sweden",
          "Huddinge, Huddinge kommun, Stockholm County, 141 33, Sweden",
          "Haddebo, Hallsbergs kommun, Örebro County, 697 93, Sweden",
          "Finspångs kommun, Östergötland County, Sweden",
          "Lännavägen, Västra Balingsnäs, Huddinge, Huddinge kommun, Stockholm County, 141 34, Sweden",
          "Eskilstuna, Eskilstuna kommun, Södermanland County, 632 27, Sweden",
          "Linköping, Linköpings kommun, Östergötland County, 582 23, Sweden",
          "Kungsbacka kommun, Halland County, Sweden",
          "Askersunds kommun, Örebro County, Sweden",
          "Hölö, Södertälje kommun, Stockholm County, 153 71, Sweden",
          "Province of Östergötland, Sweden",
          "Province of Östergötland, Sweden",
          "Sala kommun, Västmanland County, Sweden",
          "Ny, Arvika kommun, Värmland County, 671 92, Sweden",
          "Fässlinge, Eskilstuna, Eskilstuna kommun, Södermanland County, 635 06, Sweden",
          "Österhaninge, Hässlingby, Jordbro, Haninge kommun, Stockholm County, 137 95, Sweden",
          "Österhaningevägen, Åbrunna, Jordbro, Haninge kommun, Stockholm County, 137 64, Sweden",
          "Eskilstuna, Eskilstuna kommun, Södermanland County, 632 27, Sweden",
          "Lan, Enköpings kommun, Uppsala County, Sweden",
          "Vagnhärad, Trosa kommun, Södermanland County, 610 70, Sweden",
          "Malmby, Norrtälje kommun, Stockholm County, Sweden",
          "Värmlands, Glesbygd Norrlindsjö, Hassel, Matfors kommundel, Attmar District, Sundsvall Municipality, Västernorrland County, Sweden",
          "Dalarna County, Sweden",
          "Värmlands, Glesbygd Norrlindsjö, Hassel, Matfors kommundel, Attmar District, Sundsvall Municipality, Västernorrland County, Sweden",
          "Dalarna County, Sweden",
          "Värmlands, Glesbygd Norrlindsjö, Hassel, Matfors kommundel, Attmar District, Sundsvall Municipality, Västernorrland County, Sweden",
          "Dalarna County, Sweden",
          "Uppsala, Uppsala kommun, Uppsala County, 753 20, Sweden",
          "Dalarna County, Sweden",
          "Gävleborg County, Sweden",
          "Gävleborg County, Sweden",
          "Värmlands, Glesbygd Norrlindsjö, Hassel, Matfors kommundel, Attmar District, Sundsvall Municipality, Västernorrland County, Sweden",
          "Värmlands, Glesbygd Norrlindsjö, Hassel, Matfors kommundel, Attmar District, Sundsvall Municipality, Västernorrland County, Sweden",
          "Dalarna County, Sweden",
          "Gävleborg County, Sweden",
          "Gävleborg County, Sweden",
          "Uppsala, Uppsala kommun, Uppsala County, 753 20, Sweden",
          "Gävleborg County, Sweden",
          "Uppsala, Uppsala kommun, Uppsala County, 753 20, Sweden",
          "Värmlands, Glesbygd Norrlindsjö, Hassel, Matfors kommundel, Attmar District, Sundsvall Municipality, Västernorrland County, Sweden",
          "Dalarna County, Sweden",
          "Gävleborg County, Sweden",
          "Gävleborg County, Sweden",
          "Värmlands, Glesbygd Norrlindsjö, Hassel, Matfors kommundel, Attmar District, Sundsvall Municipality, Västernorrland County, Sweden",
          "Uppsala, Uppsala kommun, Uppsala County, 753 20, Sweden",
          "Dalarna County, Sweden",
          "Gävleborg County, Sweden",
          "Gävleborg County, Sweden",
          "Värmlands, Glesbygd Norrlindsjö, Hassel, Matfors kommundel, Attmar District, Sundsvall Municipality, Västernorrland County, Sweden",
          "Uppsala, Uppsala kommun, Uppsala County, 753 20, Sweden",
          "Dalarna County, Sweden",
          "Gävleborg County, Sweden",
          "Gävleborg County, Sweden",
          "Uppsala, Uppsala kommun, Uppsala County, 753 20, Sweden",
          "Dalarna County, Sweden",
          "Värmlands, Glesbygd Norrlindsjö, Hassel, Matfors kommundel, Attmar District, Sundsvall Municipality, Västernorrland County, Sweden",
          "Gävleborg County, Sweden",
          "Gävleborg County, Sweden",
          "Gävleborg County, Sweden",
          "Värmlands, Glesbygd Norrlindsjö, Hassel, Matfors kommundel, Attmar District, Sundsvall Municipality, Västernorrland County, Sweden",
          "Uppsala, Uppsala kommun, Uppsala County, 753 20, Sweden",
          "Dalarna County, Sweden",
          "Gävleborg County, Sweden",
          "Skåne County, Sweden",
          "Skåne County, Sweden",
          "Dalarna County, Sweden",
          "Kalmarsund, Kalmar County, Sweden",
          "Hallsbergs kommun, Örebro County, Sweden",
          "Hallsbergs kommun, Örebro County, Sweden",
          "Järfälla, Järfälla kommun, Stockholm County, 177 41, Sweden",
          "Hallsbergs kommun, Örebro County, Sweden",
          "Laxå kommun, Örebro County, Sweden",
          "Province of Närke, Sweden",
          "Dunsjöfjället, Västra, Bergs kommun, Jämtland County, Sweden",
          "Gothenburg, Göteborgs Stad, Västra Götaland County, 411 10, Sweden",
          "Järfälla, Järfälla kommun, Stockholm County, 177 41, Sweden",
          "Järfälla, Järfälla kommun, Stockholm County, 177 41, Sweden",
          "Stockholm, Stockholms kommun, Stockholm County, 111 29, Sweden",
          "Hallsbergs kommun, Örebro County, Sweden",
          "Hallsbergs kommun, Örebro County, Sweden",
          "Barkarbybron, Barkarby, Järfälla, Järfälla kommun, Stockholm County, 177 46, Sweden",
          "Stockholm, Stockholms kommun, Stockholm County, 111 29, Sweden",
          "Stockholm, Stockholms kommun, Stockholm County, 111 29, Sweden",
          "Hallsbergs kommun, Örebro County, Sweden",
          "Hallsbergs kommun, Örebro County, Sweden",
          "Barkarby, Veddestavägen, Barkarby, Järfälla, Järfälla kommun, Stockholm County, 175 06, Sweden",
          "Jakobsberg, Ynglingavägen, Hammaren, Jakobsberg, Järfälla, Järfälla kommun, Stockholm County, 177 57, Sweden",
          "Bålsta, Håbo kommun, Uppsala County, 756 22, Sweden",
          "Järfälla, Järfälla kommun, Stockholm County, 177 41, Sweden",
          "Östergötland County, Sweden",
          "Gävleborg County, Sweden",
          "Jämtland County, Sweden",
          "Västerbotten County, Sweden",
          "Västerbotten County, Sweden",
          "Norrbotten County, Sweden",
          "Norrbotten County, Sweden",
          "Norrbotten County, Sweden",
          "Östergötland County, Sweden",
          "Gävleborg County, Sweden",
          "Jämtland County, Sweden",
          "Västerbotten County, Sweden",
          "Norrbotten County, Sweden",
          "Norrbotten County, Sweden",
          "Norrbotten County, Sweden",
          "Västerbotten County, Sweden",
          "Östergötland County, Sweden",
          "Västerbotten County, Sweden",
          "Gävleborg County, Sweden",
          "Jämtland County, Sweden",
          "Västerbotten County, Sweden",
          "Norrbotten County, Sweden",
          "Norrbotten County, Sweden",
          "Umeälven, 921 91, Sweden",
          "Östergötland County, Sweden",
          "Gävleborg County, Sweden",
          "Jämtland County, Sweden",
          "Västerbotten County, Sweden",
          "Västerbotten County, Sweden",
          "Norrbotten County, Sweden",
          "Norrbotten County, Sweden",
          "Östergötland County, Sweden",
          "Gävleborg County, Sweden",
          "Jämtland County, Sweden",
          "Västerbotten County, Sweden",
          "Västerbotten County, Sweden",
          "Norrbotten County, Sweden",
          "Norrbotten County, Sweden",
          "Gävleborg County, Sweden",
          "Västerbotten County, Sweden",
          "Östergötland County, Sweden",
          "Jämtland County, Sweden",
          "Västerbotten County, Sweden",
          "Norrbotten County, Sweden",
          "Norrbotten County, Sweden",
          "Östergötland County, Sweden",
          "Gävleborg County, Sweden",
          "Jämtland County, Sweden",
          "Västerbotten County, Sweden",
          "Helsingborg, Helsingborgs kommun, Skåne County, 252 68, Sweden",
          "Södertäljevägen, Nybohov, Liljeholmen, Hägersten-Älvsjö stadsdelsområde, Stockholms kommun, Stockholm County, 117 43, Sweden",
          "Värmland County, Sweden",
          "Hyttgatan, Bruket, Sandviken, Sandvikens kommun, Gävleborg County, 811 30, Sweden",
          "Åkullsjön, Robertsfors kommun, Västerbotten County, Sweden",
          "Kattilasaari, Haparanda kommun, Norrbotten County, Sweden",
          "Österbotten, Filipstads kommun, Värmland County, 680 96, Sweden",
          "Österbotten, Filipstads kommun, Värmland County, 680 96, Sweden",
          "Åsjön, Robertsfors kommun, Västerbotten County, 915 92, Sweden",
          "Bergtorpsvägen, Viggbygärdet, Täby, Täby kommun, Stockholm County, 183 74, Sweden",
          "Norrbotten County, Sweden",
          "Abbekås, Skurups kommun, Skåne County, 274 56, Sweden",
          "Ånäset, Robertsfors kommun, Västerbotten County, 915 34, Sweden",
          "Raningsbäcken, Nerbyn, Klabböle, Umeå kommun, Västerbotten County, 903 65, Sweden",
          "Bureå, Skellefteå kommun, Västerbotten County, 932 52, Sweden",
          "Norrbotten County, Sweden",
          "Bureå, Skellefteå kommun, Västerbotten County, 932 52, Sweden",
          "Hissjövägen, Hamptjärnsliden, Umeå, Umeå kommun, Västerbotten County, 901 33, Sweden",
          "Nyland, Ytterlännäs District, Kramfors kommun, Västernorrland County, Sweden",
          "Sundsvall, Sundsvall Municipality, Västernorrland County, Sweden",
          "Husum, Grundsunda District, Örnsköldsviks kommun, Västernorrland County, 896 31, Sweden",
          "Sundsvall, Sundsvall Municipality, Västernorrland County, Sweden",
          "Umeå, Umeå kommun, Västerbotten County, Sweden",
          "Örnsköldsvik, Örnsköldsviks kommun, Västernorrland County, Sweden",
          "Gävleborg County, Sweden",
          "Gävle, Gävle kommun, Gävleborg County, Sweden",
          "Gävle, Gävle kommun, Gävleborg County, Sweden",
          "Gävle, Gävle kommun, Gävleborg County, Sweden",
          "Hemlingby, Gävle, Gävle kommun, Gävleborg County, 802 57, Sweden",
          "Solvalla, Ulvsundavägen, Spånga-Tensta stadsdelsområde, Stockholms kommun, Stockholm County, 168 71, Sweden",
          "Karlstad, Karlstads kommun, Värmland County, 652 24, Sweden",
          "Linköping, Linköpings kommun, Östergötland County, 582 23, Sweden",
          "Dalarna County, Sweden",
          "Kungälvs kommun, Västra Götaland County, Sweden",
          "Kalmar County, Sweden",
          "Kalmar County, Sweden",
          "Kalmar County, Sweden",
          "Kalmar County, Sweden",
          "Malmo, Malmö kommun, Skåne County, Sweden",
          "Malmo, Malmö kommun, Skåne County, Sweden",
          "Bällstaån, Lilla Alby, Sundbybergs kommun, Stockholm County, 168 77, Sweden",
          "Västervik, Västerviks kommun, Kalmar County, 593 30, Sweden",
          "Västervik, Västerviks kommun, Kalmar County, 593 30, Sweden",
          "Överum, Västerviks kommun, Kalmar County, 590 96, Sweden",
          "Vetlanda kommun, Jönköping County, Sweden",
          "Blekinge County, Sweden",
          "Kalmar County, Sweden",
          "Kalmar County, Sweden",
          "Kalmar County, Sweden",
          "Vetlanda kommun, Jönköping County, Sweden",
          "Dalälven, 784 68, Sweden",
          "Hagsätra, Glanshammarsgatan, Hagsätra, Enskede-Årsta-Vantörs stadsdelsområde, Stockholms kommun, Stockholm County, 124 73, Sweden",
          "Malmbäck, Nässjö kommun, Jönköping County, Sweden",
          "Kina, Malå kommun, Västerbotten County, Sweden",
          "Nennesmo, Gislaveds kommun, Jönköping County, 330 21, Sweden",
          "Bohusläns Museum, 1, Museigatan, Elseberg, Uddevalla, Uddevalla kommun, Västra Götaland County, 451 50, Sweden",
          "Norrby, Borås, Borås kommun, Västra Götaland County, 504 37, Sweden",
          "Jönköpings kommun, Jönköping County, Sweden",
          "Jönköpings kommun, Jönköping County, Sweden",
          "Jönköpings kommun, Jönköping County, Sweden",
          "Viken, Karlsborgs kommun, Västra Götaland County, Sweden",
          "Uddevalla, Uddevalla kommun, Västra Götaland County, 451 30, Sweden",
          "Dunsjöfjället, Västra, Bergs kommun, Jämtland County, Sweden",
          "Borås, Borås kommun, Västra Götaland County, 503 31, Sweden",
          "Dunsjöfjället, Västra, Bergs kommun, Jämtland County, Sweden",
          "Dunsjöfjället, Västra, Bergs kommun, Jämtland County, Sweden",
          "Uddevalla, Uddevalla kommun, Västra Götaland County, 451 30, Sweden",
          "Uddevalla, Uddevalla kommun, Västra Götaland County, 451 30, Sweden",
          "Jönköping, Jönköpings kommun, Jönköping County, 551 86, Sweden",
          "Vare, Norra Sandsjö distrikt, Nässjö kommun, Jönköping County, 571 62, Sweden",
          "NärNaturen-VästSverige AB, 69, Bueråsvägen, Norra Hagen, Onsala kyrkby, Kungsbacka kommun, Halland County, 439 91, Sweden",
          "NärNaturen-VästSverige AB, 69, Bueråsvägen, Norra Hagen, Onsala kyrkby, Kungsbacka kommun, Halland County, 439 91, Sweden",
          "Tollarp, Kristianstads kommun, Skåne County, 298 32, Sweden",
          "Kina, Malå kommun, Västerbotten County, Sweden",
          "Mölndal Innerstad, Brogatan, Enerbacken, Bosgården, Mölndal, Mölndals kommun, Västra Götaland County, 431 31, Sweden",
          "Jönköping, Jönköpings kommun, Jönköping County, 551 86, Sweden",
          "Sweden",
          "Borås, Borås kommun, Västra Götaland County, 503 31, Sweden",
          "Borås, Borås kommun, Västra Götaland County, 503 31, Sweden",
          "Ängelholm, Industrigatan, Ängelholms kommun, Skåne County, 262 64, Sweden",
          "Jämtland County, Sweden",
          "Västerbotten County, Sweden",
          "Norrbotten County, Sweden",
          "Jämtland County, Sweden",
          "Norrbotten County, Sweden",
          "Västerbotten County, Sweden",
          "Jämtland County, Sweden",
          "Västerbotten County, Sweden",
          "Norrbotten County, Sweden",
          "Jämtland County, Sweden",
          "Norrbotten County, Sweden",
          "Västerbotten County, Sweden",
          "Jämtland County, Sweden",
          "Västerbotten County, Sweden",
          "Norrbotten County, Sweden",
          "Jämtland County, Sweden",
          "Västerbotten County, Sweden",
          "Norrbotten County, Sweden",
          "Västerbotten County, Sweden",
          "Jämtland County, Sweden",
          "Norrbotten County, Sweden",
          "Norrbotten County, Sweden",
          "Jämtland County, Sweden",
          "Västerbotten County, Sweden",
          "Sandviken, Sandvikens kommun, Gävleborg County, 811 39, Sweden",
          "Kristianstad, Kristianstads kommun, Skåne County, 291 22, Sweden",
          "Lulebo AB, 5, Professorsvägen, Porsön, Luleå, Luleå kommun, Norrbotten County, 977 51, Sweden",
          "Lulebo AB, 5, Professorsvägen, Porsön, Luleå, Luleå kommun, Norrbotten County, 977 51, Sweden",
          "Österbotten, Filipstads kommun, Värmland County, 680 96, Sweden",
          "Stambanan färdigställd, BD 543, Nygård, Piteå kommun, Norrbotten County, Sweden",
          "Korsvägen, Lilla Edets kommun, Västra Götaland County, Sweden",
          "Kristinehamn, Kristinehamns kommun, Värmland County, 681 31, Sweden",
          "Västernorrland County, Sweden",
          "Molkom, Karlstads kommun, Värmland County, 655 60, Sweden",
          "Jämtland County, Sweden",
          "Dunsjöfjället, Västra, Bergs kommun, Jämtland County, Sweden",
          "Kungsbackaleden, Skår, Centrum, Gothenburg, Göteborgs Stad, Västra Götaland County, 412 67, Sweden",
          "Gothenburg, Göteborgs Stad, Västra Götaland County, 411 10, Sweden",
          "Jämtland County, Sweden",
          "Jämtland County, Sweden",
          "Jämtland County, Sweden",
          "Torne älv, Pajala kommun, Norrbotten County, Sweden",
          "Stockaryd, Sävsjö kommun, Jönköping County, 570 02, Sweden",
          "Sävsjö kommun, Jönköping County, Sweden",
          "Industrigatan, Östra kasern, Kristianstad, Kristianstads kommun, Skåne County, 291 35, Sweden",
          "Lidköping, Lidköpings kommun, Västra Götaland County, 531 31, Sweden",
          "Lidköping, Lidköpings kommun, Västra Götaland County, 531 31, Sweden",
          "Vänern, 661 91, Sweden",
          "Himmelstalund, Norrköpings kommun, Östergötland County, Sweden"
         ],
         "lat": [
          59.7319788,
          57.4008122,
          60.6750132,
          61.2603424,
          56.12401225,
          60.6750132,
          58.3490555,
          58.3490555,
          57.184902,
          56.12401225,
          55.8479416,
          58.4098135,
          58.3965726,
          59.336934,
          60.1561584,
          58.3810286,
          59.6749712,
          56.9608104,
          58.4823802,
          59.8322934,
          60.332434750000004,
          61.2998501,
          61.2998501,
          61.2998501,
          55.85,
          60.929974,
          60.929974,
          61.2603424,
          55.8479416,
          55.83281235,
          55.83281235,
          59.8393142,
          57.7072326,
          57.7072326,
          57.7072326,
          57.7072326,
          57.5812266,
          57.7072326,
          55.8479416,
          57.1245746,
          59.310735300000005,
          58.9713088,
          59.7527746,
          57.4290911,
          63.345222199999995,
          56.8787183,
          55.6052931,
          59.3113619,
          61.4120225,
          55.8479416,
          55.8479416,
          59.3320838,
          64.72847095,
          64.72847095,
          64.72847095,
          66.9808129,
          64.72847095,
          64.72847095,
          59.3594611,
          64.72847095,
          64.72847095,
          64.72847095,
          64.72847095,
          59.4204736,
          64.72847095,
          60.2869823,
          58.5594742,
          65.5831187,
          64.6149221,
          59.3594611,
          59.4550579,
          57.9389041,
          62.9072629,
          59.3594611,
          58.7908992,
          58.7908992,
          59.2726901,
          60.5636426,
          58.5751463,
          68.4266175,
          60.3887396,
          56.6834966,
          59.344243,
          59.344243,
          59.344243,
          57.833333,
          57.833333,
          64.6233735,
          59.2637643,
          59.2453471,
          59.6749712,
          59.2636202,
          59.3251172,
          59.3251172,
          59.3251172,
          62.6842554,
          59.3046441,
          59.2631961,
          57.4008122,
          55.6052931,
          62.6842554,
          60.6750132,
          59.9478778,
          60.6750132,
          60.6750132,
          60.6750132,
          60.6750132,
          60.6750132,
          56.6796081,
          59.3584181,
          59.3151883,
          64.72847095,
          66.9808129,
          66.9808129,
          64.72847095,
          66.9808129,
          66.9808129,
          64.72847095,
          64.72847095,
          64.72847095,
          66.9808129,
          66.9808129,
          64.72847095,
          62.2440571,
          59.8586126,
          61.060377849999995,
          59.8586126,
          61.060377849999995,
          61.2603424,
          62.2440571,
          62.2440571,
          61.2603424,
          61.2603424,
          59.8586126,
          61.060377849999995,
          59.8586126,
          61.060377849999995,
          61.2603424,
          62.2440571,
          62.2440571,
          59.8586126,
          61.2603424,
          61.060377849999995,
          59.8586126,
          61.060377849999995,
          62.2440571,
          62.2440571,
          61.2603424,
          59.8586126,
          62.2440571,
          61.060377849999995,
          59.3809146,
          58.5812314,
          62.2440571,
          61.060377849999995,
          62.2440571,
          61.060377849999995,
          62.2440571,
          61.060377849999995,
          60.6750132,
          62.2440571,
          62.2440571,
          66.9808129,
          66.9808129,
          66.9808129,
          66.9808129,
          66.9808129,
          66.9808129,
          66.9808129,
          66.9808129,
          66.9808129,
          66.9808129,
          66.9808129,
          66.9808129,
          66.9808129,
          66.9808129,
          66.9808129,
          66.9808129,
          66.9808129,
          66.9808129,
          66.9808129,
          66.9808129,
          66.9808129,
          66.9808129,
          66.9808129,
          66.9808129,
          66.9808129,
          56.0856449,
          56.0856449,
          57.7072326,
          57.02784235,
          55.8479416,
          56.2429224,
          55.6052931,
          55.4775187,
          59.3046441,
          62.2440571,
          62.9072629,
          55.8811236,
          57.4174802,
          56.12401225,
          59.6749712,
          59.1221096,
          59.2293827,
          58.9140114,
          58.8,
          59.2239056,
          59.3717379,
          58.4098135,
          57.466667,
          58.866667,
          59.025492,
          58.36782395,
          58.36782395,
          59.966667,
          59.7166855,
          59.4153081,
          59.1274727,
          59.1221096,
          59.3717379,
          59.8303413,
          58.9468803,
          59.6920393,
          62.2440571,
          61.060377849999995,
          62.2440571,
          61.060377849999995,
          62.2440571,
          61.060377849999995,
          59.8586126,
          61.060377849999995,
          61.2603424,
          61.2603424,
          62.2440571,
          62.2440571,
          61.060377849999995,
          61.2603424,
          61.2603424,
          59.8586126,
          61.2603424,
          59.8586126,
          62.2440571,
          61.060377849999995,
          61.2603424,
          61.2603424,
          62.2440571,
          59.8586126,
          61.060377849999995,
          61.2603424,
          61.2603424,
          62.2440571,
          59.8586126,
          61.060377849999995,
          61.2603424,
          61.2603424,
          59.8586126,
          61.060377849999995,
          62.2440571,
          61.2603424,
          61.2603424,
          61.2603424,
          62.2440571,
          59.8586126,
          61.060377849999995,
          61.2603424,
          55.8479416,
          55.8479416,
          61.060377849999995,
          56.6595435,
          59.05,
          59.05,
          59.4204736,
          59.05,
          58.95,
          59.05760505000001,
          62.9072629,
          57.7072326,
          59.4204736,
          59.4204736,
          59.3251172,
          59.05,
          59.05,
          59.4043861,
          59.3251172,
          59.3251172,
          59.05,
          59.05,
          59.4051955,
          59.4238735,
          59.5682102,
          59.4204736,
          58.36782395,
          61.2603424,
          63.345222199999995,
          64.72847095,
          64.72847095,
          66.9808129,
          66.9808129,
          66.9808129,
          58.36782395,
          61.2603424,
          63.345222199999995,
          64.72847095,
          66.9808129,
          66.9808129,
          66.9808129,
          64.72847095,
          58.36782395,
          64.72847095,
          61.2603424,
          63.345222199999995,
          64.72847095,
          66.9808129,
          66.9808129,
          65.0366219,
          58.36782395,
          61.2603424,
          63.345222199999995,
          64.72847095,
          64.72847095,
          66.9808129,
          66.9808129,
          58.36782395,
          61.2603424,
          63.345222199999995,
          64.72847095,
          64.72847095,
          66.9808129,
          66.9808129,
          61.2603424,
          64.72847095,
          58.36782395,
          63.345222199999995,
          64.72847095,
          66.9808129,
          66.9808129,
          58.36782395,
          61.2603424,
          63.345222199999995,
          64.72847095,
          56.0442098,
          59.3061816,
          59.89076245,
          60.6153753,
          64.2674993,
          65.9479783,
          60.041167,
          60.041167,
          64.273358,
          59.4476206,
          66.9808129,
          55.3992749,
          64.2789836,
          63.824515,
          64.6179842,
          66.9808129,
          64.6179842,
          63.8575704,
          63.0085095,
          62.3907552,
          63.3290999,
          62.3907552,
          63.8256568,
          63.2888613,
          61.2603424,
          60.6750132,
          60.6750132,
          60.6750132,
          60.6524735,
          59.3674487,
          59.3809146,
          58.4098135,
          61.060377849999995,
          57.9,
          57.02784235,
          57.02784235,
          57.02784235,
          57.02784235,
          55.6052931,
          55.6052931,
          59.3620478,
          57.7594186,
          57.7594186,
          57.9887487,
          57.36554305,
          56.12401225,
          57.02784235,
          57.02784235,
          57.02784235,
          57.36554305,
          60.1754162,
          59.2625476,
          57.5812266,
          65.0745892,
          57.2224669,
          58.34923445,
          57.7252121,
          57.783333,
          57.783333,
          57.783333,
          58.6313939,
          58.3490555,
          62.9072629,
          57.7210839,
          62.9072629,
          62.9072629,
          58.3490555,
          58.3490555,
          57.7825634,
          57.5074901,
          57.4290911,
          57.4290911,
          55.9340622,
          65.0745892,
          57.6560881,
          57.7825634,
          59.6749712,
          57.7210839,
          57.7210839,
          56.2452597,
          63.345222199999995,
          64.72847095,
          66.9808129,
          63.345222199999995,
          66.9808129,
          64.72847095,
          63.345222199999995,
          64.72847095,
          66.9808129,
          63.345222199999995,
          66.9808129,
          64.72847095,
          63.345222199999995,
          64.72847095,
          66.9808129,
          63.345222199999995,
          64.72847095,
          66.9808129,
          64.72847095,
          63.345222199999995,
          66.9808129,
          66.9808129,
          63.345222199999995,
          64.72847095,
          60.619422,
          56.0293778,
          65.6190891,
          65.6190891,
          60.041167,
          65.4858832,
          58.0923015,
          59.3113619,
          63.058969250000004,
          59.602235,
          63.345222199999995,
          62.9072629,
          57.6874067,
          57.7072326,
          63.345222199999995,
          63.345222199999995,
          63.345222199999995,
          67.2527895,
          57.3195952,
          57.333333,
          56.0448324,
          58.5037196,
          58.5037196,
          58.88666165,
          58.5934495
         ],
         "legendgroup": "blue",
         "lon": [
          17.302278,
          13.1715619,
          17.1467019,
          16.694698498129124,
          15.40220875187768,
          17.1467019,
          11.9382855,
          11.9382855,
          14.0410977,
          15.40220875187768,
          13.633711699754647,
          15.6245252,
          11.4196339,
          18.0723246,
          18.7922859,
          11.441026097756726,
          14.5208584,
          12.85470664576265,
          16.3216224,
          17.744172,
          14.533009536731171,
          17.0607599,
          17.0607599,
          17.0607599,
          13.316667,
          17.1406678,
          17.1406678,
          16.694698498129124,
          13.633711699754647,
          13.29918929639072,
          13.29918929639072,
          17.6406589,
          11.9670171,
          11.9670171,
          11.9670171,
          11.9670171,
          14.4586279,
          11.9670171,
          13.633711699754647,
          12.9497621,
          18.066913266431463,
          12.6025801,
          12.8243585,
          11.9652016,
          14.124985984451182,
          14.8094385,
          13.0001566,
          14.11176,
          13.0842058,
          13.633711699754647,
          13.633711699754647,
          18.0489776,
          18.553323468349845,
          18.553323468349845,
          18.553323468349845,
          19.99927009304014,
          18.553323468349845,
          18.553323468349845,
          16.4875971,
          18.553323468349845,
          18.553323468349845,
          18.553323468349845,
          18.553323468349845,
          17.8285472,
          18.553323468349845,
          13.0454492,
          13.7062529,
          22.1459535,
          17.83272124323154,
          16.4875971,
          12.917652822703179,
          12.5467392,
          12.7867854,
          16.4875971,
          15.3819585,
          15.3819585,
          12.6592889,
          13.0840825,
          15.7801496,
          18.1207193,
          12.6525604,
          12.90133018880557,
          18.0908903,
          18.0908903,
          18.0908903,
          14.75,
          14.75,
          21.2159435,
          18.0430573,
          18.0883657,
          14.5208584,
          18.0820785,
          18.0710935,
          18.0710935,
          18.0710935,
          12.3069891,
          18.0178785,
          18.0419409,
          13.1715619,
          13.0001566,
          12.3069891,
          17.1467019,
          18.062264738791697,
          17.1467019,
          17.1467019,
          17.1467019,
          17.1467019,
          17.1467019,
          16.2364968,
          17.9468508,
          18.2116433,
          18.553323468349845,
          19.99927009304014,
          19.99927009304014,
          18.553323468349845,
          19.99927009304014,
          19.99927009304014,
          18.553323468349845,
          18.553323468349845,
          18.553323468349845,
          19.99927009304014,
          19.99927009304014,
          18.553323468349845,
          16.8094509,
          17.6387436,
          14.215087316959057,
          17.6387436,
          14.215087316959057,
          16.694698498129124,
          16.8094509,
          16.8094509,
          16.694698498129124,
          16.694698498129124,
          17.6387436,
          14.215087316959057,
          17.6387436,
          14.215087316959057,
          16.694698498129124,
          16.8094509,
          16.8094509,
          17.6387436,
          16.694698498129124,
          14.215087316959057,
          17.6387436,
          14.215087316959057,
          16.8094509,
          16.8094509,
          16.694698498129124,
          17.6387436,
          16.8094509,
          14.215087316959057,
          13.5027631,
          16.1480899,
          16.8094509,
          14.215087316959057,
          16.8094509,
          14.215087316959057,
          16.8094509,
          14.215087316959057,
          17.1467019,
          16.8094509,
          16.8094509,
          19.99927009304014,
          19.99927009304014,
          19.99927009304014,
          19.99927009304014,
          19.99927009304014,
          19.99927009304014,
          19.99927009304014,
          19.99927009304014,
          19.99927009304014,
          19.99927009304014,
          19.99927009304014,
          19.99927009304014,
          19.99927009304014,
          19.99927009304014,
          19.99927009304014,
          19.99927009304014,
          19.99927009304014,
          19.99927009304014,
          19.99927009304014,
          19.99927009304014,
          19.99927009304014,
          19.99927009304014,
          19.99927009304014,
          19.99927009304014,
          19.99927009304014,
          12.9139805,
          12.9139805,
          11.9670171,
          16.575102000807693,
          13.633711699754647,
          12.8619375,
          13.0001566,
          13.1311009,
          18.0178785,
          16.8094509,
          12.7867854,
          13.3417068,
          18.536957927499856,
          15.40220875187768,
          14.5208584,
          18.1321061,
          17.9748815,
          15.3694021,
          15.833333,
          18.0034784,
          16.5051474,
          15.6245252,
          12.166667,
          14.916667,
          17.5355529,
          16.050427203885352,
          16.050427203885352,
          16.6,
          12.4704265,
          16.6917922,
          18.1666192,
          18.1321061,
          16.5051474,
          16.9108305,
          17.4955923,
          18.2325537,
          16.8094509,
          14.215087316959057,
          16.8094509,
          14.215087316959057,
          16.8094509,
          14.215087316959057,
          17.6387436,
          14.215087316959057,
          16.694698498129124,
          16.694698498129124,
          16.8094509,
          16.8094509,
          14.215087316959057,
          16.694698498129124,
          16.694698498129124,
          17.6387436,
          16.694698498129124,
          17.6387436,
          16.8094509,
          14.215087316959057,
          16.694698498129124,
          16.694698498129124,
          16.8094509,
          17.6387436,
          14.215087316959057,
          16.694698498129124,
          16.694698498129124,
          16.8094509,
          17.6387436,
          14.215087316959057,
          16.694698498129124,
          16.694698498129124,
          17.6387436,
          14.215087316959057,
          16.8094509,
          16.694698498129124,
          16.694698498129124,
          16.694698498129124,
          16.8094509,
          17.6387436,
          14.215087316959057,
          16.694698498129124,
          13.633711699754647,
          13.633711699754647,
          14.215087316959057,
          16.42369397293767,
          15.25,
          15.25,
          17.8285472,
          15.25,
          14.5,
          14.985962826717303,
          12.7867854,
          11.9670171,
          17.8285472,
          17.8285472,
          18.0710935,
          15.25,
          15.25,
          17.8658944,
          18.0710935,
          18.0710935,
          15.25,
          15.25,
          17.8643513,
          17.8329911,
          17.5293647,
          17.8285472,
          16.050427203885352,
          16.694698498129124,
          14.124985984451182,
          18.553323468349845,
          18.553323468349845,
          19.99927009304014,
          19.99927009304014,
          19.99927009304014,
          16.050427203885352,
          16.694698498129124,
          14.124985984451182,
          18.553323468349845,
          19.99927009304014,
          19.99927009304014,
          19.99927009304014,
          18.553323468349845,
          16.050427203885352,
          18.553323468349845,
          16.694698498129124,
          14.124985984451182,
          18.553323468349845,
          19.99927009304014,
          19.99927009304014,
          17.3992066,
          16.050427203885352,
          16.694698498129124,
          14.124985984451182,
          18.553323468349845,
          18.553323468349845,
          19.99927009304014,
          19.99927009304014,
          16.050427203885352,
          16.694698498129124,
          14.124985984451182,
          18.553323468349845,
          18.553323468349845,
          19.99927009304014,
          19.99927009304014,
          16.694698498129124,
          18.553323468349845,
          16.050427203885352,
          14.124985984451182,
          18.553323468349845,
          19.99927009304014,
          19.99927009304014,
          16.050427203885352,
          16.694698498129124,
          14.124985984451182,
          18.553323468349845,
          12.703706,
          18.0219957,
          13.294761705669245,
          16.7778139,
          20.49649990638411,
          23.798576,
          14.1388929,
          14.1388929,
          20.4237409,
          18.0934674,
          19.99927009304014,
          13.6002756,
          21.0447987,
          20.1318179,
          21.200493,
          19.99927009304014,
          21.200493,
          20.2069913,
          17.7570693,
          17.3071024,
          19.1640042,
          17.3071024,
          20.2630745,
          18.7160209,
          16.694698498129124,
          17.1467019,
          17.1467019,
          17.1467019,
          17.1631917,
          17.940296392037354,
          13.5027631,
          15.6245252,
          14.215087316959057,
          11.916667,
          16.575102000807693,
          16.575102000807693,
          16.575102000807693,
          16.575102000807693,
          13.0001566,
          13.0001566,
          17.9590297,
          16.6385035,
          16.6385035,
          16.3143158,
          15.167830505066155,
          15.40220875187768,
          16.575102000807693,
          16.575102000807693,
          16.575102000807693,
          15.167830505066155,
          16.4498376,
          18.012769,
          14.4586279,
          18.9471698,
          13.5741234,
          11.92794500665887,
          12.9304267,
          14.133333,
          14.133333,
          14.133333,
          14.25848080411961,
          11.9382855,
          12.7867854,
          12.9407407,
          12.7867854,
          12.7867854,
          11.9382855,
          11.9382855,
          14.165719,
          14.6758594,
          11.9652016,
          11.9652016,
          13.9751411,
          18.9471698,
          12.0172243,
          14.165719,
          14.5208584,
          12.9407407,
          12.9407407,
          12.854404863512958,
          14.124985984451182,
          18.553323468349845,
          19.99927009304014,
          14.124985984451182,
          19.99927009304014,
          18.553323468349845,
          14.124985984451182,
          18.553323468349845,
          19.99927009304014,
          14.124985984451182,
          19.99927009304014,
          18.553323468349845,
          14.124985984451182,
          18.553323468349845,
          19.99927009304014,
          14.124985984451182,
          18.553323468349845,
          19.99927009304014,
          18.553323468349845,
          14.124985984451182,
          19.99927009304014,
          19.99927009304014,
          14.124985984451182,
          18.553323468349845,
          16.7724214,
          14.1566859,
          22.1475287,
          22.1475287,
          14.1388929,
          20.503733,
          12.0832843,
          14.11176,
          18.101368580066033,
          13.728668,
          14.124985984451182,
          12.7867854,
          12.0021095,
          11.9670171,
          14.124985984451182,
          14.124985984451182,
          14.124985984451182,
          23.1141856,
          14.5911191,
          14.666667,
          14.1590313,
          13.1576427,
          13.1576427,
          13.56272935418323,
          16.1456822
         ],
         "marker": {
          "color": "blue"
         },
         "mode": "markers",
         "name": "blue",
         "showlegend": true,
         "subplot": "mapbox",
         "type": "scattermapbox"
        }
       ],
       "layout": {
        "height": 600,
        "legend": {
         "title": {
          "text": "color"
         },
         "tracegroupgap": 0
        },
        "mapbox": {
         "center": {
          "lat": 63.333112,
          "lon": 16.007205
         },
         "domain": {
          "x": [
           0,
           1
          ],
          "y": [
           0,
           1
          ]
         },
         "style": "carto-positron",
         "zoom": 3
        },
        "margin": {
         "t": 60
        },
        "template": {
         "data": {
          "bar": [
           {
            "error_x": {
             "color": "#2a3f5f"
            },
            "error_y": {
             "color": "#2a3f5f"
            },
            "marker": {
             "line": {
              "color": "#E5ECF6",
              "width": 0.5
             },
             "pattern": {
              "fillmode": "overlay",
              "size": 10,
              "solidity": 0.2
             }
            },
            "type": "bar"
           }
          ],
          "barpolar": [
           {
            "marker": {
             "line": {
              "color": "#E5ECF6",
              "width": 0.5
             },
             "pattern": {
              "fillmode": "overlay",
              "size": 10,
              "solidity": 0.2
             }
            },
            "type": "barpolar"
           }
          ],
          "carpet": [
           {
            "aaxis": {
             "endlinecolor": "#2a3f5f",
             "gridcolor": "white",
             "linecolor": "white",
             "minorgridcolor": "white",
             "startlinecolor": "#2a3f5f"
            },
            "baxis": {
             "endlinecolor": "#2a3f5f",
             "gridcolor": "white",
             "linecolor": "white",
             "minorgridcolor": "white",
             "startlinecolor": "#2a3f5f"
            },
            "type": "carpet"
           }
          ],
          "choropleth": [
           {
            "colorbar": {
             "outlinewidth": 0,
             "ticks": ""
            },
            "type": "choropleth"
           }
          ],
          "contour": [
           {
            "colorbar": {
             "outlinewidth": 0,
             "ticks": ""
            },
            "colorscale": [
             [
              0,
              "#0d0887"
             ],
             [
              0.1111111111111111,
              "#46039f"
             ],
             [
              0.2222222222222222,
              "#7201a8"
             ],
             [
              0.3333333333333333,
              "#9c179e"
             ],
             [
              0.4444444444444444,
              "#bd3786"
             ],
             [
              0.5555555555555556,
              "#d8576b"
             ],
             [
              0.6666666666666666,
              "#ed7953"
             ],
             [
              0.7777777777777778,
              "#fb9f3a"
             ],
             [
              0.8888888888888888,
              "#fdca26"
             ],
             [
              1,
              "#f0f921"
             ]
            ],
            "type": "contour"
           }
          ],
          "contourcarpet": [
           {
            "colorbar": {
             "outlinewidth": 0,
             "ticks": ""
            },
            "type": "contourcarpet"
           }
          ],
          "heatmap": [
           {
            "colorbar": {
             "outlinewidth": 0,
             "ticks": ""
            },
            "colorscale": [
             [
              0,
              "#0d0887"
             ],
             [
              0.1111111111111111,
              "#46039f"
             ],
             [
              0.2222222222222222,
              "#7201a8"
             ],
             [
              0.3333333333333333,
              "#9c179e"
             ],
             [
              0.4444444444444444,
              "#bd3786"
             ],
             [
              0.5555555555555556,
              "#d8576b"
             ],
             [
              0.6666666666666666,
              "#ed7953"
             ],
             [
              0.7777777777777778,
              "#fb9f3a"
             ],
             [
              0.8888888888888888,
              "#fdca26"
             ],
             [
              1,
              "#f0f921"
             ]
            ],
            "type": "heatmap"
           }
          ],
          "heatmapgl": [
           {
            "colorbar": {
             "outlinewidth": 0,
             "ticks": ""
            },
            "colorscale": [
             [
              0,
              "#0d0887"
             ],
             [
              0.1111111111111111,
              "#46039f"
             ],
             [
              0.2222222222222222,
              "#7201a8"
             ],
             [
              0.3333333333333333,
              "#9c179e"
             ],
             [
              0.4444444444444444,
              "#bd3786"
             ],
             [
              0.5555555555555556,
              "#d8576b"
             ],
             [
              0.6666666666666666,
              "#ed7953"
             ],
             [
              0.7777777777777778,
              "#fb9f3a"
             ],
             [
              0.8888888888888888,
              "#fdca26"
             ],
             [
              1,
              "#f0f921"
             ]
            ],
            "type": "heatmapgl"
           }
          ],
          "histogram": [
           {
            "marker": {
             "pattern": {
              "fillmode": "overlay",
              "size": 10,
              "solidity": 0.2
             }
            },
            "type": "histogram"
           }
          ],
          "histogram2d": [
           {
            "colorbar": {
             "outlinewidth": 0,
             "ticks": ""
            },
            "colorscale": [
             [
              0,
              "#0d0887"
             ],
             [
              0.1111111111111111,
              "#46039f"
             ],
             [
              0.2222222222222222,
              "#7201a8"
             ],
             [
              0.3333333333333333,
              "#9c179e"
             ],
             [
              0.4444444444444444,
              "#bd3786"
             ],
             [
              0.5555555555555556,
              "#d8576b"
             ],
             [
              0.6666666666666666,
              "#ed7953"
             ],
             [
              0.7777777777777778,
              "#fb9f3a"
             ],
             [
              0.8888888888888888,
              "#fdca26"
             ],
             [
              1,
              "#f0f921"
             ]
            ],
            "type": "histogram2d"
           }
          ],
          "histogram2dcontour": [
           {
            "colorbar": {
             "outlinewidth": 0,
             "ticks": ""
            },
            "colorscale": [
             [
              0,
              "#0d0887"
             ],
             [
              0.1111111111111111,
              "#46039f"
             ],
             [
              0.2222222222222222,
              "#7201a8"
             ],
             [
              0.3333333333333333,
              "#9c179e"
             ],
             [
              0.4444444444444444,
              "#bd3786"
             ],
             [
              0.5555555555555556,
              "#d8576b"
             ],
             [
              0.6666666666666666,
              "#ed7953"
             ],
             [
              0.7777777777777778,
              "#fb9f3a"
             ],
             [
              0.8888888888888888,
              "#fdca26"
             ],
             [
              1,
              "#f0f921"
             ]
            ],
            "type": "histogram2dcontour"
           }
          ],
          "mesh3d": [
           {
            "colorbar": {
             "outlinewidth": 0,
             "ticks": ""
            },
            "type": "mesh3d"
           }
          ],
          "parcoords": [
           {
            "line": {
             "colorbar": {
              "outlinewidth": 0,
              "ticks": ""
             }
            },
            "type": "parcoords"
           }
          ],
          "pie": [
           {
            "automargin": true,
            "type": "pie"
           }
          ],
          "scatter": [
           {
            "fillpattern": {
             "fillmode": "overlay",
             "size": 10,
             "solidity": 0.2
            },
            "type": "scatter"
           }
          ],
          "scatter3d": [
           {
            "line": {
             "colorbar": {
              "outlinewidth": 0,
              "ticks": ""
             }
            },
            "marker": {
             "colorbar": {
              "outlinewidth": 0,
              "ticks": ""
             }
            },
            "type": "scatter3d"
           }
          ],
          "scattercarpet": [
           {
            "marker": {
             "colorbar": {
              "outlinewidth": 0,
              "ticks": ""
             }
            },
            "type": "scattercarpet"
           }
          ],
          "scattergeo": [
           {
            "marker": {
             "colorbar": {
              "outlinewidth": 0,
              "ticks": ""
             }
            },
            "type": "scattergeo"
           }
          ],
          "scattergl": [
           {
            "marker": {
             "colorbar": {
              "outlinewidth": 0,
              "ticks": ""
             }
            },
            "type": "scattergl"
           }
          ],
          "scattermapbox": [
           {
            "marker": {
             "colorbar": {
              "outlinewidth": 0,
              "ticks": ""
             }
            },
            "type": "scattermapbox"
           }
          ],
          "scatterpolar": [
           {
            "marker": {
             "colorbar": {
              "outlinewidth": 0,
              "ticks": ""
             }
            },
            "type": "scatterpolar"
           }
          ],
          "scatterpolargl": [
           {
            "marker": {
             "colorbar": {
              "outlinewidth": 0,
              "ticks": ""
             }
            },
            "type": "scatterpolargl"
           }
          ],
          "scatterternary": [
           {
            "marker": {
             "colorbar": {
              "outlinewidth": 0,
              "ticks": ""
             }
            },
            "type": "scatterternary"
           }
          ],
          "surface": [
           {
            "colorbar": {
             "outlinewidth": 0,
             "ticks": ""
            },
            "colorscale": [
             [
              0,
              "#0d0887"
             ],
             [
              0.1111111111111111,
              "#46039f"
             ],
             [
              0.2222222222222222,
              "#7201a8"
             ],
             [
              0.3333333333333333,
              "#9c179e"
             ],
             [
              0.4444444444444444,
              "#bd3786"
             ],
             [
              0.5555555555555556,
              "#d8576b"
             ],
             [
              0.6666666666666666,
              "#ed7953"
             ],
             [
              0.7777777777777778,
              "#fb9f3a"
             ],
             [
              0.8888888888888888,
              "#fdca26"
             ],
             [
              1,
              "#f0f921"
             ]
            ],
            "type": "surface"
           }
          ],
          "table": [
           {
            "cells": {
             "fill": {
              "color": "#EBF0F8"
             },
             "line": {
              "color": "white"
             }
            },
            "header": {
             "fill": {
              "color": "#C8D4E3"
             },
             "line": {
              "color": "white"
             }
            },
            "type": "table"
           }
          ]
         },
         "layout": {
          "annotationdefaults": {
           "arrowcolor": "#2a3f5f",
           "arrowhead": 0,
           "arrowwidth": 1
          },
          "autotypenumbers": "strict",
          "coloraxis": {
           "colorbar": {
            "outlinewidth": 0,
            "ticks": ""
           }
          },
          "colorscale": {
           "diverging": [
            [
             0,
             "#8e0152"
            ],
            [
             0.1,
             "#c51b7d"
            ],
            [
             0.2,
             "#de77ae"
            ],
            [
             0.3,
             "#f1b6da"
            ],
            [
             0.4,
             "#fde0ef"
            ],
            [
             0.5,
             "#f7f7f7"
            ],
            [
             0.6,
             "#e6f5d0"
            ],
            [
             0.7,
             "#b8e186"
            ],
            [
             0.8,
             "#7fbc41"
            ],
            [
             0.9,
             "#4d9221"
            ],
            [
             1,
             "#276419"
            ]
           ],
           "sequential": [
            [
             0,
             "#0d0887"
            ],
            [
             0.1111111111111111,
             "#46039f"
            ],
            [
             0.2222222222222222,
             "#7201a8"
            ],
            [
             0.3333333333333333,
             "#9c179e"
            ],
            [
             0.4444444444444444,
             "#bd3786"
            ],
            [
             0.5555555555555556,
             "#d8576b"
            ],
            [
             0.6666666666666666,
             "#ed7953"
            ],
            [
             0.7777777777777778,
             "#fb9f3a"
            ],
            [
             0.8888888888888888,
             "#fdca26"
            ],
            [
             1,
             "#f0f921"
            ]
           ],
           "sequentialminus": [
            [
             0,
             "#0d0887"
            ],
            [
             0.1111111111111111,
             "#46039f"
            ],
            [
             0.2222222222222222,
             "#7201a8"
            ],
            [
             0.3333333333333333,
             "#9c179e"
            ],
            [
             0.4444444444444444,
             "#bd3786"
            ],
            [
             0.5555555555555556,
             "#d8576b"
            ],
            [
             0.6666666666666666,
             "#ed7953"
            ],
            [
             0.7777777777777778,
             "#fb9f3a"
            ],
            [
             0.8888888888888888,
             "#fdca26"
            ],
            [
             1,
             "#f0f921"
            ]
           ]
          },
          "colorway": [
           "#636efa",
           "#EF553B",
           "#00cc96",
           "#ab63fa",
           "#FFA15A",
           "#19d3f3",
           "#FF6692",
           "#B6E880",
           "#FF97FF",
           "#FECB52"
          ],
          "font": {
           "color": "#2a3f5f"
          },
          "geo": {
           "bgcolor": "white",
           "lakecolor": "white",
           "landcolor": "#E5ECF6",
           "showlakes": true,
           "showland": true,
           "subunitcolor": "white"
          },
          "hoverlabel": {
           "align": "left"
          },
          "hovermode": "closest",
          "mapbox": {
           "style": "light"
          },
          "paper_bgcolor": "white",
          "plot_bgcolor": "#E5ECF6",
          "polar": {
           "angularaxis": {
            "gridcolor": "white",
            "linecolor": "white",
            "ticks": ""
           },
           "bgcolor": "#E5ECF6",
           "radialaxis": {
            "gridcolor": "white",
            "linecolor": "white",
            "ticks": ""
           }
          },
          "scene": {
           "xaxis": {
            "backgroundcolor": "#E5ECF6",
            "gridcolor": "white",
            "gridwidth": 2,
            "linecolor": "white",
            "showbackground": true,
            "ticks": "",
            "zerolinecolor": "white"
           },
           "yaxis": {
            "backgroundcolor": "#E5ECF6",
            "gridcolor": "white",
            "gridwidth": 2,
            "linecolor": "white",
            "showbackground": true,
            "ticks": "",
            "zerolinecolor": "white"
           },
           "zaxis": {
            "backgroundcolor": "#E5ECF6",
            "gridcolor": "white",
            "gridwidth": 2,
            "linecolor": "white",
            "showbackground": true,
            "ticks": "",
            "zerolinecolor": "white"
           }
          },
          "shapedefaults": {
           "line": {
            "color": "#2a3f5f"
           }
          },
          "ternary": {
           "aaxis": {
            "gridcolor": "white",
            "linecolor": "white",
            "ticks": ""
           },
           "baxis": {
            "gridcolor": "white",
            "linecolor": "white",
            "ticks": ""
           },
           "bgcolor": "#E5ECF6",
           "caxis": {
            "gridcolor": "white",
            "linecolor": "white",
            "ticks": ""
           }
          },
          "title": {
           "x": 0.05
          },
          "xaxis": {
           "automargin": true,
           "gridcolor": "white",
           "linecolor": "white",
           "ticks": "",
           "title": {
            "standoff": 15
           },
           "zerolinecolor": "white",
           "zerolinewidth": 2
          },
          "yaxis": {
           "automargin": true,
           "gridcolor": "white",
           "linecolor": "white",
           "ticks": "",
           "title": {
            "standoff": 15
           },
           "zerolinecolor": "white",
           "zerolinewidth": 2
          }
         }
        }
       }
      },
      "text/html": [
       "<div>                            <div id=\"5e2b7000-cd71-46e1-b8f9-22dbd3a7f470\" class=\"plotly-graph-div\" style=\"height:600px; width:100%;\"></div>            <script type=\"text/javascript\">                require([\"plotly\"], function(Plotly) {                    window.PLOTLYENV=window.PLOTLYENV || {};                                    if (document.getElementById(\"5e2b7000-cd71-46e1-b8f9-22dbd3a7f470\")) {                    Plotly.newPlot(                        \"5e2b7000-cd71-46e1-b8f9-22dbd3a7f470\",                        [{\"customdata\":[[907315054151962629],[907249999553159168],[907216307321491456],[907197471339794434],[907169643898572800],[907168859228135424],[907128844431237120],[907123196159242240],[907116790093938688],[907044532767936514],[907010395180806150],[906996567688847360],[906952264904003584],[906939243284635648],[906922949441093633],[906922190054019073],[906919570878984192],[906903328487067649],[906902078613794816],[906901903841394689],[906899530624507911],[906894252134858752],[906894235466596352],[906887710769651714],[906884956827340800],[1438927856650833921],[1438922305418235908],[1438921385221492736],[1438871142182363142],[1438595094794342400],[1438491979634122755],[902255491753156610],[902052364831641600],[1421583982454616071],[1421520893738639365],[1421381143312707585],[1421340731248107523],[1421289591168962575],[1421211170980175878],[1421210256227581957],[1421195585546244098],[1421182558696521730],[1105332308993687552],[1159450037182783489],[1159171105669693441],[1159077965424156673],[1028305826396741634],[1027972707768590336],[1027941878619103233],[1148339000819757056],[1148319179176644608],[1148228025349283842],[1147807556422787072],[639213837615525888],[639029049885655040],[639022484633878528],[639016019214909440],[639015301317853184],[639015236008153088],[639001027513987072],[638832996041134081],[899381296383889410],[899332872468910080],[767628353503391744],[1416181920988336132],[1416167910150639623],[1416155903254990848],[1416150658546343939],[1416149425219588102],[1416148928152621066],[1416136317411463170],[1416134213959655424],[1416116799385620484],[1416116410972049410],[1416114188402008069],[1416114175189917710],[1416114172572622849],[1416113974739939330],[1416104403497533444],[1416098090172534789],[1416097538210471936],[1416096327528759301],[1416089854329425920],[1416085033241227266],[1416084459405856777],[1416078018460725254],[1416073661006684168],[1416071808902651904],[1416070196083707904],[1416069264059076612],[644837216498417664],[644475818765352960],[1026744719878115328],[1026591408025563136],[1026350840293060608],[1413645192624812039],[1413607493977231363],[1413606679984414733],[1413503925488078849],[1413432679740096513],[1413364426875490313],[1413063693789712385],[1404195285518147586],[1403966137948381185],[1403830577552297986],[1403795254013272064],[1403782782707458050],[1174355842134695936],[1174345655776620553],[1174291980169428992],[917343721796128768],[917276721157681152],[1310273055088947203],[1309819138248978432],[1309810936837025793],[1424236370722234368],[1424141545675055106],[1424037338829791232],[735871907216560128],[735807067311767552],[750987170245124096],[750793820611149824],[750751181899698180],[750621000082006016],[750603753598947328],[892849446425317376],[892370449082011653],[808929686013300736],[1033442737440391168],[1033235409042587648],[1033022870782394368],[1032881966155227136],[1032879119879598080],[1029802322967318529],[1029722288642510848],[1029646277057961984],[880162897279819777],[880084613225472000],[1397911990169837576],[1397844836196261891],[736586562658521088],[782986658358722560],[782941714449399808],[889112029327495168],[1286983293079031808],[1286928896454283264],[1286915929054609410],[1286753092453752832],[1286738726840868865],[1286570864906043392],[1286554729997271041],[1286293968876113920],[1286246797367795713],[640885636271075328],[640872494023475200],[1313564014052597761],[1313536512038903809],[1313513341168635906],[1313450647027617793],[1313384214516117504],[1323667920250130434],[1323603848464879621],[1323603339918102528],[1428469067325788166],[1428458828811669506],[1428457666133823490],[1428446483339255819],[1428440869976293384],[1428437792321904645],[1428427012633415686],[1428415510832730113],[1428408772960063492],[1428370898915143680],[1428355566984777733],[1428351677430599686],[1428349436028018691],[1428341052088496129],[637186673533693952],[636950722198704128],[636943337178554368],[636932483649409024],[636895541364965377],[636866204859285504],[636857099218235392],[915456220613496832],[1405214077031485448],[1404763296365006848],[1404742214161477633],[744555704611147777],[744474222345486336],[744450850945441793],[1229489359604322305],[1229378808840704000],[1229276734526230528],[963011187226103808],[738127843792543744],[738122608562970625],[738116372442423296],[738055554933919746],[737951759402991616],[737738795567730688],[1441749554768977932],[1441715899803656194],[1441470163426045956],[1441276025778761728],[1183337836050817024],[1183317288596004867],[1183273291169054721],[1182898400079036416],[935461304487350272],[1147562793731862529],[1125834960215117826],[1158341121073963009],[1158012438610108416],[747032950013825024],[619230729562648577],[619137827700363264],[618834707908661248]],\"hovertemplate\":\"<b>%{hovertext}</b><br><br>color=red<br>loc_lat=%{lat}<br>loc_lon=%{lon}<br>id=%{customdata[0]}<extra></extra>\",\"hovertext\":[\"Miami, 28, Lind\\u00f6v\\u00e4gen, Oxelbergen, Norrk\\u00f6ping, Norrk\\u00f6pings kommun, \\u00d6sterg\\u00f6tland County, 602 28, Sweden\",\"Florida, Ryd, Tingsryds kommun, Kronoberg County, 360 10, Sweden\",\"Florida, Ryd, Tingsryds kommun, Kronoberg County, 360 10, Sweden\",\"Florida, Ryd, Tingsryds kommun, Kronoberg County, 360 10, Sweden\",\"Trelleborg, Trelleborgs kommun, Sk\\u00e5ne County, 231 61, Sweden\",\"Florida, Ryd, Tingsryds kommun, Kronoberg County, 360 10, Sweden\",\"Florida, Ryd, Tingsryds kommun, Kronoberg County, 360 10, Sweden\",\"Florida, Ryd, Tingsryds kommun, Kronoberg County, 360 10, Sweden\",\"Florida, Ryd, Tingsryds kommun, Kronoberg County, 360 10, Sweden\",\"Florida, Ryd, Tingsryds kommun, Kronoberg County, 360 10, Sweden\",\"Miami, 28, Lind\\u00f6v\\u00e4gen, Oxelbergen, Norrk\\u00f6ping, Norrk\\u00f6pings kommun, \\u00d6sterg\\u00f6tland County, 602 28, Sweden\",\"Florida, Ryd, Tingsryds kommun, Kronoberg County, 360 10, Sweden\",\"Toscana, Karolinagatan, Huvudsta, Solna kommun, Stockholms kommun, Stockholm County, 171 58, Sweden\",\"Florida, Ryd, Tingsryds kommun, Kronoberg County, 360 10, Sweden\",\"Florida, Ryd, Tingsryds kommun, Kronoberg County, 360 10, Sweden\",\"Toscana, Karolinagatan, Huvudsta, Solna kommun, Stockholms kommun, Stockholm County, 171 58, Sweden\",\"Miami, 28, Lind\\u00f6v\\u00e4gen, Oxelbergen, Norrk\\u00f6ping, Norrk\\u00f6pings kommun, \\u00d6sterg\\u00f6tland County, 602 28, Sweden\",\"Toscana, Karolinagatan, Huvudsta, Solna kommun, Stockholms kommun, Stockholm County, 171 58, Sweden\",\"Toscana, Karolinagatan, Huvudsta, Solna kommun, Stockholms kommun, Stockholm County, 171 58, Sweden\",\"Toscana, Karolinagatan, Huvudsta, Solna kommun, Stockholms kommun, Stockholm County, 171 58, Sweden\",\"Europa, Gamla stan, S\\u00f6dermalms stadsdelsomr\\u00e5de, Stockholm, Stockholms kommun, Stockholm County, 111 31, Sweden\",\"Italien, J\\u00e4rp\\u00e5s distrikt, Lidk\\u00f6pings kommun, V\\u00e4stra G\\u00f6taland County, 531 94, Sweden\",\"Toscana, Karolinagatan, Huvudsta, Solna kommun, Stockholms kommun, Stockholm County, 171 58, Sweden\",\"Toscana, Karolinagatan, Huvudsta, Solna kommun, Stockholms kommun, Stockholm County, 171 58, Sweden\",\"Toscana, Karolinagatan, Huvudsta, Solna kommun, Stockholms kommun, Stockholm County, 171 58, Sweden\",\"Frankrike, Uppsala, Uppsala kommun, Uppsala County, 755 97, Sweden\",\"Frankrike, Uppsala, Uppsala kommun, Uppsala County, 755 97, Sweden\",\"Europa, Gamla stan, S\\u00f6dermalms stadsdelsomr\\u00e5de, Stockholm, Stockholms kommun, Stockholm County, 111 31, Sweden\",\"Sweden\",\"G\\u00e4vle, G\\u00e4vle kommun, G\\u00e4vleborg County, Sweden\",\"Gr\\u00f6nland, Bua S\\u00f6dra, K\\u00e4rrsg\\u00e4rde, Stora Bug\\u00e4rde, H\\u00e4rryda kommun, V\\u00e4stra G\\u00f6taland County, Sweden\",\"Vit\\u00e5, Lule\\u00e5 kommun, Norrbotten County, Sweden\",\"Vit\\u00e5, Lule\\u00e5 kommun, Norrbotten County, Sweden\",\"Alperna, Storumans kommun, V\\u00e4sterbotten County, Sweden\",\"Europa, Gamla stan, S\\u00f6dermalms stadsdelsomr\\u00e5de, Stockholm, Stockholms kommun, Stockholm County, 111 31, Sweden\",\"Tyskland, S\\u00f6derk\\u00f6pings kommun, \\u00d6sterg\\u00f6tland County, Sweden\",\"Birger Jarlsgatan, Norrmalm, Norrmalms stadsdelsomr\\u00e5de, Stockholm, Stockholms kommun, Stockholm County, 113 58, Sweden\",\"Ryssland, Amneh\\u00e4rads distrikt, Gullsp\\u00e5ngs kommun, V\\u00e4stra G\\u00f6taland County, Sweden\",\"Ryssland, Amneh\\u00e4rads distrikt, Gullsp\\u00e5ngs kommun, V\\u00e4stra G\\u00f6taland County, Sweden\",\"Europa, Gamla stan, S\\u00f6dermalms stadsdelsomr\\u00e5de, Stockholm, Stockholms kommun, Stockholm County, 111 31, Sweden\",\"Sweden\",\"Ryssland, Amneh\\u00e4rads distrikt, Gullsp\\u00e5ngs kommun, V\\u00e4stra G\\u00f6taland County, Sweden\",\"Sweden\",\"Wenzhou, Johan Enbergs v\\u00e4g, Huvudsta, Solna kommun, Stockholms kommun, Stockholm County, 171 61, Sweden\",\"Randersgatan, Kista, Rinkeby-Kista stadsdelsomr\\u00e5de, Stockholm, Stockholms kommun, Stockholm County, 164 42, Sweden\",\"Sibirien, Halmstad, Halmstads kommun, Halland County, 302 90, Sweden\",\"Polen, Munkedals kommun, V\\u00e4stra G\\u00f6taland County, Sweden\",\"Sweden\",\"Krakow, Fiskartorpet, Fellingsbro, Lindesbergs kommun, \\u00d6rebro County, Sweden\",\"Kina, Mal\\u00e5 kommun, V\\u00e4sterbotten County, Sweden\",\"DC, 120, Emmaboda, Emmaboda kommun, Kalmar County, 361 30, Sweden\",\"DC, 120, Emmaboda, Emmaboda kommun, Kalmar County, 361 30, Sweden\",\"Kina, Mal\\u00e5 kommun, V\\u00e4sterbotten County, Sweden\",\"Norge, Nyn\\u00e4s, Villastan, G\\u00e4vle, G\\u00e4vle kommun, G\\u00e4vleborg County, Sweden\",\"Norge, Nyn\\u00e4s, Villastan, G\\u00e4vle, G\\u00e4vle kommun, G\\u00e4vleborg County, Sweden\",\"Norge, Nyn\\u00e4s, Villastan, G\\u00e4vle, G\\u00e4vle kommun, G\\u00e4vleborg County, Sweden\",\"Norge, Nyn\\u00e4s, Villastan, G\\u00e4vle, G\\u00e4vle kommun, G\\u00e4vleborg County, Sweden\",\"Norge, Nyn\\u00e4s, Villastan, G\\u00e4vle, G\\u00e4vle kommun, G\\u00e4vleborg County, Sweden\",\"Norge, Nyn\\u00e4s, Villastan, G\\u00e4vle, G\\u00e4vle kommun, G\\u00e4vleborg County, Sweden\",\"Norge, Nyn\\u00e4s, Villastan, G\\u00e4vle, G\\u00e4vle kommun, G\\u00e4vleborg County, Sweden\",\"Ryssland, Amneh\\u00e4rads distrikt, Gullsp\\u00e5ngs kommun, V\\u00e4stra G\\u00f6taland County, Sweden\",\"Asien, Filipstads kommun, V\\u00e4rmland County, Sweden\",\"Asien, Filipstads kommun, V\\u00e4rmland County, Sweden\",\"\\u00c4ngelholms kommun, Sk\\u00e5ne County, Sweden\",\"Tyskland, S\\u00f6derk\\u00f6pings kommun, \\u00d6sterg\\u00f6tland County, Sweden\",\"Sweden\",\"Sweden\",\"Tyskland, S\\u00f6derk\\u00f6pings kommun, \\u00d6sterg\\u00f6tland County, Sweden\",\"Tyskland, S\\u00f6derk\\u00f6pings kommun, \\u00d6sterg\\u00f6tland County, Sweden\",\"Polen, Munkedals kommun, V\\u00e4stra G\\u00f6taland County, Sweden\",\"Tyskland, S\\u00f6derk\\u00f6pings kommun, \\u00d6sterg\\u00f6tland County, Sweden\",\"Sweden\",\"Tyskland, S\\u00f6derk\\u00f6pings kommun, \\u00d6sterg\\u00f6tland County, Sweden\",\"German Embassy, Skarp\\u00f6gatan, \\u00d6stermalm, \\u00d6stermalms stadsdelsomr\\u00e5de, Stockholms kommun, Stockholm County, 115 27, Sweden\",\"Tyskland, S\\u00f6derk\\u00f6pings kommun, \\u00d6sterg\\u00f6tland County, Sweden\",\"Tyskland, S\\u00f6derk\\u00f6pings kommun, \\u00d6sterg\\u00f6tland County, Sweden\",\"Tyskland, S\\u00f6derk\\u00f6pings kommun, \\u00d6sterg\\u00f6tland County, Sweden\",\"Europa, Gamla stan, S\\u00f6dermalms stadsdelsomr\\u00e5de, Stockholm, Stockholms kommun, Stockholm County, 111 31, Sweden\",\"Heda Skandinavien AB, Ekensberg, Nyk\\u00f6ping, Nyk\\u00f6pings kommun, S\\u00f6dermanland County, Sweden\",\"Tyskland, S\\u00f6derk\\u00f6pings kommun, \\u00d6sterg\\u00f6tland County, Sweden\",\"Norden, Enk\\u00f6pings kommun, Uppsala County, 749 72, Sweden\",\"Tyskland, S\\u00f6derk\\u00f6pings kommun, \\u00d6sterg\\u00f6tland County, Sweden\",\"Europa, Gamla stan, S\\u00f6dermalms stadsdelsomr\\u00e5de, Stockholm, Stockholms kommun, Stockholm County, 111 31, Sweden\",\"Kina, Mal\\u00e5 kommun, V\\u00e4sterbotten County, Sweden\",\"Spanien, Eker\\u00f6 kommun, Stockholm County, 178 92, Sweden\",\"Sweden\",\"Tyskland, S\\u00f6derk\\u00f6pings kommun, \\u00d6sterg\\u00f6tland County, Sweden\",\"Tyskland, S\\u00f6derk\\u00f6pings kommun, \\u00d6sterg\\u00f6tland County, Sweden\",\"Kina, Mal\\u00e5 kommun, V\\u00e4sterbotten County, Sweden\",\"Sweden\",\"Vilhelmsborg, Gnosj\\u00f6 kommun, J\\u00f6nk\\u00f6ping County, 330 33, Sweden\",\"N\\u00e4rNaturen-V\\u00e4stSverige AB, 69, Buer\\u00e5sv\\u00e4gen, Norra Hagen, Onsala kyrkby, Kungsbacka kommun, Halland County, 439 91, Sweden\",\"Island, Forshems distrikt, G\\u00f6tene kommun, V\\u00e4stra G\\u00f6taland County, Sweden\",\"Sweden\",\"Sweden\",\"England, Arvika kommun, V\\u00e4rmland County, Sweden\",\"Krakow, Fiskartorpet, Fellingsbro, Lindesbergs kommun, \\u00d6rebro County, Sweden\",\"\\u00c5rena, V\\u00e4sterviks kommun, Kalmar County, 590 92, Sweden\",\"\\u00c5lborg, Skottvallen, Forsbacka, G\\u00e4vle kommun, G\\u00e4vleborg County, Sweden\",\"Tunnelbana blue line, Norrmalm, Norrmalms stadsdelsomr\\u00e5de, Stockholms kommun, Stockholm County, Sweden\",\"Jylland, St\\u00e5ngby, Lund Municipality, Sk\\u00e5ne County, Sweden\",\"Tran\\u00e5s kommun, J\\u00f6nk\\u00f6ping County, Sweden\",\"Finland, Amerika, Gertrudsvik, V\\u00e4stervik, V\\u00e4sterviks kommun, Kalmar County, Sweden\",\"Stockholm, Stockholms kommun, Stockholm County, 111 29, Sweden\",\"Sweden\",\"Danmark, Uppsala kommun, Uppsala County, 754 54, Sweden\",\"Lule\\u00e5, Lule\\u00e5 kommun, Norrbotten County, 971 28, Sweden\",\"Malmo, Malm\\u00f6 kommun, Sk\\u00e5ne County, Sweden\",\"Malmo, Malm\\u00f6 kommun, Sk\\u00e5ne County, Sweden\",\"Spanien, Eker\\u00f6 kommun, Stockholm County, 178 92, Sweden\",\"Uppsala, Uppsala kommun, Uppsala County, 753 20, Sweden\",\"Gothenburg Central, Nils Ericsonsplatsen, Gullbergsvass, Stampen, Centrum, Gothenburg, G\\u00f6teborgs Stad, V\\u00e4stra G\\u00f6taland County, 411 03, Sweden\",\"Flian, V\\u00e4stra G\\u00f6taland County, 531 93, Sweden\",\"Danmark, Uppsala kommun, Uppsala County, 754 54, Sweden\",\"Danmark, Uppsala kommun, Uppsala County, 754 54, Sweden\",\"Grekland, Skutsk\\u00e4r, \\u00c4lvkarleby kommun, Uppsala County, 814 30, Sweden\",\"Sweden\",\"Japan, Saxn\\u00e4s, Vilhelmina kommun, V\\u00e4sterbotten County, Sweden\",\"Karlstad, Karlstads kommun, V\\u00e4rmland County, 652 24, Sweden\",\"Region Norrland, Sweden\",\"\\u00d6resund, Marks kommun, V\\u00e4stra G\\u00f6taland County, 511 92, Sweden\",\"Paris, Norrt\\u00e4lje kommun, Stockholm County, 761 98, Sweden\",\"Kina, Mal\\u00e5 kommun, V\\u00e4sterbotten County, Sweden\",\"Kina, Mal\\u00e5 kommun, V\\u00e4sterbotten County, Sweden\",\"Alm, Hallsbergs kommun, \\u00d6rebro County, 692 92, Sweden\",\"Miami, 28, Lind\\u00f6v\\u00e4gen, Oxelbergen, Norrk\\u00f6ping, Norrk\\u00f6pings kommun, \\u00d6sterg\\u00f6tland County, 602 28, Sweden\",\"\\u00d6sj\\u00f6v\\u00e5len, S\\u00f6dra, H\\u00e4rjedalens kommun, J\\u00e4mtland County, Sweden\",\"Sk\\u00e5ne County, Sweden\",\"Sweden\",\"Amerika, T\\u00f6reboda kommun, V\\u00e4stra G\\u00f6taland County, Sweden\",\"Sweden\",\"Hawaii, \\u00c5rj\\u00e4ngs kommun, V\\u00e4rmland County, Sweden\",\"Dam, K\\u00e5rsta, Glesbygd Indal, Indal District, Sundsvall Municipality, V\\u00e4sternorrland County, Sweden\",\"Sweden\",\"Sweden\",\"Sweden\",\"Embassy of Portugal, Drottninggatan, Sabbatsberg, Vasastaden, Norrmalms stadsdelsomr\\u00e5de, Stockholms kommun, Stockholm County, 111 60, Sweden\",\"Sweden\",\"Golfbanan, Robertsfors, Robertsfors kommun, V\\u00e4sterbotten County, Sweden\",\"V\\u00e4stkusten, Hedemora, Hedemora kommun, Dalarna County, 776 32, Sweden\",\"Paris, Norrt\\u00e4lje kommun, Stockholm County, 761 98, Sweden\",\"Stadshagens idrottsplats, Sankt G\\u00f6ransgatan, Hornsberg, Stadshagen, Kungsholmens stadsdelsomr\\u00e5de, Stockholm, Stockholms kommun, Stockholm County, 112 18, Sweden\",\"Nord, \\u00c4lvsbyns kommun, Norrbotten County, Sweden\",\"Japan, Saxn\\u00e4s, Vilhelmina kommun, V\\u00e4sterbotten County, Sweden\",\"Kina, Mal\\u00e5 kommun, V\\u00e4sterbotten County, Sweden\",\"Kina, Mal\\u00e5 kommun, V\\u00e4sterbotten County, Sweden\",\"Kina, Mal\\u00e5 kommun, V\\u00e4sterbotten County, Sweden\",\"Europa, Gamla stan, S\\u00f6dermalms stadsdelsomr\\u00e5de, Stockholm, Stockholms kommun, Stockholm County, 111 31, Sweden\",\"Sweden\",\"Italien, J\\u00e4rp\\u00e5s distrikt, Lidk\\u00f6pings kommun, V\\u00e4stra G\\u00f6taland County, 531 94, Sweden\",\"Franska v\\u00e4rdshuset, Djurg\\u00e5rdssl\\u00e4tten, Djurg\\u00e5rdsstaden, Djurg\\u00e5rden, \\u00d6stermalms stadsdelsomr\\u00e5de, Stockholm, Stockholms kommun, Stockholm County, 115 21, Sweden\",\"Europa, Gamla stan, S\\u00f6dermalms stadsdelsomr\\u00e5de, Stockholm, Stockholms kommun, Stockholm County, 111 31, Sweden\",\"Asien, Filipstads kommun, V\\u00e4rmland County, Sweden\",\"Stockholm, Stockholms kommun, Stockholm County, 111 29, Sweden\",\"Stockholm, Stockholms kommun, Stockholm County, 111 29, Sweden\",\"Frankrike, Uppsala, Uppsala kommun, Uppsala County, 755 97, Sweden\",\"Frankrike, Uppsala, Uppsala kommun, Uppsala County, 755 97, Sweden\",\"Embassy of France, Kommend\\u00f6rsgatan, Villastaden, \\u00d6stermalm, \\u00d6stermalms stadsdelsomr\\u00e5de, Stockholms kommun, Stockholm County, 114 60, Sweden\",\"Prag, Valdemarsviks kommun, \\u00d6sterg\\u00f6tland County, Sweden\",\"Uddevalla, Uddevalla kommun, V\\u00e4stra G\\u00f6taland County, 451 30, Sweden\",\"Sweden\",\"Sveriges meteorologiska och hydrologiska institut, 1, Folkborgsv\\u00e4gen, Klockaretorpet, Norrk\\u00f6ping, Norrk\\u00f6pings kommun, \\u00d6sterg\\u00f6tland County, 601 76, Sweden\",\"Vietnam, Norra Skeppargatan, Nyn\\u00e4s, Villastan, G\\u00e4vle, G\\u00e4vle kommun, G\\u00e4vleborg County, 801 38, Sweden\",\"Sibirien, Halmstad, Halmstads kommun, Halland County, 302 90, Sweden\",\"Kina, Mal\\u00e5 kommun, V\\u00e4sterbotten County, Sweden\",\"Sk\\u00e5ne County, Sweden\",\"Lillebrors Bageri, R\\u00f6rstrandsgatan, R\\u00f6rstrand, Vasastaden, Norrmalms stadsdelsomr\\u00e5de, Stockholm, Stockholms kommun, Stockholm County, 113 40, Sweden\",\"S\\u00f6derkulla, Bor\\u00e5s, Bor\\u00e5s kommun, V\\u00e4stra G\\u00f6taland County, 504 50, Sweden\",\"Sweden\",\"Harrys, 6, Renmarkstorget, Centrum, Centrala stan, Ume\\u00e5, Ume\\u00e5 kommun, V\\u00e4sterbotten County, 903 26, Sweden\",\"G\\u00e4vle, G\\u00e4vle kommun, G\\u00e4vleborg County, Sweden\",\"Ryssland, Amneh\\u00e4rads distrikt, Gullsp\\u00e5ngs kommun, V\\u00e4stra G\\u00f6taland County, Sweden\",\"G\\u00e4vle, G\\u00e4vle kommun, G\\u00e4vleborg County, Sweden\",\"G\\u00e4vle, G\\u00e4vle kommun, G\\u00e4vleborg County, Sweden\",\"Sweden\",\"Ryssland, Amneh\\u00e4rads distrikt, Gullsp\\u00e5ngs kommun, V\\u00e4stra G\\u00f6taland County, Sweden\",\"Sweden\",\"Sk\\u00e5ne County, Sweden\",\"N\\u00e4rNaturen-V\\u00e4stSverige AB, 69, Buer\\u00e5sv\\u00e4gen, Norra Hagen, Onsala kyrkby, Kungsbacka kommun, Halland County, 439 91, Sweden\",\"N\\u00e4rNaturen-V\\u00e4stSverige AB, 69, Buer\\u00e5sv\\u00e4gen, Norra Hagen, Onsala kyrkby, Kungsbacka kommun, Halland County, 439 91, Sweden\",\"N\\u00e4rNaturen-V\\u00e4stSverige AB, 69, Buer\\u00e5sv\\u00e4gen, Norra Hagen, Onsala kyrkby, Kungsbacka kommun, Halland County, 439 91, Sweden\",\"N\\u00e4rNaturen-V\\u00e4stSverige AB, 69, Buer\\u00e5sv\\u00e4gen, Norra Hagen, Onsala kyrkby, Kungsbacka kommun, Halland County, 439 91, Sweden\",\"N\\u00e4rNaturen-V\\u00e4stSverige AB, 69, Buer\\u00e5sv\\u00e4gen, Norra Hagen, Onsala kyrkby, Kungsbacka kommun, Halland County, 439 91, Sweden\",\"N\\u00e4rNaturen-V\\u00e4stSverige AB, 69, Buer\\u00e5sv\\u00e4gen, Norra Hagen, Onsala kyrkby, Kungsbacka kommun, Halland County, 439 91, Sweden\",\"\\u00d6sj\\u00f6v\\u00e5len, S\\u00f6dra, H\\u00e4rjedalens kommun, J\\u00e4mtland County, Sweden\",\"Afrika, Sigtuna, Sigtuna kommun, Stockholm County, Sweden\",\"Sweden\",\"Peru, Sl\\u00e4dene distrikt, Vara kommun, V\\u00e4stra G\\u00f6taland County, Sweden\",\"Kina, Mal\\u00e5 kommun, V\\u00e4sterbotten County, Sweden\",\"Indonesienv\\u00e4gen, Arvidsjaurs kommun, Norrbotten County, Sweden\",\"Gothenburg, G\\u00f6teborgs Stad, V\\u00e4stra G\\u00f6taland County, 411 10, Sweden\",\"Esbogatan, Husby, Rinkeby-Kista stadsdelsomr\\u00e5de, Stockholms kommun, Stockholm County, 164 34, Sweden\",\"S\\u00e4len, Malung-S\\u00e4lens kommun, Dalarna County, Sweden\",\"England, Arvika kommun, V\\u00e4rmland County, Sweden\",\"Malm\\u00f6s napptr\\u00e4d, Nordlinds stig, R\\u00f6nneholm, Innerstaden, Malmo, Malm\\u00f6 kommun, Sk\\u00e5ne County, 217 48, Sweden\",\"Tyskland, S\\u00f6derk\\u00f6pings kommun, \\u00d6sterg\\u00f6tland County, Sweden\",\"Tyskland, S\\u00f6derk\\u00f6pings kommun, \\u00d6sterg\\u00f6tland County, Sweden\",\"Tyskland, S\\u00f6derk\\u00f6pings kommun, \\u00d6sterg\\u00f6tland County, Sweden\",\"Bryssel, Fabriksgatan, Valhalla, \\u00d6rnsk\\u00f6ldsvik District, \\u00d6rnsk\\u00f6ldsviks kommun, V\\u00e4sternorrland County, 891 39, Sweden\",\"Frankrike, Uppsala, Uppsala kommun, Uppsala County, 755 97, Sweden\",\"Neptun, M\\u00f6rbyl\\u00e5nga, M\\u00f6rbyl\\u00e5nga kommun, Kalmar County, Sweden\",\"Gr\\u00f6nland, Bua S\\u00f6dra, K\\u00e4rrsg\\u00e4rde, Stora Bug\\u00e4rde, H\\u00e4rryda kommun, V\\u00e4stra G\\u00f6taland County, Sweden\",\"Gr\\u00f6nland, Bua S\\u00f6dra, K\\u00e4rrsg\\u00e4rde, Stora Bug\\u00e4rde, H\\u00e4rryda kommun, V\\u00e4stra G\\u00f6taland County, Sweden\",\"Spanien, Eker\\u00f6 kommun, Stockholm County, 178 92, Sweden\",\"Europa, Gamla stan, S\\u00f6dermalms stadsdelsomr\\u00e5de, Stockholm, Stockholms kommun, Stockholm County, 111 31, Sweden\",\"Sweden\",\"Japan, Saxn\\u00e4s, Vilhelmina kommun, V\\u00e4sterbotten County, Sweden\",\"Japan, Saxn\\u00e4s, Vilhelmina kommun, V\\u00e4sterbotten County, Sweden\",\"Japan, Saxn\\u00e4s, Vilhelmina kommun, V\\u00e4sterbotten County, Sweden\",\"Gothenburg, G\\u00f6teborgs Stad, V\\u00e4stra G\\u00f6taland County, 411 10, Sweden\",\"Sveriges meteorologiska och hydrologiska institut, 1, Folkborgsv\\u00e4gen, Klockaretorpet, Norrk\\u00f6ping, Norrk\\u00f6pings kommun, \\u00d6sterg\\u00f6tland County, 601 76, Sweden\",\"Kanada, Haninge kommun, Stockholm County, Sweden\",\"Ryssland, Amneh\\u00e4rads distrikt, Gullsp\\u00e5ngs kommun, V\\u00e4stra G\\u00f6taland County, Sweden\",\"Gr\\u00f6nland, Bua S\\u00f6dra, K\\u00e4rrsg\\u00e4rde, Stora Bug\\u00e4rde, H\\u00e4rryda kommun, V\\u00e4stra G\\u00f6taland County, Sweden\",\"ICA, Gustavslund, Helsingborg, Helsingborgs kommun, Sk\\u00e5ne County, Sweden\",\"Ryssland, Amneh\\u00e4rads distrikt, Gullsp\\u00e5ngs kommun, V\\u00e4stra G\\u00f6taland County, Sweden\",\"Sweden\",\"Mariehamn, R\\u00e4kn\\u00f6, Norrt\\u00e4lje kommun, Stockholm County, Sweden\"],\"lat\":[58.5901768,56.4730372,56.4730372,56.4730372,55.37592,56.4730372,56.4730372,56.4730372,56.4730372,56.4730372,58.5901768,56.4730372,59.3522445,56.4730372,56.4730372,59.3522445,58.5901768,59.3522445,59.3522445,59.3522445,59.3254265,58.3817034,59.3522445,59.3522445,59.3522445,59.8787303,59.8787303,59.3254265,59.6749712,60.6750132,57.64887535,65.9268121,65.9268121,65.1502138,59.3254265,58.313438000000005,59.3383389,59.008677399999996,59.008677399999996,59.3254265,59.6749712,59.008677399999996,59.6749712,59.347255,59.3966611,56.6566309,58.4902785,59.6749712,59.428587,65.0745892,56.625297849999995,56.625297849999995,65.0745892,60.678738100000004,60.678738100000004,60.678738100000004,60.678738100000004,60.678738100000004,60.678738100000004,60.678738100000004,59.008677399999996,60.0330605,60.0330605,56.2429224,58.313438000000005,59.6749712,59.6749712,58.313438000000005,58.313438000000005,58.4902785,58.313438000000005,59.6749712,58.313438000000005,59.334404,58.313438000000005,58.313438000000005,58.313438000000005,59.3254265,58.771502749999996,58.313438000000005,59.7856557,58.313438000000005,59.3254265,65.0745892,59.3731603,59.6749712,58.313438000000005,58.313438000000005,65.0745892,59.6749712,57.2551645,57.4290911,58.71706575,59.6749712,59.6749712,59.743273900000005,59.428587,57.6552737,60.61113865,59.32921555,55.749918199999996,58.05,57.785717649999995,59.3251172,59.6749712,59.8322934,65.5831187,55.6052931,55.6052931,59.3731603,59.8586126,57.7091812,58.3463571,59.8322934,59.8322934,60.613466,59.6749712,64.97316570000001,59.3809146,64.6149221,57.4411391,59.7623158,65.0745892,65.0745892,59.0865476,58.5901768,62.6842554,55.8479416,59.6749712,58.6408056,59.6749712,59.285261399999996,62.56438180000001,59.6749712,59.6749712,59.6749712,59.3389627,59.6749712,64.18103500000001,60.2703126,59.7623158,59.3372021,65.709302,64.97316570000001,65.0745892,65.0745892,65.0745892,59.3254265,59.6749712,58.3817034,59.322874,59.3254265,60.0330605,59.3251172,59.3251172,59.8787303,59.8787303,59.3388532,58.3374865,58.3490555,59.6749712,58.5812314,60.6762383,56.6566309,65.0745892,55.8479416,59.3401233,57.7084204,59.6749712,63.8259768,60.6750132,59.008677399999996,60.6750132,60.6750132,59.6749712,59.008677399999996,59.6749712,55.8479416,57.4290911,57.4290911,57.4290911,57.4290911,57.4290911,57.4290911,62.6842554,59.6142411,59.6749712,58.3839536,65.0745892,66.002035,57.7072326,59.4159407,61.1557237,59.743273900000005,55.5953759,58.313438000000005,58.313438000000005,58.313438000000005,63.29019915000001,59.8787303,56.523087000000004,57.64887535,57.64887535,59.3731603,59.3254265,59.6749712,64.97316570000001,64.97316570000001,64.97316570000001,57.7072326,58.5812314,59.0233101,59.008677399999996,57.64887535,56.0375921,59.008677399999996,59.6749712,59.65993145],\"legendgroup\":\"red\",\"lon\":[16.2068103,14.7062358,14.7062358,14.7062358,13.1461522,14.7062358,14.7062358,14.7062358,14.7062358,14.7062358,16.2068103,14.7062358,17.9965506,14.7062358,14.7062358,17.9965506,16.2068103,17.9965506,17.9965506,17.9965506,18.0730097,13.0250077,17.9965506,17.9965506,17.9965506,17.8097767,17.8097767,18.0730097,14.5208584,17.1467019,12.391988937939697,22.4266368,22.4266368,16.7771488,18.0730097,16.97531090476957,18.0687493,13.979553025363435,13.979553025363435,18.0730097,14.5208584,13.979553025363435,14.5208584,18.00358,17.9411091,12.853649,11.4560423,14.5208584,15.569462308662619,18.9471698,15.561185571365359,15.561185571365359,18.9471698,17.13672951130811,17.13672951130811,17.13672951130811,17.13672951130811,17.13672951130811,17.13672951130811,17.13672951130811,13.979553025363435,14.3364473,14.3364473,12.8619375,16.97531090476957,14.5208584,14.5208584,16.97531090476957,16.97531090476957,11.4560423,16.97531090476957,14.5208584,16.97531090476957,18.1063627,16.97531090476957,16.97531090476957,16.97531090476957,18.0730097,17.031311485463256,16.97531090476957,17.0936173,16.97531090476957,18.0730097,18.9471698,17.4968743,14.5208584,16.97531090476957,16.97531090476957,18.9471698,14.5208584,13.8264993,11.9652016,13.609916610859322,14.5208584,14.5208584,12.711520968966536,15.569462308662619,16.181546,16.902684019810508,18.079236051930607,13.186282625410453,14.833333,16.606463868575254,18.0710935,14.5208584,17.744172,22.1459535,13.0001566,13.0001566,17.4968743,17.6387436,11.9730036,13.2957041,17.744172,17.744172,17.3913549,14.5208584,15.359918895365677,13.5027631,17.83272124323154,12.6746403,18.8036565,18.9471698,18.9471698,15.1923198,16.2068103,12.3069891,13.633711699754647,14.5208584,14.2489819,14.5208584,12.160300668473258,17.130987521485054,14.5208584,14.5208584,14.5208584,18.0566222,14.5208584,20.875231390196905,15.9564302,18.8036565,18.018371301469152,20.5509474,15.359918895365677,18.9471698,18.9471698,18.9471698,18.0730097,14.5208584,13.0250077,18.103057,18.0730097,14.3364473,18.0710935,18.0710935,17.8097767,17.8097767,18.0793072,16.3135672,11.9382855,14.5208584,16.1480899,17.1381906,12.853649,18.9471698,13.633711699754647,18.0338859,12.9584384,14.5208584,20.2598299,17.1467019,13.979553025363435,17.1467019,17.1467019,14.5208584,13.979553025363435,14.5208584,13.633711699754647,11.9652016,11.9652016,11.9652016,11.9652016,11.9652016,11.9652016,12.3069891,17.721838841356586,14.5208584,12.8970518,18.9471698,19.8150737,11.9670171,17.9339227,13.2694088,12.711520968966536,12.9764623,16.97531090476957,16.97531090476957,16.97531090476957,18.713619551809643,17.8097767,16.371609900127908,12.391988937939697,12.391988937939697,17.4968743,18.0730097,14.5208584,15.359918895365677,15.359918895365677,15.359918895365677,11.9670171,16.1480899,18.2076155,13.979553025363435,12.391988937939697,12.782735695753953,13.979553025363435,14.5208584,18.776880225],\"marker\":{\"color\":\"red\"},\"mode\":\"markers\",\"name\":\"red\",\"showlegend\":true,\"subplot\":\"mapbox\",\"type\":\"scattermapbox\"},{\"customdata\":[[907076144410787840],[906892870501707777],[1438853739042021376],[1438836801913905153],[1438741870830657539],[1438528715651231749],[1438450121298096134],[1438429738591268868],[902024692185403392],[901844176664440833],[901769883033239553],[1421528525551644679],[1421338419528183811],[1421335868640567297],[1421195213146570759],[1421154383409029121],[1159525555303264257],[1159335870232715265],[1159161164351324161],[1159073039629336576],[1091361433898504193],[893867572852125696],[893837802735108096],[893831017605152768],[893562240846057474],[893553144218755073],[893552860834746368],[893503260056834048],[893386891919319040],[893380294128095232],[893379792594231296],[1028372146974846977],[1028345323440295937],[1028311057595547648],[1028299308330876929],[1028283652973776897],[1028272566492966913],[1028227804872302592],[1148139969023811585],[1148139200363057152],[1147843996745682945],[639135088131702784],[639081871226347520],[638818610425692161],[899000844288438272],[898804120034914304],[1416136204228210690],[1416130078929530884],[1416123713666355209],[1416099849100042245],[1416095664233193474],[1416089500569194500],[644974375251390465],[644970120188588032],[644958536204685313],[644958535554625536],[644954163655282688],[644921356186861569],[644885147230167040],[644883536625819648],[644871444799684608],[644841418708623360],[644837011212234752],[644825425265475584],[644818043504214016],[644767582738710528],[644762811638263808],[644594520244494340],[644581337488302080],[644574556028428288],[644565498684768256],[644563990064947200],[644562349509210112],[644537070908653568],[644522715236315136],[644521328234491904],[644507741403246592],[644474903068995584],[644473765682745344],[644468350018387968],[644466845274128384],[1026747053009920000],[1026390971934756864],[1026389458579406849],[1026364729508462593],[1413030593995198464],[1413030499010891778],[1413008297347665921],[1404112665841180673],[1403944779197599744],[1403822229289320449],[1403789831679905797],[1403780830816788481],[1403772892136026120],[1403769405339844620],[1403755624727515136],[1403750705748393987],[1403750075608834052],[1403716549786144769],[1174280241281470469],[1127585206792335361],[917361906767114245],[917332646799212544],[917277044156887046],[917276974967599104],[917269327325392896],[917264051465605120],[917254457938862080],[1424414954820673539],[1424125349508624384],[1273719204512923654],[645101207875420160],[645101207409790976],[645101206906511360],[645096903340789760],[645069419731886080],[645069418096164864],[645069405857153024],[645065308902834176],[645053557444624384],[645053556731547648],[645053556203110401],[645049293661863936],[735932012800966658],[735932011769135104],[735932011215499264],[735915396692385792],[735915395689906176],[735915395023015937],[735915386168848384],[735898492590297089],[735898490686046211],[735898490140827649],[735898474831613952],[735898474307293184],[735880785295736833],[735880784775680000],[735880784175898628],[735880779599904768],[735845379011399680],[735845378503872512],[735845377937661952],[735845356928442368],[735794004344856577],[735794003615047680],[735793995910119424],[735775877288460288],[735775874809663488],[735775868774031362],[735740791549616129],[735740789746106368],[735727595665293312],[735723864144019456],[735722663738363904],[735722659472769025],[735667764170481664],[735667762941599745],[735569247246659585],[735569246047088640],[735551531215409152],[735538060255985664],[735521631813144577],[751181721987579911],[751181721513652225],[751098483457847297],[751098482736455684],[751009510894940160],[751009510060273664],[750991819681345537],[750991818888585216],[750975196232757248],[750975195490295808],[750958374561296384],[750958373785350144],[750941067873181696],[750941066669416448],[750924534727921666],[750924533968703488],[750876071529111552],[750876070212014080],[750811664375697409],[750811663465668608],[750734355098578945],[750734354356121601],[750690248091316225],[750690234027749376],[750661161956184064],[750580107564253185],[750571025943977984],[892377761964318720],[892357938651815936],[892286020590460928],[809115170538713088],[1032926954461323265],[1032922694642216960],[1203678235663519744],[1203607436936056834],[1203255824237375489],[1203251860645253120],[880336860354097152],[880275736720011264],[880084936862179329],[1398281241263329288],[1398254515393118208],[1398243662027501568],[1398227325360263168],[1398201427571494913],[1398144791096053763],[1398141700384636933],[1398132253331496960],[1397972591869112322],[1397937131574550529],[1397917172249235458],[1397882011499573252],[1397881927668011008],[1397872543961387008],[1397866979902492676],[1397862137909944321],[1397860194470739972],[1397855384946216963],[1397851997739626497],[1397850223871938561],[1397824270382817282],[736628254832922624],[736628253486505984],[736512836743094272],[736512836264972288],[736481859434086400],[736481858939179008],[736465866099970048],[736465865592475648],[736465865118502912],[736465864514490368],[736465860152446976],[736449918479536128],[736449917967839232],[736449917271592961],[736449916713717761],[736449909117849600],[736448716895195136],[736417872923242497],[736417866606579713],[736417866141040640],[736417865541275649],[736417865033781248],[736369248717660161],[736369248226955264],[736369247715250176],[736369247249661952],[736369246381477888],[736305309677981696],[736305309237563392],[736305308549689344],[736305307958317057],[736305307371114496],[736288481757007875],[736288481270497280],[736288474492481536],[736288474022739971],[736288473028648960],[736203890262179840],[736203882842492928],[736203882293022720],[736203881710030848],[736203881009545216],[889149467580092416],[889142118693965825],[1286723531695366147],[1286691501385318400],[640944455260983296],[640932784232615936],[640886722738409472],[640875530657615873],[640857079956275200],[640855385566482432],[640837863672705024],[640831834365030400],[640827724072927232],[640823786447708160],[640817508447059968],[640793879365713921],[640791002341634048],[640788948420313088],[640779637090557952],[640771461024718848],[640762829826576384],[640754728394227712],[640742677961568256],[640735385572671488],[640707318284357632],[640671062649360384],[627215572401541120],[627215571931762688],[627215571445248000],[627215570904174593],[627215570417664000],[627215569746567168],[627215569301938176],[627215568685416448],[627113778077941760],[627113777582985216],[627113777100685312],[627113776630898688],[627113776165294080],[627113775624257537],[627113774881841152],[627113752341708800],[627060297065435137],[627060296432123904],[627060290769801216],[627060290304262144],[627060289847037952],[627060289410891776],[627060288869810177],[627048824976977920],[627046374232735744],[627046373758738432],[627046373276434432],[627046372697575425],[627046372194275329],[627046371691003904],[627046371024084992],[626980961406820352],[626980960886784000],[626980960391823361],[626980959905312768],[626980959062245376],[626980958504361985],[626980958038790144],[626947723732848641],[626947723246313472],[626947718041178112],[626947717445603328],[626947716975853569],[626947716455735297],[626947715755307009],[626885431389515776],[626885430785540096],[626885430282223616],[626885429711753217],[1313954063608885248],[1313475895513026563],[1313408310968754182],[1323657194244657163],[1323652518317096960],[1323635648058822656],[1323629909265231873],[1323595447076900864],[1323582528800935936],[1323487844099362822],[1323389432154697731],[1323374370954293251],[1323363045234647047],[1323359757026078721],[1323346156659814408],[1323345653263667200],[1323340368243548160],[1323331045077536768],[1323326011065409536],[1323295325340209157],[1323288571395100679],[1323272702329790465],[1323271190996258818],[1323267366206189570],[1428470151159193606],[1428459437036015617],[1428401098847621130],[1428393391503589383],[1428377662477766662],[1428377493036322820],[1428358464917565450],[1428340524088532994],[636942483210039296],[636863997032042497],[886112767396237313],[886110313791270912],[886055754503008256],[886055527343587328],[915540688758087682],[915531797638914049],[915421524596727809],[1035947207424442368],[1035945993328574465],[1035689263965319168],[1035608173741330432],[1035431508021010434],[1035428290599813120],[1035427551232122881],[1035408703258812417],[1035402014958776320],[1405030096164032512],[1404997933704138753],[1229514771612995584],[1229485167972114434],[1229471611729956865],[1229438248361103360],[1229422162030792706],[1229416008580030465],[1229412435817308161],[1229411775600365569],[1229392098492928007],[1229373271717617665],[1229370678471790592],[1229359624190595074],[1229357664704106496],[1229356754665902080],[1229353824931938304],[1229345598408667136],[1229340961320382464],[1229336014784749568],[1229312230598029312],[1229309012040007680],[1229302674182590467],[1229296927612768257],[1229294659467456512],[1229293352874541057],[1229263974849556481],[1229233765731274752],[1151483501058887680],[963311816645505024],[738130750487339008],[738130749631631360],[738130749036109824],[738010634537840640],[738010633938063360],[738010625629147136],[737952838136025089],[737952837339090945],[737952836630282240],[737907382223802369],[737907381699514369],[737907373369663488],[737842049106497536],[737842048607395840],[737842047906893825],[737825964806287360],[737825964294606849],[737825963774464001],[737726200039231488],[737726192204271616],[737726191050883073],[737656232195063809],[737656224594964480],[737656223546347520],[1441646259329064968],[1441560467613302788],[1441388485496094725],[1441388481096290311],[1441375454154289153],[1183260690225795073],[1183232893944025091],[935437932915240961],[625397698749792256],[625371065045401600],[625291678295961600],[625250627506057216],[625192886057840641],[625070162316689408],[625070032557486080],[625069533418500096],[625069400727531520],[1125362163663683585],[1158458219125252097],[1158251380324405255],[747506814321713152],[747095300129628160],[747062155912982529],[747057428030701568],[618754958993682432]],\"hovertemplate\":\"<b>%{hovertext}</b><br><br>color=blue<br>loc_lat=%{lat}<br>loc_lon=%{lon}<br>id=%{customdata[0]}<extra></extra>\",\"hovertext\":[\"\\u00d6rsundsbro, Enk\\u00f6pings kommun, Uppsala County, 749 60, Sweden\",\"Holmalund, Svenljunga kommun, V\\u00e4stra G\\u00f6taland County, Sweden\",\"G\\u00e4vle, G\\u00e4vle kommun, G\\u00e4vleborg County, Sweden\",\"G\\u00e4vleborg County, Sweden\",\"Blekinge County, Sweden\",\"G\\u00e4vle, G\\u00e4vle kommun, G\\u00e4vleborg County, Sweden\",\"Uddevalla, Uddevalla kommun, V\\u00e4stra G\\u00f6taland County, 451 30, Sweden\",\"Uddevalla, Uddevalla kommun, V\\u00e4stra G\\u00f6taland County, 451 30, Sweden\",\"V\\u00e4rnamo, V\\u00e4rnamo kommun, J\\u00f6nk\\u00f6ping County, 331 30, Sweden\",\"Blekinge County, Sweden\",\"Sk\\u00e5ne County, Sweden\",\"Link\\u00f6ping, Link\\u00f6pings kommun, \\u00d6sterg\\u00f6tland County, 582 23, Sweden\",\"Lysekils kommun, V\\u00e4stra G\\u00f6taland County, Sweden\",\"Biblioteksgatan, Villastaden, \\u00d6stermalm, \\u00d6stermalms stadsdelsomr\\u00e5de, Stockholm, Stockholms kommun, Stockholm County, 106 63, Sweden\",\"S\\u00f6derfj\\u00e4rden, Tranvikholmen, Norrt\\u00e4lje kommun, Stockholm County, 764 57, Sweden\",\"Province of Bohusl\\u00e4n, Sweden\",\"Sweden\",\"Halland County, Sweden\",\"S\\u00f6derk\\u00f6ping, S\\u00f6derk\\u00f6pings kommun, \\u00d6sterg\\u00f6tland County, 614 30, Sweden\",\"Danmark, Uppsala kommun, Uppsala County, 754 54, Sweden\",\"Region Svealand, Sweden\",\"S\\u00f6derhamn, S\\u00f6derhamns kommun, G\\u00e4vleborg County, 826 30, Sweden\",\"S\\u00f6derhamn, S\\u00f6derhamns kommun, G\\u00e4vleborg County, 826 30, Sweden\",\"S\\u00f6derhamn, S\\u00f6derhamns kommun, G\\u00e4vleborg County, 826 30, Sweden\",\"Esl\\u00f6vs kommun, Sk\\u00e5ne County, Sweden\",\"Norrsundet, G\\u00e4vle kommun, G\\u00e4vleborg County, 817 30, Sweden\",\"Norrsundet, G\\u00e4vle kommun, G\\u00e4vleborg County, 817 30, Sweden\",\"G\\u00e4vleborg County, Sweden\",\"Sk\\u00e5ne County, Sweden\",\"Esl\\u00f6vs Stadshus, 2, Gr\\u00f6na torg, Backarna, Esl\\u00f6v, Esl\\u00f6vs kommun, Sk\\u00e5ne County, 241 80, Sweden\",\"Esl\\u00f6vs Stadshus, 2, Gr\\u00f6na torg, Backarna, Esl\\u00f6v, Esl\\u00f6vs kommun, Sk\\u00e5ne County, 241 80, Sweden\",\"Regementsv\\u00e4gen, Polacksbacken, Uppsala, Uppsala kommun, Uppsala County, 752 37, Sweden\",\"Gothenburg, G\\u00f6teborgs Stad, V\\u00e4stra G\\u00f6taland County, 411 10, Sweden\",\"Gothenburg, G\\u00f6teborgs Stad, V\\u00e4stra G\\u00f6taland County, 411 10, Sweden\",\"Gothenburg, G\\u00f6teborgs Stad, V\\u00e4stra G\\u00f6taland County, 411 10, Sweden\",\"Gothenburg, G\\u00f6teborgs Stad, V\\u00e4stra G\\u00f6taland County, 411 10, Sweden\",\"Malmb\\u00e4ck, N\\u00e4ssj\\u00f6 kommun, J\\u00f6nk\\u00f6ping County, Sweden\",\"Gothenburg, G\\u00f6teborgs Stad, V\\u00e4stra G\\u00f6taland County, 411 10, Sweden\",\"Sk\\u00e5ne County, Sweden\",\"\\u00c4trans Frititidsanl\\u00e4ggning, N 836, Esered, \\u00c4tran, Falkenbergs kommun, Halland County, Sweden\",\"Rosenlundsparken, Skanstull, S\\u00f6dermalm, S\\u00f6dermalms stadsdelsomr\\u00e5de, Stockholms kommun, Stockholm County, Sweden\",\"Hallebol, \\u00c5m\\u00e5ls kommun, V\\u00e4stra G\\u00f6taland County, Sweden\",\"Mangskog, Arvika kommun, V\\u00e4rmland County, 671 96, Sweden\",\"N\\u00e4rNaturen-V\\u00e4stSverige AB, 69, Buer\\u00e5sv\\u00e4gen, Norra Hagen, Onsala kyrkby, Kungsbacka kommun, Halland County, 439 91, Sweden\",\"J\\u00e4mtland County, Sweden\",\"V\\u00e4xj\\u00f6, V\\u00e4xj\\u00f6 kommun, Kronoberg County, 351 04, Sweden\",\"Malmo, Malm\\u00f6 kommun, Sk\\u00e5ne County, Sweden\",\"Kristinehamn, Kristinehamns kommun, V\\u00e4rmland County, 681 31, Sweden\",\"S\\u00f6rsj\\u00f6n, Malung-S\\u00e4lens kommun, Dalarna County, Sweden\",\"Sk\\u00e5ne County, Sweden\",\"Sk\\u00e5ne County, Sweden\",\"Embassy of Belgium, Fleminggatan, Kungsholmen, Kungsholmens stadsdelsomr\\u00e5de, Stockholms kommun, Stockholm County, 112 27, Sweden\",\"V\\u00e4sterbotten County, Sweden\",\"V\\u00e4sterbotten County, Sweden\",\"V\\u00e4sterbotten County, Sweden\",\"Norrbotten County, Sweden\",\"V\\u00e4sterbotten County, Sweden\",\"V\\u00e4sterbotten County, Sweden\",\"Myrtorp, Snopptorp, Eskilstuna, Eskilstuna kommun, S\\u00f6dermanland County, 632 32, Sweden\",\"V\\u00e4sterbotten County, Sweden\",\"V\\u00e4sterbotten County, Sweden\",\"V\\u00e4sterbotten County, Sweden\",\"V\\u00e4sterbotten County, Sweden\",\"J\\u00e4rf\\u00e4lla, J\\u00e4rf\\u00e4lla kommun, Stockholm County, 177 41, Sweden\",\"V\\u00e4sterbotten County, Sweden\",\"V\\u00e4gsj\\u00f6fors, Vitsand distrikt, Torsby kommun, V\\u00e4rmland County, Sweden\",\"\\u00c5rhult, Sk\\u00f6vde kommun, V\\u00e4stra G\\u00f6taland County, Sweden\",\"Lule\\u00e5, Lule\\u00e5 kommun, Norrbotten County, 971 28, Sweden\",\"Region Norrland, Sweden\",\"Myrtorp, Snopptorp, Eskilstuna, Eskilstuna kommun, S\\u00f6dermanland County, 632 32, Sweden\",\"V\\u00e4rmskogs kyrka, S 668, V\\u00e4rmskog, Grums kommun, V\\u00e4rmland County, 664 92, Sweden\",\"Nolby, Alings\\u00e5s distrikt, Alings\\u00e5s, Alings\\u00e5s kommun, V\\u00e4stra G\\u00f6taland County, 441 39, Sweden\",\"Dunsj\\u00f6fj\\u00e4llet, V\\u00e4stra, Bergs kommun, J\\u00e4mtland County, Sweden\",\"Myrtorp, Snopptorp, Eskilstuna, Eskilstuna kommun, S\\u00f6dermanland County, 632 32, Sweden\",\"Kristinefors, Motala kommun, \\u00d6sterg\\u00f6tland County, Sweden\",\"Kristinefors, Motala kommun, \\u00d6sterg\\u00f6tland County, Sweden\",\"Olebyn, S\\u00e4ffle kommun, V\\u00e4rmland County, 661 96, Sweden\",\"B\\u00e4nteby, Dalby distrikt, Torsby kommun, V\\u00e4rmland County, 680 60, Sweden\",\"Gamla, Norrk\\u00f6pings kommun, \\u00d6sterg\\u00f6tland County, 617 90, Sweden\",\"Riksgr\\u00e4nsen, Rallarv\\u00e4gen, Riksgr\\u00e4nsen, Kiruna kommun, Norrbotten County, 981 94, Sweden\",\"R\\u00f6jd\\u00e5fors, \\u00d6stmark distrikt, Torsby kommun, V\\u00e4rmland County, Sweden\",\"Damm, Sannarp, Halmstad, Halmstads kommun, Halland County, Sweden\",\"Ladug\\u00e5rdsg\\u00e4rdet, \\u00d6stermalms stadsdelsomr\\u00e5de, Stockholms kommun, Stockholm County, Sweden\",\"Ladug\\u00e5rdsg\\u00e4rdet, \\u00d6stermalms stadsdelsomr\\u00e5de, Stockholms kommun, Stockholm County, Sweden\",\"Ladug\\u00e5rdsg\\u00e4rdet, \\u00d6stermalms stadsdelsomr\\u00e5de, Stockholms kommun, Stockholm County, Sweden\",\"Aneby kommun, J\\u00f6nk\\u00f6ping County, Sweden\",\"Aneby kommun, J\\u00f6nk\\u00f6ping County, Sweden\",\"Lill\\u00e5n, Bure\\u00e5, Skellefte\\u00e5 kommun, V\\u00e4sterbotten County, 932 52, Sweden\",\"H\\u00f6gdalen, Sj\\u00f6sav\\u00e4gen, H\\u00f6gdalen, Enskede-\\u00c5rsta-Vant\\u00f6rs stadsdelsomr\\u00e5de, Stockholms kommun, Stockholm County, 124 36, Sweden\",\"Farsta, Farsta stadsdelsomr\\u00e5de, Stockholm, Stockholms kommun, Stockholm County, 123 33, Sweden\",\"Sweden\",\"Gubb\\u00e4ngen, Herrhagsv\\u00e4gen, Enskede, Farsta stadsdelsomr\\u00e5de, Stockholms kommun, Stockholm County, 122 45, Sweden\",\"Stockholm, Stockholms kommun, Stockholm County, 111 29, Sweden\",\"Stockholm, Stockholms kommun, Stockholm County, 111 29, Sweden\",\"Stockholm, Stockholms kommun, Stockholm County, 111 29, Sweden\",\"\\u00d6sj\\u00f6v\\u00e5len, S\\u00f6dra, H\\u00e4rjedalens kommun, J\\u00e4mtland County, Sweden\",\"Essingeleden, Nybohov, Liljeholmen, H\\u00e4gersten-\\u00c4lvsj\\u00f6 stadsdelsomr\\u00e5de, Stockholms kommun, Stockholm County, 126 32, Sweden\",\"Skebokvarnsv\\u00e4gen, H\\u00f6gdalen, Enskede-\\u00c5rsta-Vant\\u00f6rs stadsdelsomr\\u00e5de, Stockholm, Stockholms kommun, Stockholm County, 124 36, Sweden\",\"Holmalund, Svenljunga kommun, V\\u00e4stra G\\u00f6taland County, Sweden\",\"Malmo, Malm\\u00f6 kommun, Sk\\u00e5ne County, Sweden\",\"\\u00d6sj\\u00f6v\\u00e5len, S\\u00f6dra, H\\u00e4rjedalens kommun, J\\u00e4mtland County, Sweden\",\"G\\u00e4vle, G\\u00e4vle kommun, G\\u00e4vleborg County, Sweden\",\"Province of Uppland, Sweden\",\"G\\u00e4vle, G\\u00e4vle kommun, G\\u00e4vleborg County, Sweden\",\"G\\u00e4vle, G\\u00e4vle kommun, G\\u00e4vleborg County, Sweden\",\"G\\u00e4vle, G\\u00e4vle kommun, G\\u00e4vleborg County, Sweden\",\"G\\u00e4vle, G\\u00e4vle kommun, G\\u00e4vleborg County, Sweden\",\"G\\u00e4vle, G\\u00e4vle kommun, G\\u00e4vleborg County, Sweden\",\"Smedby, Kalmar kommun, Kalmar County, 394 71, Sweden\",\"Ulvsundav\\u00e4gen, Annedal, Marieh\\u00e4ll, Bromma stadsdelsomr\\u00e5de, Stockholm, Stockholms kommun, Stockholm County, 168 66, Sweden\",\"V\\u00e4rmd\\u00f6leden, Skuru, Nacka, Nacka kommun, Stockholm County, 131 46, Sweden\",\"V\\u00e4sterbotten County, Sweden\",\"Norrbotten County, Sweden\",\"Norrbotten County, Sweden\",\"V\\u00e4sterbotten County, Sweden\",\"Norrbotten County, Sweden\",\"Norrbotten County, Sweden\",\"V\\u00e4sterbotten County, Sweden\",\"V\\u00e4sterbotten County, Sweden\",\"V\\u00e4sterbotten County, Sweden\",\"Norrbotten County, Sweden\",\"Norrbotten County, Sweden\",\"V\\u00e4sterbotten County, Sweden\",\"V\\u00e4rmlands, Glesbygd Norrlindsj\\u00f6, Hassel, Matfors kommundel, Attmar District, Sundsvall Municipality, V\\u00e4sternorrland County, Sweden\",\"Uppsala, Uppsala kommun, Uppsala County, 753 20, Sweden\",\"Dalarna County, Sweden\",\"Uppsala, Uppsala kommun, Uppsala County, 753 20, Sweden\",\"Dalarna County, Sweden\",\"G\\u00e4vleborg County, Sweden\",\"V\\u00e4rmlands, Glesbygd Norrlindsj\\u00f6, Hassel, Matfors kommundel, Attmar District, Sundsvall Municipality, V\\u00e4sternorrland County, Sweden\",\"V\\u00e4rmlands, Glesbygd Norrlindsj\\u00f6, Hassel, Matfors kommundel, Attmar District, Sundsvall Municipality, V\\u00e4sternorrland County, Sweden\",\"G\\u00e4vleborg County, Sweden\",\"G\\u00e4vleborg County, Sweden\",\"Uppsala, Uppsala kommun, Uppsala County, 753 20, Sweden\",\"Dalarna County, Sweden\",\"Uppsala, Uppsala kommun, Uppsala County, 753 20, Sweden\",\"Dalarna County, Sweden\",\"G\\u00e4vleborg County, Sweden\",\"V\\u00e4rmlands, Glesbygd Norrlindsj\\u00f6, Hassel, Matfors kommundel, Attmar District, Sundsvall Municipality, V\\u00e4sternorrland County, Sweden\",\"V\\u00e4rmlands, Glesbygd Norrlindsj\\u00f6, Hassel, Matfors kommundel, Attmar District, Sundsvall Municipality, V\\u00e4sternorrland County, Sweden\",\"Uppsala, Uppsala kommun, Uppsala County, 753 20, Sweden\",\"G\\u00e4vleborg County, Sweden\",\"Dalarna County, Sweden\",\"Uppsala, Uppsala kommun, Uppsala County, 753 20, Sweden\",\"Dalarna County, Sweden\",\"V\\u00e4rmlands, Glesbygd Norrlindsj\\u00f6, Hassel, Matfors kommundel, Attmar District, Sundsvall Municipality, V\\u00e4sternorrland County, Sweden\",\"V\\u00e4rmlands, Glesbygd Norrlindsj\\u00f6, Hassel, Matfors kommundel, Attmar District, Sundsvall Municipality, V\\u00e4sternorrland County, Sweden\",\"G\\u00e4vleborg County, Sweden\",\"Uppsala, Uppsala kommun, Uppsala County, 753 20, Sweden\",\"V\\u00e4rmlands, Glesbygd Norrlindsj\\u00f6, Hassel, Matfors kommundel, Attmar District, Sundsvall Municipality, V\\u00e4sternorrland County, Sweden\",\"Dalarna County, Sweden\",\"Karlstad, Karlstads kommun, V\\u00e4rmland County, 652 24, Sweden\",\"Sveriges meteorologiska och hydrologiska institut, 1, Folkborgsv\\u00e4gen, Klockaretorpet, Norrk\\u00f6ping, Norrk\\u00f6pings kommun, \\u00d6sterg\\u00f6tland County, 601 76, Sweden\",\"V\\u00e4rmlands, Glesbygd Norrlindsj\\u00f6, Hassel, Matfors kommundel, Attmar District, Sundsvall Municipality, V\\u00e4sternorrland County, Sweden\",\"Dalarna County, Sweden\",\"V\\u00e4rmlands, Glesbygd Norrlindsj\\u00f6, Hassel, Matfors kommundel, Attmar District, Sundsvall Municipality, V\\u00e4sternorrland County, Sweden\",\"Dalarna County, Sweden\",\"V\\u00e4rmlands, Glesbygd Norrlindsj\\u00f6, Hassel, Matfors kommundel, Attmar District, Sundsvall Municipality, V\\u00e4sternorrland County, Sweden\",\"Dalarna County, Sweden\",\"G\\u00e4vle, G\\u00e4vle kommun, G\\u00e4vleborg County, Sweden\",\"V\\u00e4rmlands, Glesbygd Norrlindsj\\u00f6, Hassel, Matfors kommundel, Attmar District, Sundsvall Municipality, V\\u00e4sternorrland County, Sweden\",\"V\\u00e4rmlands, Glesbygd Norrlindsj\\u00f6, Hassel, Matfors kommundel, Attmar District, Sundsvall Municipality, V\\u00e4sternorrland County, Sweden\",\"Norrbotten County, Sweden\",\"Norrbotten County, Sweden\",\"Norrbotten County, Sweden\",\"Norrbotten County, Sweden\",\"Norrbotten County, Sweden\",\"Norrbotten County, Sweden\",\"Norrbotten County, Sweden\",\"Norrbotten County, Sweden\",\"Norrbotten County, Sweden\",\"Norrbotten County, Sweden\",\"Norrbotten County, Sweden\",\"Norrbotten County, Sweden\",\"Norrbotten County, Sweden\",\"Norrbotten County, Sweden\",\"Norrbotten County, Sweden\",\"Norrbotten County, Sweden\",\"Norrbotten County, Sweden\",\"Norrbotten County, Sweden\",\"Norrbotten County, Sweden\",\"Norrbotten County, Sweden\",\"Norrbotten County, Sweden\",\"Norrbotten County, Sweden\",\"Norrbotten County, Sweden\",\"Norrbotten County, Sweden\",\"Norrbotten County, Sweden\",\"Bjuvs kommun, Sk\\u00e5ne County, Sweden\",\"Bjuvs kommun, Sk\\u00e5ne County, Sweden\",\"Gothenburg, G\\u00f6teborgs Stad, V\\u00e4stra G\\u00f6taland County, 411 10, Sweden\",\"Kalmar County, Sweden\",\"Sk\\u00e5ne County, Sweden\",\"\\u00c4ngelholms kommun, Sk\\u00e5ne County, Sweden\",\"Malmo, Malm\\u00f6 kommun, Sk\\u00e5ne County, Sweden\",\"M\\u00f6llev\\u00e5ngen, \\u00d6stra Grevie, Vellinge kommun, Sk\\u00e5ne County, 235 99, Sweden\",\"Essingeleden, Nybohov, Liljeholmen, H\\u00e4gersten-\\u00c4lvsj\\u00f6 stadsdelsomr\\u00e5de, Stockholms kommun, Stockholm County, 126 32, Sweden\",\"V\\u00e4rmlands, Glesbygd Norrlindsj\\u00f6, Hassel, Matfors kommundel, Attmar District, Sundsvall Municipality, V\\u00e4sternorrland County, Sweden\",\"Dunsj\\u00f6fj\\u00e4llet, V\\u00e4stra, Bergs kommun, J\\u00e4mtland County, Sweden\",\"\\u00d6sl\\u00f6v, Esl\\u00f6vs kommun, Sk\\u00e5ne County, 241 40, Sweden\",\"Gotland, Sweden\",\"Blekinge County, Sweden\",\"Sweden\",\"\\u00d6sterhaningev\\u00e4gen, \\u00c5brunna, Jordbro, Haninge kommun, Stockholm County, 137 64, Sweden\",\"Huddinge, Huddinge kommun, Stockholm County, 141 33, Sweden\",\"Haddebo, Hallsbergs kommun, \\u00d6rebro County, 697 93, Sweden\",\"Finsp\\u00e5ngs kommun, \\u00d6sterg\\u00f6tland County, Sweden\",\"L\\u00e4nnav\\u00e4gen, V\\u00e4stra Balingsn\\u00e4s, Huddinge, Huddinge kommun, Stockholm County, 141 34, Sweden\",\"Eskilstuna, Eskilstuna kommun, S\\u00f6dermanland County, 632 27, Sweden\",\"Link\\u00f6ping, Link\\u00f6pings kommun, \\u00d6sterg\\u00f6tland County, 582 23, Sweden\",\"Kungsbacka kommun, Halland County, Sweden\",\"Askersunds kommun, \\u00d6rebro County, Sweden\",\"H\\u00f6l\\u00f6, S\\u00f6dert\\u00e4lje kommun, Stockholm County, 153 71, Sweden\",\"Province of \\u00d6sterg\\u00f6tland, Sweden\",\"Province of \\u00d6sterg\\u00f6tland, Sweden\",\"Sala kommun, V\\u00e4stmanland County, Sweden\",\"Ny, Arvika kommun, V\\u00e4rmland County, 671 92, Sweden\",\"F\\u00e4sslinge, Eskilstuna, Eskilstuna kommun, S\\u00f6dermanland County, 635 06, Sweden\",\"\\u00d6sterhaninge, H\\u00e4sslingby, Jordbro, Haninge kommun, Stockholm County, 137 95, Sweden\",\"\\u00d6sterhaningev\\u00e4gen, \\u00c5brunna, Jordbro, Haninge kommun, Stockholm County, 137 64, Sweden\",\"Eskilstuna, Eskilstuna kommun, S\\u00f6dermanland County, 632 27, Sweden\",\"Lan, Enk\\u00f6pings kommun, Uppsala County, Sweden\",\"Vagnh\\u00e4rad, Trosa kommun, S\\u00f6dermanland County, 610 70, Sweden\",\"Malmby, Norrt\\u00e4lje kommun, Stockholm County, Sweden\",\"V\\u00e4rmlands, Glesbygd Norrlindsj\\u00f6, Hassel, Matfors kommundel, Attmar District, Sundsvall Municipality, V\\u00e4sternorrland County, Sweden\",\"Dalarna County, Sweden\",\"V\\u00e4rmlands, Glesbygd Norrlindsj\\u00f6, Hassel, Matfors kommundel, Attmar District, Sundsvall Municipality, V\\u00e4sternorrland County, Sweden\",\"Dalarna County, Sweden\",\"V\\u00e4rmlands, Glesbygd Norrlindsj\\u00f6, Hassel, Matfors kommundel, Attmar District, Sundsvall Municipality, V\\u00e4sternorrland County, Sweden\",\"Dalarna County, Sweden\",\"Uppsala, Uppsala kommun, Uppsala County, 753 20, Sweden\",\"Dalarna County, Sweden\",\"G\\u00e4vleborg County, Sweden\",\"G\\u00e4vleborg County, Sweden\",\"V\\u00e4rmlands, Glesbygd Norrlindsj\\u00f6, Hassel, Matfors kommundel, Attmar District, Sundsvall Municipality, V\\u00e4sternorrland County, Sweden\",\"V\\u00e4rmlands, Glesbygd Norrlindsj\\u00f6, Hassel, Matfors kommundel, Attmar District, Sundsvall Municipality, V\\u00e4sternorrland County, Sweden\",\"Dalarna County, Sweden\",\"G\\u00e4vleborg County, Sweden\",\"G\\u00e4vleborg County, Sweden\",\"Uppsala, Uppsala kommun, Uppsala County, 753 20, Sweden\",\"G\\u00e4vleborg County, Sweden\",\"Uppsala, Uppsala kommun, Uppsala County, 753 20, Sweden\",\"V\\u00e4rmlands, Glesbygd Norrlindsj\\u00f6, Hassel, Matfors kommundel, Attmar District, Sundsvall Municipality, V\\u00e4sternorrland County, Sweden\",\"Dalarna County, Sweden\",\"G\\u00e4vleborg County, Sweden\",\"G\\u00e4vleborg County, Sweden\",\"V\\u00e4rmlands, Glesbygd Norrlindsj\\u00f6, Hassel, Matfors kommundel, Attmar District, Sundsvall Municipality, V\\u00e4sternorrland County, Sweden\",\"Uppsala, Uppsala kommun, Uppsala County, 753 20, Sweden\",\"Dalarna County, Sweden\",\"G\\u00e4vleborg County, Sweden\",\"G\\u00e4vleborg County, Sweden\",\"V\\u00e4rmlands, Glesbygd Norrlindsj\\u00f6, Hassel, Matfors kommundel, Attmar District, Sundsvall Municipality, V\\u00e4sternorrland County, Sweden\",\"Uppsala, Uppsala kommun, Uppsala County, 753 20, Sweden\",\"Dalarna County, Sweden\",\"G\\u00e4vleborg County, Sweden\",\"G\\u00e4vleborg County, Sweden\",\"Uppsala, Uppsala kommun, Uppsala County, 753 20, Sweden\",\"Dalarna County, Sweden\",\"V\\u00e4rmlands, Glesbygd Norrlindsj\\u00f6, Hassel, Matfors kommundel, Attmar District, Sundsvall Municipality, V\\u00e4sternorrland County, Sweden\",\"G\\u00e4vleborg County, Sweden\",\"G\\u00e4vleborg County, Sweden\",\"G\\u00e4vleborg County, Sweden\",\"V\\u00e4rmlands, Glesbygd Norrlindsj\\u00f6, Hassel, Matfors kommundel, Attmar District, Sundsvall Municipality, V\\u00e4sternorrland County, Sweden\",\"Uppsala, Uppsala kommun, Uppsala County, 753 20, Sweden\",\"Dalarna County, Sweden\",\"G\\u00e4vleborg County, Sweden\",\"Sk\\u00e5ne County, Sweden\",\"Sk\\u00e5ne County, Sweden\",\"Dalarna County, Sweden\",\"Kalmarsund, Kalmar County, Sweden\",\"Hallsbergs kommun, \\u00d6rebro County, Sweden\",\"Hallsbergs kommun, \\u00d6rebro County, Sweden\",\"J\\u00e4rf\\u00e4lla, J\\u00e4rf\\u00e4lla kommun, Stockholm County, 177 41, Sweden\",\"Hallsbergs kommun, \\u00d6rebro County, Sweden\",\"Lax\\u00e5 kommun, \\u00d6rebro County, Sweden\",\"Province of N\\u00e4rke, Sweden\",\"Dunsj\\u00f6fj\\u00e4llet, V\\u00e4stra, Bergs kommun, J\\u00e4mtland County, Sweden\",\"Gothenburg, G\\u00f6teborgs Stad, V\\u00e4stra G\\u00f6taland County, 411 10, Sweden\",\"J\\u00e4rf\\u00e4lla, J\\u00e4rf\\u00e4lla kommun, Stockholm County, 177 41, Sweden\",\"J\\u00e4rf\\u00e4lla, J\\u00e4rf\\u00e4lla kommun, Stockholm County, 177 41, Sweden\",\"Stockholm, Stockholms kommun, Stockholm County, 111 29, Sweden\",\"Hallsbergs kommun, \\u00d6rebro County, Sweden\",\"Hallsbergs kommun, \\u00d6rebro County, Sweden\",\"Barkarbybron, Barkarby, J\\u00e4rf\\u00e4lla, J\\u00e4rf\\u00e4lla kommun, Stockholm County, 177 46, Sweden\",\"Stockholm, Stockholms kommun, Stockholm County, 111 29, Sweden\",\"Stockholm, Stockholms kommun, Stockholm County, 111 29, Sweden\",\"Hallsbergs kommun, \\u00d6rebro County, Sweden\",\"Hallsbergs kommun, \\u00d6rebro County, Sweden\",\"Barkarby, Veddestav\\u00e4gen, Barkarby, J\\u00e4rf\\u00e4lla, J\\u00e4rf\\u00e4lla kommun, Stockholm County, 175 06, Sweden\",\"Jakobsberg, Ynglingav\\u00e4gen, Hammaren, Jakobsberg, J\\u00e4rf\\u00e4lla, J\\u00e4rf\\u00e4lla kommun, Stockholm County, 177 57, Sweden\",\"B\\u00e5lsta, H\\u00e5bo kommun, Uppsala County, 756 22, Sweden\",\"J\\u00e4rf\\u00e4lla, J\\u00e4rf\\u00e4lla kommun, Stockholm County, 177 41, Sweden\",\"\\u00d6sterg\\u00f6tland County, Sweden\",\"G\\u00e4vleborg County, Sweden\",\"J\\u00e4mtland County, Sweden\",\"V\\u00e4sterbotten County, Sweden\",\"V\\u00e4sterbotten County, Sweden\",\"Norrbotten County, Sweden\",\"Norrbotten County, Sweden\",\"Norrbotten County, Sweden\",\"\\u00d6sterg\\u00f6tland County, Sweden\",\"G\\u00e4vleborg County, Sweden\",\"J\\u00e4mtland County, Sweden\",\"V\\u00e4sterbotten County, Sweden\",\"Norrbotten County, Sweden\",\"Norrbotten County, Sweden\",\"Norrbotten County, Sweden\",\"V\\u00e4sterbotten County, Sweden\",\"\\u00d6sterg\\u00f6tland County, Sweden\",\"V\\u00e4sterbotten County, Sweden\",\"G\\u00e4vleborg County, Sweden\",\"J\\u00e4mtland County, Sweden\",\"V\\u00e4sterbotten County, Sweden\",\"Norrbotten County, Sweden\",\"Norrbotten County, Sweden\",\"Ume\\u00e4lven, 921 91, Sweden\",\"\\u00d6sterg\\u00f6tland County, Sweden\",\"G\\u00e4vleborg County, Sweden\",\"J\\u00e4mtland County, Sweden\",\"V\\u00e4sterbotten County, Sweden\",\"V\\u00e4sterbotten County, Sweden\",\"Norrbotten County, Sweden\",\"Norrbotten County, Sweden\",\"\\u00d6sterg\\u00f6tland County, Sweden\",\"G\\u00e4vleborg County, Sweden\",\"J\\u00e4mtland County, Sweden\",\"V\\u00e4sterbotten County, Sweden\",\"V\\u00e4sterbotten County, Sweden\",\"Norrbotten County, Sweden\",\"Norrbotten County, Sweden\",\"G\\u00e4vleborg County, Sweden\",\"V\\u00e4sterbotten County, Sweden\",\"\\u00d6sterg\\u00f6tland County, Sweden\",\"J\\u00e4mtland County, Sweden\",\"V\\u00e4sterbotten County, Sweden\",\"Norrbotten County, Sweden\",\"Norrbotten County, Sweden\",\"\\u00d6sterg\\u00f6tland County, Sweden\",\"G\\u00e4vleborg County, Sweden\",\"J\\u00e4mtland County, Sweden\",\"V\\u00e4sterbotten County, Sweden\",\"Helsingborg, Helsingborgs kommun, Sk\\u00e5ne County, 252 68, Sweden\",\"S\\u00f6dert\\u00e4ljev\\u00e4gen, Nybohov, Liljeholmen, H\\u00e4gersten-\\u00c4lvsj\\u00f6 stadsdelsomr\\u00e5de, Stockholms kommun, Stockholm County, 117 43, Sweden\",\"V\\u00e4rmland County, Sweden\",\"Hyttgatan, Bruket, Sandviken, Sandvikens kommun, G\\u00e4vleborg County, 811 30, Sweden\",\"\\u00c5kullsj\\u00f6n, Robertsfors kommun, V\\u00e4sterbotten County, Sweden\",\"Kattilasaari, Haparanda kommun, Norrbotten County, Sweden\",\"\\u00d6sterbotten, Filipstads kommun, V\\u00e4rmland County, 680 96, Sweden\",\"\\u00d6sterbotten, Filipstads kommun, V\\u00e4rmland County, 680 96, Sweden\",\"\\u00c5sj\\u00f6n, Robertsfors kommun, V\\u00e4sterbotten County, 915 92, Sweden\",\"Bergtorpsv\\u00e4gen, Viggbyg\\u00e4rdet, T\\u00e4by, T\\u00e4by kommun, Stockholm County, 183 74, Sweden\",\"Norrbotten County, Sweden\",\"Abbek\\u00e5s, Skurups kommun, Sk\\u00e5ne County, 274 56, Sweden\",\"\\u00c5n\\u00e4set, Robertsfors kommun, V\\u00e4sterbotten County, 915 34, Sweden\",\"Raningsb\\u00e4cken, Nerbyn, Klabb\\u00f6le, Ume\\u00e5 kommun, V\\u00e4sterbotten County, 903 65, Sweden\",\"Bure\\u00e5, Skellefte\\u00e5 kommun, V\\u00e4sterbotten County, 932 52, Sweden\",\"Norrbotten County, Sweden\",\"Bure\\u00e5, Skellefte\\u00e5 kommun, V\\u00e4sterbotten County, 932 52, Sweden\",\"Hissj\\u00f6v\\u00e4gen, Hamptj\\u00e4rnsliden, Ume\\u00e5, Ume\\u00e5 kommun, V\\u00e4sterbotten County, 901 33, Sweden\",\"Nyland, Ytterl\\u00e4nn\\u00e4s District, Kramfors kommun, V\\u00e4sternorrland County, Sweden\",\"Sundsvall, Sundsvall Municipality, V\\u00e4sternorrland County, Sweden\",\"Husum, Grundsunda District, \\u00d6rnsk\\u00f6ldsviks kommun, V\\u00e4sternorrland County, 896 31, Sweden\",\"Sundsvall, Sundsvall Municipality, V\\u00e4sternorrland County, Sweden\",\"Ume\\u00e5, Ume\\u00e5 kommun, V\\u00e4sterbotten County, Sweden\",\"\\u00d6rnsk\\u00f6ldsvik, \\u00d6rnsk\\u00f6ldsviks kommun, V\\u00e4sternorrland County, Sweden\",\"G\\u00e4vleborg County, Sweden\",\"G\\u00e4vle, G\\u00e4vle kommun, G\\u00e4vleborg County, Sweden\",\"G\\u00e4vle, G\\u00e4vle kommun, G\\u00e4vleborg County, Sweden\",\"G\\u00e4vle, G\\u00e4vle kommun, G\\u00e4vleborg County, Sweden\",\"Hemlingby, G\\u00e4vle, G\\u00e4vle kommun, G\\u00e4vleborg County, 802 57, Sweden\",\"Solvalla, Ulvsundav\\u00e4gen, Sp\\u00e5nga-Tensta stadsdelsomr\\u00e5de, Stockholms kommun, Stockholm County, 168 71, Sweden\",\"Karlstad, Karlstads kommun, V\\u00e4rmland County, 652 24, Sweden\",\"Link\\u00f6ping, Link\\u00f6pings kommun, \\u00d6sterg\\u00f6tland County, 582 23, Sweden\",\"Dalarna County, Sweden\",\"Kung\\u00e4lvs kommun, V\\u00e4stra G\\u00f6taland County, Sweden\",\"Kalmar County, Sweden\",\"Kalmar County, Sweden\",\"Kalmar County, Sweden\",\"Kalmar County, Sweden\",\"Malmo, Malm\\u00f6 kommun, Sk\\u00e5ne County, Sweden\",\"Malmo, Malm\\u00f6 kommun, Sk\\u00e5ne County, Sweden\",\"B\\u00e4llsta\\u00e5n, Lilla Alby, Sundbybergs kommun, Stockholm County, 168 77, Sweden\",\"V\\u00e4stervik, V\\u00e4sterviks kommun, Kalmar County, 593 30, Sweden\",\"V\\u00e4stervik, V\\u00e4sterviks kommun, Kalmar County, 593 30, Sweden\",\"\\u00d6verum, V\\u00e4sterviks kommun, Kalmar County, 590 96, Sweden\",\"Vetlanda kommun, J\\u00f6nk\\u00f6ping County, Sweden\",\"Blekinge County, Sweden\",\"Kalmar County, Sweden\",\"Kalmar County, Sweden\",\"Kalmar County, Sweden\",\"Vetlanda kommun, J\\u00f6nk\\u00f6ping County, Sweden\",\"Dal\\u00e4lven, 784 68, Sweden\",\"Hags\\u00e4tra, Glanshammarsgatan, Hags\\u00e4tra, Enskede-\\u00c5rsta-Vant\\u00f6rs stadsdelsomr\\u00e5de, Stockholms kommun, Stockholm County, 124 73, Sweden\",\"Malmb\\u00e4ck, N\\u00e4ssj\\u00f6 kommun, J\\u00f6nk\\u00f6ping County, Sweden\",\"Kina, Mal\\u00e5 kommun, V\\u00e4sterbotten County, Sweden\",\"Nennesmo, Gislaveds kommun, J\\u00f6nk\\u00f6ping County, 330 21, Sweden\",\"Bohusl\\u00e4ns Museum, 1, Museigatan, Elseberg, Uddevalla, Uddevalla kommun, V\\u00e4stra G\\u00f6taland County, 451 50, Sweden\",\"Norrby, Bor\\u00e5s, Bor\\u00e5s kommun, V\\u00e4stra G\\u00f6taland County, 504 37, Sweden\",\"J\\u00f6nk\\u00f6pings kommun, J\\u00f6nk\\u00f6ping County, Sweden\",\"J\\u00f6nk\\u00f6pings kommun, J\\u00f6nk\\u00f6ping County, Sweden\",\"J\\u00f6nk\\u00f6pings kommun, J\\u00f6nk\\u00f6ping County, Sweden\",\"Viken, Karlsborgs kommun, V\\u00e4stra G\\u00f6taland County, Sweden\",\"Uddevalla, Uddevalla kommun, V\\u00e4stra G\\u00f6taland County, 451 30, Sweden\",\"Dunsj\\u00f6fj\\u00e4llet, V\\u00e4stra, Bergs kommun, J\\u00e4mtland County, Sweden\",\"Bor\\u00e5s, Bor\\u00e5s kommun, V\\u00e4stra G\\u00f6taland County, 503 31, Sweden\",\"Dunsj\\u00f6fj\\u00e4llet, V\\u00e4stra, Bergs kommun, J\\u00e4mtland County, Sweden\",\"Dunsj\\u00f6fj\\u00e4llet, V\\u00e4stra, Bergs kommun, J\\u00e4mtland County, Sweden\",\"Uddevalla, Uddevalla kommun, V\\u00e4stra G\\u00f6taland County, 451 30, Sweden\",\"Uddevalla, Uddevalla kommun, V\\u00e4stra G\\u00f6taland County, 451 30, Sweden\",\"J\\u00f6nk\\u00f6ping, J\\u00f6nk\\u00f6pings kommun, J\\u00f6nk\\u00f6ping County, 551 86, Sweden\",\"Vare, Norra Sandsj\\u00f6 distrikt, N\\u00e4ssj\\u00f6 kommun, J\\u00f6nk\\u00f6ping County, 571 62, Sweden\",\"N\\u00e4rNaturen-V\\u00e4stSverige AB, 69, Buer\\u00e5sv\\u00e4gen, Norra Hagen, Onsala kyrkby, Kungsbacka kommun, Halland County, 439 91, Sweden\",\"N\\u00e4rNaturen-V\\u00e4stSverige AB, 69, Buer\\u00e5sv\\u00e4gen, Norra Hagen, Onsala kyrkby, Kungsbacka kommun, Halland County, 439 91, Sweden\",\"Tollarp, Kristianstads kommun, Sk\\u00e5ne County, 298 32, Sweden\",\"Kina, Mal\\u00e5 kommun, V\\u00e4sterbotten County, Sweden\",\"M\\u00f6lndal Innerstad, Brogatan, Enerbacken, Bosg\\u00e5rden, M\\u00f6lndal, M\\u00f6lndals kommun, V\\u00e4stra G\\u00f6taland County, 431 31, Sweden\",\"J\\u00f6nk\\u00f6ping, J\\u00f6nk\\u00f6pings kommun, J\\u00f6nk\\u00f6ping County, 551 86, Sweden\",\"Sweden\",\"Bor\\u00e5s, Bor\\u00e5s kommun, V\\u00e4stra G\\u00f6taland County, 503 31, Sweden\",\"Bor\\u00e5s, Bor\\u00e5s kommun, V\\u00e4stra G\\u00f6taland County, 503 31, Sweden\",\"\\u00c4ngelholm, Industrigatan, \\u00c4ngelholms kommun, Sk\\u00e5ne County, 262 64, Sweden\",\"J\\u00e4mtland County, Sweden\",\"V\\u00e4sterbotten County, Sweden\",\"Norrbotten County, Sweden\",\"J\\u00e4mtland County, Sweden\",\"Norrbotten County, Sweden\",\"V\\u00e4sterbotten County, Sweden\",\"J\\u00e4mtland County, Sweden\",\"V\\u00e4sterbotten County, Sweden\",\"Norrbotten County, Sweden\",\"J\\u00e4mtland County, Sweden\",\"Norrbotten County, Sweden\",\"V\\u00e4sterbotten County, Sweden\",\"J\\u00e4mtland County, Sweden\",\"V\\u00e4sterbotten County, Sweden\",\"Norrbotten County, Sweden\",\"J\\u00e4mtland County, Sweden\",\"V\\u00e4sterbotten County, Sweden\",\"Norrbotten County, Sweden\",\"V\\u00e4sterbotten County, Sweden\",\"J\\u00e4mtland County, Sweden\",\"Norrbotten County, Sweden\",\"Norrbotten County, Sweden\",\"J\\u00e4mtland County, Sweden\",\"V\\u00e4sterbotten County, Sweden\",\"Sandviken, Sandvikens kommun, G\\u00e4vleborg County, 811 39, Sweden\",\"Kristianstad, Kristianstads kommun, Sk\\u00e5ne County, 291 22, Sweden\",\"Lulebo AB, 5, Professorsv\\u00e4gen, Pors\\u00f6n, Lule\\u00e5, Lule\\u00e5 kommun, Norrbotten County, 977 51, Sweden\",\"Lulebo AB, 5, Professorsv\\u00e4gen, Pors\\u00f6n, Lule\\u00e5, Lule\\u00e5 kommun, Norrbotten County, 977 51, Sweden\",\"\\u00d6sterbotten, Filipstads kommun, V\\u00e4rmland County, 680 96, Sweden\",\"Stambanan f\\u00e4rdigst\\u00e4lld, BD 543, Nyg\\u00e5rd, Pite\\u00e5 kommun, Norrbotten County, Sweden\",\"Korsv\\u00e4gen, Lilla Edets kommun, V\\u00e4stra G\\u00f6taland County, Sweden\",\"Kristinehamn, Kristinehamns kommun, V\\u00e4rmland County, 681 31, Sweden\",\"V\\u00e4sternorrland County, Sweden\",\"Molkom, Karlstads kommun, V\\u00e4rmland County, 655 60, Sweden\",\"J\\u00e4mtland County, Sweden\",\"Dunsj\\u00f6fj\\u00e4llet, V\\u00e4stra, Bergs kommun, J\\u00e4mtland County, Sweden\",\"Kungsbackaleden, Sk\\u00e5r, Centrum, Gothenburg, G\\u00f6teborgs Stad, V\\u00e4stra G\\u00f6taland County, 412 67, Sweden\",\"Gothenburg, G\\u00f6teborgs Stad, V\\u00e4stra G\\u00f6taland County, 411 10, Sweden\",\"J\\u00e4mtland County, Sweden\",\"J\\u00e4mtland County, Sweden\",\"J\\u00e4mtland County, Sweden\",\"Torne \\u00e4lv, Pajala kommun, Norrbotten County, Sweden\",\"Stockaryd, S\\u00e4vsj\\u00f6 kommun, J\\u00f6nk\\u00f6ping County, 570 02, Sweden\",\"S\\u00e4vsj\\u00f6 kommun, J\\u00f6nk\\u00f6ping County, Sweden\",\"Industrigatan, \\u00d6stra kasern, Kristianstad, Kristianstads kommun, Sk\\u00e5ne County, 291 35, Sweden\",\"Lidk\\u00f6ping, Lidk\\u00f6pings kommun, V\\u00e4stra G\\u00f6taland County, 531 31, Sweden\",\"Lidk\\u00f6ping, Lidk\\u00f6pings kommun, V\\u00e4stra G\\u00f6taland County, 531 31, Sweden\",\"V\\u00e4nern, 661 91, Sweden\",\"Himmelstalund, Norrk\\u00f6pings kommun, \\u00d6sterg\\u00f6tland County, Sweden\"],\"lat\":[59.7319788,57.4008122,60.6750132,61.2603424,56.12401225,60.6750132,58.3490555,58.3490555,57.184902,56.12401225,55.8479416,58.4098135,58.3965726,59.336934,60.1561584,58.3810286,59.6749712,56.9608104,58.4823802,59.8322934,60.332434750000004,61.2998501,61.2998501,61.2998501,55.85,60.929974,60.929974,61.2603424,55.8479416,55.83281235,55.83281235,59.8393142,57.7072326,57.7072326,57.7072326,57.7072326,57.5812266,57.7072326,55.8479416,57.1245746,59.310735300000005,58.9713088,59.7527746,57.4290911,63.345222199999995,56.8787183,55.6052931,59.3113619,61.4120225,55.8479416,55.8479416,59.3320838,64.72847095,64.72847095,64.72847095,66.9808129,64.72847095,64.72847095,59.3594611,64.72847095,64.72847095,64.72847095,64.72847095,59.4204736,64.72847095,60.2869823,58.5594742,65.5831187,64.6149221,59.3594611,59.4550579,57.9389041,62.9072629,59.3594611,58.7908992,58.7908992,59.2726901,60.5636426,58.5751463,68.4266175,60.3887396,56.6834966,59.344243,59.344243,59.344243,57.833333,57.833333,64.6233735,59.2637643,59.2453471,59.6749712,59.2636202,59.3251172,59.3251172,59.3251172,62.6842554,59.3046441,59.2631961,57.4008122,55.6052931,62.6842554,60.6750132,59.9478778,60.6750132,60.6750132,60.6750132,60.6750132,60.6750132,56.6796081,59.3584181,59.3151883,64.72847095,66.9808129,66.9808129,64.72847095,66.9808129,66.9808129,64.72847095,64.72847095,64.72847095,66.9808129,66.9808129,64.72847095,62.2440571,59.8586126,61.060377849999995,59.8586126,61.060377849999995,61.2603424,62.2440571,62.2440571,61.2603424,61.2603424,59.8586126,61.060377849999995,59.8586126,61.060377849999995,61.2603424,62.2440571,62.2440571,59.8586126,61.2603424,61.060377849999995,59.8586126,61.060377849999995,62.2440571,62.2440571,61.2603424,59.8586126,62.2440571,61.060377849999995,59.3809146,58.5812314,62.2440571,61.060377849999995,62.2440571,61.060377849999995,62.2440571,61.060377849999995,60.6750132,62.2440571,62.2440571,66.9808129,66.9808129,66.9808129,66.9808129,66.9808129,66.9808129,66.9808129,66.9808129,66.9808129,66.9808129,66.9808129,66.9808129,66.9808129,66.9808129,66.9808129,66.9808129,66.9808129,66.9808129,66.9808129,66.9808129,66.9808129,66.9808129,66.9808129,66.9808129,66.9808129,56.0856449,56.0856449,57.7072326,57.02784235,55.8479416,56.2429224,55.6052931,55.4775187,59.3046441,62.2440571,62.9072629,55.8811236,57.4174802,56.12401225,59.6749712,59.1221096,59.2293827,58.9140114,58.8,59.2239056,59.3717379,58.4098135,57.466667,58.866667,59.025492,58.36782395,58.36782395,59.966667,59.7166855,59.4153081,59.1274727,59.1221096,59.3717379,59.8303413,58.9468803,59.6920393,62.2440571,61.060377849999995,62.2440571,61.060377849999995,62.2440571,61.060377849999995,59.8586126,61.060377849999995,61.2603424,61.2603424,62.2440571,62.2440571,61.060377849999995,61.2603424,61.2603424,59.8586126,61.2603424,59.8586126,62.2440571,61.060377849999995,61.2603424,61.2603424,62.2440571,59.8586126,61.060377849999995,61.2603424,61.2603424,62.2440571,59.8586126,61.060377849999995,61.2603424,61.2603424,59.8586126,61.060377849999995,62.2440571,61.2603424,61.2603424,61.2603424,62.2440571,59.8586126,61.060377849999995,61.2603424,55.8479416,55.8479416,61.060377849999995,56.6595435,59.05,59.05,59.4204736,59.05,58.95,59.05760505000001,62.9072629,57.7072326,59.4204736,59.4204736,59.3251172,59.05,59.05,59.4043861,59.3251172,59.3251172,59.05,59.05,59.4051955,59.4238735,59.5682102,59.4204736,58.36782395,61.2603424,63.345222199999995,64.72847095,64.72847095,66.9808129,66.9808129,66.9808129,58.36782395,61.2603424,63.345222199999995,64.72847095,66.9808129,66.9808129,66.9808129,64.72847095,58.36782395,64.72847095,61.2603424,63.345222199999995,64.72847095,66.9808129,66.9808129,65.0366219,58.36782395,61.2603424,63.345222199999995,64.72847095,64.72847095,66.9808129,66.9808129,58.36782395,61.2603424,63.345222199999995,64.72847095,64.72847095,66.9808129,66.9808129,61.2603424,64.72847095,58.36782395,63.345222199999995,64.72847095,66.9808129,66.9808129,58.36782395,61.2603424,63.345222199999995,64.72847095,56.0442098,59.3061816,59.89076245,60.6153753,64.2674993,65.9479783,60.041167,60.041167,64.273358,59.4476206,66.9808129,55.3992749,64.2789836,63.824515,64.6179842,66.9808129,64.6179842,63.8575704,63.0085095,62.3907552,63.3290999,62.3907552,63.8256568,63.2888613,61.2603424,60.6750132,60.6750132,60.6750132,60.6524735,59.3674487,59.3809146,58.4098135,61.060377849999995,57.9,57.02784235,57.02784235,57.02784235,57.02784235,55.6052931,55.6052931,59.3620478,57.7594186,57.7594186,57.9887487,57.36554305,56.12401225,57.02784235,57.02784235,57.02784235,57.36554305,60.1754162,59.2625476,57.5812266,65.0745892,57.2224669,58.34923445,57.7252121,57.783333,57.783333,57.783333,58.6313939,58.3490555,62.9072629,57.7210839,62.9072629,62.9072629,58.3490555,58.3490555,57.7825634,57.5074901,57.4290911,57.4290911,55.9340622,65.0745892,57.6560881,57.7825634,59.6749712,57.7210839,57.7210839,56.2452597,63.345222199999995,64.72847095,66.9808129,63.345222199999995,66.9808129,64.72847095,63.345222199999995,64.72847095,66.9808129,63.345222199999995,66.9808129,64.72847095,63.345222199999995,64.72847095,66.9808129,63.345222199999995,64.72847095,66.9808129,64.72847095,63.345222199999995,66.9808129,66.9808129,63.345222199999995,64.72847095,60.619422,56.0293778,65.6190891,65.6190891,60.041167,65.4858832,58.0923015,59.3113619,63.058969250000004,59.602235,63.345222199999995,62.9072629,57.6874067,57.7072326,63.345222199999995,63.345222199999995,63.345222199999995,67.2527895,57.3195952,57.333333,56.0448324,58.5037196,58.5037196,58.88666165,58.5934495],\"legendgroup\":\"blue\",\"lon\":[17.302278,13.1715619,17.1467019,16.694698498129124,15.40220875187768,17.1467019,11.9382855,11.9382855,14.0410977,15.40220875187768,13.633711699754647,15.6245252,11.4196339,18.0723246,18.7922859,11.441026097756726,14.5208584,12.85470664576265,16.3216224,17.744172,14.533009536731171,17.0607599,17.0607599,17.0607599,13.316667,17.1406678,17.1406678,16.694698498129124,13.633711699754647,13.29918929639072,13.29918929639072,17.6406589,11.9670171,11.9670171,11.9670171,11.9670171,14.4586279,11.9670171,13.633711699754647,12.9497621,18.066913266431463,12.6025801,12.8243585,11.9652016,14.124985984451182,14.8094385,13.0001566,14.11176,13.0842058,13.633711699754647,13.633711699754647,18.0489776,18.553323468349845,18.553323468349845,18.553323468349845,19.99927009304014,18.553323468349845,18.553323468349845,16.4875971,18.553323468349845,18.553323468349845,18.553323468349845,18.553323468349845,17.8285472,18.553323468349845,13.0454492,13.7062529,22.1459535,17.83272124323154,16.4875971,12.917652822703179,12.5467392,12.7867854,16.4875971,15.3819585,15.3819585,12.6592889,13.0840825,15.7801496,18.1207193,12.6525604,12.90133018880557,18.0908903,18.0908903,18.0908903,14.75,14.75,21.2159435,18.0430573,18.0883657,14.5208584,18.0820785,18.0710935,18.0710935,18.0710935,12.3069891,18.0178785,18.0419409,13.1715619,13.0001566,12.3069891,17.1467019,18.062264738791697,17.1467019,17.1467019,17.1467019,17.1467019,17.1467019,16.2364968,17.9468508,18.2116433,18.553323468349845,19.99927009304014,19.99927009304014,18.553323468349845,19.99927009304014,19.99927009304014,18.553323468349845,18.553323468349845,18.553323468349845,19.99927009304014,19.99927009304014,18.553323468349845,16.8094509,17.6387436,14.215087316959057,17.6387436,14.215087316959057,16.694698498129124,16.8094509,16.8094509,16.694698498129124,16.694698498129124,17.6387436,14.215087316959057,17.6387436,14.215087316959057,16.694698498129124,16.8094509,16.8094509,17.6387436,16.694698498129124,14.215087316959057,17.6387436,14.215087316959057,16.8094509,16.8094509,16.694698498129124,17.6387436,16.8094509,14.215087316959057,13.5027631,16.1480899,16.8094509,14.215087316959057,16.8094509,14.215087316959057,16.8094509,14.215087316959057,17.1467019,16.8094509,16.8094509,19.99927009304014,19.99927009304014,19.99927009304014,19.99927009304014,19.99927009304014,19.99927009304014,19.99927009304014,19.99927009304014,19.99927009304014,19.99927009304014,19.99927009304014,19.99927009304014,19.99927009304014,19.99927009304014,19.99927009304014,19.99927009304014,19.99927009304014,19.99927009304014,19.99927009304014,19.99927009304014,19.99927009304014,19.99927009304014,19.99927009304014,19.99927009304014,19.99927009304014,12.9139805,12.9139805,11.9670171,16.575102000807693,13.633711699754647,12.8619375,13.0001566,13.1311009,18.0178785,16.8094509,12.7867854,13.3417068,18.536957927499856,15.40220875187768,14.5208584,18.1321061,17.9748815,15.3694021,15.833333,18.0034784,16.5051474,15.6245252,12.166667,14.916667,17.5355529,16.050427203885352,16.050427203885352,16.6,12.4704265,16.6917922,18.1666192,18.1321061,16.5051474,16.9108305,17.4955923,18.2325537,16.8094509,14.215087316959057,16.8094509,14.215087316959057,16.8094509,14.215087316959057,17.6387436,14.215087316959057,16.694698498129124,16.694698498129124,16.8094509,16.8094509,14.215087316959057,16.694698498129124,16.694698498129124,17.6387436,16.694698498129124,17.6387436,16.8094509,14.215087316959057,16.694698498129124,16.694698498129124,16.8094509,17.6387436,14.215087316959057,16.694698498129124,16.694698498129124,16.8094509,17.6387436,14.215087316959057,16.694698498129124,16.694698498129124,17.6387436,14.215087316959057,16.8094509,16.694698498129124,16.694698498129124,16.694698498129124,16.8094509,17.6387436,14.215087316959057,16.694698498129124,13.633711699754647,13.633711699754647,14.215087316959057,16.42369397293767,15.25,15.25,17.8285472,15.25,14.5,14.985962826717303,12.7867854,11.9670171,17.8285472,17.8285472,18.0710935,15.25,15.25,17.8658944,18.0710935,18.0710935,15.25,15.25,17.8643513,17.8329911,17.5293647,17.8285472,16.050427203885352,16.694698498129124,14.124985984451182,18.553323468349845,18.553323468349845,19.99927009304014,19.99927009304014,19.99927009304014,16.050427203885352,16.694698498129124,14.124985984451182,18.553323468349845,19.99927009304014,19.99927009304014,19.99927009304014,18.553323468349845,16.050427203885352,18.553323468349845,16.694698498129124,14.124985984451182,18.553323468349845,19.99927009304014,19.99927009304014,17.3992066,16.050427203885352,16.694698498129124,14.124985984451182,18.553323468349845,18.553323468349845,19.99927009304014,19.99927009304014,16.050427203885352,16.694698498129124,14.124985984451182,18.553323468349845,18.553323468349845,19.99927009304014,19.99927009304014,16.694698498129124,18.553323468349845,16.050427203885352,14.124985984451182,18.553323468349845,19.99927009304014,19.99927009304014,16.050427203885352,16.694698498129124,14.124985984451182,18.553323468349845,12.703706,18.0219957,13.294761705669245,16.7778139,20.49649990638411,23.798576,14.1388929,14.1388929,20.4237409,18.0934674,19.99927009304014,13.6002756,21.0447987,20.1318179,21.200493,19.99927009304014,21.200493,20.2069913,17.7570693,17.3071024,19.1640042,17.3071024,20.2630745,18.7160209,16.694698498129124,17.1467019,17.1467019,17.1467019,17.1631917,17.940296392037354,13.5027631,15.6245252,14.215087316959057,11.916667,16.575102000807693,16.575102000807693,16.575102000807693,16.575102000807693,13.0001566,13.0001566,17.9590297,16.6385035,16.6385035,16.3143158,15.167830505066155,15.40220875187768,16.575102000807693,16.575102000807693,16.575102000807693,15.167830505066155,16.4498376,18.012769,14.4586279,18.9471698,13.5741234,11.92794500665887,12.9304267,14.133333,14.133333,14.133333,14.25848080411961,11.9382855,12.7867854,12.9407407,12.7867854,12.7867854,11.9382855,11.9382855,14.165719,14.6758594,11.9652016,11.9652016,13.9751411,18.9471698,12.0172243,14.165719,14.5208584,12.9407407,12.9407407,12.854404863512958,14.124985984451182,18.553323468349845,19.99927009304014,14.124985984451182,19.99927009304014,18.553323468349845,14.124985984451182,18.553323468349845,19.99927009304014,14.124985984451182,19.99927009304014,18.553323468349845,14.124985984451182,18.553323468349845,19.99927009304014,14.124985984451182,18.553323468349845,19.99927009304014,18.553323468349845,14.124985984451182,19.99927009304014,19.99927009304014,14.124985984451182,18.553323468349845,16.7724214,14.1566859,22.1475287,22.1475287,14.1388929,20.503733,12.0832843,14.11176,18.101368580066033,13.728668,14.124985984451182,12.7867854,12.0021095,11.9670171,14.124985984451182,14.124985984451182,14.124985984451182,23.1141856,14.5911191,14.666667,14.1590313,13.1576427,13.1576427,13.56272935418323,16.1456822],\"marker\":{\"color\":\"blue\"},\"mode\":\"markers\",\"name\":\"blue\",\"showlegend\":true,\"subplot\":\"mapbox\",\"type\":\"scattermapbox\"}],                        {\"template\":{\"data\":{\"histogram2dcontour\":[{\"type\":\"histogram2dcontour\",\"colorbar\":{\"outlinewidth\":0,\"ticks\":\"\"},\"colorscale\":[[0.0,\"#0d0887\"],[0.1111111111111111,\"#46039f\"],[0.2222222222222222,\"#7201a8\"],[0.3333333333333333,\"#9c179e\"],[0.4444444444444444,\"#bd3786\"],[0.5555555555555556,\"#d8576b\"],[0.6666666666666666,\"#ed7953\"],[0.7777777777777778,\"#fb9f3a\"],[0.8888888888888888,\"#fdca26\"],[1.0,\"#f0f921\"]]}],\"choropleth\":[{\"type\":\"choropleth\",\"colorbar\":{\"outlinewidth\":0,\"ticks\":\"\"}}],\"histogram2d\":[{\"type\":\"histogram2d\",\"colorbar\":{\"outlinewidth\":0,\"ticks\":\"\"},\"colorscale\":[[0.0,\"#0d0887\"],[0.1111111111111111,\"#46039f\"],[0.2222222222222222,\"#7201a8\"],[0.3333333333333333,\"#9c179e\"],[0.4444444444444444,\"#bd3786\"],[0.5555555555555556,\"#d8576b\"],[0.6666666666666666,\"#ed7953\"],[0.7777777777777778,\"#fb9f3a\"],[0.8888888888888888,\"#fdca26\"],[1.0,\"#f0f921\"]]}],\"heatmap\":[{\"type\":\"heatmap\",\"colorbar\":{\"outlinewidth\":0,\"ticks\":\"\"},\"colorscale\":[[0.0,\"#0d0887\"],[0.1111111111111111,\"#46039f\"],[0.2222222222222222,\"#7201a8\"],[0.3333333333333333,\"#9c179e\"],[0.4444444444444444,\"#bd3786\"],[0.5555555555555556,\"#d8576b\"],[0.6666666666666666,\"#ed7953\"],[0.7777777777777778,\"#fb9f3a\"],[0.8888888888888888,\"#fdca26\"],[1.0,\"#f0f921\"]]}],\"heatmapgl\":[{\"type\":\"heatmapgl\",\"colorbar\":{\"outlinewidth\":0,\"ticks\":\"\"},\"colorscale\":[[0.0,\"#0d0887\"],[0.1111111111111111,\"#46039f\"],[0.2222222222222222,\"#7201a8\"],[0.3333333333333333,\"#9c179e\"],[0.4444444444444444,\"#bd3786\"],[0.5555555555555556,\"#d8576b\"],[0.6666666666666666,\"#ed7953\"],[0.7777777777777778,\"#fb9f3a\"],[0.8888888888888888,\"#fdca26\"],[1.0,\"#f0f921\"]]}],\"contourcarpet\":[{\"type\":\"contourcarpet\",\"colorbar\":{\"outlinewidth\":0,\"ticks\":\"\"}}],\"contour\":[{\"type\":\"contour\",\"colorbar\":{\"outlinewidth\":0,\"ticks\":\"\"},\"colorscale\":[[0.0,\"#0d0887\"],[0.1111111111111111,\"#46039f\"],[0.2222222222222222,\"#7201a8\"],[0.3333333333333333,\"#9c179e\"],[0.4444444444444444,\"#bd3786\"],[0.5555555555555556,\"#d8576b\"],[0.6666666666666666,\"#ed7953\"],[0.7777777777777778,\"#fb9f3a\"],[0.8888888888888888,\"#fdca26\"],[1.0,\"#f0f921\"]]}],\"surface\":[{\"type\":\"surface\",\"colorbar\":{\"outlinewidth\":0,\"ticks\":\"\"},\"colorscale\":[[0.0,\"#0d0887\"],[0.1111111111111111,\"#46039f\"],[0.2222222222222222,\"#7201a8\"],[0.3333333333333333,\"#9c179e\"],[0.4444444444444444,\"#bd3786\"],[0.5555555555555556,\"#d8576b\"],[0.6666666666666666,\"#ed7953\"],[0.7777777777777778,\"#fb9f3a\"],[0.8888888888888888,\"#fdca26\"],[1.0,\"#f0f921\"]]}],\"mesh3d\":[{\"type\":\"mesh3d\",\"colorbar\":{\"outlinewidth\":0,\"ticks\":\"\"}}],\"scatter\":[{\"fillpattern\":{\"fillmode\":\"overlay\",\"size\":10,\"solidity\":0.2},\"type\":\"scatter\"}],\"parcoords\":[{\"type\":\"parcoords\",\"line\":{\"colorbar\":{\"outlinewidth\":0,\"ticks\":\"\"}}}],\"scatterpolargl\":[{\"type\":\"scatterpolargl\",\"marker\":{\"colorbar\":{\"outlinewidth\":0,\"ticks\":\"\"}}}],\"bar\":[{\"error_x\":{\"color\":\"#2a3f5f\"},\"error_y\":{\"color\":\"#2a3f5f\"},\"marker\":{\"line\":{\"color\":\"#E5ECF6\",\"width\":0.5},\"pattern\":{\"fillmode\":\"overlay\",\"size\":10,\"solidity\":0.2}},\"type\":\"bar\"}],\"scattergeo\":[{\"type\":\"scattergeo\",\"marker\":{\"colorbar\":{\"outlinewidth\":0,\"ticks\":\"\"}}}],\"scatterpolar\":[{\"type\":\"scatterpolar\",\"marker\":{\"colorbar\":{\"outlinewidth\":0,\"ticks\":\"\"}}}],\"histogram\":[{\"marker\":{\"pattern\":{\"fillmode\":\"overlay\",\"size\":10,\"solidity\":0.2}},\"type\":\"histogram\"}],\"scattergl\":[{\"type\":\"scattergl\",\"marker\":{\"colorbar\":{\"outlinewidth\":0,\"ticks\":\"\"}}}],\"scatter3d\":[{\"type\":\"scatter3d\",\"line\":{\"colorbar\":{\"outlinewidth\":0,\"ticks\":\"\"}},\"marker\":{\"colorbar\":{\"outlinewidth\":0,\"ticks\":\"\"}}}],\"scattermapbox\":[{\"type\":\"scattermapbox\",\"marker\":{\"colorbar\":{\"outlinewidth\":0,\"ticks\":\"\"}}}],\"scatterternary\":[{\"type\":\"scatterternary\",\"marker\":{\"colorbar\":{\"outlinewidth\":0,\"ticks\":\"\"}}}],\"scattercarpet\":[{\"type\":\"scattercarpet\",\"marker\":{\"colorbar\":{\"outlinewidth\":0,\"ticks\":\"\"}}}],\"carpet\":[{\"aaxis\":{\"endlinecolor\":\"#2a3f5f\",\"gridcolor\":\"white\",\"linecolor\":\"white\",\"minorgridcolor\":\"white\",\"startlinecolor\":\"#2a3f5f\"},\"baxis\":{\"endlinecolor\":\"#2a3f5f\",\"gridcolor\":\"white\",\"linecolor\":\"white\",\"minorgridcolor\":\"white\",\"startlinecolor\":\"#2a3f5f\"},\"type\":\"carpet\"}],\"table\":[{\"cells\":{\"fill\":{\"color\":\"#EBF0F8\"},\"line\":{\"color\":\"white\"}},\"header\":{\"fill\":{\"color\":\"#C8D4E3\"},\"line\":{\"color\":\"white\"}},\"type\":\"table\"}],\"barpolar\":[{\"marker\":{\"line\":{\"color\":\"#E5ECF6\",\"width\":0.5},\"pattern\":{\"fillmode\":\"overlay\",\"size\":10,\"solidity\":0.2}},\"type\":\"barpolar\"}],\"pie\":[{\"automargin\":true,\"type\":\"pie\"}]},\"layout\":{\"autotypenumbers\":\"strict\",\"colorway\":[\"#636efa\",\"#EF553B\",\"#00cc96\",\"#ab63fa\",\"#FFA15A\",\"#19d3f3\",\"#FF6692\",\"#B6E880\",\"#FF97FF\",\"#FECB52\"],\"font\":{\"color\":\"#2a3f5f\"},\"hovermode\":\"closest\",\"hoverlabel\":{\"align\":\"left\"},\"paper_bgcolor\":\"white\",\"plot_bgcolor\":\"#E5ECF6\",\"polar\":{\"bgcolor\":\"#E5ECF6\",\"angularaxis\":{\"gridcolor\":\"white\",\"linecolor\":\"white\",\"ticks\":\"\"},\"radialaxis\":{\"gridcolor\":\"white\",\"linecolor\":\"white\",\"ticks\":\"\"}},\"ternary\":{\"bgcolor\":\"#E5ECF6\",\"aaxis\":{\"gridcolor\":\"white\",\"linecolor\":\"white\",\"ticks\":\"\"},\"baxis\":{\"gridcolor\":\"white\",\"linecolor\":\"white\",\"ticks\":\"\"},\"caxis\":{\"gridcolor\":\"white\",\"linecolor\":\"white\",\"ticks\":\"\"}},\"coloraxis\":{\"colorbar\":{\"outlinewidth\":0,\"ticks\":\"\"}},\"colorscale\":{\"sequential\":[[0.0,\"#0d0887\"],[0.1111111111111111,\"#46039f\"],[0.2222222222222222,\"#7201a8\"],[0.3333333333333333,\"#9c179e\"],[0.4444444444444444,\"#bd3786\"],[0.5555555555555556,\"#d8576b\"],[0.6666666666666666,\"#ed7953\"],[0.7777777777777778,\"#fb9f3a\"],[0.8888888888888888,\"#fdca26\"],[1.0,\"#f0f921\"]],\"sequentialminus\":[[0.0,\"#0d0887\"],[0.1111111111111111,\"#46039f\"],[0.2222222222222222,\"#7201a8\"],[0.3333333333333333,\"#9c179e\"],[0.4444444444444444,\"#bd3786\"],[0.5555555555555556,\"#d8576b\"],[0.6666666666666666,\"#ed7953\"],[0.7777777777777778,\"#fb9f3a\"],[0.8888888888888888,\"#fdca26\"],[1.0,\"#f0f921\"]],\"diverging\":[[0,\"#8e0152\"],[0.1,\"#c51b7d\"],[0.2,\"#de77ae\"],[0.3,\"#f1b6da\"],[0.4,\"#fde0ef\"],[0.5,\"#f7f7f7\"],[0.6,\"#e6f5d0\"],[0.7,\"#b8e186\"],[0.8,\"#7fbc41\"],[0.9,\"#4d9221\"],[1,\"#276419\"]]},\"xaxis\":{\"gridcolor\":\"white\",\"linecolor\":\"white\",\"ticks\":\"\",\"title\":{\"standoff\":15},\"zerolinecolor\":\"white\",\"automargin\":true,\"zerolinewidth\":2},\"yaxis\":{\"gridcolor\":\"white\",\"linecolor\":\"white\",\"ticks\":\"\",\"title\":{\"standoff\":15},\"zerolinecolor\":\"white\",\"automargin\":true,\"zerolinewidth\":2},\"scene\":{\"xaxis\":{\"backgroundcolor\":\"#E5ECF6\",\"gridcolor\":\"white\",\"linecolor\":\"white\",\"showbackground\":true,\"ticks\":\"\",\"zerolinecolor\":\"white\",\"gridwidth\":2},\"yaxis\":{\"backgroundcolor\":\"#E5ECF6\",\"gridcolor\":\"white\",\"linecolor\":\"white\",\"showbackground\":true,\"ticks\":\"\",\"zerolinecolor\":\"white\",\"gridwidth\":2},\"zaxis\":{\"backgroundcolor\":\"#E5ECF6\",\"gridcolor\":\"white\",\"linecolor\":\"white\",\"showbackground\":true,\"ticks\":\"\",\"zerolinecolor\":\"white\",\"gridwidth\":2}},\"shapedefaults\":{\"line\":{\"color\":\"#2a3f5f\"}},\"annotationdefaults\":{\"arrowcolor\":\"#2a3f5f\",\"arrowhead\":0,\"arrowwidth\":1},\"geo\":{\"bgcolor\":\"white\",\"landcolor\":\"#E5ECF6\",\"subunitcolor\":\"white\",\"showland\":true,\"showlakes\":true,\"lakecolor\":\"white\"},\"title\":{\"x\":0.05},\"mapbox\":{\"style\":\"light\"}}},\"mapbox\":{\"domain\":{\"x\":[0.0,1.0],\"y\":[0.0,1.0]},\"center\":{\"lat\":63.333112,\"lon\":16.007205},\"zoom\":3,\"style\":\"carto-positron\"},\"legend\":{\"title\":{\"text\":\"color\"},\"tracegroupgap\":0},\"margin\":{\"t\":60},\"height\":600},                        {\"responsive\": true}                    ).then(function(){\n",
       "                            \n",
       "var gd = document.getElementById('5e2b7000-cd71-46e1-b8f9-22dbd3a7f470');\n",
       "var x = new MutationObserver(function (mutations, observer) {{\n",
       "        var display = window.getComputedStyle(gd).display;\n",
       "        if (!display || display === 'none') {{\n",
       "            console.log([gd, 'removed!']);\n",
       "            Plotly.purge(gd);\n",
       "            observer.disconnect();\n",
       "        }}\n",
       "}});\n",
       "\n",
       "// Listen for the removal of the full notebook cells\n",
       "var notebookContainer = gd.closest('#notebook-container');\n",
       "if (notebookContainer) {{\n",
       "    x.observe(notebookContainer, {childList: true});\n",
       "}}\n",
       "\n",
       "// Listen for the clearing of the current output cell\n",
       "var outputEl = gd.closest('.output');\n",
       "if (outputEl) {{\n",
       "    x.observe(outputEl, {childList: true});\n",
       "}}\n",
       "\n",
       "                        })                };                });            </script>        </div>"
      ]
     },
     "metadata": {},
     "output_type": "display_data"
    }
   ],
   "source": [
    "fig = px.scatter_mapbox(\n",
    "    df,\n",
    "    lat=\"loc_lat\",\n",
    "    lon=\"loc_lon\",\n",
    "    hover_name=df[\"loc_display_name\"],\n",
    "    hover_data=[\"id\"],\n",
    "    color_discrete_map={\"blue\": \"blue\", \"red\": \"red\"},\n",
    "    color=\"color\",\n",
    "    mapbox_style=\"carto-positron\",\n",
    "    height=600,\n",
    "    zoom=3,\n",
    "    center={\"lat\": 63.333112, \"lon\": 16.007205},\n",
    ")\n",
    "\n",
    "fig.show()"
   ]
  }
 ],
 "metadata": {
  "jupytext": {
   "cell_metadata_filter": "-all",
   "formats": "ipynb,py:percent",
   "notebook_metadata_filter": "-all"
  },
  "kernelspec": {
   "display_name": "Python 3 (ipykernel)",
   "language": "python",
   "name": "python3"
  },
  "language_info": {
   "codemirror_mode": {
    "name": "ipython",
    "version": 3
   },
   "file_extension": ".py",
   "mimetype": "text/x-python",
   "name": "python",
   "nbconvert_exporter": "python",
   "pygments_lexer": "ipython3",
   "version": "3.10.7"
  }
 },
 "nbformat": 4,
 "nbformat_minor": 5
}
