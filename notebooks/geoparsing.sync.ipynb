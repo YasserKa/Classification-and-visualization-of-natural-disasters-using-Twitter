{
  "cells": [
    {
      "cell_type": "code",
      "execution_count": 1,
      "id": "dacf4ef7",
      "metadata": {},
      "outputs": [
        {
          "name": "stderr",
          "output_type": "stream",
          "text": [
            "2022-10-11 10:35:52.977170: I tensorflow/stream_executor/cuda/cuda_gpu_executor.cc:975] successful NUMA node read from SysFS had negative value (-1), but there must be at least one NUMA node, so returning NUMA node zero\n",
            "2022-10-11 10:35:53.064654: W tensorflow/stream_executor/platform/default/dso_loader.cc:64] Could not load dynamic library 'libcudnn.so.8'; dlerror: libcudnn.so.8: cannot open shared object file: No such file or directory\n",
            "2022-10-11 10:35:53.064677: W tensorflow/core/common_runtime/gpu/gpu_device.cc:1850] Cannot dlopen some GPU libraries. Please make sure the missing libraries mentioned above are installed properly if you would like to use GPU. Follow the guide at https://www.tensorflow.org/install/gpu for how to download and setup the required libraries for your platform.\n",
            "Skipping registering GPU devices...\n"
          ]
        }
      ],
      "source": [
        "from flood_detection.data.preprocess import remove_not_needed_elements_from_string\n",
        "from transformers import AutoModel, AutoTokenizer\n",
        "from transformers import pipeline\n",
        "import pandas as pd\n",
        "from hydra import compose, initialize\n",
        "from omegaconf import DictConfig\n",
        "from tqdm.notebook import tqdm\n",
        "from geopy.geocoders import Nominatim, GeoNames\n",
        "import plotly.express as px\n",
        "from shapely.geometry import Point\n",
        "import ast"
      ]
    },
    {
      "cell_type": "code",
      "execution_count": 2,
      "id": "b108cddf",
      "metadata": {},
      "outputs": [
        {
          "name": "stdout",
          "output_type": "stream",
          "text": [
            "Number of tweets that explicity mentions Swedish locations\n",
            "493/1402\n"
          ]
        }
      ],
      "source": [
        "with initialize(version_base=None, config_path=\"../conf\"):\n",
        "    cfg: DictConfig = compose(config_name=\"config\")\n",
        "\n",
        "path_to_data = cfg.supervisor.processed\n",
        "\n",
        "df = pd.read_csv(\"../\" + path_to_data)\n",
        "# Use NER on only relevant tweets\n",
        "df = df[df[\"relevant\"] == 1]\n",
        "\n",
        "print(\n",
        "\n",
        "    f\"Number of tweets that explicity mentions Swedish locations\\n{len(df[df['mentions_location'] == 1])}/{len(df)}\"\n",
        ")\n",
        "\n",
        "transformer = \"KB/bert-base-swedish-cased-ner\"\n",
        "transformer = \"KBLab/bert-base-swedish-cased-ner\""
      ]
    },
    {
      "cell_type": "code",
      "execution_count": 3,
      "id": "31c40d9b",
      "metadata": {},
      "outputs": [
        {
          "name": "stderr",
          "output_type": "stream",
          "text": [
            "Some weights of the model checkpoint at KBLab/bert-base-swedish-cased-ner were not used when initializing BertModel: ['classifier.bias', 'classifier.weight']\n",
            "- This IS expected if you are initializing BertModel from the checkpoint of a model trained on another task or with another architecture (e.g. initializing a BertForSequenceClassification model from a BertForPreTraining model).\n",
            "- This IS NOT expected if you are initializing BertModel from the checkpoint of a model that you expect to be exactly identical (initializing a BertForSequenceClassification model from a BertForSequenceClassification model).\n"
          ]
        }
      ],
      "source": [
        "tok = AutoTokenizer.from_pretrained(transformer)\n",
        "model = AutoModel.from_pretrained(transformer)\n",
        "nlp = pipeline(\n",
        "    \"ner\",\n",
        "    model=transformer,\n",
        "    tokenizer=transformer,\n",
        "    # Default ignore list is [\"O\"] which are tokens needed to extract locations\n",
        "    ignore_labels=[]\n",
        ")\n",
        "\n",
        "geolocater: Nominatim = Nominatim(user_agent=\"flood_detection\")\n",
        "# geonames_geolocater = GeoNames(\"yasser_kaddoura\")"
      ]
    },
    {
      "cell_type": "code",
      "execution_count": 11,
      "id": "e6b3e70e",
      "metadata": {
        "scrolled": true
      },
      "outputs": [
        {
          "data": {
            "application/vnd.jupyter.widget-view+json": {
              "model_id": "68c3f3cf1e2543788f5781a15ebfe4dd",
              "version_major": 2,
              "version_minor": 0
            },
            "text/plain": [
              "NER NLP:   0%|          | 0/1402 [00:00<?, ?it/s]"
            ]
          },
          "metadata": {},
          "output_type": "display_data"
        },
        {
          "name": "stdout",
          "output_type": "stream",
          "text": [
            "2022-10-11T10:44:38.719068+0200 - Timed out waiting for syncing to complete.\n",
            "2022-10-11T10:44:43.994932+0200 - Timed out waiting for syncing to complete.\n",
            "2022-10-11T10:44:49.223514+0200 - Timed out waiting for syncing to complete.\n",
            "2022-10-11T10:44:54.413098+0200 - Timed out waiting for syncing to complete.\n",
            "2022-10-11T10:44:59.755686+0200 - Timed out waiting for syncing to complete.\n"
          ]
        }
      ],
      "source": [
        "def get_location_entities(text: str):\n",
        "    text = remove_not_needed_elements_from_string(text, remove_numbers=False)\n",
        "    tokens = nlp(text)\n",
        "    merged_tokens = []\n",
        "    for token in tokens:\n",
        "        if token[\"word\"].startswith(\"##\"):\n",
        "            merged_tokens[-1][\"word\"] += token[\"word\"][2:]\n",
        "        else:\n",
        "            merged_tokens += [token]\n",
        "    # Remove not needed tokens\n",
        "    return list(filter(lambda x: x[\"entity\"] != \"O\", merged_tokens))\n",
        "\n",
        "\n",
        "tqdm.pandas(desc=\"NER NLP\")\n",
        "df[\"tokens\"] = df[\"raw_text\"].progress_apply(get_location_entities)"
      ]
    },
    {
      "cell_type": "code",
      "execution_count": 15,
      "id": "f6dbec52",
      "metadata": {},
      "outputs": [],
      "source": [
        "def get_location_tokens(tokens: list[dict]) -> dict[str, dict[str, float]]:\n",
        "    loc_tokens: dict[str, dict[str, float]] = {}\n",
        "    for token in tokens:\n",
        "        if token['entity'] == \"LOC\":\n",
        "            loc_tokens[token['word']] = {'ner_score': token['score']}\n",
        "    return loc_tokens\n",
        "\n",
        "\n",
        "df['locations'] = df[\"tokens\"].apply(get_location_tokens)"
      ]
    },
    {
      "cell_type": "code",
      "execution_count": 16,
      "id": "31f2de23",
      "metadata": {},
      "outputs": [
        {
          "data": {
            "application/vnd.jupyter.widget-view+json": {
              "model_id": "e092ed50b65740b68ae315e074a2962c",
              "version_major": 2,
              "version_minor": 0
            },
            "text/plain": [
              "Is Swidish location:   0%|          | 0/1402 [00:00<?, ?it/s]"
            ]
          },
          "metadata": {},
          "output_type": "display_data"
        }
      ],
      "source": [
        "def is_swedish_geo(locations: dict[str, dict]) -> dict[str, dict]:\n",
        "    swedish_locations = locations.copy()\n",
        "    for name in locations:\n",
        "        swedish_location = geolocater.geocode(\n",
        "            name, country_codes=\"se\", language=\"en\", extratags=True  # pyright: ignore\n",
        "        )\n",
        "\n",
        "        # swedish_location = geonames_geolocater.geocode(name, country=\"SE\", country_bias=\"SE\")\n",
        "\n",
        "        if swedish_location is not None:\n",
        "            swedish_locations[name][\"swedish_loc_info\"] = swedish_location.raw\n",
        "        else:\n",
        "            swedish_locations[name][\"swedish_loc_info\"] = {}\n",
        "\n",
        "    return swedish_locations\n",
        "\n",
        "\n",
        "tqdm.pandas(desc=\"Is Swidish location\")\n",
        "df[\"locations\"] = df[\"locations\"].progress_apply(is_swedish_geo)\n",
        "df.to_csv(\"file1.csv\")"
      ]
    },
    {
      "cell_type": "code",
      "execution_count": 19,
      "id": "144bb054",
      "metadata": {},
      "outputs": [],
      "source": [
        "# Convert locations to json\n",
        "df = pd.read_csv(\"file1.csv\", converters={'locations': ast.literal_eval})"
      ]
    },
    {
      "cell_type": "code",
      "execution_count": 20,
      "id": "792499bb",
      "metadata": {},
      "outputs": [
        {
          "name": "stdout",
          "output_type": "stream",
          "text": [
            "Predicted  False  True \n",
            "Actual                 \n",
            "0            725    184\n",
            "1             28    465\n",
            "precision 0.7164869029275809\n",
            "recall 0.9432048681541582\n",
            "f1 0.8143607705779334\n"
          ]
        }
      ],
      "source": [
        "def has_swedish_loc(location_row) -> bool:\n",
        "    for loc in location_row:\n",
        "        if len(location_row[loc]['swedish_loc_info']) > 0:\n",
        "            return True\n",
        "    return False\n",
        "\n",
        "\n",
        "TP = df[(df[\"locations\"].apply(has_swedish_loc)) & (df[\"mentions_location\"] == 1)]\n",
        "TN = df[(~df[\"locations\"].apply(has_swedish_loc)) & (df[\"mentions_location\"] == 0)]\n",
        "FP = df[(df[\"locations\"].apply(has_swedish_loc)) & (df[\"mentions_location\"] == 0)]\n",
        "FN = df[(~df[\"locations\"].apply(has_swedish_loc)) & (df[\"mentions_location\"] == 1)]\n",
        "\n",
        "confusion_matrix = pd.crosstab(\n",
        "    df[\"mentions_location\"],\n",
        "    df[\"locations\"].apply(has_swedish_loc),\n",
        "    rownames=[\"Actual\"],\n",
        "    colnames=[\"Predicted\"],\n",
        ")\n",
        "print(confusion_matrix)\n",
        "\n",
        "print(f\"precision {len(TP)/(len(TP)+len(FP))}\")\n",
        "print(f\"recall {len(TP)/(len(TP)+len(FN))}\")\n",
        "print(f\"f1 {len(TP)/(len(TP)+0.5*(len(FP)+len(FN)))}\")"
      ]
    },
    {
      "cell_type": "markdown",
      "id": "85dcc322",
      "metadata": {},
      "source": [
        "## Error analysis"
      ]
    },
    {
      "cell_type": "code",
      "execution_count": 21,
      "id": "8f421733",
      "metadata": {},
      "outputs": [
        {
          "data": {
            "text/html": [
              "<div>\n",
              "<style scoped>\n",
              "    .dataframe tbody tr th:only-of-type {\n",
              "        vertical-align: middle;\n",
              "    }\n",
              "\n",
              "    .dataframe tbody tr th {\n",
              "        vertical-align: top;\n",
              "    }\n",
              "\n",
              "    .dataframe thead th {\n",
              "        text-align: right;\n",
              "    }\n",
              "</style>\n",
              "<table border=\"1\" class=\"dataframe\">\n",
              "  <thead>\n",
              "    <tr style=\"text-align: right;\">\n",
              "      <th></th>\n",
              "      <th>id</th>\n",
              "      <th>locations</th>\n",
              "      <th>raw_text</th>\n",
              "      <th>text</th>\n",
              "    </tr>\n",
              "  </thead>\n",
              "  <tbody>\n",
              "    <tr>\n",
              "      <th>171</th>\n",
              "      <td>893482866151231488</td>\n",
              "      <td>{'Färgargårdens': {'ner_score': 0.9966882, 'sw...</td>\n",
              "      <td>Regnet vräker ner och innehåller hagel. Det mu...</td>\n",
              "      <td>the rain pours contains hail its rumbling writ...</td>\n",
              "    </tr>\n",
              "    <tr>\n",
              "      <th>224</th>\n",
              "      <td>1148141876035428352</td>\n",
              "      <td>{'Kullabygden': {'ner_score': 0.98074657, 'swe...</td>\n",
              "      <td>Skyfall över Kullabygden – många översvämninga...</td>\n",
              "      <td>heavy rain kullabygden  floods</td>\n",
              "    </tr>\n",
              "    <tr>\n",
              "      <th>442</th>\n",
              "      <td>1404035141140467715</td>\n",
              "      <td>{'Lapplandsfjällen': {'ner_score': 0.9995497, ...</td>\n",
              "      <td>Lapplandsfjällen (Väder) SMHI varning klass 1 ...</td>\n",
              "      <td>lapland mountains weather smhi warning class h...</td>\n",
              "    </tr>\n",
              "    <tr>\n",
              "      <th>662</th>\n",
              "      <td>808624344381485056</td>\n",
              "      <td>{'Växjöhotell': {'ner_score': 0.8389809, 'swed...</td>\n",
              "      <td>Översvämning på Växjöhotell https://t.co/Bza2T...</td>\n",
              "      <td>flooding växjöhotell</td>\n",
              "    </tr>\n",
              "    <tr>\n",
              "      <th>999</th>\n",
              "      <td>1323375668059688960</td>\n",
              "      <td>{'Gumbodahamn': {'ner_score': 0.99914753, 'swe...</td>\n",
              "      <td>Lv 738 Vippersrönningen–Gumbodahamn (Trafikstö...</td>\n",
              "      <td>lv vippersrönningen–gumbodahamn traffic distur...</td>\n",
              "    </tr>\n",
              "    <tr>\n",
              "      <th>1074</th>\n",
              "      <td>833576058058371072</td>\n",
              "      <td>{'Sydkusten': {'ner_score': 0.99791116, 'swedi...</td>\n",
              "      <td>Översvämningar och jordskred på kusten - Sydku...</td>\n",
              "      <td>floods landslides coast  sydkustenes</td>\n",
              "    </tr>\n",
              "    <tr>\n",
              "      <th>1136</th>\n",
              "      <td>1035449418542006272</td>\n",
              "      <td>{'Sydsverige': {'ner_score': 0.9994123, 'swedi...</td>\n",
              "      <td>E22 översvämmad i intensiva skyfallet SMHI var...</td>\n",
              "      <td>e flooded intense downpour smhi warns heavy do...</td>\n",
              "    </tr>\n",
              "    <tr>\n",
              "      <th>1401</th>\n",
              "      <td>618744167938818048</td>\n",
              "      <td>{'Stockholmsområdet': {'ner_score': 0.9994622,...</td>\n",
              "      <td>Kraftigt regn på väg in över Stockholmsområdet...</td>\n",
              "      <td>heavy rain moving stockholm area  risk floodin...</td>\n",
              "    </tr>\n",
              "  </tbody>\n",
              "</table>\n",
              "</div>"
            ],
            "text/plain": [
              "                       id                                          locations  \\\n",
              "171    893482866151231488  {'Färgargårdens': {'ner_score': 0.9966882, 'sw...   \n",
              "224   1148141876035428352  {'Kullabygden': {'ner_score': 0.98074657, 'swe...   \n",
              "442   1404035141140467715  {'Lapplandsfjällen': {'ner_score': 0.9995497, ...   \n",
              "662    808624344381485056  {'Växjöhotell': {'ner_score': 0.8389809, 'swed...   \n",
              "999   1323375668059688960  {'Gumbodahamn': {'ner_score': 0.99914753, 'swe...   \n",
              "1074   833576058058371072  {'Sydkusten': {'ner_score': 0.99791116, 'swedi...   \n",
              "1136  1035449418542006272  {'Sydsverige': {'ner_score': 0.9994123, 'swedi...   \n",
              "1401   618744167938818048  {'Stockholmsområdet': {'ner_score': 0.9994622,...   \n",
              "\n",
              "                                               raw_text  \\\n",
              "171   Regnet vräker ner och innehåller hagel. Det mu...   \n",
              "224   Skyfall över Kullabygden – många översvämninga...   \n",
              "442   Lapplandsfjällen (Väder) SMHI varning klass 1 ...   \n",
              "662   Översvämning på Växjöhotell https://t.co/Bza2T...   \n",
              "999   Lv 738 Vippersrönningen–Gumbodahamn (Trafikstö...   \n",
              "1074  Översvämningar och jordskred på kusten - Sydku...   \n",
              "1136  E22 översvämmad i intensiva skyfallet SMHI var...   \n",
              "1401  Kraftigt regn på väg in över Stockholmsområdet...   \n",
              "\n",
              "                                                   text  \n",
              "171   the rain pours contains hail its rumbling writ...  \n",
              "224                      heavy rain kullabygden  floods  \n",
              "442   lapland mountains weather smhi warning class h...  \n",
              "662                                flooding växjöhotell  \n",
              "999   lv vippersrönningen–gumbodahamn traffic distur...  \n",
              "1074               floods landslides coast  sydkustenes  \n",
              "1136  e flooded intense downpour smhi warns heavy do...  \n",
              "1401  heavy rain moving stockholm area  risk floodin...  "
            ]
          },
          "execution_count": 21,
          "metadata": {},
          "output_type": "execute_result"
        }
      ],
      "source": [
        "# False negatives\n",
        "needed_columns = [\"id\", \"locations\", \"raw_text\", \"text\"]\n",
        "\n",
        "# Locations extracted by NER, not recognized by geocoders\n",
        "FN[FN[\"locations\"].apply(lambda x: len(x) > 0)][needed_columns]"
      ]
    },
    {
      "cell_type": "code",
      "execution_count": 22,
      "id": "ffdb844b",
      "metadata": {},
      "outputs": [
        {
          "data": {
            "text/html": [
              "<div>\n",
              "<style scoped>\n",
              "    .dataframe tbody tr th:only-of-type {\n",
              "        vertical-align: middle;\n",
              "    }\n",
              "\n",
              "    .dataframe tbody tr th {\n",
              "        vertical-align: top;\n",
              "    }\n",
              "\n",
              "    .dataframe thead th {\n",
              "        text-align: right;\n",
              "    }\n",
              "</style>\n",
              "<table border=\"1\" class=\"dataframe\">\n",
              "  <thead>\n",
              "    <tr style=\"text-align: right;\">\n",
              "      <th></th>\n",
              "      <th>id</th>\n",
              "      <th>locations</th>\n",
              "      <th>raw_text</th>\n",
              "      <th>text</th>\n",
              "    </tr>\n",
              "  </thead>\n",
              "  <tbody>\n",
              "    <tr>\n",
              "      <th>176</th>\n",
              "      <td>893390880526262273</td>\n",
              "      <td>{}</td>\n",
              "      <td>JUST NU: Stopp på väg på grund av översvämning...</td>\n",
              "      <td>right now road stoppage flooding illusion</td>\n",
              "    </tr>\n",
              "    <tr>\n",
              "      <th>187</th>\n",
              "      <td>1028405310069846017</td>\n",
              "      <td>{}</td>\n",
              "      <td>Ojojoj... alla Halmstadbors samlade böner, dan...</td>\n",
              "      <td>whoops halmstad residents collected prayers da...</td>\n",
              "    </tr>\n",
              "    <tr>\n",
              "      <th>266</th>\n",
              "      <td>898747159423492096</td>\n",
              "      <td>{}</td>\n",
              "      <td>Mycket vatten på R40 https://t.co/A68M6yGvVV\\n...</td>\n",
              "      <td>lots water r borastidning nyheter översvämning...</td>\n",
              "    </tr>\n",
              "    <tr>\n",
              "      <th>277</th>\n",
              "      <td>767730451767300096</td>\n",
              "      <td>{}</td>\n",
              "      <td>#Vattenföring'en har ökat i #Närpes å pga regn...</td>\n",
              "      <td>vattenföring increased närpes å rain lower wee...</td>\n",
              "    </tr>\n",
              "    <tr>\n",
              "      <th>387</th>\n",
              "      <td>644473393262297088</td>\n",
              "      <td>{}</td>\n",
              "      <td>Lv 957 Bänteby-Hallerud (SOS): Vägskador, över...</td>\n",
              "      <td>lv bäntebyhallerud sos road damage flooding di...</td>\n",
              "    </tr>\n",
              "    <tr>\n",
              "      <th>394</th>\n",
              "      <td>1026840737013485568</td>\n",
              "      <td>{}</td>\n",
              "      <td>Översvämning återigen https://t.co/ouAxRWgjGD ...</td>\n",
              "      <td>flooding karlskoga</td>\n",
              "    </tr>\n",
              "    <tr>\n",
              "      <th>582</th>\n",
              "      <td>735835585307369472</td>\n",
              "      <td>{}</td>\n",
              "      <td>Kmr bli översvämning i äby</td>\n",
              "      <td>kmr flood äby</td>\n",
              "    </tr>\n",
              "    <tr>\n",
              "      <th>696</th>\n",
              "      <td>880474759796068353</td>\n",
              "      <td>{}</td>\n",
              "      <td>Det ska bli oväder här i syd. Bäst att vara fö...</td>\n",
              "      <td>there storms south best prepared ramen middang...</td>\n",
              "    </tr>\n",
              "    <tr>\n",
              "      <th>734</th>\n",
              "      <td>1397938929182167056</td>\n",
              "      <td>{}</td>\n",
              "      <td>Lv 617 Bo Kyrka–Brevens bruk (Trafikstörning) ...</td>\n",
              "      <td>lv bo kyrka–brevens bruk traffic disruption ro...</td>\n",
              "    </tr>\n",
              "    <tr>\n",
              "      <th>848</th>\n",
              "      <td>640964992318185472</td>\n",
              "      <td>{}</td>\n",
              "      <td>Översvämning i kumla💦 http://t.co/K89QShnE8C</td>\n",
              "      <td>flood kumla</td>\n",
              "    </tr>\n",
              "    <tr>\n",
              "      <th>853</th>\n",
              "      <td>640910477908905985</td>\n",
              "      <td>{}</td>\n",
              "      <td>Vilka fina planeringar alla #lärare kommer att...</td>\n",
              "      <td>what nice plans teachers able flooding jaerfal...</td>\n",
              "    </tr>\n",
              "    <tr>\n",
              "      <th>863</th>\n",
              "      <td>640869333762240512</td>\n",
              "      <td>{}</td>\n",
              "      <td>Pers åkrar under vatten efter helgens skyfall:...</td>\n",
              "      <td>pers fields water weekends downpour overfloodi...</td>\n",
              "    </tr>\n",
              "    <tr>\n",
              "      <th>883</th>\n",
              "      <td>640786491359277056</td>\n",
              "      <td>{}</td>\n",
              "      <td>Min bror är alltså ledig från skolan idag efte...</td>\n",
              "      <td>so brother school today its impossible flooding</td>\n",
              "    </tr>\n",
              "    <tr>\n",
              "      <th>1101</th>\n",
              "      <td>636870064784953344</td>\n",
              "      <td>{}</td>\n",
              "      <td>Som gammal va-ingenjör vet jag att det inom ko...</td>\n",
              "      <td>as old va engineer i know soon flood someones ...</td>\n",
              "    </tr>\n",
              "    <tr>\n",
              "      <th>1128</th>\n",
              "      <td>1035824846205280256</td>\n",
              "      <td>{}</td>\n",
              "      <td>Skånska kustkommuner i uppror mot riskbedömnin...</td>\n",
              "      <td>skånes coastal municipalities rebellion flood ...</td>\n",
              "    </tr>\n",
              "    <tr>\n",
              "      <th>1148</th>\n",
              "      <td>1404800827127181312</td>\n",
              "      <td>{}</td>\n",
              "      <td>ÖVERSVÄMNING I HÖGDALEN!\\nMAT FÖR MILJONER SLÄ...</td>\n",
              "      <td>flooding in the high valley food for millions ...</td>\n",
              "    </tr>\n",
              "    <tr>\n",
              "      <th>1188</th>\n",
              "      <td>1229399645488648194</td>\n",
              "      <td>{}</td>\n",
              "      <td>Lv 638 Åker–Nyhom (Trafikstörning) Vägen avstä...</td>\n",
              "      <td>lv åker–nyhom traffic disruption the road clos...</td>\n",
              "    </tr>\n",
              "    <tr>\n",
              "      <th>1205</th>\n",
              "      <td>1229320131010007040</td>\n",
              "      <td>{}</td>\n",
              "      <td>EXTRA: Många översvämningar på Höglandet https...</td>\n",
              "      <td>extra many floods highlands</td>\n",
              "    </tr>\n",
              "    <tr>\n",
              "      <th>1206</th>\n",
              "      <td>1229313339848896512</td>\n",
              "      <td>{}</td>\n",
              "      <td>ÖVERSVÄMNING – TRE KLASS 1-VARNINGAR PÅ HÖGLAN...</td>\n",
              "      <td>flooding  three class warnings in the highlands</td>\n",
              "    </tr>\n",
              "    <tr>\n",
              "      <th>1211</th>\n",
              "      <td>1229308494874136576</td>\n",
              "      <td>{}</td>\n",
              "      <td>SMHI varnar för oväder i flera delar av landet...</td>\n",
              "      <td>smhi warns storms parts country read krisinfor...</td>\n",
              "    </tr>\n",
              "  </tbody>\n",
              "</table>\n",
              "</div>"
            ],
            "text/plain": [
              "                       id locations  \\\n",
              "176    893390880526262273        {}   \n",
              "187   1028405310069846017        {}   \n",
              "266    898747159423492096        {}   \n",
              "277    767730451767300096        {}   \n",
              "387    644473393262297088        {}   \n",
              "394   1026840737013485568        {}   \n",
              "582    735835585307369472        {}   \n",
              "696    880474759796068353        {}   \n",
              "734   1397938929182167056        {}   \n",
              "848    640964992318185472        {}   \n",
              "853    640910477908905985        {}   \n",
              "863    640869333762240512        {}   \n",
              "883    640786491359277056        {}   \n",
              "1101   636870064784953344        {}   \n",
              "1128  1035824846205280256        {}   \n",
              "1148  1404800827127181312        {}   \n",
              "1188  1229399645488648194        {}   \n",
              "1205  1229320131010007040        {}   \n",
              "1206  1229313339848896512        {}   \n",
              "1211  1229308494874136576        {}   \n",
              "\n",
              "                                               raw_text  \\\n",
              "176   JUST NU: Stopp på väg på grund av översvämning...   \n",
              "187   Ojojoj... alla Halmstadbors samlade böner, dan...   \n",
              "266   Mycket vatten på R40 https://t.co/A68M6yGvVV\\n...   \n",
              "277   #Vattenföring'en har ökat i #Närpes å pga regn...   \n",
              "387   Lv 957 Bänteby-Hallerud (SOS): Vägskador, över...   \n",
              "394   Översvämning återigen https://t.co/ouAxRWgjGD ...   \n",
              "582                          Kmr bli översvämning i äby   \n",
              "696   Det ska bli oväder här i syd. Bäst att vara fö...   \n",
              "734   Lv 617 Bo Kyrka–Brevens bruk (Trafikstörning) ...   \n",
              "848        Översvämning i kumla💦 http://t.co/K89QShnE8C   \n",
              "853   Vilka fina planeringar alla #lärare kommer att...   \n",
              "863   Pers åkrar under vatten efter helgens skyfall:...   \n",
              "883   Min bror är alltså ledig från skolan idag efte...   \n",
              "1101  Som gammal va-ingenjör vet jag att det inom ko...   \n",
              "1128  Skånska kustkommuner i uppror mot riskbedömnin...   \n",
              "1148  ÖVERSVÄMNING I HÖGDALEN!\\nMAT FÖR MILJONER SLÄ...   \n",
              "1188  Lv 638 Åker–Nyhom (Trafikstörning) Vägen avstä...   \n",
              "1205  EXTRA: Många översvämningar på Höglandet https...   \n",
              "1206  ÖVERSVÄMNING – TRE KLASS 1-VARNINGAR PÅ HÖGLAN...   \n",
              "1211  SMHI varnar för oväder i flera delar av landet...   \n",
              "\n",
              "                                                   text  \n",
              "176           right now road stoppage flooding illusion  \n",
              "187   whoops halmstad residents collected prayers da...  \n",
              "266   lots water r borastidning nyheter översvämning...  \n",
              "277   vattenföring increased närpes å rain lower wee...  \n",
              "387   lv bäntebyhallerud sos road damage flooding di...  \n",
              "394                                  flooding karlskoga  \n",
              "582                                       kmr flood äby  \n",
              "696   there storms south best prepared ramen middang...  \n",
              "734   lv bo kyrka–brevens bruk traffic disruption ro...  \n",
              "848                                         flood kumla  \n",
              "853   what nice plans teachers able flooding jaerfal...  \n",
              "863   pers fields water weekends downpour overfloodi...  \n",
              "883     so brother school today its impossible flooding  \n",
              "1101  as old va engineer i know soon flood someones ...  \n",
              "1128  skånes coastal municipalities rebellion flood ...  \n",
              "1148  flooding in the high valley food for millions ...  \n",
              "1188  lv åker–nyhom traffic disruption the road clos...  \n",
              "1205                        extra many floods highlands  \n",
              "1206    flooding  three class warnings in the highlands  \n",
              "1211  smhi warns storms parts country read krisinfor...  "
            ]
          },
          "execution_count": 22,
          "metadata": {},
          "output_type": "execute_result"
        }
      ],
      "source": [
        "# Locations not extracted by NER\n",
        "FN[FN[\"locations\"].apply(lambda x: len(x) == 0)][needed_columns]"
      ]
    },
    {
      "cell_type": "code",
      "execution_count": 23,
      "id": "6d6ca653",
      "metadata": {},
      "outputs": [
        {
          "name": "stdout",
          "output_type": "stream",
          "text": [
            "None\n",
            "Höglandet, Bromma stadsdelsområde, Stockholm, Stockholms kommun, Stockholm County, 167 71, Sweden\n"
          ]
        }
      ],
      "source": [
        "# Geocoder seems to identify some of the locations not extracted by NER\n",
        "# To increase recall, use geocders on text directly\n",
        "print(geolocater.geocode(\"Åker–Nyhom\", country_codes=\"se\", language=\"en\", extratags=True))\n",
        "print(\n",
        "    geolocater.geocode(\"Höglandet\", country_codes=\"se\", language=\"en\", extratags=True)\n",
        ")"
      ]
    },
    {
      "cell_type": "code",
      "execution_count": 24,
      "id": "ac9f927b",
      "metadata": {
        "lines_to_next_cell": 2,
        "scrolled": true
      },
      "outputs": [
        {
          "data": {
            "text/html": [
              "<div>\n",
              "<style scoped>\n",
              "    .dataframe tbody tr th:only-of-type {\n",
              "        vertical-align: middle;\n",
              "    }\n",
              "\n",
              "    .dataframe tbody tr th {\n",
              "        vertical-align: top;\n",
              "    }\n",
              "\n",
              "    .dataframe thead th {\n",
              "        text-align: right;\n",
              "    }\n",
              "</style>\n",
              "<table border=\"1\" class=\"dataframe\">\n",
              "  <thead>\n",
              "    <tr style=\"text-align: right;\">\n",
              "      <th></th>\n",
              "      <th>loc_names</th>\n",
              "      <th>id</th>\n",
              "    </tr>\n",
              "  </thead>\n",
              "  <tbody>\n",
              "    <tr>\n",
              "      <th>3</th>\n",
              "      <td>[Vita, huset]</td>\n",
              "      <td>902255491753156610</td>\n",
              "    </tr>\n",
              "    <tr>\n",
              "      <th>34</th>\n",
              "      <td>[None, Vita, huset]</td>\n",
              "      <td>902052364831641600</td>\n",
              "    </tr>\n",
              "    <tr>\n",
              "      <th>62</th>\n",
              "      <td>[Alperna]</td>\n",
              "      <td>1421583982454616071</td>\n",
              "    </tr>\n",
              "    <tr>\n",
              "      <th>72</th>\n",
              "      <td>[Europa, Tyskland]</td>\n",
              "      <td>1421520893738639365</td>\n",
              "    </tr>\n",
              "    <tr>\n",
              "      <th>88</th>\n",
              "      <td>[Tyskland, Belgien]</td>\n",
              "      <td>1421381143312707585</td>\n",
              "    </tr>\n",
              "    <tr>\n",
              "      <th>...</th>\n",
              "      <td>...</td>\n",
              "      <td>...</td>\n",
              "    </tr>\n",
              "    <tr>\n",
              "      <th>1372</th>\n",
              "      <td>[Grönland, None, Indonesiens, None, None]</td>\n",
              "      <td>1158012438610108416</td>\n",
              "    </tr>\n",
              "    <tr>\n",
              "      <th>1385</th>\n",
              "      <td>[Ica]</td>\n",
              "      <td>747032950013825024</td>\n",
              "    </tr>\n",
              "    <tr>\n",
              "      <th>1391</th>\n",
              "      <td>[Ryssland, Isis, Grekland]</td>\n",
              "      <td>619230729562648577</td>\n",
              "    </tr>\n",
              "    <tr>\n",
              "      <th>1392</th>\n",
              "      <td>[sverige]</td>\n",
              "      <td>619137827700363264</td>\n",
              "    </tr>\n",
              "    <tr>\n",
              "      <th>1397</th>\n",
              "      <td>[Mariehamn]</td>\n",
              "      <td>618834707908661248</td>\n",
              "    </tr>\n",
              "  </tbody>\n",
              "</table>\n",
              "<p>184 rows × 2 columns</p>\n",
              "</div>"
            ],
            "text/plain": [
              "                                      loc_names                   id\n",
              "3                                 [Vita, huset]   902255491753156610\n",
              "34                          [None, Vita, huset]   902052364831641600\n",
              "62                                    [Alperna]  1421583982454616071\n",
              "72                           [Europa, Tyskland]  1421520893738639365\n",
              "88                          [Tyskland, Belgien]  1421381143312707585\n",
              "...                                         ...                  ...\n",
              "1372  [Grönland, None, Indonesiens, None, None]  1158012438610108416\n",
              "1385                                      [Ica]   747032950013825024\n",
              "1391                 [Ryssland, Isis, Grekland]   619230729562648577\n",
              "1392                                  [sverige]   619137827700363264\n",
              "1397                                [Mariehamn]   618834707908661248\n",
              "\n",
              "[184 rows x 2 columns]"
            ]
          },
          "execution_count": 24,
          "metadata": {},
          "output_type": "execute_result"
        }
      ],
      "source": [
        "# False positives\n",
        "def func(row):\n",
        "    return [key if len(value['swedish_loc_info']) > 0 else None for key, value in row.items()]\n",
        "\n",
        "\n",
        "x = FP.copy()\n",
        "x['loc_names'] = FP['locations'].apply(func)\n",
        "x[['loc_names', 'id']]\n",
        "# Sweden has locations that contains florida and miami\n",
        "# Idea: Increase precision by:\n",
        "# - Make more restrictive classification using data extracted from geocoders regarding location (e.g. population, type, popularity)\n",
        "# - Check non-swedish enteries for that location and if they are (e.g. more popular) filter the swedish entry out"
      ]
    },
    {
      "cell_type": "code",
      "execution_count": 25,
      "id": "535ca392",
      "metadata": {},
      "outputs": [
        {
          "name": "stdout",
          "output_type": "stream",
          "text": [
            "{'place_id': 19718459, 'licence': 'Data © OpenStreetMap contributors, ODbL 1.0. https://osm.org/copyright', 'osm_type': 'node', 'osm_id': 2235762052, 'boundingbox': ['65.9068121', '65.9468121', '22.4066368', '22.4466368'], 'lat': '65.9268121', 'lon': '22.4266368', 'display_name': 'Vitå, Luleå kommun, Norrbotten County, Sweden', 'class': 'place', 'type': 'village', 'importance': 0.275, 'icon': 'https://nominatim.openstreetmap.org/ui/mapicons/poi_place_village.p.20.png', 'extratags': {'ref:se:pts:postort': 'VITÅ'}}\n"
          ]
        }
      ],
      "source": [
        "x = geolocater.geocode(\"Vita\", country_codes=\"se\", language=\"en\", extratags=True).raw\n",
        "print(x)"
      ]
    },
    {
      "cell_type": "code",
      "execution_count": 40,
      "id": "da894493",
      "metadata": {},
      "outputs": [],
      "source": [
        "data_needed = [\"class\", \"importance\", \"type\", \"display_name\", \"lat\", \"lon\"]\n",
        "\n",
        "pd.set_option('max_colwidth', 800)\n",
        "def get_from_raw_loc(row):\n",
        "    locations = {}\n",
        "    for name, value in row.items():\n",
        "        extracted_data = {}\n",
        "        for data in data_needed:\n",
        "            if data in value['swedish_loc_info']:\n",
        "                extracted_data[data] = value['swedish_loc_info'][data]\n",
        "            else:\n",
        "                extracted_data[data] = None\n",
        "        locations[name] = extracted_data\n",
        "    return locations\n",
        "\n",
        "\n",
        "df['locations_info'] = df['locations'].apply(get_from_raw_loc)"
      ]
    },
    {
      "cell_type": "code",
      "execution_count": 41,
      "id": "5d56db87",
      "metadata": {},
      "outputs": [],
      "source": [
        "# Create a row for each location\n",
        "df['locations_info'] = df['locations_info'].apply(lambda x: list(x.items()))\n",
        "df_exploded = df.explode('locations_info')\n",
        "\n",
        "df_exploded = df_exploded[df_exploded['locations_info'].notna()]\n",
        "# Seperate each data in column\n",
        "df_exploded[['loc_name', 'raw_data']] = df_exploded['locations_info'].to_list()\n",
        "df_exploded[[\"class\", \"importance\", \"type\", \"display_name\", \"lat\", \"lon\"]] = df_exploded['raw_data'].apply(lambda x: list(x.values())).to_list()\n",
        "df_exploded = df_exploded.astype({\"lon\": \"float\", \"lat\": \"float\"})\n",
        "\n",
        "\n",
        "def get_color(row):\n",
        "    if row[\"mentions_location\"] == 1 and has_swedish_loc(row['locations']):\n",
        "        return \"blue\"\n",
        "    elif row[\"mentions_location\"] == 0 and has_swedish_loc(row['locations']):\n",
        "        return \"red\"\n",
        "\n",
        "\n",
        "df_exploded[\"color\"] = df_exploded.apply(get_color, axis=1)\n",
        "\n",
        "\n",
        "geometry = [Point(x, y) for x, y in zip(df_exploded[\"lon\"], df_exploded[\"lat\"])]"
      ]
    },
    {
      "cell_type": "code",
      "execution_count": 44,
      "id": "6fd82f54",
      "metadata": {},
      "outputs": [],
      "source": [
        "df_exploded['count'] = 1\n",
        "df_exploded = df_exploded.groupby(['lon', 'lat'], as_index=False) \\\n",
        "                         .agg({'count': 'sum', 'color': 'first', 'id': 'first',\n",
        "                               'loc_name': 'first'})"
      ]
    },
    {
      "cell_type": "code",
      "execution_count": 49,
      "id": "49bb8d55",
      "metadata": {},
      "outputs": [
        {
          "ename": "KeyError",
          "evalue": "'loc_name'",
          "output_type": "error",
          "traceback": [
            "\u001b[0;31m---------------------------------------------------------------------------\u001b[0m",
            "\u001b[0;31mKeyError\u001b[0m                                  Traceback (most recent call last)",
            "File \u001b[0;32m~/.local/share/virtualenvs/thesis-Yg64ltAd/lib/python3.10/site-packages/pandas/core/indexes/base.py:3800\u001b[0m, in \u001b[0;36mIndex.get_loc\u001b[0;34m(self, key, method, tolerance)\u001b[0m\n\u001b[1;32m   3799\u001b[0m \u001b[38;5;28;01mtry\u001b[39;00m:\n\u001b[0;32m-> 3800\u001b[0m     \u001b[38;5;28;01mreturn\u001b[39;00m \u001b[38;5;28;43mself\u001b[39;49m\u001b[38;5;241;43m.\u001b[39;49m\u001b[43m_engine\u001b[49m\u001b[38;5;241;43m.\u001b[39;49m\u001b[43mget_loc\u001b[49m\u001b[43m(\u001b[49m\u001b[43mcasted_key\u001b[49m\u001b[43m)\u001b[49m\n\u001b[1;32m   3801\u001b[0m \u001b[38;5;28;01mexcept\u001b[39;00m \u001b[38;5;167;01mKeyError\u001b[39;00m \u001b[38;5;28;01mas\u001b[39;00m err:\n",
            "File \u001b[0;32m~/.local/share/virtualenvs/thesis-Yg64ltAd/lib/python3.10/site-packages/pandas/_libs/index.pyx:138\u001b[0m, in \u001b[0;36mpandas._libs.index.IndexEngine.get_loc\u001b[0;34m()\u001b[0m\n",
            "File \u001b[0;32m~/.local/share/virtualenvs/thesis-Yg64ltAd/lib/python3.10/site-packages/pandas/_libs/index.pyx:165\u001b[0m, in \u001b[0;36mpandas._libs.index.IndexEngine.get_loc\u001b[0;34m()\u001b[0m\n",
            "File \u001b[0;32mpandas/_libs/hashtable_class_helper.pxi:5745\u001b[0m, in \u001b[0;36mpandas._libs.hashtable.PyObjectHashTable.get_item\u001b[0;34m()\u001b[0m\n",
            "File \u001b[0;32mpandas/_libs/hashtable_class_helper.pxi:5753\u001b[0m, in \u001b[0;36mpandas._libs.hashtable.PyObjectHashTable.get_item\u001b[0;34m()\u001b[0m\n",
            "\u001b[0;31mKeyError\u001b[0m: 'loc_name'",
            "\nThe above exception was the direct cause of the following exception:\n",
            "\u001b[0;31mKeyError\u001b[0m                                  Traceback (most recent call last)",
            "Cell \u001b[0;32mIn [49], line 1\u001b[0m\n\u001b[0;32m----> 1\u001b[0m df[\u001b[43mdf\u001b[49m\u001b[43m[\u001b[49m\u001b[38;5;124;43m'\u001b[39;49m\u001b[38;5;124;43mloc_name\u001b[39;49m\u001b[38;5;124;43m'\u001b[39;49m\u001b[43m]\u001b[49m \u001b[38;5;241m==\u001b[39m \u001b[38;5;124m'\u001b[39m\u001b[38;5;124mlän\u001b[39m\u001b[38;5;124m'\u001b[39m]\n",
            "File \u001b[0;32m~/.local/share/virtualenvs/thesis-Yg64ltAd/lib/python3.10/site-packages/pandas/core/frame.py:3805\u001b[0m, in \u001b[0;36mDataFrame.__getitem__\u001b[0;34m(self, key)\u001b[0m\n\u001b[1;32m   3803\u001b[0m \u001b[38;5;28;01mif\u001b[39;00m \u001b[38;5;28mself\u001b[39m\u001b[38;5;241m.\u001b[39mcolumns\u001b[38;5;241m.\u001b[39mnlevels \u001b[38;5;241m>\u001b[39m \u001b[38;5;241m1\u001b[39m:\n\u001b[1;32m   3804\u001b[0m     \u001b[38;5;28;01mreturn\u001b[39;00m \u001b[38;5;28mself\u001b[39m\u001b[38;5;241m.\u001b[39m_getitem_multilevel(key)\n\u001b[0;32m-> 3805\u001b[0m indexer \u001b[38;5;241m=\u001b[39m \u001b[38;5;28;43mself\u001b[39;49m\u001b[38;5;241;43m.\u001b[39;49m\u001b[43mcolumns\u001b[49m\u001b[38;5;241;43m.\u001b[39;49m\u001b[43mget_loc\u001b[49m\u001b[43m(\u001b[49m\u001b[43mkey\u001b[49m\u001b[43m)\u001b[49m\n\u001b[1;32m   3806\u001b[0m \u001b[38;5;28;01mif\u001b[39;00m is_integer(indexer):\n\u001b[1;32m   3807\u001b[0m     indexer \u001b[38;5;241m=\u001b[39m [indexer]\n",
            "File \u001b[0;32m~/.local/share/virtualenvs/thesis-Yg64ltAd/lib/python3.10/site-packages/pandas/core/indexes/base.py:3802\u001b[0m, in \u001b[0;36mIndex.get_loc\u001b[0;34m(self, key, method, tolerance)\u001b[0m\n\u001b[1;32m   3800\u001b[0m     \u001b[38;5;28;01mreturn\u001b[39;00m \u001b[38;5;28mself\u001b[39m\u001b[38;5;241m.\u001b[39m_engine\u001b[38;5;241m.\u001b[39mget_loc(casted_key)\n\u001b[1;32m   3801\u001b[0m \u001b[38;5;28;01mexcept\u001b[39;00m \u001b[38;5;167;01mKeyError\u001b[39;00m \u001b[38;5;28;01mas\u001b[39;00m err:\n\u001b[0;32m-> 3802\u001b[0m     \u001b[38;5;28;01mraise\u001b[39;00m \u001b[38;5;167;01mKeyError\u001b[39;00m(key) \u001b[38;5;28;01mfrom\u001b[39;00m \u001b[38;5;21;01merr\u001b[39;00m\n\u001b[1;32m   3803\u001b[0m \u001b[38;5;28;01mexcept\u001b[39;00m \u001b[38;5;167;01mTypeError\u001b[39;00m:\n\u001b[1;32m   3804\u001b[0m     \u001b[38;5;66;03m# If we have a listlike key, _check_indexing_error will raise\u001b[39;00m\n\u001b[1;32m   3805\u001b[0m     \u001b[38;5;66;03m#  InvalidIndexError. Otherwise we fall through and re-raise\u001b[39;00m\n\u001b[1;32m   3806\u001b[0m     \u001b[38;5;66;03m#  the TypeError.\u001b[39;00m\n\u001b[1;32m   3807\u001b[0m     \u001b[38;5;28mself\u001b[39m\u001b[38;5;241m.\u001b[39m_check_indexing_error(key)\n",
            "\u001b[0;31mKeyError\u001b[0m: 'loc_name'"
          ]
        }
      ],
      "source": [
        "df[df['loc_name'] == 'län']"
      ]
    },
    {
      "cell_type": "code",
      "execution_count": 45,
      "id": "6c29f36a",
      "metadata": {},
      "outputs": [
        {
          "data": {
            "application/vnd.plotly.v1+json": {
              "config": {
                "plotlyServerURL": "https://plot.ly"
              },
              "data": [
                {
                  "customdata": [
                    [
                      1421338419528183800
                    ],
                    [
                      1421338419528183800
                    ],
                    [
                      1421154383409029000
                    ],
                    [
                      1229438248361103400
                    ],
                    [
                      1229336014784749600
                    ],
                    [
                      1229336014784749600
                    ],
                    [
                      636863997032042500
                    ],
                    [
                      1229353824931938300
                    ],
                    [
                      1229438248361103400
                    ],
                    [
                      1229345598408667100
                    ],
                    [
                      893393481602826200
                    ],
                    [
                      750580107564253200
                    ],
                    [
                      892377761964318700
                    ],
                    [
                      638818610425692200
                    ],
                    [
                      1028345323440296000
                    ],
                    [
                      625192886057840600
                    ],
                    [
                      1183260690225795000
                    ],
                    [
                      625192886057840600
                    ],
                    [
                      1183260690225795000
                    ],
                    [
                      1229294659467456500
                    ],
                    [
                      1028372146974847000
                    ],
                    [
                      1028372146974847000
                    ],
                    [
                      1028372146974847000
                    ],
                    [
                      1183260690225795000
                    ],
                    [
                      1397862137909944300
                    ],
                    [
                      625250627506057200
                    ],
                    [
                      1398132253331497000
                    ],
                    [
                      1183260690225795000
                    ],
                    [
                      644507741403246600
                    ],
                    [
                      639135088131702800
                    ],
                    [
                      1416130078929531000
                    ],
                    [
                      1403755624727515100
                    ],
                    [
                      1229422162030792700
                    ],
                    [
                      1028372146974847000
                    ],
                    [
                      644507741403246600
                    ],
                    [
                      899000844288438300
                    ],
                    [
                      644563990064947200
                    ],
                    [
                      639135088131702800
                    ],
                    [
                      1397824270382817300
                    ],
                    [
                      644466845274128400
                    ],
                    [
                      644507741403246600
                    ],
                    [
                      1313954063608885200
                    ],
                    [
                      644466845274128400
                    ],
                    [
                      747506814321713200
                    ],
                    [
                      644562349509210100
                    ],
                    [
                      644562349509210100
                    ],
                    [
                      644885147230167000
                    ],
                    [
                      644562349509210100
                    ],
                    [
                      1203607436936056800
                    ],
                    [
                      639081871226347500
                    ],
                    [
                      750571025943978000
                    ],
                    [
                      963311816645505000
                    ],
                    [
                      1159335870232715300
                    ],
                    [
                      644565498684768300
                    ],
                    [
                      738130750487339000
                    ],
                    [
                      1026747053009920000
                    ],
                    [
                      750580107564253200
                    ],
                    [
                      644565498684768300
                    ],
                    [
                      1229422162030792700
                    ],
                    [
                      1403822229289320400
                    ],
                    [
                      639081871226347500
                    ],
                    [
                      1148139200363057200
                    ],
                    [
                      880275736720011300
                    ],
                    [
                      1416136204228210700
                    ],
                    [
                      1403755624727515100
                    ],
                    [
                      1441560467613302800
                    ],
                    [
                      644767582738710500
                    ],
                    [
                      644474903068995600
                    ],
                    [
                      1416123713666355200
                    ],
                    [
                      1032922694642217000
                    ],
                    [
                      747095300129628200
                    ],
                    [
                      1403716549786144800
                    ],
                    [
                      1397855384946217000
                    ],
                    [
                      644473765682745300
                    ],
                    [
                      1203251860645253000
                    ],
                    [
                      735932012800966700
                    ],
                    [
                      1203255824237375500
                    ],
                    [
                      893380294128095200
                    ],
                    [
                      893562240846057500
                    ],
                    [
                      1203251860645253000
                    ],
                    [
                      1398144791096053800
                    ],
                    [
                      639080984290308100
                    ],
                    [
                      747057428030701600
                    ],
                    [
                      1229471611729956900
                    ],
                    [
                      1323374370954293200
                    ],
                    [
                      1229471611729956900
                    ],
                    [
                      901769883033239600
                    ],
                    [
                      1229471611729956900
                    ],
                    [
                      644762811638263800
                    ],
                    [
                      625371065045401600
                    ],
                    [
                      1416123713666355200
                    ],
                    [
                      1229302674182590500
                    ],
                    [
                      735932011215499300
                    ],
                    [
                      902024692185403400
                    ],
                    [
                      1416130078929531000
                    ],
                    [
                      899000844288438300
                    ],
                    [
                      1229416008580030500
                    ],
                    [
                      1323629909265232000
                    ],
                    [
                      1416095664233193500
                    ],
                    [
                      1229340961320382500
                    ],
                    [
                      735932011215499300
                    ],
                    [
                      1441560467613302800
                    ],
                    [
                      1229392098492928000
                    ],
                    [
                      1323271190996258800
                    ],
                    [
                      899000844288438300
                    ],
                    [
                      899000844288438300
                    ],
                    [
                      644474903068995600
                    ],
                    [
                      1028272566492966900
                    ],
                    [
                      747057428030701600
                    ],
                    [
                      640857079956275200
                    ],
                    [
                      1091361433898504200
                    ],
                    [
                      1229370678471790600
                    ],
                    [
                      644762811638263800
                    ],
                    [
                      1158458219125252000
                    ],
                    [
                      1158251380324405200
                    ],
                    [
                      1413030593995198500
                    ],
                    [
                      898804120034914300
                    ],
                    [
                      1397972591869112300
                    ],
                    [
                      640855385566482400
                    ],
                    [
                      1397882011499573200
                    ],
                    [
                      644767582738710500
                    ],
                    [
                      1398144791096053800
                    ],
                    [
                      1035608173741330400
                    ],
                    [
                      1397855384946217000
                    ],
                    [
                      1416130078929531000
                    ],
                    [
                      1397882011499573200
                    ],
                    [
                      1397872543961387000
                    ],
                    [
                      644565498684768300
                    ],
                    [
                      1398243662027501600
                    ],
                    [
                      644522715236315100
                    ],
                    [
                      901844176664440800
                    ],
                    [
                      1421528525551644700
                    ],
                    [
                      1273719204512923600
                    ],
                    [
                      644473765682745300
                    ],
                    [
                      1398227325360263200
                    ],
                    [
                      1398227325360263200
                    ],
                    [
                      1397917172249235500
                    ],
                    [
                      618754958993682400
                    ],
                    [
                      735723864144019500
                    ],
                    [
                      1424414954820673500
                    ],
                    [
                      1035689263965319200
                    ],
                    [
                      1159161164351324200
                    ],
                    [
                      618754958993682400
                    ],
                    [
                      1323363045234647000
                    ],
                    [
                      1286691501385318400
                    ],
                    [
                      1405030096164032500
                    ],
                    [
                      1398144791096053800
                    ],
                    [
                      644885147230167000
                    ],
                    [
                      1398144791096053800
                    ],
                    [
                      892357938651816000
                    ],
                    [
                      1397855384946217000
                    ],
                    [
                      1026747053009920000
                    ],
                    [
                      1035947207424442400
                    ],
                    [
                      1286691501385318400
                    ],
                    [
                      1397866979902492700
                    ],
                    [
                      893503260056834000
                    ],
                    [
                      1397881927668011000
                    ],
                    [
                      1441646259329065000
                    ],
                    [
                      1323657194244657200
                    ],
                    [
                      735932012800966700
                    ],
                    [
                      644974375251390500
                    ],
                    [
                      1397850223871938600
                    ],
                    [
                      893867572852125700
                    ],
                    [
                      1398243662027501600
                    ],
                    [
                      893553144218755100
                    ],
                    [
                      917361906767114200
                    ],
                    [
                      640771461024718800
                    ],
                    [
                      1428377662477766700
                    ],
                    [
                      1397850223871938600
                    ],
                    [
                      645101206906511400
                    ],
                    [
                      1323295325340209200
                    ],
                    [
                      627215570904174600
                    ],
                    [
                      1397850223871938600
                    ],
                    [
                      640707318284357600
                    ],
                    [
                      1397937131574550500
                    ],
                    [
                      640742677961568300
                    ],
                    [
                      747506814321713200
                    ],
                    [
                      1403750705748394000
                    ],
                    [
                      1028372146974847000
                    ],
                    [
                      1229485167972114400
                    ],
                    [
                      1397850223871938600
                    ],
                    [
                      1159073039629336600
                    ],
                    [
                      1323326011065409500
                    ],
                    [
                      1313475895513026600
                    ],
                    [
                      644825425265475600
                    ],
                    [
                      644581337488302100
                    ],
                    [
                      640735385572671500
                    ],
                    [
                      640742677961568300
                    ],
                    [
                      640788948420313100
                    ],
                    [
                      644473765682745300
                    ],
                    [
                      1428377493036322800
                    ],
                    [
                      1424125349508624400
                    ],
                    [
                      640707318284357600
                    ],
                    [
                      1323271190996258800
                    ],
                    [
                      915421524596727800
                    ],
                    [
                      1424125349508624400
                    ],
                    [
                      1398254515393118200
                    ],
                    [
                      1398201427571495000
                    ],
                    [
                      640791002341634000
                    ],
                    [
                      1398201427571495000
                    ],
                    [
                      1403750705748394000
                    ],
                    [
                      1404997933704138800
                    ],
                    [
                      1403750705748394000
                    ],
                    [
                      1313475895513026600
                    ],
                    [
                      1403750075608834000
                    ],
                    [
                      1404112665841180700
                    ],
                    [
                      1416089500569194500
                    ],
                    [
                      1229263974849556500
                    ],
                    [
                      1397862137909944300
                    ],
                    [
                      1403750075608834000
                    ],
                    [
                      917332646799212500
                    ],
                    [
                      1147843996745683000
                    ],
                    [
                      1416089500569194500
                    ],
                    [
                      1421335868640567300
                    ],
                    [
                      1273719204512923600
                    ],
                    [
                      1421335868640567300
                    ],
                    [
                      1421335868640567300
                    ],
                    [
                      1323271190996258800
                    ],
                    [
                      1403789831679905800
                    ],
                    [
                      644565498684768300
                    ],
                    [
                      1416089500569194500
                    ],
                    [
                      1403944779197599700
                    ],
                    [
                      1026390971934756900
                    ],
                    [
                      1323487844099362800
                    ],
                    [
                      1323345653263667200
                    ],
                    [
                      1273719204512923600
                    ],
                    [
                      644468350018388000
                    ],
                    [
                      1273719204512923600
                    ],
                    [
                      1398281241263329300
                    ],
                    [
                      1323363045234647000
                    ],
                    [
                      1398281241263329300
                    ],
                    [
                      627215570904174600
                    ],
                    [
                      1397824270382817300
                    ],
                    [
                      1273719204512923600
                    ],
                    [
                      1397824270382817300
                    ],
                    [
                      1028372146974847000
                    ],
                    [
                      1398281241263329300
                    ],
                    [
                      880336860354097200
                    ],
                    [
                      644974375251390500
                    ],
                    [
                      644563990064947200
                    ],
                    [
                      1323267366206189600
                    ],
                    [
                      1421195213146570800
                    ],
                    [
                      627215568685416400
                    ],
                    [
                      1323288571395100700
                    ],
                    [
                      1323288571395100700
                    ],
                    [
                      1323288571395100700
                    ],
                    [
                      627215569301938200
                    ],
                    [
                      1323326011065409500
                    ],
                    [
                      1028372146974847000
                    ],
                    [
                      644958535554625500
                    ],
                    [
                      1323359757026078700
                    ],
                    [
                      1323359757026078700
                    ],
                    [
                      1323331045077536800
                    ],
                    [
                      1323331045077536800
                    ],
                    [
                      1323652518317097000
                    ],
                    [
                      1323331045077536800
                    ],
                    [
                      1323331045077536800
                    ],
                    [
                      1323271190996258800
                    ],
                    [
                      1323582528800936000
                    ],
                    [
                      1323652518317097000
                    ],
                    [
                      1323345653263667200
                    ],
                    [
                      640837863672705000
                    ],
                    [
                      627215569301938200
                    ],
                    [
                      1323346156659814400
                    ],
                    [
                      1323363045234647000
                    ],
                    [
                      1323346156659814400
                    ],
                    [
                      1413008297347666000
                    ],
                    [
                      1323346156659814400
                    ],
                    [
                      1428377662477766700
                    ],
                    [
                      751181721987579900
                    ],
                    [
                      627215569746567200
                    ],
                    [
                      1441388485496094700
                    ],
                    [
                      644594520244494300
                    ],
                    [
                      1441388485496094700
                    ],
                    [
                      625250627506057200
                    ],
                    [
                      751181721513652200
                    ],
                    [
                      751181721987579900
                    ],
                    [
                      1323346156659814400
                    ],
                    [
                      1323635648058822700
                    ],
                    [
                      1323635648058822700
                    ]
                  ],
                  "hovertemplate": "<b>%{hovertext}</b><br><br>color=blue<br>count=%{marker.size}<br>lat=%{lat}<br>lon=%{lon}<br>id=%{customdata[0]}<extra></extra>",
                  "hovertext": [
                    "sotenäs",
                    "lysekil",
                    "bohuslän",
                    "museum",
                    "varekil",
                    "utby",
                    "kungälv",
                    "ljungskile",
                    "bohusläns",
                    "kampenhof",
                    "e6",
                    "107",
                    "frihamnen",
                    "västsverige",
                    "göteborg",
                    "olskroksmotet",
                    "liseberg",
                    "kungsbackaleden",
                    "mölndal",
                    "innerstad",
                    "kvibergs",
                    "kortedalavägen",
                    "kvibergsvägen",
                    "korsvägen",
                    "havsbad",
                    "göta",
                    "kungsbacka",
                    "mölndalsån",
                    "gård",
                    "flogned",
                    "flygplats",
                    "södra",
                    "gångväg",
                    "väg",
                    "ottebols",
                    "bäckedal",
                    "nolby",
                    "hallebol",
                    "ö",
                    "röjdåfors",
                    "olebyn",
                    "helsingborg",
                    "bjurberget",
                    "industrigatan",
                    "furtan",
                    "mosstorpen",
                    "metbäcken",
                    "västra",
                    "byälven",
                    "mangskog",
                    "strövelstorp",
                    "å",
                    "halland",
                    "malsjö",
                    "lapplands",
                    "damm",
                    "bjuv",
                    "värmskogs",
                    "norrby",
                    "borås",
                    "västerrottna",
                    "ätrans",
                    "p4",
                    "malmö",
                    "länken",
                    "helge",
                    "vägsjöfors",
                    "bänteby",
                    "sörsjön",
                    "möllevången",
                    "lidköping",
                    "holmalund",
                    "rondellen",
                    "sälen",
                    "selarp",
                    "klarälven",
                    "värmland",
                    "eslövs",
                    "eslöv",
                    "öslöv",
                    "dalby",
                    "e18",
                    "vänern",
                    "nennesmo",
                    "abbekås",
                    "stötabo",
                    "skåne",
                    "anderstorp",
                    "århult",
                    "molkom",
                    "älvdalens",
                    "tollarp",
                    "västerdalälven",
                    "värnamo",
                    "kristinehamn",
                    "jämtland",
                    "jönköpings",
                    "österbotten",
                    "kristianstad",
                    "jönköping",
                    "dalarnas",
                    "hammarsjön",
                    "viken",
                    "vägen",
                    "sveg",
                    "ulvkälla",
                    "hallerud",
                    "malmbäck",
                    "vättern",
                    "laxå",
                    "svealand",
                    "götaland",
                    "bråten",
                    "stockaryd",
                    "sävsjö",
                    "aneby",
                    "växjö",
                    "askersund",
                    "närke",
                    "motala",
                    "öjån",
                    "åbyvägen",
                    "vetlanda",
                    "västerleden",
                    "örebro",
                    "hallsberg",
                    "nybygget",
                    "kvarn",
                    "haddebo",
                    "kristinefors",
                    "blekinge",
                    "linköping",
                    "lugnet",
                    "gamla",
                    "1152",
                    "finspång",
                    "östergötland",
                    "himmelstalund",
                    "sveriges",
                    "smedby",
                    "överum",
                    "söderköping",
                    "norrköpings",
                    "stensborg",
                    "kalmarsund",
                    "dalälven",
                    "folkestavägen",
                    "myrtorp",
                    "eskilstuna",
                    "kalmar",
                    "västeråsvägen",
                    "sala",
                    "västervik",
                    "öland",
                    "fässlinge",
                    "gävleborg",
                    "flen",
                    "sandviken",
                    "hyttgatan",
                    "värmlands",
                    "län",
                    "nyköping",
                    "söderhamn",
                    "glottra",
                    "norrsundet",
                    "gävle",
                    "centralstation",
                    "hemlingby",
                    "sandarne",
                    "norrlands",
                    "sundsvall",
                    "umeälven",
                    "vagnhärad",
                    "bålsta",
                    "hölö",
                    "enköpingsvägen",
                    "tierp",
                    "södertälje",
                    "regementsvägen",
                    "östertälje",
                    "helgö",
                    "danmark",
                    "nyland",
                    "hallunda",
                    "järfälla",
                    "norrland",
                    "jakobsberg",
                    "barkarby",
                    "barkarbybron",
                    "fjällvägen",
                    "solvalla",
                    "ulvsundavägen",
                    "nynäshamn",
                    "blå",
                    "bällstaån",
                    "karlsbodavägen",
                    "huddinge",
                    "storängsleden",
                    "medelhavet",
                    "lännavägen",
                    "gröndal",
                    "hagsätra",
                    "essingeleden",
                    "södertäljevägen",
                    "skebokvarnsvägen",
                    "högdalen",
                    "vasastan",
                    "kungliga",
                    "årsta",
                    "örbyleden",
                    "uppland",
                    "rosenlundsparken",
                    "södermalm",
                    "stockholm",
                    "slussen",
                    "biblioteksgatan",
                    "östermalmstorg",
                    "nytorgsgatan",
                    "gubbängen",
                    "kyrka",
                    "östermalm",
                    "farsta",
                    "gärdet",
                    "bergtorpsvägen",
                    "västernorrland",
                    "värmdövägen",
                    "riksgränsen",
                    "kvarnholmsvägen",
                    "österhaningevägen",
                    "nysätra",
                    "österhaninge",
                    "lycksele",
                    "lötvägen",
                    "värmdöleden",
                    "malmby",
                    "broväg",
                    "dalarövägen",
                    "gotland",
                    "västerbottens",
                    "stensjövägen",
                    "övik",
                    "söderfjärden",
                    "piteälven",
                    "husum",
                    "hemörssundet",
                    "nordmaling",
                    "luleälven",
                    "bösta",
                    "553",
                    "norrbottens",
                    "sörfors",
                    "raningsbäcken",
                    "hissjövägen",
                    "västerslättsrondellen",
                    "botsmark",
                    "bomvägen",
                    "umeå",
                    "rothoffsvägen",
                    "åsjön",
                    "åkullsjön",
                    "västerbotten",
                    "stambanan",
                    "lilla",
                    "robertsfors",
                    "ånäset",
                    "bureå",
                    "lillån",
                    "lövånger",
                    "friluftsområde",
                    "vittangi",
                    "kalixälven",
                    "mjölkudden",
                    "luleå",
                    "lulebo",
                    "älv",
                    "tärendöälven",
                    "torneälven",
                    "e4",
                    "kattilasaari",
                    "nikkala"
                  ],
                  "lat": [
                    58.416667,
                    58.3965726,
                    58.3810286,
                    58.77435635,
                    58.1253446,
                    58.3338114,
                    57.9,
                    58.2246504,
                    58.34923445,
                    58.34998675,
                    58.1882876,
                    57.6983524,
                    57.713381,
                    57.4290911,
                    57.7072326,
                    57.7159767,
                    57.6945173,
                    57.6874067,
                    57.6564918,
                    57.6560881,
                    57.739996649999995,
                    57.7420096,
                    57.7344405,
                    58.0923015,
                    57.348143199999996,
                    58.1080405,
                    57.466667,
                    57.6814806,
                    58.0671427,
                    59.7721671,
                    57.662414749999996,
                    62.6842554,
                    58.3821461,
                    58.3596788,
                    59.7156583,
                    57.5275387,
                    57.9389041,
                    58.9713088,
                    58.215850200000006,
                    60.3887396,
                    59.2726901,
                    56.0442098,
                    60.5632581,
                    56.0048169,
                    59.6474524,
                    59.6250396,
                    60.3251844,
                    62.9072629,
                    59.2547538,
                    59.7527746,
                    56.1661094,
                    56.2452597,
                    56.9608104,
                    60.0060884,
                    56.2626772,
                    56.6834966,
                    56.0856449,
                    59.4550579,
                    57.7252121,
                    57.7210839,
                    59.8624664,
                    57.1245746,
                    55.5700356,
                    55.6052931,
                    55.5923867,
                    55.60586485,
                    60.2869823,
                    60.5636426,
                    61.4120225,
                    55.4775187,
                    58.5037196,
                    57.4008122,
                    55.64390095,
                    61.1557237,
                    55.8828461,
                    60.3873345,
                    59.89076245,
                    55.83281235,
                    55.85,
                    55.8811236,
                    55.6646637,
                    59.3812801,
                    58.88666165,
                    57.2224669,
                    55.3992749,
                    57.2730271,
                    55.8479416,
                    57.2829822,
                    58.5594742,
                    59.602235,
                    61.333333,
                    55.9340622,
                    60.4790692,
                    57.184902,
                    59.3113619,
                    63.345222199999995,
                    57.783333,
                    60.041167,
                    56.0293778,
                    57.7825634,
                    61.060377849999995,
                    55.98788485,
                    58.6313939,
                    59.5181558,
                    62.0360709,
                    62.0231583,
                    58.763148,
                    57.5812266,
                    58.32266195,
                    58.95,
                    60.332434750000004,
                    57.233973199999994,
                    59.3517279,
                    57.3195952,
                    57.333333,
                    57.833333,
                    56.8787183,
                    58.866667,
                    59.05760505000001,
                    58.5420395,
                    63.9178976,
                    59.2602799,
                    57.36554305,
                    59.2638721,
                    59.2747287,
                    59.05,
                    58.7080652,
                    58.6339096,
                    58.9140114,
                    58.7908992,
                    56.12401225,
                    58.4098135,
                    60.6207637,
                    58.5751463,
                    58.649222,
                    58.8,
                    58.36782395,
                    58.5934495,
                    58.5812314,
                    56.6796081,
                    57.9887487,
                    58.4823802,
                    58.583333,
                    59.3310733,
                    56.6595435,
                    60.1754162,
                    59.4168116,
                    59.3594611,
                    59.3717379,
                    57.02784235,
                    59.6782231,
                    59.966667,
                    57.7594186,
                    56.78159615,
                    59.4153081,
                    61.2603424,
                    59.05,
                    60.619422,
                    60.6153753,
                    62.2440571,
                    59.8303413,
                    58.7545409,
                    61.2998501,
                    58.8896088,
                    60.929974,
                    60.6750132,
                    60.67576405,
                    60.6524735,
                    61.2594925,
                    63.1734729,
                    62.3907552,
                    65.0366219,
                    58.9468803,
                    59.5682102,
                    59.025492,
                    59.852958,
                    60.333333,
                    59.1964289,
                    59.8393142,
                    59.1850559,
                    59.28112325,
                    59.8322934,
                    63.0085095,
                    59.2432802,
                    59.4204736,
                    64.6149221,
                    59.4238735,
                    59.4051955,
                    59.4043861,
                    59.4252043,
                    59.3674487,
                    59.3584181,
                    58.9056457,
                    59.4588195,
                    59.3620478,
                    59.3554976,
                    59.2293827,
                    59.2285709,
                    59.3050438,
                    59.2239056,
                    59.3155417,
                    59.2625476,
                    59.3046441,
                    59.3061816,
                    59.2631961,
                    59.2637643,
                    59.3413498,
                    59.366265850000005,
                    59.2964776,
                    59.2663103,
                    59.9478778,
                    59.310735300000005,
                    59.3123782,
                    59.3251172,
                    59.3193166,
                    59.336934,
                    59.3354775,
                    59.317928,
                    59.2636202,
                    59.2564087,
                    59.336723,
                    59.2453471,
                    59.344243,
                    59.4476206,
                    63.058969250000004,
                    59.3076362,
                    68.4266175,
                    59.3125007,
                    59.1221096,
                    59.3040364,
                    59.1274727,
                    64.6,
                    59.2045716,
                    59.3151883,
                    59.6920393,
                    57.6454495,
                    59.1356769,
                    57.4174802,
                    64.72847095,
                    59.6008135,
                    63.2888613,
                    60.1561584,
                    66.0704847,
                    63.3290999,
                    63.4804284,
                    63.666667,
                    66.8035399,
                    63.7510219,
                    63.8367685,
                    66.9808129,
                    63.8729785,
                    63.824515,
                    63.8575704,
                    63.8572102,
                    64.2534035,
                    63.8389563,
                    63.8256568,
                    63.83242955,
                    64.273358,
                    64.2674993,
                    64.30624975,
                    65.4858832,
                    66.2233641,
                    64.1910877,
                    64.2789836,
                    64.6179842,
                    64.6233735,
                    64.3687534,
                    65.37804725000001,
                    67.6782861,
                    67.3368995,
                    65.6019401,
                    65.5831187,
                    65.6190891,
                    65.5975958,
                    67.1580376,
                    67.2527895,
                    65.8288591,
                    65.9479783,
                    65.8040579
                  ],
                  "legendgroup": "blue",
                  "lon": [
                    11.333333,
                    11.4196339,
                    11.441026097756726,
                    11.5625798,
                    11.7197673,
                    11.7868925,
                    11.916667,
                    11.9198287,
                    11.92794500665887,
                    11.931064400371747,
                    11.9469385,
                    11.9558136,
                    11.9611874,
                    11.9652016,
                    11.9670171,
                    11.993223,
                    11.993695420809985,
                    12.0021095,
                    12.0153085,
                    12.0172243,
                    12.017633901099988,
                    12.0262849,
                    12.0332917,
                    12.0832843,
                    12.122262572817025,
                    12.1497805,
                    12.166667,
                    12.1941598,
                    12.2133398,
                    12.2708237,
                    12.287763001236742,
                    12.3069891,
                    12.3275489,
                    12.3913637,
                    12.4310281,
                    12.5230062,
                    12.5467392,
                    12.6025801,
                    12.651820794914073,
                    12.6525604,
                    12.6592889,
                    12.703706,
                    12.7282563,
                    12.7283889,
                    12.7467217,
                    12.7551269,
                    12.7609205,
                    12.7867854,
                    12.8090823,
                    12.8243585,
                    12.8375751,
                    12.854404863512958,
                    12.85470664576265,
                    12.8730924,
                    12.8743546,
                    12.90133018880557,
                    12.9139805,
                    12.917652822703179,
                    12.9304267,
                    12.9407407,
                    12.9464006,
                    12.9497621,
                    12.95248205671141,
                    13.0001566,
                    13.01104440766452,
                    13.020005662177287,
                    13.0454492,
                    13.0840825,
                    13.0842058,
                    13.1311009,
                    13.1576427,
                    13.1715619,
                    13.233688519577147,
                    13.2694088,
                    13.2722282,
                    13.2816017,
                    13.294761705669245,
                    13.29918929639072,
                    13.316667,
                    13.3417068,
                    13.3461589,
                    13.4049645,
                    13.56272935418323,
                    13.5741234,
                    13.6002756,
                    13.6159952,
                    13.633711699754647,
                    13.6368211,
                    13.7062529,
                    13.728668,
                    13.75,
                    13.9751411,
                    14.0265369,
                    14.0410977,
                    14.11176,
                    14.124985984451182,
                    14.133333,
                    14.1388929,
                    14.1566859,
                    14.165719,
                    14.215087316959057,
                    14.217419822751165,
                    14.25848080411961,
                    14.3102484,
                    14.3598392,
                    14.3652714,
                    14.3781456,
                    14.4586279,
                    14.484265441400538,
                    14.5,
                    14.533009536731171,
                    14.573987102940283,
                    14.5742149,
                    14.5911191,
                    14.666667,
                    14.75,
                    14.8094385,
                    14.916667,
                    14.985962826717303,
                    15.041261,
                    15.0527704,
                    15.1645114,
                    15.167830505066155,
                    15.172075,
                    15.2151181,
                    15.25,
                    15.2766951,
                    15.3086421,
                    15.3694021,
                    15.3819585,
                    15.40220875187768,
                    15.6245252,
                    15.6551756,
                    15.7801496,
                    15.8253341,
                    15.833333,
                    16.050427203885352,
                    16.1456822,
                    16.1480899,
                    16.2364968,
                    16.3143158,
                    16.3216224,
                    16.333333,
                    16.4175164,
                    16.42369397293767,
                    16.4498376,
                    16.4524682,
                    16.4875971,
                    16.5051474,
                    16.575102000807693,
                    16.5967487,
                    16.6,
                    16.6385035,
                    16.662156060319074,
                    16.6917922,
                    16.694698498129124,
                    16.716667,
                    16.7724214,
                    16.7778139,
                    16.8094509,
                    16.9108305,
                    17.0120656,
                    17.0607599,
                    17.0726761,
                    17.1406678,
                    17.1467019,
                    17.151073619129416,
                    17.1631917,
                    17.1635332,
                    17.271654,
                    17.3071024,
                    17.3992066,
                    17.4955923,
                    17.5293647,
                    17.5355529,
                    17.5888308,
                    17.616667,
                    17.6271663,
                    17.6406589,
                    17.6585021,
                    17.675484469099978,
                    17.744172,
                    17.7570693,
                    17.8250922,
                    17.8285472,
                    17.83272124323154,
                    17.8329911,
                    17.8643513,
                    17.8658944,
                    17.9351294,
                    17.940296392037354,
                    17.9468508,
                    17.9470987,
                    17.9557693,
                    17.9590297,
                    17.961265,
                    17.9748815,
                    17.9907409,
                    17.9921902,
                    18.0034784,
                    18.0109121,
                    18.012769,
                    18.0178785,
                    18.0219957,
                    18.0419409,
                    18.0430573,
                    18.0489474,
                    18.052304663775637,
                    18.0528626,
                    18.0607261,
                    18.062264738791697,
                    18.066913266431463,
                    18.069755810190998,
                    18.0710935,
                    18.0722002,
                    18.0723246,
                    18.0776894,
                    18.0799864,
                    18.0820785,
                    18.0821126,
                    18.0859178,
                    18.0883657,
                    18.0908903,
                    18.0934674,
                    18.101368580066033,
                    18.1173741,
                    18.1207193,
                    18.1256646,
                    18.1321061,
                    18.1351871,
                    18.1666192,
                    18.166667,
                    18.2050997,
                    18.2116433,
                    18.2325537,
                    18.3229651,
                    18.36713,
                    18.536957927499856,
                    18.553323468349845,
                    18.5813235,
                    18.7160209,
                    18.7922859,
                    19.0595626,
                    19.1640042,
                    19.3073807,
                    19.416667,
                    19.9011755,
                    19.9784573,
                    19.9822836,
                    19.99927009304014,
                    20.036461,
                    20.1318179,
                    20.2069913,
                    20.2078624,
                    20.2461959,
                    20.2487921,
                    20.2630745,
                    20.282150063893035,
                    20.4237409,
                    20.49649990638411,
                    20.500252793275898,
                    20.503733,
                    20.6452088,
                    20.8470259,
                    21.0447987,
                    21.200493,
                    21.2159435,
                    21.3135172,
                    21.402362766257387,
                    21.6501879,
                    22.0301235,
                    22.1183974,
                    22.1459535,
                    22.1475287,
                    22.16674,
                    22.6442293,
                    23.1141856,
                    23.3865463,
                    23.798576,
                    23.9142708
                  ],
                  "marker": {
                    "color": "blue",
                    "size": [
                      1,
                      1,
                      1,
                      1,
                      1,
                      1,
                      2,
                      1,
                      1,
                      1,
                      5,
                      1,
                      1,
                      10,
                      13,
                      1,
                      2,
                      1,
                      2,
                      1,
                      1,
                      1,
                      1,
                      2,
                      1,
                      1,
                      1,
                      1,
                      1,
                      1,
                      1,
                      6,
                      1,
                      3,
                      1,
                      1,
                      1,
                      1,
                      2,
                      1,
                      1,
                      1,
                      1,
                      1,
                      1,
                      1,
                      2,
                      7,
                      1,
                      1,
                      1,
                      2,
                      1,
                      1,
                      24,
                      1,
                      2,
                      1,
                      1,
                      7,
                      1,
                      1,
                      2,
                      9,
                      1,
                      1,
                      1,
                      1,
                      1,
                      1,
                      2,
                      1,
                      1,
                      2,
                      1,
                      23,
                      2,
                      2,
                      1,
                      1,
                      1,
                      2,
                      1,
                      1,
                      1,
                      1,
                      12,
                      1,
                      1,
                      1,
                      1,
                      1,
                      20,
                      1,
                      2,
                      20,
                      3,
                      3,
                      2,
                      2,
                      23,
                      1,
                      1,
                      1,
                      1,
                      1,
                      1,
                      2,
                      1,
                      1,
                      1,
                      3,
                      1,
                      1,
                      1,
                      2,
                      1,
                      1,
                      1,
                      1,
                      1,
                      1,
                      2,
                      1,
                      1,
                      9,
                      1,
                      1,
                      1,
                      2,
                      4,
                      4,
                      1,
                      1,
                      1,
                      2,
                      9,
                      1,
                      3,
                      1,
                      1,
                      1,
                      1,
                      1,
                      1,
                      1,
                      1,
                      3,
                      2,
                      8,
                      1,
                      2,
                      2,
                      1,
                      1,
                      35,
                      1,
                      1,
                      1,
                      24,
                      212,
                      1,
                      3,
                      1,
                      2,
                      14,
                      1,
                      1,
                      1,
                      3,
                      2,
                      14,
                      1,
                      1,
                      1,
                      1,
                      1,
                      3,
                      1,
                      1,
                      1,
                      5,
                      1,
                      1,
                      5,
                      2,
                      1,
                      1,
                      1,
                      1,
                      1,
                      1,
                      1,
                      1,
                      1,
                      1,
                      1,
                      1,
                      1,
                      1,
                      1,
                      1,
                      2,
                      1,
                      1,
                      2,
                      1,
                      1,
                      1,
                      1,
                      1,
                      1,
                      1,
                      9,
                      1,
                      1,
                      1,
                      1,
                      1,
                      3,
                      1,
                      2,
                      3,
                      1,
                      6,
                      1,
                      1,
                      1,
                      2,
                      1,
                      3,
                      7,
                      1,
                      1,
                      1,
                      1,
                      1,
                      1,
                      37,
                      1,
                      1,
                      1,
                      4,
                      1,
                      1,
                      1,
                      4,
                      1,
                      1,
                      57,
                      1,
                      1,
                      1,
                      1,
                      1,
                      1,
                      3,
                      1,
                      1,
                      2,
                      1,
                      4,
                      4,
                      2,
                      1,
                      2,
                      1,
                      2,
                      1,
                      13,
                      6,
                      2,
                      2,
                      2,
                      1,
                      12,
                      14,
                      2,
                      1,
                      1
                    ],
                    "sizemode": "area",
                    "sizeref": 0.53
                  },
                  "mode": "markers",
                  "name": "blue",
                  "showlegend": true,
                  "subplot": "mapbox",
                  "type": "scattermapbox"
                },
                {
                  "customdata": [
                    [
                      1028305826396741600
                    ],
                    [
                      902255491753156600
                    ],
                    [
                      1421340731248107500
                    ],
                    [
                      1313384214516117500
                    ],
                    [
                      917276721157681200
                    ],
                    [
                      1413607493977231400
                    ],
                    [
                      1032881966155227100
                    ],
                    [
                      1404742214161477600
                    ],
                    [
                      1441749554768978000
                    ],
                    [
                      750987170245124100
                    ],
                    [
                      1413645192624812000
                    ],
                    [
                      747032950013825000
                    ],
                    [
                      1159077965424156700
                    ],
                    [
                      767628353503391700
                    ],
                    [
                      1404742214161477600
                    ],
                    [
                      1428440869976293400
                    ],
                    [
                      963011187226103800
                    ],
                    [
                      1416113974739939300
                    ],
                    [
                      1413364426875490300
                    ],
                    [
                      1310273055088947200
                    ],
                    [
                      735871907216560100
                    ],
                    [
                      1026744719878115300
                    ],
                    [
                      644837216498417700
                    ],
                    [
                      1421289591168962600
                    ],
                    [
                      1125834960215117800
                    ],
                    [
                      1033235409042587600
                    ],
                    [
                      1428427012633415700
                    ],
                    [
                      899381296383889400
                    ],
                    [
                      1421195585546244000
                    ],
                    [
                      1413432679740096500
                    ],
                    [
                      1428469067325788200
                    ],
                    [
                      1413063693789712400
                    ],
                    [
                      1026350840293060600
                    ],
                    [
                      1148319179176644600
                    ],
                    [
                      1027941878619103200
                    ],
                    [
                      1397844836196262000
                    ],
                    [
                      1416136317411463200
                    ],
                    [
                      1413606679984414700
                    ],
                    [
                      892849446425317400
                    ],
                    [
                      1313450647027617800
                    ],
                    [
                      737738795567730700
                    ],
                    [
                      1416097538210472000
                    ],
                    [
                      1421583982454616000
                    ],
                    [
                      1413503925488078800
                    ],
                    [
                      1421520893738639400
                    ],
                    [
                      1416104403497533400
                    ],
                    [
                      1416097538210472000
                    ],
                    [
                      1032879119879598100
                    ],
                    [
                      639213837615525900
                    ],
                    [
                      1286554729997271000
                    ],
                    [
                      1424236370722234400
                    ],
                    [
                      1416084459405856800
                    ],
                    [
                      738127843792543700
                    ],
                    [
                      1033022870782394400
                    ],
                    [
                      917343721796128800
                    ],
                    [
                      1428446483339255800
                    ],
                    [
                      1405214077031485400
                    ],
                    [
                      1313564014052597800
                    ],
                    [
                      1229489359604322300
                    ],
                    [
                      1159171105669693400
                    ],
                    [
                      1148319179176644600
                    ],
                    [
                      1029722288642510800
                    ],
                    [
                      1159450037182783500
                    ],
                    [
                      782986658358722600
                    ],
                    [
                      1428446483339255800
                    ],
                    [
                      1421381143312707600
                    ],
                    [
                      1158012438610108400
                    ],
                    [
                      880162897279819800
                    ],
                    [
                      1421340731248107500
                    ],
                    [
                      1421520893738639400
                    ],
                    [
                      1413432679740096500
                    ],
                    [
                      1313513341168636000
                    ],
                    [
                      1286554729997271000
                    ],
                    [
                      1416116410972049400
                    ],
                    [
                      1159450037182783500
                    ],
                    [
                      1125834960215117800
                    ],
                    [
                      619230729562648600
                    ],
                    [
                      750603753598947300
                    ],
                    [
                      738055554933919700
                    ],
                    [
                      618834707908661200
                    ],
                    [
                      750793820611149800
                    ],
                    [
                      1421289591168962600
                    ],
                    [
                      1026350840293060600
                    ],
                    [
                      1286570864906043400
                    ],
                    [
                      1428427012633415700
                    ],
                    [
                      782941714449399800
                    ],
                    [
                      1397911990169837600
                    ],
                    [
                      902255491753156600
                    ]
                  ],
                  "hovertemplate": "<b>%{hovertext}</b><br><br>color=red<br>count=%{marker.size}<br>lat=%{lat}<br>lon=%{lon}<br>id=%{customdata[0]}<extra></extra>",
                  "hovertext": [
                    "polen",
                    "huset",
                    "jarlsgatan",
                    "uddevalla",
                    "centralen",
                    "biblioteket",
                    "hawaii",
                    "egypten",
                    "grönland",
                    "öresund",
                    "england",
                    "ica",
                    "sibirien",
                    "ängelholm",
                    "peru",
                    "söderkulla",
                    "malmös",
                    "italien",
                    "jylland",
                    "flian",
                    "karlstad",
                    "island",
                    "vilhelmsborg",
                    "ryssland",
                    "gate",
                    "amerika",
                    "källare",
                    "asien",
                    "sverige",
                    "madagaskar",
                    "florida",
                    "tranås",
                    "japan",
                    "dc",
                    "krakow",
                    "västkusten",
                    "frankfurt",
                    "arena",
                    "miami",
                    "prag",
                    "neptun",
                    "finland",
                    "alperna",
                    "ålborg",
                    "tyskland",
                    "skandinavien",
                    "norden",
                    "dam",
                    "norge",
                    "vietnam",
                    "grekland",
                    "spanien",
                    "berlin",
                    "fairtrade",
                    "uppsala",
                    "skola",
                    "afrika",
                    "frankrike",
                    "esbo",
                    "randers",
                    "virginia",
                    "solna",
                    "wenzhou",
                    "stadshagens",
                    "lillebrors",
                    "belgien",
                    "indonesiens",
                    "portugals",
                    "birger",
                    "europa",
                    "tunnelbana",
                    "frankrikes",
                    "franska",
                    "tysklands",
                    "shanghai",
                    "kanada",
                    "isis",
                    "almedalen",
                    "bryssel",
                    "mariehamn",
                    "paris",
                    "kina",
                    "indonesien",
                    "milan",
                    "harrys",
                    "nord",
                    "golfbanan",
                    "vita"
                  ],
                  "lat": [
                    58.4902785,
                    58.543391,
                    58.356441,
                    58.3490555,
                    57.7091812,
                    57.7167816,
                    59.285261399999996,
                    57.6259704,
                    57.64887535,
                    57.4411391,
                    59.743273900000005,
                    56.0375921,
                    56.6566309,
                    56.2429224,
                    58.3839536,
                    57.7084204,
                    55.5953759,
                    58.3817034,
                    55.749918199999996,
                    58.3463571,
                    59.3809146,
                    58.71706575,
                    57.2551645,
                    59.008677399999996,
                    58.1797978,
                    58.6408056,
                    60.0225014,
                    60.0330605,
                    59.6749712,
                    56.8358133,
                    56.4730372,
                    58.05,
                    64.97316570000001,
                    56.625297849999995,
                    59.428587,
                    60.2703126,
                    58.2373359,
                    57.6552737,
                    58.5901768,
                    58.3374865,
                    56.523087000000004,
                    57.785717649999995,
                    65.1502138,
                    60.61113865,
                    58.313438000000005,
                    58.771502749999996,
                    59.7856557,
                    62.56438180000001,
                    60.678738100000004,
                    60.6762383,
                    60.613466,
                    59.3731603,
                    59.3459014,
                    59.8590513,
                    59.8586126,
                    59.8146817,
                    59.6142411,
                    59.8787303,
                    59.4159407,
                    59.3966611,
                    59.298155050000005,
                    59.361367,
                    59.347255,
                    59.3372021,
                    59.3401233,
                    59.3320838,
                    59.3316859,
                    59.3389627,
                    59.3383389,
                    59.3254265,
                    59.32921555,
                    59.3388532,
                    59.322874,
                    59.334404,
                    59.3560144,
                    59.0233101,
                    59.2891687,
                    57.6408672,
                    63.29019915000001,
                    59.65993145,
                    59.7623158,
                    65.0745892,
                    66.002035,
                    64.0868052,
                    63.8259768,
                    65.709302,
                    64.18103500000001,
                    65.9268121
                  ],
                  "legendgroup": "red",
                  "lon": [
                    11.4560423,
                    11.478889,
                    11.9283912,
                    11.9382855,
                    11.9730036,
                    12.0172036,
                    12.160300668473258,
                    12.3772515,
                    12.391988937939697,
                    12.6746403,
                    12.711520968966536,
                    12.782735695753953,
                    12.853649,
                    12.8619375,
                    12.8970518,
                    12.9584384,
                    12.9764623,
                    13.0250077,
                    13.186282625410453,
                    13.2957041,
                    13.5027631,
                    13.609916610859322,
                    13.8264993,
                    13.979553025363435,
                    14.1999678,
                    14.2489819,
                    14.3164916,
                    14.3364473,
                    14.5208584,
                    14.547272379126413,
                    14.7062358,
                    14.833333,
                    15.359918895365677,
                    15.561185571365359,
                    15.569462308662619,
                    15.9564302,
                    16.1586571,
                    16.181546,
                    16.2068103,
                    16.3135672,
                    16.371609900127908,
                    16.606463868575254,
                    16.7771488,
                    16.902684019810508,
                    16.97531090476957,
                    17.031311485463256,
                    17.0936173,
                    17.130987521485054,
                    17.13672951130811,
                    17.1381906,
                    17.3913549,
                    17.4968743,
                    17.6185586,
                    17.632497,
                    17.6387436,
                    17.6674801,
                    17.721838841356586,
                    17.8097767,
                    17.9339227,
                    17.9411091,
                    17.9695173156366,
                    18.0013693,
                    18.00358,
                    18.018371301469152,
                    18.0338859,
                    18.0489776,
                    18.0493703,
                    18.0566222,
                    18.0687493,
                    18.0730097,
                    18.079236051930607,
                    18.0793072,
                    18.103057,
                    18.1063627,
                    18.1073088,
                    18.2076155,
                    18.278788087973,
                    18.290853803017246,
                    18.713619551809643,
                    18.776880225,
                    18.8036565,
                    18.9471698,
                    19.8150737,
                    20.04454309687827,
                    20.2598299,
                    20.5509474,
                    20.875231390196905,
                    22.4266368
                  ],
                  "marker": {
                    "color": "red",
                    "size": [
                      2,
                      2,
                      2,
                      5,
                      1,
                      1,
                      1,
                      1,
                      4,
                      1,
                      2,
                      1,
                      3,
                      2,
                      1,
                      1,
                      1,
                      2,
                      1,
                      1,
                      4,
                      1,
                      1,
                      8,
                      1,
                      1,
                      1,
                      3,
                      35,
                      1,
                      1,
                      1,
                      6,
                      2,
                      2,
                      2,
                      1,
                      1,
                      1,
                      1,
                      1,
                      2,
                      1,
                      1,
                      23,
                      2,
                      1,
                      1,
                      7,
                      2,
                      2,
                      3,
                      2,
                      1,
                      16,
                      1,
                      1,
                      4,
                      1,
                      1,
                      1,
                      1,
                      1,
                      1,
                      1,
                      7,
                      1,
                      1,
                      2,
                      9,
                      2,
                      1,
                      1,
                      1,
                      1,
                      1,
                      1,
                      1,
                      1,
                      1,
                      2,
                      17,
                      2,
                      1,
                      1,
                      1,
                      1,
                      2
                    ],
                    "sizemode": "area",
                    "sizeref": 0.53
                  },
                  "mode": "markers",
                  "name": "red",
                  "showlegend": true,
                  "subplot": "mapbox",
                  "type": "scattermapbox"
                }
              ],
              "layout": {
                "height": 600,
                "legend": {
                  "itemsizing": "constant",
                  "title": {
                    "text": "color"
                  },
                  "tracegroupgap": 0
                },
                "mapbox": {
                  "center": {
                    "lat": 63.333112,
                    "lon": 16.007205
                  },
                  "domain": {
                    "x": [
                      0,
                      1
                    ],
                    "y": [
                      0,
                      1
                    ]
                  },
                  "style": "carto-positron",
                  "zoom": 3
                },
                "margin": {
                  "t": 60
                },
                "template": {
                  "data": {
                    "bar": [
                      {
                        "error_x": {
                          "color": "#2a3f5f"
                        },
                        "error_y": {
                          "color": "#2a3f5f"
                        },
                        "marker": {
                          "line": {
                            "color": "#E5ECF6",
                            "width": 0.5
                          },
                          "pattern": {
                            "fillmode": "overlay",
                            "size": 10,
                            "solidity": 0.2
                          }
                        },
                        "type": "bar"
                      }
                    ],
                    "barpolar": [
                      {
                        "marker": {
                          "line": {
                            "color": "#E5ECF6",
                            "width": 0.5
                          },
                          "pattern": {
                            "fillmode": "overlay",
                            "size": 10,
                            "solidity": 0.2
                          }
                        },
                        "type": "barpolar"
                      }
                    ],
                    "carpet": [
                      {
                        "aaxis": {
                          "endlinecolor": "#2a3f5f",
                          "gridcolor": "white",
                          "linecolor": "white",
                          "minorgridcolor": "white",
                          "startlinecolor": "#2a3f5f"
                        },
                        "baxis": {
                          "endlinecolor": "#2a3f5f",
                          "gridcolor": "white",
                          "linecolor": "white",
                          "minorgridcolor": "white",
                          "startlinecolor": "#2a3f5f"
                        },
                        "type": "carpet"
                      }
                    ],
                    "choropleth": [
                      {
                        "colorbar": {
                          "outlinewidth": 0,
                          "ticks": ""
                        },
                        "type": "choropleth"
                      }
                    ],
                    "contour": [
                      {
                        "colorbar": {
                          "outlinewidth": 0,
                          "ticks": ""
                        },
                        "colorscale": [
                          [
                            0,
                            "#0d0887"
                          ],
                          [
                            0.1111111111111111,
                            "#46039f"
                          ],
                          [
                            0.2222222222222222,
                            "#7201a8"
                          ],
                          [
                            0.3333333333333333,
                            "#9c179e"
                          ],
                          [
                            0.4444444444444444,
                            "#bd3786"
                          ],
                          [
                            0.5555555555555556,
                            "#d8576b"
                          ],
                          [
                            0.6666666666666666,
                            "#ed7953"
                          ],
                          [
                            0.7777777777777778,
                            "#fb9f3a"
                          ],
                          [
                            0.8888888888888888,
                            "#fdca26"
                          ],
                          [
                            1,
                            "#f0f921"
                          ]
                        ],
                        "type": "contour"
                      }
                    ],
                    "contourcarpet": [
                      {
                        "colorbar": {
                          "outlinewidth": 0,
                          "ticks": ""
                        },
                        "type": "contourcarpet"
                      }
                    ],
                    "heatmap": [
                      {
                        "colorbar": {
                          "outlinewidth": 0,
                          "ticks": ""
                        },
                        "colorscale": [
                          [
                            0,
                            "#0d0887"
                          ],
                          [
                            0.1111111111111111,
                            "#46039f"
                          ],
                          [
                            0.2222222222222222,
                            "#7201a8"
                          ],
                          [
                            0.3333333333333333,
                            "#9c179e"
                          ],
                          [
                            0.4444444444444444,
                            "#bd3786"
                          ],
                          [
                            0.5555555555555556,
                            "#d8576b"
                          ],
                          [
                            0.6666666666666666,
                            "#ed7953"
                          ],
                          [
                            0.7777777777777778,
                            "#fb9f3a"
                          ],
                          [
                            0.8888888888888888,
                            "#fdca26"
                          ],
                          [
                            1,
                            "#f0f921"
                          ]
                        ],
                        "type": "heatmap"
                      }
                    ],
                    "heatmapgl": [
                      {
                        "colorbar": {
                          "outlinewidth": 0,
                          "ticks": ""
                        },
                        "colorscale": [
                          [
                            0,
                            "#0d0887"
                          ],
                          [
                            0.1111111111111111,
                            "#46039f"
                          ],
                          [
                            0.2222222222222222,
                            "#7201a8"
                          ],
                          [
                            0.3333333333333333,
                            "#9c179e"
                          ],
                          [
                            0.4444444444444444,
                            "#bd3786"
                          ],
                          [
                            0.5555555555555556,
                            "#d8576b"
                          ],
                          [
                            0.6666666666666666,
                            "#ed7953"
                          ],
                          [
                            0.7777777777777778,
                            "#fb9f3a"
                          ],
                          [
                            0.8888888888888888,
                            "#fdca26"
                          ],
                          [
                            1,
                            "#f0f921"
                          ]
                        ],
                        "type": "heatmapgl"
                      }
                    ],
                    "histogram": [
                      {
                        "marker": {
                          "pattern": {
                            "fillmode": "overlay",
                            "size": 10,
                            "solidity": 0.2
                          }
                        },
                        "type": "histogram"
                      }
                    ],
                    "histogram2d": [
                      {
                        "colorbar": {
                          "outlinewidth": 0,
                          "ticks": ""
                        },
                        "colorscale": [
                          [
                            0,
                            "#0d0887"
                          ],
                          [
                            0.1111111111111111,
                            "#46039f"
                          ],
                          [
                            0.2222222222222222,
                            "#7201a8"
                          ],
                          [
                            0.3333333333333333,
                            "#9c179e"
                          ],
                          [
                            0.4444444444444444,
                            "#bd3786"
                          ],
                          [
                            0.5555555555555556,
                            "#d8576b"
                          ],
                          [
                            0.6666666666666666,
                            "#ed7953"
                          ],
                          [
                            0.7777777777777778,
                            "#fb9f3a"
                          ],
                          [
                            0.8888888888888888,
                            "#fdca26"
                          ],
                          [
                            1,
                            "#f0f921"
                          ]
                        ],
                        "type": "histogram2d"
                      }
                    ],
                    "histogram2dcontour": [
                      {
                        "colorbar": {
                          "outlinewidth": 0,
                          "ticks": ""
                        },
                        "colorscale": [
                          [
                            0,
                            "#0d0887"
                          ],
                          [
                            0.1111111111111111,
                            "#46039f"
                          ],
                          [
                            0.2222222222222222,
                            "#7201a8"
                          ],
                          [
                            0.3333333333333333,
                            "#9c179e"
                          ],
                          [
                            0.4444444444444444,
                            "#bd3786"
                          ],
                          [
                            0.5555555555555556,
                            "#d8576b"
                          ],
                          [
                            0.6666666666666666,
                            "#ed7953"
                          ],
                          [
                            0.7777777777777778,
                            "#fb9f3a"
                          ],
                          [
                            0.8888888888888888,
                            "#fdca26"
                          ],
                          [
                            1,
                            "#f0f921"
                          ]
                        ],
                        "type": "histogram2dcontour"
                      }
                    ],
                    "mesh3d": [
                      {
                        "colorbar": {
                          "outlinewidth": 0,
                          "ticks": ""
                        },
                        "type": "mesh3d"
                      }
                    ],
                    "parcoords": [
                      {
                        "line": {
                          "colorbar": {
                            "outlinewidth": 0,
                            "ticks": ""
                          }
                        },
                        "type": "parcoords"
                      }
                    ],
                    "pie": [
                      {
                        "automargin": true,
                        "type": "pie"
                      }
                    ],
                    "scatter": [
                      {
                        "fillpattern": {
                          "fillmode": "overlay",
                          "size": 10,
                          "solidity": 0.2
                        },
                        "type": "scatter"
                      }
                    ],
                    "scatter3d": [
                      {
                        "line": {
                          "colorbar": {
                            "outlinewidth": 0,
                            "ticks": ""
                          }
                        },
                        "marker": {
                          "colorbar": {
                            "outlinewidth": 0,
                            "ticks": ""
                          }
                        },
                        "type": "scatter3d"
                      }
                    ],
                    "scattercarpet": [
                      {
                        "marker": {
                          "colorbar": {
                            "outlinewidth": 0,
                            "ticks": ""
                          }
                        },
                        "type": "scattercarpet"
                      }
                    ],
                    "scattergeo": [
                      {
                        "marker": {
                          "colorbar": {
                            "outlinewidth": 0,
                            "ticks": ""
                          }
                        },
                        "type": "scattergeo"
                      }
                    ],
                    "scattergl": [
                      {
                        "marker": {
                          "colorbar": {
                            "outlinewidth": 0,
                            "ticks": ""
                          }
                        },
                        "type": "scattergl"
                      }
                    ],
                    "scattermapbox": [
                      {
                        "marker": {
                          "colorbar": {
                            "outlinewidth": 0,
                            "ticks": ""
                          }
                        },
                        "type": "scattermapbox"
                      }
                    ],
                    "scatterpolar": [
                      {
                        "marker": {
                          "colorbar": {
                            "outlinewidth": 0,
                            "ticks": ""
                          }
                        },
                        "type": "scatterpolar"
                      }
                    ],
                    "scatterpolargl": [
                      {
                        "marker": {
                          "colorbar": {
                            "outlinewidth": 0,
                            "ticks": ""
                          }
                        },
                        "type": "scatterpolargl"
                      }
                    ],
                    "scatterternary": [
                      {
                        "marker": {
                          "colorbar": {
                            "outlinewidth": 0,
                            "ticks": ""
                          }
                        },
                        "type": "scatterternary"
                      }
                    ],
                    "surface": [
                      {
                        "colorbar": {
                          "outlinewidth": 0,
                          "ticks": ""
                        },
                        "colorscale": [
                          [
                            0,
                            "#0d0887"
                          ],
                          [
                            0.1111111111111111,
                            "#46039f"
                          ],
                          [
                            0.2222222222222222,
                            "#7201a8"
                          ],
                          [
                            0.3333333333333333,
                            "#9c179e"
                          ],
                          [
                            0.4444444444444444,
                            "#bd3786"
                          ],
                          [
                            0.5555555555555556,
                            "#d8576b"
                          ],
                          [
                            0.6666666666666666,
                            "#ed7953"
                          ],
                          [
                            0.7777777777777778,
                            "#fb9f3a"
                          ],
                          [
                            0.8888888888888888,
                            "#fdca26"
                          ],
                          [
                            1,
                            "#f0f921"
                          ]
                        ],
                        "type": "surface"
                      }
                    ],
                    "table": [
                      {
                        "cells": {
                          "fill": {
                            "color": "#EBF0F8"
                          },
                          "line": {
                            "color": "white"
                          }
                        },
                        "header": {
                          "fill": {
                            "color": "#C8D4E3"
                          },
                          "line": {
                            "color": "white"
                          }
                        },
                        "type": "table"
                      }
                    ]
                  },
                  "layout": {
                    "annotationdefaults": {
                      "arrowcolor": "#2a3f5f",
                      "arrowhead": 0,
                      "arrowwidth": 1
                    },
                    "autotypenumbers": "strict",
                    "coloraxis": {
                      "colorbar": {
                        "outlinewidth": 0,
                        "ticks": ""
                      }
                    },
                    "colorscale": {
                      "diverging": [
                        [
                          0,
                          "#8e0152"
                        ],
                        [
                          0.1,
                          "#c51b7d"
                        ],
                        [
                          0.2,
                          "#de77ae"
                        ],
                        [
                          0.3,
                          "#f1b6da"
                        ],
                        [
                          0.4,
                          "#fde0ef"
                        ],
                        [
                          0.5,
                          "#f7f7f7"
                        ],
                        [
                          0.6,
                          "#e6f5d0"
                        ],
                        [
                          0.7,
                          "#b8e186"
                        ],
                        [
                          0.8,
                          "#7fbc41"
                        ],
                        [
                          0.9,
                          "#4d9221"
                        ],
                        [
                          1,
                          "#276419"
                        ]
                      ],
                      "sequential": [
                        [
                          0,
                          "#0d0887"
                        ],
                        [
                          0.1111111111111111,
                          "#46039f"
                        ],
                        [
                          0.2222222222222222,
                          "#7201a8"
                        ],
                        [
                          0.3333333333333333,
                          "#9c179e"
                        ],
                        [
                          0.4444444444444444,
                          "#bd3786"
                        ],
                        [
                          0.5555555555555556,
                          "#d8576b"
                        ],
                        [
                          0.6666666666666666,
                          "#ed7953"
                        ],
                        [
                          0.7777777777777778,
                          "#fb9f3a"
                        ],
                        [
                          0.8888888888888888,
                          "#fdca26"
                        ],
                        [
                          1,
                          "#f0f921"
                        ]
                      ],
                      "sequentialminus": [
                        [
                          0,
                          "#0d0887"
                        ],
                        [
                          0.1111111111111111,
                          "#46039f"
                        ],
                        [
                          0.2222222222222222,
                          "#7201a8"
                        ],
                        [
                          0.3333333333333333,
                          "#9c179e"
                        ],
                        [
                          0.4444444444444444,
                          "#bd3786"
                        ],
                        [
                          0.5555555555555556,
                          "#d8576b"
                        ],
                        [
                          0.6666666666666666,
                          "#ed7953"
                        ],
                        [
                          0.7777777777777778,
                          "#fb9f3a"
                        ],
                        [
                          0.8888888888888888,
                          "#fdca26"
                        ],
                        [
                          1,
                          "#f0f921"
                        ]
                      ]
                    },
                    "colorway": [
                      "#636efa",
                      "#EF553B",
                      "#00cc96",
                      "#ab63fa",
                      "#FFA15A",
                      "#19d3f3",
                      "#FF6692",
                      "#B6E880",
                      "#FF97FF",
                      "#FECB52"
                    ],
                    "font": {
                      "color": "#2a3f5f"
                    },
                    "geo": {
                      "bgcolor": "white",
                      "lakecolor": "white",
                      "landcolor": "#E5ECF6",
                      "showlakes": true,
                      "showland": true,
                      "subunitcolor": "white"
                    },
                    "hoverlabel": {
                      "align": "left"
                    },
                    "hovermode": "closest",
                    "mapbox": {
                      "style": "light"
                    },
                    "paper_bgcolor": "white",
                    "plot_bgcolor": "#E5ECF6",
                    "polar": {
                      "angularaxis": {
                        "gridcolor": "white",
                        "linecolor": "white",
                        "ticks": ""
                      },
                      "bgcolor": "#E5ECF6",
                      "radialaxis": {
                        "gridcolor": "white",
                        "linecolor": "white",
                        "ticks": ""
                      }
                    },
                    "scene": {
                      "xaxis": {
                        "backgroundcolor": "#E5ECF6",
                        "gridcolor": "white",
                        "gridwidth": 2,
                        "linecolor": "white",
                        "showbackground": true,
                        "ticks": "",
                        "zerolinecolor": "white"
                      },
                      "yaxis": {
                        "backgroundcolor": "#E5ECF6",
                        "gridcolor": "white",
                        "gridwidth": 2,
                        "linecolor": "white",
                        "showbackground": true,
                        "ticks": "",
                        "zerolinecolor": "white"
                      },
                      "zaxis": {
                        "backgroundcolor": "#E5ECF6",
                        "gridcolor": "white",
                        "gridwidth": 2,
                        "linecolor": "white",
                        "showbackground": true,
                        "ticks": "",
                        "zerolinecolor": "white"
                      }
                    },
                    "shapedefaults": {
                      "line": {
                        "color": "#2a3f5f"
                      }
                    },
                    "ternary": {
                      "aaxis": {
                        "gridcolor": "white",
                        "linecolor": "white",
                        "ticks": ""
                      },
                      "baxis": {
                        "gridcolor": "white",
                        "linecolor": "white",
                        "ticks": ""
                      },
                      "bgcolor": "#E5ECF6",
                      "caxis": {
                        "gridcolor": "white",
                        "linecolor": "white",
                        "ticks": ""
                      }
                    },
                    "title": {
                      "x": 0.05
                    },
                    "xaxis": {
                      "automargin": true,
                      "gridcolor": "white",
                      "linecolor": "white",
                      "ticks": "",
                      "title": {
                        "standoff": 15
                      },
                      "zerolinecolor": "white",
                      "zerolinewidth": 2
                    },
                    "yaxis": {
                      "automargin": true,
                      "gridcolor": "white",
                      "linecolor": "white",
                      "ticks": "",
                      "title": {
                        "standoff": 15
                      },
                      "zerolinecolor": "white",
                      "zerolinewidth": 2
                    }
                  }
                }
              }
            },
            "text/html": [
              "<div>                            <div id=\"0cba340f-d9c8-4edb-8a29-afa54ad602a2\" class=\"plotly-graph-div\" style=\"height:600px; width:100%;\"></div>            <script type=\"text/javascript\">                require([\"plotly\"], function(Plotly) {                    window.PLOTLYENV=window.PLOTLYENV || {};                                    if (document.getElementById(\"0cba340f-d9c8-4edb-8a29-afa54ad602a2\")) {                    Plotly.newPlot(                        \"0cba340f-d9c8-4edb-8a29-afa54ad602a2\",                        [{\"customdata\":[[1421338419528183811],[1421338419528183811],[1421154383409029121],[1229438248361103360],[1229336014784749568],[1229336014784749568],[636863997032042497],[1229353824931938304],[1229438248361103360],[1229345598408667136],[893393481602826240],[750580107564253185],[892377761964318720],[638818610425692161],[1028345323440295937],[625192886057840641],[1183260690225795073],[625192886057840641],[1183260690225795073],[1229294659467456512],[1028372146974846977],[1028372146974846977],[1028372146974846977],[1183260690225795073],[1397862137909944321],[625250627506057216],[1398132253331496960],[1183260690225795073],[644507741403246592],[639135088131702784],[1416130078929530884],[1403755624727515136],[1229422162030792706],[1028372146974846977],[644507741403246592],[899000844288438272],[644563990064947200],[639135088131702784],[1397824270382817282],[644466845274128384],[644507741403246592],[1313954063608885248],[644466845274128384],[747506814321713152],[644562349509210112],[644562349509210112],[644885147230167040],[644562349509210112],[1203607436936056834],[639081871226347520],[750571025943977984],[963311816645505024],[1159335870232715265],[644565498684768256],[738130750487339008],[1026747053009920000],[750580107564253185],[644565498684768256],[1229422162030792706],[1403822229289320449],[639081871226347520],[1148139200363057152],[880275736720011264],[1416136204228210690],[1403755624727515136],[1441560467613302788],[644767582738710528],[644474903068995584],[1416123713666355209],[1032922694642216960],[747095300129628160],[1403716549786144769],[1397855384946216963],[644473765682745344],[1203251860645253120],[735932012800966658],[1203255824237375489],[893380294128095232],[893562240846057474],[1203251860645253120],[1398144791096053763],[639080984290308096],[747057428030701568],[1229471611729956865],[1323374370954293251],[1229471611729956865],[901769883033239553],[1229471611729956865],[644762811638263808],[625371065045401600],[1416123713666355209],[1229302674182590467],[735932011215499264],[902024692185403392],[1416130078929530884],[899000844288438272],[1229416008580030465],[1323629909265231873],[1416095664233193474],[1229340961320382464],[735932011215499264],[1441560467613302788],[1229392098492928007],[1323271190996258818],[899000844288438272],[899000844288438272],[644474903068995584],[1028272566492966913],[747057428030701568],[640857079956275200],[1091361433898504193],[1229370678471790592],[644762811638263808],[1158458219125252097],[1158251380324405255],[1413030593995198464],[898804120034914304],[1397972591869112322],[640855385566482432],[1397882011499573252],[644767582738710528],[1398144791096053763],[1035608173741330432],[1397855384946216963],[1416130078929530884],[1397882011499573252],[1397872543961387008],[644565498684768256],[1398243662027501568],[644522715236315136],[901844176664440833],[1421528525551644679],[1273719204512923654],[644473765682745344],[1398227325360263168],[1398227325360263168],[1397917172249235458],[618754958993682432],[735723864144019456],[1424414954820673539],[1035689263965319168],[1159161164351324161],[618754958993682432],[1323363045234647047],[1286691501385318400],[1405030096164032512],[1398144791096053763],[644885147230167040],[1398144791096053763],[892357938651815936],[1397855384946216963],[1026747053009920000],[1035947207424442368],[1286691501385318400],[1397866979902492676],[893503260056834048],[1397881927668011008],[1441646259329064968],[1323657194244657163],[735932012800966658],[644974375251390465],[1397850223871938561],[893867572852125696],[1398243662027501568],[893553144218755073],[917361906767114245],[640771461024718848],[1428377662477766662],[1397850223871938561],[645101206906511360],[1323295325340209157],[627215570904174593],[1397850223871938561],[640707318284357632],[1397937131574550529],[640742677961568256],[747506814321713152],[1403750705748393987],[1028372146974846977],[1229485167972114434],[1397850223871938561],[1159073039629336576],[1323326011065409536],[1313475895513026563],[644825425265475584],[644581337488302080],[640735385572671488],[640742677961568256],[640788948420313088],[644473765682745344],[1428377493036322820],[1424125349508624384],[640707318284357632],[1323271190996258818],[915421524596727809],[1424125349508624384],[1398254515393118208],[1398201427571494913],[640791002341634048],[1398201427571494913],[1403750705748393987],[1404997933704138753],[1403750705748393987],[1313475895513026563],[1403750075608834052],[1404112665841180673],[1416089500569194500],[1229263974849556481],[1397862137909944321],[1403750075608834052],[917332646799212544],[1147843996745682945],[1416089500569194500],[1421335868640567297],[1273719204512923654],[1421335868640567297],[1421335868640567297],[1323271190996258818],[1403789831679905797],[644565498684768256],[1416089500569194500],[1403944779197599744],[1026390971934756864],[1323487844099362822],[1323345653263667200],[1273719204512923654],[644468350018387968],[1273719204512923654],[1398281241263329288],[1323363045234647047],[1398281241263329288],[627215570904174593],[1397824270382817282],[1273719204512923654],[1397824270382817282],[1028372146974846977],[1398281241263329288],[880336860354097152],[644974375251390465],[644563990064947200],[1323267366206189570],[1421195213146570759],[627215568685416448],[1323288571395100679],[1323288571395100679],[1323288571395100679],[627215569301938176],[1323326011065409536],[1028372146974846977],[644958535554625536],[1323359757026078721],[1323359757026078721],[1323331045077536768],[1323331045077536768],[1323652518317096960],[1323331045077536768],[1323331045077536768],[1323271190996258818],[1323582528800935936],[1323652518317096960],[1323345653263667200],[640837863672705024],[627215569301938176],[1323346156659814408],[1323363045234647047],[1323346156659814408],[1413008297347665921],[1323346156659814408],[1428377662477766662],[751181721987579911],[627215569746567168],[1441388485496094725],[644594520244494340],[1441388485496094725],[625250627506057216],[751181721513652225],[751181721987579911],[1323346156659814408],[1323635648058822656],[1323635648058822656]],\"hovertemplate\":\"<b>%{hovertext}</b><br><br>color=blue<br>count=%{marker.size}<br>lat=%{lat}<br>lon=%{lon}<br>id=%{customdata[0]}<extra></extra>\",\"hovertext\":[\"soten\\u00e4s\",\"lysekil\",\"bohusl\\u00e4n\",\"museum\",\"varekil\",\"utby\",\"kung\\u00e4lv\",\"ljungskile\",\"bohusl\\u00e4ns\",\"kampenhof\",\"e6\",\"107\",\"frihamnen\",\"v\\u00e4stsverige\",\"g\\u00f6teborg\",\"olskroksmotet\",\"liseberg\",\"kungsbackaleden\",\"m\\u00f6lndal\",\"innerstad\",\"kvibergs\",\"kortedalav\\u00e4gen\",\"kvibergsv\\u00e4gen\",\"korsv\\u00e4gen\",\"havsbad\",\"g\\u00f6ta\",\"kungsbacka\",\"m\\u00f6lndals\\u00e5n\",\"g\\u00e5rd\",\"flogned\",\"flygplats\",\"s\\u00f6dra\",\"g\\u00e5ngv\\u00e4g\",\"v\\u00e4g\",\"ottebols\",\"b\\u00e4ckedal\",\"nolby\",\"hallebol\",\"\\u00f6\",\"r\\u00f6jd\\u00e5fors\",\"olebyn\",\"helsingborg\",\"bjurberget\",\"industrigatan\",\"furtan\",\"mosstorpen\",\"metb\\u00e4cken\",\"v\\u00e4stra\",\"by\\u00e4lven\",\"mangskog\",\"str\\u00f6velstorp\",\"\\u00e5\",\"halland\",\"malsj\\u00f6\",\"lapplands\",\"damm\",\"bjuv\",\"v\\u00e4rmskogs\",\"norrby\",\"bor\\u00e5s\",\"v\\u00e4sterrottna\",\"\\u00e4trans\",\"p4\",\"malm\\u00f6\",\"l\\u00e4nken\",\"helge\",\"v\\u00e4gsj\\u00f6fors\",\"b\\u00e4nteby\",\"s\\u00f6rsj\\u00f6n\",\"m\\u00f6llev\\u00e5ngen\",\"lidk\\u00f6ping\",\"holmalund\",\"rondellen\",\"s\\u00e4len\",\"selarp\",\"klar\\u00e4lven\",\"v\\u00e4rmland\",\"esl\\u00f6vs\",\"esl\\u00f6v\",\"\\u00f6sl\\u00f6v\",\"dalby\",\"e18\",\"v\\u00e4nern\",\"nennesmo\",\"abbek\\u00e5s\",\"st\\u00f6tabo\",\"sk\\u00e5ne\",\"anderstorp\",\"\\u00e5rhult\",\"molkom\",\"\\u00e4lvdalens\",\"tollarp\",\"v\\u00e4sterdal\\u00e4lven\",\"v\\u00e4rnamo\",\"kristinehamn\",\"j\\u00e4mtland\",\"j\\u00f6nk\\u00f6pings\",\"\\u00f6sterbotten\",\"kristianstad\",\"j\\u00f6nk\\u00f6ping\",\"dalarnas\",\"hammarsj\\u00f6n\",\"viken\",\"v\\u00e4gen\",\"sveg\",\"ulvk\\u00e4lla\",\"hallerud\",\"malmb\\u00e4ck\",\"v\\u00e4ttern\",\"lax\\u00e5\",\"svealand\",\"g\\u00f6taland\",\"br\\u00e5ten\",\"stockaryd\",\"s\\u00e4vsj\\u00f6\",\"aneby\",\"v\\u00e4xj\\u00f6\",\"askersund\",\"n\\u00e4rke\",\"motala\",\"\\u00f6j\\u00e5n\",\"\\u00e5byv\\u00e4gen\",\"vetlanda\",\"v\\u00e4sterleden\",\"\\u00f6rebro\",\"hallsberg\",\"nybygget\",\"kvarn\",\"haddebo\",\"kristinefors\",\"blekinge\",\"link\\u00f6ping\",\"lugnet\",\"gamla\",\"1152\",\"finsp\\u00e5ng\",\"\\u00f6sterg\\u00f6tland\",\"himmelstalund\",\"sveriges\",\"smedby\",\"\\u00f6verum\",\"s\\u00f6derk\\u00f6ping\",\"norrk\\u00f6pings\",\"stensborg\",\"kalmarsund\",\"dal\\u00e4lven\",\"folkestav\\u00e4gen\",\"myrtorp\",\"eskilstuna\",\"kalmar\",\"v\\u00e4ster\\u00e5sv\\u00e4gen\",\"sala\",\"v\\u00e4stervik\",\"\\u00f6land\",\"f\\u00e4sslinge\",\"g\\u00e4vleborg\",\"flen\",\"sandviken\",\"hyttgatan\",\"v\\u00e4rmlands\",\"l\\u00e4n\",\"nyk\\u00f6ping\",\"s\\u00f6derhamn\",\"glottra\",\"norrsundet\",\"g\\u00e4vle\",\"centralstation\",\"hemlingby\",\"sandarne\",\"norrlands\",\"sundsvall\",\"ume\\u00e4lven\",\"vagnh\\u00e4rad\",\"b\\u00e5lsta\",\"h\\u00f6l\\u00f6\",\"enk\\u00f6pingsv\\u00e4gen\",\"tierp\",\"s\\u00f6dert\\u00e4lje\",\"regementsv\\u00e4gen\",\"\\u00f6stert\\u00e4lje\",\"helg\\u00f6\",\"danmark\",\"nyland\",\"hallunda\",\"j\\u00e4rf\\u00e4lla\",\"norrland\",\"jakobsberg\",\"barkarby\",\"barkarbybron\",\"fj\\u00e4llv\\u00e4gen\",\"solvalla\",\"ulvsundav\\u00e4gen\",\"nyn\\u00e4shamn\",\"bl\\u00e5\",\"b\\u00e4llsta\\u00e5n\",\"karlsbodav\\u00e4gen\",\"huddinge\",\"stor\\u00e4ngsleden\",\"medelhavet\",\"l\\u00e4nnav\\u00e4gen\",\"gr\\u00f6ndal\",\"hags\\u00e4tra\",\"essingeleden\",\"s\\u00f6dert\\u00e4ljev\\u00e4gen\",\"skebokvarnsv\\u00e4gen\",\"h\\u00f6gdalen\",\"vasastan\",\"kungliga\",\"\\u00e5rsta\",\"\\u00f6rbyleden\",\"uppland\",\"rosenlundsparken\",\"s\\u00f6dermalm\",\"stockholm\",\"slussen\",\"biblioteksgatan\",\"\\u00f6stermalmstorg\",\"nytorgsgatan\",\"gubb\\u00e4ngen\",\"kyrka\",\"\\u00f6stermalm\",\"farsta\",\"g\\u00e4rdet\",\"bergtorpsv\\u00e4gen\",\"v\\u00e4sternorrland\",\"v\\u00e4rmd\\u00f6v\\u00e4gen\",\"riksgr\\u00e4nsen\",\"kvarnholmsv\\u00e4gen\",\"\\u00f6sterhaningev\\u00e4gen\",\"nys\\u00e4tra\",\"\\u00f6sterhaninge\",\"lycksele\",\"l\\u00f6tv\\u00e4gen\",\"v\\u00e4rmd\\u00f6leden\",\"malmby\",\"brov\\u00e4g\",\"dalar\\u00f6v\\u00e4gen\",\"gotland\",\"v\\u00e4sterbottens\",\"stensj\\u00f6v\\u00e4gen\",\"\\u00f6vik\",\"s\\u00f6derfj\\u00e4rden\",\"pite\\u00e4lven\",\"husum\",\"hem\\u00f6rssundet\",\"nordmaling\",\"lule\\u00e4lven\",\"b\\u00f6sta\",\"553\",\"norrbottens\",\"s\\u00f6rfors\",\"raningsb\\u00e4cken\",\"hissj\\u00f6v\\u00e4gen\",\"v\\u00e4stersl\\u00e4ttsrondellen\",\"botsmark\",\"bomv\\u00e4gen\",\"ume\\u00e5\",\"rothoffsv\\u00e4gen\",\"\\u00e5sj\\u00f6n\",\"\\u00e5kullsj\\u00f6n\",\"v\\u00e4sterbotten\",\"stambanan\",\"lilla\",\"robertsfors\",\"\\u00e5n\\u00e4set\",\"bure\\u00e5\",\"lill\\u00e5n\",\"l\\u00f6v\\u00e5nger\",\"friluftsomr\\u00e5de\",\"vittangi\",\"kalix\\u00e4lven\",\"mj\\u00f6lkudden\",\"lule\\u00e5\",\"lulebo\",\"\\u00e4lv\",\"t\\u00e4rend\\u00f6\\u00e4lven\",\"torne\\u00e4lven\",\"e4\",\"kattilasaari\",\"nikkala\"],\"lat\":[58.416667,58.3965726,58.3810286,58.77435635,58.1253446,58.3338114,57.9,58.2246504,58.34923445,58.34998675,58.1882876,57.6983524,57.713381,57.4290911,57.7072326,57.7159767,57.6945173,57.6874067,57.6564918,57.6560881,57.739996649999995,57.7420096,57.7344405,58.0923015,57.348143199999996,58.1080405,57.466667,57.6814806,58.0671427,59.7721671,57.662414749999996,62.6842554,58.3821461,58.3596788,59.7156583,57.5275387,57.9389041,58.9713088,58.215850200000006,60.3887396,59.2726901,56.0442098,60.5632581,56.0048169,59.6474524,59.6250396,60.3251844,62.9072629,59.2547538,59.7527746,56.1661094,56.2452597,56.9608104,60.0060884,56.2626772,56.6834966,56.0856449,59.4550579,57.7252121,57.7210839,59.8624664,57.1245746,55.5700356,55.6052931,55.5923867,55.60586485,60.2869823,60.5636426,61.4120225,55.4775187,58.5037196,57.4008122,55.64390095,61.1557237,55.8828461,60.3873345,59.89076245,55.83281235,55.85,55.8811236,55.6646637,59.3812801,58.88666165,57.2224669,55.3992749,57.2730271,55.8479416,57.2829822,58.5594742,59.602235,61.333333,55.9340622,60.4790692,57.184902,59.3113619,63.345222199999995,57.783333,60.041167,56.0293778,57.7825634,61.060377849999995,55.98788485,58.6313939,59.5181558,62.0360709,62.0231583,58.763148,57.5812266,58.32266195,58.95,60.332434750000004,57.233973199999994,59.3517279,57.3195952,57.333333,57.833333,56.8787183,58.866667,59.05760505000001,58.5420395,63.9178976,59.2602799,57.36554305,59.2638721,59.2747287,59.05,58.7080652,58.6339096,58.9140114,58.7908992,56.12401225,58.4098135,60.6207637,58.5751463,58.649222,58.8,58.36782395,58.5934495,58.5812314,56.6796081,57.9887487,58.4823802,58.583333,59.3310733,56.6595435,60.1754162,59.4168116,59.3594611,59.3717379,57.02784235,59.6782231,59.966667,57.7594186,56.78159615,59.4153081,61.2603424,59.05,60.619422,60.6153753,62.2440571,59.8303413,58.7545409,61.2998501,58.8896088,60.929974,60.6750132,60.67576405,60.6524735,61.2594925,63.1734729,62.3907552,65.0366219,58.9468803,59.5682102,59.025492,59.852958,60.333333,59.1964289,59.8393142,59.1850559,59.28112325,59.8322934,63.0085095,59.2432802,59.4204736,64.6149221,59.4238735,59.4051955,59.4043861,59.4252043,59.3674487,59.3584181,58.9056457,59.4588195,59.3620478,59.3554976,59.2293827,59.2285709,59.3050438,59.2239056,59.3155417,59.2625476,59.3046441,59.3061816,59.2631961,59.2637643,59.3413498,59.366265850000005,59.2964776,59.2663103,59.9478778,59.310735300000005,59.3123782,59.3251172,59.3193166,59.336934,59.3354775,59.317928,59.2636202,59.2564087,59.336723,59.2453471,59.344243,59.4476206,63.058969250000004,59.3076362,68.4266175,59.3125007,59.1221096,59.3040364,59.1274727,64.6,59.2045716,59.3151883,59.6920393,57.6454495,59.1356769,57.4174802,64.72847095,59.6008135,63.2888613,60.1561584,66.0704847,63.3290999,63.4804284,63.666667,66.8035399,63.7510219,63.8367685,66.9808129,63.8729785,63.824515,63.8575704,63.8572102,64.2534035,63.8389563,63.8256568,63.83242955,64.273358,64.2674993,64.30624975,65.4858832,66.2233641,64.1910877,64.2789836,64.6179842,64.6233735,64.3687534,65.37804725000001,67.6782861,67.3368995,65.6019401,65.5831187,65.6190891,65.5975958,67.1580376,67.2527895,65.8288591,65.9479783,65.8040579],\"legendgroup\":\"blue\",\"lon\":[11.333333,11.4196339,11.441026097756726,11.5625798,11.7197673,11.7868925,11.916667,11.9198287,11.92794500665887,11.931064400371747,11.9469385,11.9558136,11.9611874,11.9652016,11.9670171,11.993223,11.993695420809985,12.0021095,12.0153085,12.0172243,12.017633901099988,12.0262849,12.0332917,12.0832843,12.122262572817025,12.1497805,12.166667,12.1941598,12.2133398,12.2708237,12.287763001236742,12.3069891,12.3275489,12.3913637,12.4310281,12.5230062,12.5467392,12.6025801,12.651820794914073,12.6525604,12.6592889,12.703706,12.7282563,12.7283889,12.7467217,12.7551269,12.7609205,12.7867854,12.8090823,12.8243585,12.8375751,12.854404863512958,12.85470664576265,12.8730924,12.8743546,12.90133018880557,12.9139805,12.917652822703179,12.9304267,12.9407407,12.9464006,12.9497621,12.95248205671141,13.0001566,13.01104440766452,13.020005662177287,13.0454492,13.0840825,13.0842058,13.1311009,13.1576427,13.1715619,13.233688519577147,13.2694088,13.2722282,13.2816017,13.294761705669245,13.29918929639072,13.316667,13.3417068,13.3461589,13.4049645,13.56272935418323,13.5741234,13.6002756,13.6159952,13.633711699754647,13.6368211,13.7062529,13.728668,13.75,13.9751411,14.0265369,14.0410977,14.11176,14.124985984451182,14.133333,14.1388929,14.1566859,14.165719,14.215087316959057,14.217419822751165,14.25848080411961,14.3102484,14.3598392,14.3652714,14.3781456,14.4586279,14.484265441400538,14.5,14.533009536731171,14.573987102940283,14.5742149,14.5911191,14.666667,14.75,14.8094385,14.916667,14.985962826717303,15.041261,15.0527704,15.1645114,15.167830505066155,15.172075,15.2151181,15.25,15.2766951,15.3086421,15.3694021,15.3819585,15.40220875187768,15.6245252,15.6551756,15.7801496,15.8253341,15.833333,16.050427203885352,16.1456822,16.1480899,16.2364968,16.3143158,16.3216224,16.333333,16.4175164,16.42369397293767,16.4498376,16.4524682,16.4875971,16.5051474,16.575102000807693,16.5967487,16.6,16.6385035,16.662156060319074,16.6917922,16.694698498129124,16.716667,16.7724214,16.7778139,16.8094509,16.9108305,17.0120656,17.0607599,17.0726761,17.1406678,17.1467019,17.151073619129416,17.1631917,17.1635332,17.271654,17.3071024,17.3992066,17.4955923,17.5293647,17.5355529,17.5888308,17.616667,17.6271663,17.6406589,17.6585021,17.675484469099978,17.744172,17.7570693,17.8250922,17.8285472,17.83272124323154,17.8329911,17.8643513,17.8658944,17.9351294,17.940296392037354,17.9468508,17.9470987,17.9557693,17.9590297,17.961265,17.9748815,17.9907409,17.9921902,18.0034784,18.0109121,18.012769,18.0178785,18.0219957,18.0419409,18.0430573,18.0489474,18.052304663775637,18.0528626,18.0607261,18.062264738791697,18.066913266431463,18.069755810190998,18.0710935,18.0722002,18.0723246,18.0776894,18.0799864,18.0820785,18.0821126,18.0859178,18.0883657,18.0908903,18.0934674,18.101368580066033,18.1173741,18.1207193,18.1256646,18.1321061,18.1351871,18.1666192,18.166667,18.2050997,18.2116433,18.2325537,18.3229651,18.36713,18.536957927499856,18.553323468349845,18.5813235,18.7160209,18.7922859,19.0595626,19.1640042,19.3073807,19.416667,19.9011755,19.9784573,19.9822836,19.99927009304014,20.036461,20.1318179,20.2069913,20.2078624,20.2461959,20.2487921,20.2630745,20.282150063893035,20.4237409,20.49649990638411,20.500252793275898,20.503733,20.6452088,20.8470259,21.0447987,21.200493,21.2159435,21.3135172,21.402362766257387,21.6501879,22.0301235,22.1183974,22.1459535,22.1475287,22.16674,22.6442293,23.1141856,23.3865463,23.798576,23.9142708],\"marker\":{\"color\":\"blue\",\"size\":[1,1,1,1,1,1,2,1,1,1,5,1,1,10,13,1,2,1,2,1,1,1,1,2,1,1,1,1,1,1,1,6,1,3,1,1,1,1,2,1,1,1,1,1,1,1,2,7,1,1,1,2,1,1,24,1,2,1,1,7,1,1,2,9,1,1,1,1,1,1,2,1,1,2,1,23,2,2,1,1,1,2,1,1,1,1,12,1,1,1,1,1,20,1,2,20,3,3,2,2,23,1,1,1,1,1,1,2,1,1,1,3,1,1,1,2,1,1,1,1,1,1,2,1,1,9,1,1,1,2,4,4,1,1,1,2,9,1,3,1,1,1,1,1,1,1,1,3,2,8,1,2,2,1,1,35,1,1,1,24,212,1,3,1,2,14,1,1,1,3,2,14,1,1,1,1,1,3,1,1,1,5,1,1,5,2,1,1,1,1,1,1,1,1,1,1,1,1,1,1,1,1,2,1,1,2,1,1,1,1,1,1,1,9,1,1,1,1,1,3,1,2,3,1,6,1,1,1,2,1,3,7,1,1,1,1,1,1,37,1,1,1,4,1,1,1,4,1,1,57,1,1,1,1,1,1,3,1,1,2,1,4,4,2,1,2,1,2,1,13,6,2,2,2,1,12,14,2,1,1],\"sizemode\":\"area\",\"sizeref\":0.53},\"mode\":\"markers\",\"name\":\"blue\",\"showlegend\":true,\"subplot\":\"mapbox\",\"type\":\"scattermapbox\"},{\"customdata\":[[1028305826396741634],[902255491753156610],[1421340731248107523],[1313384214516117504],[917276721157681152],[1413607493977231363],[1032881966155227136],[1404742214161477633],[1441749554768977932],[750987170245124096],[1413645192624812039],[747032950013825024],[1159077965424156673],[767628353503391744],[1404742214161477633],[1428440869976293384],[963011187226103808],[1416113974739939330],[1413364426875490313],[1310273055088947203],[735871907216560128],[1026744719878115328],[644837216498417664],[1421289591168962575],[1125834960215117826],[1033235409042587648],[1428427012633415686],[899381296383889410],[1421195585546244098],[1413432679740096513],[1428469067325788166],[1413063693789712385],[1026350840293060608],[1148319179176644608],[1027941878619103233],[1397844836196261891],[1416136317411463170],[1413606679984414733],[892849446425317376],[1313450647027617793],[737738795567730688],[1416097538210471936],[1421583982454616071],[1413503925488078849],[1421520893738639365],[1416104403497533444],[1416097538210471936],[1032879119879598080],[639213837615525888],[1286554729997271041],[1424236370722234368],[1416084459405856777],[738127843792543744],[1033022870782394368],[917343721796128768],[1428446483339255819],[1405214077031485448],[1313564014052597761],[1229489359604322305],[1159171105669693441],[1148319179176644608],[1029722288642510848],[1159450037182783489],[782986658358722560],[1428446483339255819],[1421381143312707585],[1158012438610108416],[880162897279819777],[1421340731248107523],[1421520893738639365],[1413432679740096513],[1313513341168635906],[1286554729997271041],[1416116410972049410],[1159450037182783489],[1125834960215117826],[619230729562648577],[750603753598947328],[738055554933919746],[618834707908661248],[750793820611149824],[1421289591168962575],[1026350840293060608],[1286570864906043392],[1428427012633415686],[782941714449399808],[1397911990169837576],[902255491753156610]],\"hovertemplate\":\"<b>%{hovertext}</b><br><br>color=red<br>count=%{marker.size}<br>lat=%{lat}<br>lon=%{lon}<br>id=%{customdata[0]}<extra></extra>\",\"hovertext\":[\"polen\",\"huset\",\"jarlsgatan\",\"uddevalla\",\"centralen\",\"biblioteket\",\"hawaii\",\"egypten\",\"gr\\u00f6nland\",\"\\u00f6resund\",\"england\",\"ica\",\"sibirien\",\"\\u00e4ngelholm\",\"peru\",\"s\\u00f6derkulla\",\"malm\\u00f6s\",\"italien\",\"jylland\",\"flian\",\"karlstad\",\"island\",\"vilhelmsborg\",\"ryssland\",\"gate\",\"amerika\",\"k\\u00e4llare\",\"asien\",\"sverige\",\"madagaskar\",\"florida\",\"tran\\u00e5s\",\"japan\",\"dc\",\"krakow\",\"v\\u00e4stkusten\",\"frankfurt\",\"arena\",\"miami\",\"prag\",\"neptun\",\"finland\",\"alperna\",\"\\u00e5lborg\",\"tyskland\",\"skandinavien\",\"norden\",\"dam\",\"norge\",\"vietnam\",\"grekland\",\"spanien\",\"berlin\",\"fairtrade\",\"uppsala\",\"skola\",\"afrika\",\"frankrike\",\"esbo\",\"randers\",\"virginia\",\"solna\",\"wenzhou\",\"stadshagens\",\"lillebrors\",\"belgien\",\"indonesiens\",\"portugals\",\"birger\",\"europa\",\"tunnelbana\",\"frankrikes\",\"franska\",\"tysklands\",\"shanghai\",\"kanada\",\"isis\",\"almedalen\",\"bryssel\",\"mariehamn\",\"paris\",\"kina\",\"indonesien\",\"milan\",\"harrys\",\"nord\",\"golfbanan\",\"vita\"],\"lat\":[58.4902785,58.543391,58.356441,58.3490555,57.7091812,57.7167816,59.285261399999996,57.6259704,57.64887535,57.4411391,59.743273900000005,56.0375921,56.6566309,56.2429224,58.3839536,57.7084204,55.5953759,58.3817034,55.749918199999996,58.3463571,59.3809146,58.71706575,57.2551645,59.008677399999996,58.1797978,58.6408056,60.0225014,60.0330605,59.6749712,56.8358133,56.4730372,58.05,64.97316570000001,56.625297849999995,59.428587,60.2703126,58.2373359,57.6552737,58.5901768,58.3374865,56.523087000000004,57.785717649999995,65.1502138,60.61113865,58.313438000000005,58.771502749999996,59.7856557,62.56438180000001,60.678738100000004,60.6762383,60.613466,59.3731603,59.3459014,59.8590513,59.8586126,59.8146817,59.6142411,59.8787303,59.4159407,59.3966611,59.298155050000005,59.361367,59.347255,59.3372021,59.3401233,59.3320838,59.3316859,59.3389627,59.3383389,59.3254265,59.32921555,59.3388532,59.322874,59.334404,59.3560144,59.0233101,59.2891687,57.6408672,63.29019915000001,59.65993145,59.7623158,65.0745892,66.002035,64.0868052,63.8259768,65.709302,64.18103500000001,65.9268121],\"legendgroup\":\"red\",\"lon\":[11.4560423,11.478889,11.9283912,11.9382855,11.9730036,12.0172036,12.160300668473258,12.3772515,12.391988937939697,12.6746403,12.711520968966536,12.782735695753953,12.853649,12.8619375,12.8970518,12.9584384,12.9764623,13.0250077,13.186282625410453,13.2957041,13.5027631,13.609916610859322,13.8264993,13.979553025363435,14.1999678,14.2489819,14.3164916,14.3364473,14.5208584,14.547272379126413,14.7062358,14.833333,15.359918895365677,15.561185571365359,15.569462308662619,15.9564302,16.1586571,16.181546,16.2068103,16.3135672,16.371609900127908,16.606463868575254,16.7771488,16.902684019810508,16.97531090476957,17.031311485463256,17.0936173,17.130987521485054,17.13672951130811,17.1381906,17.3913549,17.4968743,17.6185586,17.632497,17.6387436,17.6674801,17.721838841356586,17.8097767,17.9339227,17.9411091,17.9695173156366,18.0013693,18.00358,18.018371301469152,18.0338859,18.0489776,18.0493703,18.0566222,18.0687493,18.0730097,18.079236051930607,18.0793072,18.103057,18.1063627,18.1073088,18.2076155,18.278788087973,18.290853803017246,18.713619551809643,18.776880225,18.8036565,18.9471698,19.8150737,20.04454309687827,20.2598299,20.5509474,20.875231390196905,22.4266368],\"marker\":{\"color\":\"red\",\"size\":[2,2,2,5,1,1,1,1,4,1,2,1,3,2,1,1,1,2,1,1,4,1,1,8,1,1,1,3,35,1,1,1,6,2,2,2,1,1,1,1,1,2,1,1,23,2,1,1,7,2,2,3,2,1,16,1,1,4,1,1,1,1,1,1,1,7,1,1,2,9,2,1,1,1,1,1,1,1,1,1,2,17,2,1,1,1,1,2],\"sizemode\":\"area\",\"sizeref\":0.53},\"mode\":\"markers\",\"name\":\"red\",\"showlegend\":true,\"subplot\":\"mapbox\",\"type\":\"scattermapbox\"}],                        {\"template\":{\"data\":{\"histogram2dcontour\":[{\"type\":\"histogram2dcontour\",\"colorbar\":{\"outlinewidth\":0,\"ticks\":\"\"},\"colorscale\":[[0.0,\"#0d0887\"],[0.1111111111111111,\"#46039f\"],[0.2222222222222222,\"#7201a8\"],[0.3333333333333333,\"#9c179e\"],[0.4444444444444444,\"#bd3786\"],[0.5555555555555556,\"#d8576b\"],[0.6666666666666666,\"#ed7953\"],[0.7777777777777778,\"#fb9f3a\"],[0.8888888888888888,\"#fdca26\"],[1.0,\"#f0f921\"]]}],\"choropleth\":[{\"type\":\"choropleth\",\"colorbar\":{\"outlinewidth\":0,\"ticks\":\"\"}}],\"histogram2d\":[{\"type\":\"histogram2d\",\"colorbar\":{\"outlinewidth\":0,\"ticks\":\"\"},\"colorscale\":[[0.0,\"#0d0887\"],[0.1111111111111111,\"#46039f\"],[0.2222222222222222,\"#7201a8\"],[0.3333333333333333,\"#9c179e\"],[0.4444444444444444,\"#bd3786\"],[0.5555555555555556,\"#d8576b\"],[0.6666666666666666,\"#ed7953\"],[0.7777777777777778,\"#fb9f3a\"],[0.8888888888888888,\"#fdca26\"],[1.0,\"#f0f921\"]]}],\"heatmap\":[{\"type\":\"heatmap\",\"colorbar\":{\"outlinewidth\":0,\"ticks\":\"\"},\"colorscale\":[[0.0,\"#0d0887\"],[0.1111111111111111,\"#46039f\"],[0.2222222222222222,\"#7201a8\"],[0.3333333333333333,\"#9c179e\"],[0.4444444444444444,\"#bd3786\"],[0.5555555555555556,\"#d8576b\"],[0.6666666666666666,\"#ed7953\"],[0.7777777777777778,\"#fb9f3a\"],[0.8888888888888888,\"#fdca26\"],[1.0,\"#f0f921\"]]}],\"heatmapgl\":[{\"type\":\"heatmapgl\",\"colorbar\":{\"outlinewidth\":0,\"ticks\":\"\"},\"colorscale\":[[0.0,\"#0d0887\"],[0.1111111111111111,\"#46039f\"],[0.2222222222222222,\"#7201a8\"],[0.3333333333333333,\"#9c179e\"],[0.4444444444444444,\"#bd3786\"],[0.5555555555555556,\"#d8576b\"],[0.6666666666666666,\"#ed7953\"],[0.7777777777777778,\"#fb9f3a\"],[0.8888888888888888,\"#fdca26\"],[1.0,\"#f0f921\"]]}],\"contourcarpet\":[{\"type\":\"contourcarpet\",\"colorbar\":{\"outlinewidth\":0,\"ticks\":\"\"}}],\"contour\":[{\"type\":\"contour\",\"colorbar\":{\"outlinewidth\":0,\"ticks\":\"\"},\"colorscale\":[[0.0,\"#0d0887\"],[0.1111111111111111,\"#46039f\"],[0.2222222222222222,\"#7201a8\"],[0.3333333333333333,\"#9c179e\"],[0.4444444444444444,\"#bd3786\"],[0.5555555555555556,\"#d8576b\"],[0.6666666666666666,\"#ed7953\"],[0.7777777777777778,\"#fb9f3a\"],[0.8888888888888888,\"#fdca26\"],[1.0,\"#f0f921\"]]}],\"surface\":[{\"type\":\"surface\",\"colorbar\":{\"outlinewidth\":0,\"ticks\":\"\"},\"colorscale\":[[0.0,\"#0d0887\"],[0.1111111111111111,\"#46039f\"],[0.2222222222222222,\"#7201a8\"],[0.3333333333333333,\"#9c179e\"],[0.4444444444444444,\"#bd3786\"],[0.5555555555555556,\"#d8576b\"],[0.6666666666666666,\"#ed7953\"],[0.7777777777777778,\"#fb9f3a\"],[0.8888888888888888,\"#fdca26\"],[1.0,\"#f0f921\"]]}],\"mesh3d\":[{\"type\":\"mesh3d\",\"colorbar\":{\"outlinewidth\":0,\"ticks\":\"\"}}],\"scatter\":[{\"fillpattern\":{\"fillmode\":\"overlay\",\"size\":10,\"solidity\":0.2},\"type\":\"scatter\"}],\"parcoords\":[{\"type\":\"parcoords\",\"line\":{\"colorbar\":{\"outlinewidth\":0,\"ticks\":\"\"}}}],\"scatterpolargl\":[{\"type\":\"scatterpolargl\",\"marker\":{\"colorbar\":{\"outlinewidth\":0,\"ticks\":\"\"}}}],\"bar\":[{\"error_x\":{\"color\":\"#2a3f5f\"},\"error_y\":{\"color\":\"#2a3f5f\"},\"marker\":{\"line\":{\"color\":\"#E5ECF6\",\"width\":0.5},\"pattern\":{\"fillmode\":\"overlay\",\"size\":10,\"solidity\":0.2}},\"type\":\"bar\"}],\"scattergeo\":[{\"type\":\"scattergeo\",\"marker\":{\"colorbar\":{\"outlinewidth\":0,\"ticks\":\"\"}}}],\"scatterpolar\":[{\"type\":\"scatterpolar\",\"marker\":{\"colorbar\":{\"outlinewidth\":0,\"ticks\":\"\"}}}],\"histogram\":[{\"marker\":{\"pattern\":{\"fillmode\":\"overlay\",\"size\":10,\"solidity\":0.2}},\"type\":\"histogram\"}],\"scattergl\":[{\"type\":\"scattergl\",\"marker\":{\"colorbar\":{\"outlinewidth\":0,\"ticks\":\"\"}}}],\"scatter3d\":[{\"type\":\"scatter3d\",\"line\":{\"colorbar\":{\"outlinewidth\":0,\"ticks\":\"\"}},\"marker\":{\"colorbar\":{\"outlinewidth\":0,\"ticks\":\"\"}}}],\"scattermapbox\":[{\"type\":\"scattermapbox\",\"marker\":{\"colorbar\":{\"outlinewidth\":0,\"ticks\":\"\"}}}],\"scatterternary\":[{\"type\":\"scatterternary\",\"marker\":{\"colorbar\":{\"outlinewidth\":0,\"ticks\":\"\"}}}],\"scattercarpet\":[{\"type\":\"scattercarpet\",\"marker\":{\"colorbar\":{\"outlinewidth\":0,\"ticks\":\"\"}}}],\"carpet\":[{\"aaxis\":{\"endlinecolor\":\"#2a3f5f\",\"gridcolor\":\"white\",\"linecolor\":\"white\",\"minorgridcolor\":\"white\",\"startlinecolor\":\"#2a3f5f\"},\"baxis\":{\"endlinecolor\":\"#2a3f5f\",\"gridcolor\":\"white\",\"linecolor\":\"white\",\"minorgridcolor\":\"white\",\"startlinecolor\":\"#2a3f5f\"},\"type\":\"carpet\"}],\"table\":[{\"cells\":{\"fill\":{\"color\":\"#EBF0F8\"},\"line\":{\"color\":\"white\"}},\"header\":{\"fill\":{\"color\":\"#C8D4E3\"},\"line\":{\"color\":\"white\"}},\"type\":\"table\"}],\"barpolar\":[{\"marker\":{\"line\":{\"color\":\"#E5ECF6\",\"width\":0.5},\"pattern\":{\"fillmode\":\"overlay\",\"size\":10,\"solidity\":0.2}},\"type\":\"barpolar\"}],\"pie\":[{\"automargin\":true,\"type\":\"pie\"}]},\"layout\":{\"autotypenumbers\":\"strict\",\"colorway\":[\"#636efa\",\"#EF553B\",\"#00cc96\",\"#ab63fa\",\"#FFA15A\",\"#19d3f3\",\"#FF6692\",\"#B6E880\",\"#FF97FF\",\"#FECB52\"],\"font\":{\"color\":\"#2a3f5f\"},\"hovermode\":\"closest\",\"hoverlabel\":{\"align\":\"left\"},\"paper_bgcolor\":\"white\",\"plot_bgcolor\":\"#E5ECF6\",\"polar\":{\"bgcolor\":\"#E5ECF6\",\"angularaxis\":{\"gridcolor\":\"white\",\"linecolor\":\"white\",\"ticks\":\"\"},\"radialaxis\":{\"gridcolor\":\"white\",\"linecolor\":\"white\",\"ticks\":\"\"}},\"ternary\":{\"bgcolor\":\"#E5ECF6\",\"aaxis\":{\"gridcolor\":\"white\",\"linecolor\":\"white\",\"ticks\":\"\"},\"baxis\":{\"gridcolor\":\"white\",\"linecolor\":\"white\",\"ticks\":\"\"},\"caxis\":{\"gridcolor\":\"white\",\"linecolor\":\"white\",\"ticks\":\"\"}},\"coloraxis\":{\"colorbar\":{\"outlinewidth\":0,\"ticks\":\"\"}},\"colorscale\":{\"sequential\":[[0.0,\"#0d0887\"],[0.1111111111111111,\"#46039f\"],[0.2222222222222222,\"#7201a8\"],[0.3333333333333333,\"#9c179e\"],[0.4444444444444444,\"#bd3786\"],[0.5555555555555556,\"#d8576b\"],[0.6666666666666666,\"#ed7953\"],[0.7777777777777778,\"#fb9f3a\"],[0.8888888888888888,\"#fdca26\"],[1.0,\"#f0f921\"]],\"sequentialminus\":[[0.0,\"#0d0887\"],[0.1111111111111111,\"#46039f\"],[0.2222222222222222,\"#7201a8\"],[0.3333333333333333,\"#9c179e\"],[0.4444444444444444,\"#bd3786\"],[0.5555555555555556,\"#d8576b\"],[0.6666666666666666,\"#ed7953\"],[0.7777777777777778,\"#fb9f3a\"],[0.8888888888888888,\"#fdca26\"],[1.0,\"#f0f921\"]],\"diverging\":[[0,\"#8e0152\"],[0.1,\"#c51b7d\"],[0.2,\"#de77ae\"],[0.3,\"#f1b6da\"],[0.4,\"#fde0ef\"],[0.5,\"#f7f7f7\"],[0.6,\"#e6f5d0\"],[0.7,\"#b8e186\"],[0.8,\"#7fbc41\"],[0.9,\"#4d9221\"],[1,\"#276419\"]]},\"xaxis\":{\"gridcolor\":\"white\",\"linecolor\":\"white\",\"ticks\":\"\",\"title\":{\"standoff\":15},\"zerolinecolor\":\"white\",\"automargin\":true,\"zerolinewidth\":2},\"yaxis\":{\"gridcolor\":\"white\",\"linecolor\":\"white\",\"ticks\":\"\",\"title\":{\"standoff\":15},\"zerolinecolor\":\"white\",\"automargin\":true,\"zerolinewidth\":2},\"scene\":{\"xaxis\":{\"backgroundcolor\":\"#E5ECF6\",\"gridcolor\":\"white\",\"linecolor\":\"white\",\"showbackground\":true,\"ticks\":\"\",\"zerolinecolor\":\"white\",\"gridwidth\":2},\"yaxis\":{\"backgroundcolor\":\"#E5ECF6\",\"gridcolor\":\"white\",\"linecolor\":\"white\",\"showbackground\":true,\"ticks\":\"\",\"zerolinecolor\":\"white\",\"gridwidth\":2},\"zaxis\":{\"backgroundcolor\":\"#E5ECF6\",\"gridcolor\":\"white\",\"linecolor\":\"white\",\"showbackground\":true,\"ticks\":\"\",\"zerolinecolor\":\"white\",\"gridwidth\":2}},\"shapedefaults\":{\"line\":{\"color\":\"#2a3f5f\"}},\"annotationdefaults\":{\"arrowcolor\":\"#2a3f5f\",\"arrowhead\":0,\"arrowwidth\":1},\"geo\":{\"bgcolor\":\"white\",\"landcolor\":\"#E5ECF6\",\"subunitcolor\":\"white\",\"showland\":true,\"showlakes\":true,\"lakecolor\":\"white\"},\"title\":{\"x\":0.05},\"mapbox\":{\"style\":\"light\"}}},\"mapbox\":{\"domain\":{\"x\":[0.0,1.0],\"y\":[0.0,1.0]},\"center\":{\"lat\":63.333112,\"lon\":16.007205},\"zoom\":3,\"style\":\"carto-positron\"},\"legend\":{\"title\":{\"text\":\"color\"},\"tracegroupgap\":0,\"itemsizing\":\"constant\"},\"margin\":{\"t\":60},\"height\":600},                        {\"responsive\": true}                    ).then(function(){\n",
              "                            \n",
              "var gd = document.getElementById('0cba340f-d9c8-4edb-8a29-afa54ad602a2');\n",
              "var x = new MutationObserver(function (mutations, observer) {{\n",
              "        var display = window.getComputedStyle(gd).display;\n",
              "        if (!display || display === 'none') {{\n",
              "            console.log([gd, 'removed!']);\n",
              "            Plotly.purge(gd);\n",
              "            observer.disconnect();\n",
              "        }}\n",
              "}});\n",
              "\n",
              "// Listen for the removal of the full notebook cells\n",
              "var notebookContainer = gd.closest('#notebook-container');\n",
              "if (notebookContainer) {{\n",
              "    x.observe(notebookContainer, {childList: true});\n",
              "}}\n",
              "\n",
              "// Listen for the clearing of the current output cell\n",
              "var outputEl = gd.closest('.output');\n",
              "if (outputEl) {{\n",
              "    x.observe(outputEl, {childList: true});\n",
              "}}\n",
              "\n",
              "                        })                };                });            </script>        </div>"
            ]
          },
          "metadata": {},
          "output_type": "display_data"
        }
      ],
      "source": [
        "fig = px.scatter_mapbox(\n",
        "    df_exploded,\n",
        "    lat=\"lat\",\n",
        "    lon=\"lon\",\n",
        "    size='count',\n",
        "    hover_name=df_exploded[\"loc_name\"],\n",
        "    hover_data=[\"id\"],\n",
        "    color_discrete_map={\"blue\": \"blue\", \"red\": \"red\"},\n",
        "    color=\"color\",\n",
        "    mapbox_style=\"carto-positron\",\n",
        "    height=600,\n",
        "    zoom=3,\n",
        "    center={\"lat\": 63.333112, \"lon\": 16.007205},\n",
        ")\n",
        "\n",
        "fig.show()"
      ]
    }
  ],
  "metadata": {
    "jupytext": {
      "cell_metadata_filter": "-all",
      "formats": "ipynb,py:percent",
      "notebook_metadata_filter": "-all"
    },
    "kernelspec": {
      "display_name": "Python 3 (ipykernel)",
      "language": "python",
      "name": "python3"
    },
    "language_info": {
      "codemirror_mode": {
        "name": "ipython",
        "version": 3
      },
      "file_extension": ".py",
      "mimetype": "text/x-python",
      "name": "python",
      "nbconvert_exporter": "python",
      "pygments_lexer": "ipython3",
      "version": "3.10.7"
    }
  },
  "nbformat": 4,
  "nbformat_minor": 5
}
