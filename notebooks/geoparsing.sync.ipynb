{
 "cells": [
  {
   "cell_type": "code",
   "execution_count": 2,
   "id": "dacf4ef7",
   "metadata": {},
   "outputs": [
    {
     "name": "stderr",
     "output_type": "stream",
     "text": [
      "2022-10-05 14:12:06.679652: I tensorflow/stream_executor/cuda/cuda_gpu_executor.cc:975] successful NUMA node read from SysFS had negative value (-1), but there must be at least one NUMA node, so returning NUMA node zero\n",
      "2022-10-05 14:12:06.715852: W tensorflow/stream_executor/platform/default/dso_loader.cc:64] Could not load dynamic library 'libcudnn.so.8'; dlerror: libcudnn.so.8: cannot open shared object file: No such file or directory\n",
      "2022-10-05 14:12:06.715872: W tensorflow/core/common_runtime/gpu/gpu_device.cc:1850] Cannot dlopen some GPU libraries. Please make sure the missing libraries mentioned above are installed properly if you would like to use GPU. Follow the guide at https://www.tensorflow.org/install/gpu for how to download and setup the required libraries for your platform.\n",
      "Skipping registering GPU devices...\n"
     ]
    }
   ],
   "source": [
    "from transformers import AutoModel, AutoTokenizer\n",
    "from hydra import compose, initialize\n",
    "from omegaconf import DictConfig\n",
    "from src.data.preprocess import remove_not_needed_elements_from_string\n",
    "from transformers import pipeline\n",
    "from tqdm.notebook import tqdm\n",
    "import pandas as pd\n",
    "from geopy.geocoders import Nominatim"
   ]
  },
  {
   "cell_type": "code",
   "execution_count": 4,
   "id": "b108cddf",
   "metadata": {},
   "outputs": [
    {
     "name": "stdout",
     "output_type": "stream",
     "text": [
      "Number of tweets that explicity mentions locations\n",
      "591/5035\n"
     ]
    }
   ],
   "source": [
    "with initialize(version_base=None, config_path=\"../conf\"):\n",
    "    cfg: DictConfig = compose(config_name=\"config\")\n",
    "\n",
    "path_to_data = cfg.supervisor.processed\n",
    "\n",
    "df = pd.read_csv(\"../\" + path_to_data)\n",
    "\n",
    "print(f\"Number of tweets that explicity mentions locations\\n{len(df[df['mentions_location'] == 1])}/{len(df)}\")"
   ]
  },
  {
   "cell_type": "code",
   "execution_count": 5,
   "id": "31c40d9b",
   "metadata": {},
   "outputs": [
    {
     "name": "stderr",
     "output_type": "stream",
     "text": [
      "Some weights of the model checkpoint at KB/bert-base-swedish-cased were not used when initializing BertModel: ['cls.predictions.decoder.bias', 'cls.predictions.bias', 'cls.predictions.transform.dense.weight', 'cls.predictions.decoder.weight', 'cls.predictions.transform.dense.bias', 'cls.predictions.transform.LayerNorm.bias', 'cls.predictions.transform.LayerNorm.weight']\n",
      "- This IS expected if you are initializing BertModel from the checkpoint of a model trained on another task or with another architecture (e.g. initializing a BertForSequenceClassification model from a BertForPreTraining model).\n",
      "- This IS NOT expected if you are initializing BertModel from the checkpoint of a model that you expect to be exactly identical (initializing a BertForSequenceClassification model from a BertForSequenceClassification model).\n"
     ]
    }
   ],
   "source": [
    "tok = AutoTokenizer.from_pretrained(\"KB/bert-base-swedish-cased\")\n",
    "model = AutoModel.from_pretrained(\"KB/bert-base-swedish-cased\")\n",
    "nlp = pipeline(\n",
    "    \"ner\",\n",
    "    model=\"KB/bert-base-swedish-cased-ner\",\n",
    "    tokenizer=\"KB/bert-base-swedish-cased-ner\",\n",
    ")"
   ]
  },
  {
   "cell_type": "code",
   "execution_count": 6,
   "id": "e6b3e70e",
   "metadata": {
    "scrolled": true
   },
   "outputs": [
    {
     "data": {
      "application/vnd.jupyter.widget-view+json": {
       "model_id": "fb7b1ed2212941c493eddc8428d01a0c",
       "version_major": 2,
       "version_minor": 0
      },
      "text/plain": [
       "NER NLP:   0%|          | 0/1493 [00:00<?, ?it/s]"
      ]
     },
     "metadata": {},
     "output_type": "display_data"
    },
    {
     "name": "stderr",
     "output_type": "stream",
     "text": [
      "Asking to truncate to max_length but no maximum length is provided and the model has no predefined maximum length. Default to no truncation.\n"
     ]
    },
    {
     "name": "stdout",
     "output_type": "stream",
     "text": [
      "ÖSREGN: Översvämning i Malmbäck  \n",
      "{'entity': 'LOC', 'score': 0.92924124, 'index': 2, 'word': '##SR', 'start': 1, 'end': 3}\n",
      "[{'entity': 'LOC', 'score': 0.92924124, 'index': 2, 'word': '##SR', 'start': 1, 'end': 3}, {'entity': 'LOC', 'score': 0.976103, 'index': 3, 'word': '##EG', 'start': 3, 'end': 5}, {'entity': 'LOC', 'score': 0.9978521, 'index': 10, 'word': 'Malm', 'start': 23, 'end': 27}, {'entity': 'LOC', 'score': 0.9973863, 'index': 11, 'word': '##bäck', 'start': 27, 'end': 31}]\n",
      "-----------------------------------\n",
      "ÖSREGN: Översvämning i Malmbäck  \n",
      "{'entity': 'LOC', 'score': 0.976103, 'index': 3, 'word': '##EG', 'start': 3, 'end': 5}\n",
      "[{'entity': 'LOC', 'score': 0.92924124, 'index': 2, 'word': '##SR', 'start': 1, 'end': 3}, {'entity': 'LOC', 'score': 0.976103, 'index': 3, 'word': '##EG', 'start': 3, 'end': 5}, {'entity': 'LOC', 'score': 0.9978521, 'index': 10, 'word': 'Malm', 'start': 23, 'end': 27}, {'entity': 'LOC', 'score': 0.9973863, 'index': 11, 'word': '##bäck', 'start': 27, 'end': 31}]\n",
      "-----------------------------------\n",
      "Vej styrtede sammen i vildt regnvejr    Hovstien ved Vilhelmsborg styrtede sammen efter kraftig regn den  . september\n",
      "{'entity': 'PER', 'score': 0.8879649, 'index': 14, 'word': '##sti', 'start': 43, 'end': 46}\n",
      "[{'entity': 'PER', 'score': 0.8879649, 'index': 14, 'word': '##sti', 'start': 43, 'end': 46}, {'entity': 'LOC', 'score': 0.9987826, 'index': 17, 'word': 'Vilhelm', 'start': 53, 'end': 60}, {'entity': 'LOC', 'score': 0.99709725, 'index': 18, 'word': '##sborg', 'start': 60, 'end': 65}, {'entity': 'TME', 'score': 0.9960978, 'index': 26, 'word': 'den', 'start': 101, 'end': 104}, {'entity': 'TME', 'score': 0.9983973, 'index': 27, 'word': '.', 'start': 106, 'end': 107}, {'entity': 'TME', 'score': 0.99952865, 'index': 28, 'word': 'september', 'start': 108, 'end': 117}]\n",
      "-----------------------------------\n",
      "Lv   Bänteby-Hallerud (SOS): Vägskador, översvämning. Störning   #Övrigt #trafikP \n",
      "{'entity': 'LOC', 'score': 0.48331064, 'index': 4, 'word': '##änt', 'start': 6, 'end': 9}\n",
      "[{'entity': 'LOC', 'score': 0.48331064, 'index': 4, 'word': '##änt', 'start': 6, 'end': 9}, {'entity': 'PER', 'score': 0.92568177, 'index': 7, 'word': 'Halle', 'start': 13, 'end': 18}, {'entity': 'PER', 'score': 0.8957097, 'index': 8, 'word': '##rud', 'start': 18, 'end': 21}]\n",
      "-----------------------------------\n",
      "    Oversvømmelser i denne viadukt frembringer spændende barndomsminder frem fra Ålborg i  erne\n",
      "{'entity': 'PER', 'score': 0.68258935, 'index': 19, 'word': '##min', 'start': 65, 'end': 68}\n",
      "[{'entity': 'PER', 'score': 0.68258935, 'index': 19, 'word': '##min', 'start': 65, 'end': 68}, {'entity': 'LOC', 'score': 0.9972011, 'index': 24, 'word': 'Ål', 'start': 81, 'end': 83}, {'entity': 'LOC', 'score': 0.9983897, 'index': 25, 'word': '##borg', 'start': 83, 'end': 87}]\n",
      "-----------------------------------\n",
      "Vejle udskrev i foråret en idékonkurrence om, hvordan byen bedst beskyttes mod stormflod. Vinderen leverer et stærkt og helhedstænkende bud på stormflodsbeskyttelse, hvor vandet er en integreret del af Fjordbyen:   #dkgreen #dkklima #havetstiger  \n",
      "{'entity': 'PER', 'score': 0.41568965, 'index': 2, 'word': '##jl', 'start': 2, 'end': 4}\n",
      "[{'entity': 'PER', 'score': 0.41568965, 'index': 2, 'word': '##jl', 'start': 2, 'end': 4}]\n",
      "-----------------------------------\n",
      "DEBATT: Skyddsvallar blir alldeles för dyrt och omfattande, skriver Lars Hansson #Uddevalla #översvämning  \n",
      "{'entity': 'PER', 'score': 0.4376638, 'index': 6, 'word': '##svall', 'start': 13, 'end': 18}\n",
      "[{'entity': 'PER', 'score': 0.4376638, 'index': 6, 'word': '##svall', 'start': 13, 'end': 18}, {'entity': 'PER', 'score': 0.99989605, 'index': 16, 'word': 'Lars', 'start': 68, 'end': 72}, {'entity': 'PER', 'score': 0.99989474, 'index': 17, 'word': 'Hansson', 'start': 73, 'end': 80}, {'entity': 'PER', 'score': 0.973421, 'index': 18, 'word': '#', 'start': 81, 'end': 82}, {'entity': 'LOC', 'score': 0.70953417, 'index': 19, 'word': 'Uddevalla', 'start': 82, 'end': 91}]\n",
      "-----------------------------------\n",
      "ÖVERSVÄMNINGAR. Då behövs skyddsvallar som står säkert och vem som helst kan ställa upp snabbt. DamLite är helt överlägset. Säkert, enkelt och svenskt. Bl.a. MSB har köpt in och använt flera gånger i skarpa lägen.     \n",
      "{'entity': 'PER', 'score': 0.44347984, 'index': 24, 'word': '##L', 'start': 99, 'end': 100}\n",
      "[{'entity': 'PER', 'score': 0.44347984, 'index': 24, 'word': '##L', 'start': 99, 'end': 100}, {'entity': 'ORG', 'score': 0.999443, 'index': 40, 'word': 'MS', 'start': 158, 'end': 160}, {'entity': 'ORG', 'score': 0.9992211, 'index': 41, 'word': '##B', 'start': 160, 'end': 161}, {'entity': 'MSR', 'score': 0.9998343, 'index': 47, 'word': 'flera', 'start': 185, 'end': 190}, {'entity': 'MSR', 'score': 0.9998023, 'index': 48, 'word': 'gånger', 'start': 191, 'end': 197}]\n",
      "-----------------------------------\n",
      "#Teuvanjoki eilinen sade nosti virtaamaa mutta tänään maisema oli aurinkoinen #tulva #ELYkeskus   #Tjöckå solen lyser upp landskapet efter gårdagens regn #översvämning #NTMcentralen  \n",
      "{'entity': 'LOC', 'score': 0.7768488, 'index': 40, 'word': '##öck', 'start': 101, 'end': 104}\n",
      "[{'entity': 'LOC', 'score': 0.7768488, 'index': 40, 'word': '##öck', 'start': 101, 'end': 104}, {'entity': 'ORG', 'score': 0.4938934, 'index': 53, 'word': 'NT', 'start': 169, 'end': 171}]\n",
      "-----------------------------------\n",
      "#StormenDennis har dragit fram över de brittiska öarna i helgen. Hundratals människor har evakuerats på grund av översvämningar i södra Wales. Samtidigt som rekordmånga vädervarningar, över  , utlystes i England. Hör mer i #Morgonstudion kl. .   \n",
      "{'entity': 'EVN', 'score': 0.91049933, 'index': 4, 'word': '##Den', 'start': 8, 'end': 11}\n",
      "[{'entity': 'EVN', 'score': 0.91049933, 'index': 4, 'word': '##Den', 'start': 8, 'end': 11}, {'entity': 'EVN', 'score': 0.83963376, 'index': 5, 'word': '##nis', 'start': 11, 'end': 14}, {'entity': 'TME', 'score': 0.99963987, 'index': 13, 'word': 'i', 'start': 55, 'end': 56}, {'entity': 'TME', 'score': 0.9997371, 'index': 14, 'word': 'helgen', 'start': 57, 'end': 63}, {'entity': 'LOC', 'score': 0.99911326, 'index': 27, 'word': 'Wales', 'start': 136, 'end': 141}, {'entity': 'TME', 'score': 0.9997167, 'index': 29, 'word': 'Samtidigt', 'start': 143, 'end': 152}, {'entity': 'LOC', 'score': 0.9991172, 'index': 43, 'word': 'England', 'start': 204, 'end': 211}]\n",
      "-----------------------------------\n",
      "#StormenDennis har dragit fram över de brittiska öarna i helgen. Hundratals människor har evakuerats på grund av översvämningar i södra Wales. Samtidigt som rekordmånga vädervarningar, över  , utlystes i England. Hör mer i #Morgonstudion kl. .   \n",
      "{'entity': 'EVN', 'score': 0.83963376, 'index': 5, 'word': '##nis', 'start': 11, 'end': 14}\n",
      "[{'entity': 'EVN', 'score': 0.91049933, 'index': 4, 'word': '##Den', 'start': 8, 'end': 11}, {'entity': 'EVN', 'score': 0.83963376, 'index': 5, 'word': '##nis', 'start': 11, 'end': 14}, {'entity': 'TME', 'score': 0.99963987, 'index': 13, 'word': 'i', 'start': 55, 'end': 56}, {'entity': 'TME', 'score': 0.9997371, 'index': 14, 'word': 'helgen', 'start': 57, 'end': 63}, {'entity': 'LOC', 'score': 0.99911326, 'index': 27, 'word': 'Wales', 'start': 136, 'end': 141}, {'entity': 'TME', 'score': 0.9997167, 'index': 29, 'word': 'Samtidigt', 'start': 143, 'end': 152}, {'entity': 'LOC', 'score': 0.9991172, 'index': 43, 'word': 'England', 'start': 204, 'end': 211}]\n",
      "-----------------------------------\n",
      "Jippie, översvämning i källaren 😡\n",
      "{'entity': 'PER', 'score': 0.8150067, 'index': 2, 'word': '##pp', 'start': 2, 'end': 4}\n",
      "[{'entity': 'PER', 'score': 0.8150067, 'index': 2, 'word': '##pp', 'start': 2, 'end': 4}]\n",
      "-----------------------------------\n",
      "BAGAHAHAH översvämning inne på Ica gg\n",
      "{'entity': 'LOC', 'score': 0.54560703, 'index': 2, 'word': '##GA', 'start': 2, 'end': 4}\n",
      "[{'entity': 'LOC', 'score': 0.54560703, 'index': 2, 'word': '##GA', 'start': 2, 'end': 4}, {'entity': 'LOC', 'score': 0.59124696, 'index': 3, 'word': '##HA', 'start': 4, 'end': 6}, {'entity': 'LOC', 'score': 0.4619706, 'index': 4, 'word': '##HA', 'start': 6, 'end': 8}, {'entity': 'LOC', 'score': 0.93158686, 'index': 10, 'word': 'Ica', 'start': 31, 'end': 34}]\n",
      "-----------------------------------\n",
      "BAGAHAHAH översvämning inne på Ica gg\n",
      "{'entity': 'LOC', 'score': 0.59124696, 'index': 3, 'word': '##HA', 'start': 4, 'end': 6}\n",
      "[{'entity': 'LOC', 'score': 0.54560703, 'index': 2, 'word': '##GA', 'start': 2, 'end': 4}, {'entity': 'LOC', 'score': 0.59124696, 'index': 3, 'word': '##HA', 'start': 4, 'end': 6}, {'entity': 'LOC', 'score': 0.4619706, 'index': 4, 'word': '##HA', 'start': 6, 'end': 8}, {'entity': 'LOC', 'score': 0.93158686, 'index': 10, 'word': 'Ica', 'start': 31, 'end': 34}]\n",
      "-----------------------------------\n",
      "BAGAHAHAH översvämning inne på Ica gg\n",
      "{'entity': 'LOC', 'score': 0.4619706, 'index': 4, 'word': '##HA', 'start': 6, 'end': 8}\n",
      "[{'entity': 'LOC', 'score': 0.54560703, 'index': 2, 'word': '##GA', 'start': 2, 'end': 4}, {'entity': 'LOC', 'score': 0.59124696, 'index': 3, 'word': '##HA', 'start': 4, 'end': 6}, {'entity': 'LOC', 'score': 0.4619706, 'index': 4, 'word': '##HA', 'start': 6, 'end': 8}, {'entity': 'LOC', 'score': 0.93158686, 'index': 10, 'word': 'Ica', 'start': 31, 'end': 34}]\n",
      "-----------------------------------\n"
     ]
    }
   ],
   "source": [
    "def get_location_entities(text: str):\n",
    "    text = remove_not_needed_elements_from_string(text)\n",
    "    # Remove stopwords\n",
    "    tokens = nlp(text)\n",
    "    updated_tokens = []\n",
    "    for token in tokens:\n",
    "        if token[\"word\"].startswith(\"##\"):\n",
    "            try:\n",
    "                updated_tokens[-1][\"word\"] += token[\"word\"][2:]\n",
    "            except Exception:\n",
    "                continue\n",
    "        else:\n",
    "            updated_tokens += [token]\n",
    "    loc_entities = list(filter(lambda x: x[\"entity\"] == \"LOC\", updated_tokens))\n",
    "    return [{entity[\"word\"]: entity[\"score\"]} for entity in loc_entities]\n",
    "\n",
    "\n",
    "# Use NER on only relevant tweets\n",
    "df = df[df[\"relevant\"] == 1]\n",
    "tqdm.pandas(desc=\"NER NLP\")\n",
    "df[\"tokens\"] = df[\"raw_text\"].progress_apply(get_location_entities)"
   ]
  },
  {
   "cell_type": "markdown",
   "id": "3ec5e3dd",
   "metadata": {},
   "source": [
    "The NLP pipeline seems to generate tokens missing it's initial part that's needed for the subsequents that contains \"##\" at the start"
   ]
  },
  {
   "cell_type": "markdown",
   "id": "35e513c4",
   "metadata": {},
   "source": [
    "Now, let's filter out non-swedish locations"
   ]
  },
  {
   "cell_type": "code",
   "execution_count": 14,
   "id": "fc68abf6",
   "metadata": {},
   "outputs": [
    {
     "data": {
      "application/vnd.jupyter.widget-view+json": {
       "model_id": "fb37799260b841cbbb50bf0bee36faf9",
       "version_major": 2,
       "version_minor": 0
      },
      "text/plain": [
       "NER NLP:   0%|          | 0/1493 [00:00<?, ?it/s]"
      ]
     },
     "metadata": {},
     "output_type": "display_data"
    },
    {
     "name": "stdout",
     "output_type": "stream",
     "text": [
      "2022-10-05T14:18:19.205173+0200 - Timed out waiting for syncing to complete.\n",
      "2022-10-05T14:19:08.547628+0200 - Timed out waiting for syncing to complete.\n",
      "2022-10-05T14:19:13.609385+0200 - Timed out waiting for syncing to complete.\n",
      "2022-10-05T14:19:26.410623+0200 - Timed out waiting for syncing to complete.\n",
      "2022-10-05T14:19:31.465171+0200 - Timed out waiting for syncing to complete.\n",
      "2022-10-05T14:19:36.519399+0200 - Timed out waiting for syncing to complete.\n",
      "2022-10-05T14:19:41.624314+0200 - Timed out waiting for syncing to complete.\n"
     ]
    }
   ],
   "source": [
    "geolocator = Nominatim(user_agent=\"flood_detection\")\n",
    "\n",
    "def is_swedish_geo(list_entities):\n",
    "    for geo in list_entities:\n",
    "        entity_name = list(geo.keys())[0]\n",
    "        swedish_location = geolocator.geocode(entity_name, country_codes=\"se\", language=\"en\")\n",
    "        if swedish_location is not None:\n",
    "            return True\n",
    "    return False\n",
    "\n",
    "\n",
    "df['has_loc_entities'] = df['tokens'].apply(lambda x: len(x) > 0)\n",
    "tqdm.pandas(desc=\"Is Swidsh\")\n",
    "df['loc_ent_is_swedish'] = df['tokens'].progress_apply(is_swedish_geo)"
   ]
  },
  {
   "cell_type": "code",
   "execution_count": 16,
   "id": "8c71603d",
   "metadata": {},
   "outputs": [
    {
     "data": {
      "text/html": [
       "<div>\n",
       "<style scoped>\n",
       "    .dataframe tbody tr th:only-of-type {\n",
       "        vertical-align: middle;\n",
       "    }\n",
       "\n",
       "    .dataframe tbody tr th {\n",
       "        vertical-align: top;\n",
       "    }\n",
       "\n",
       "    .dataframe thead th {\n",
       "        text-align: right;\n",
       "    }\n",
       "</style>\n",
       "<table border=\"1\" class=\"dataframe\">\n",
       "  <thead>\n",
       "    <tr style=\"text-align: right;\">\n",
       "      <th>Predicted</th>\n",
       "      <th>False</th>\n",
       "      <th>True</th>\n",
       "    </tr>\n",
       "    <tr>\n",
       "      <th>Actual</th>\n",
       "      <th></th>\n",
       "      <th></th>\n",
       "    </tr>\n",
       "  </thead>\n",
       "  <tbody>\n",
       "    <tr>\n",
       "      <th>0.0</th>\n",
       "      <td>772</td>\n",
       "      <td>218</td>\n",
       "    </tr>\n",
       "    <tr>\n",
       "      <th>1.0</th>\n",
       "      <td>33</td>\n",
       "      <td>469</td>\n",
       "    </tr>\n",
       "  </tbody>\n",
       "</table>\n",
       "</div>"
      ],
      "text/plain": [
       "Predicted  False  True \n",
       "Actual                 \n",
       "0.0          772    218\n",
       "1.0           33    469"
      ]
     },
     "execution_count": 16,
     "metadata": {},
     "output_type": "execute_result"
    }
   ],
   "source": [
    "confusion_matrix = pd.crosstab(df['mentions_location'], df['loc_ent_is_swedish'], rownames=['Actual'], colnames=['Predicted'])\n",
    "confusion_matrix"
   ]
  },
  {
   "cell_type": "markdown",
   "id": "85dcc322",
   "metadata": {},
   "source": [
    "The percision seems to be not that good (i.e. The model seems to predict that some locations are swedish, but they are not)"
   ]
  },
  {
   "cell_type": "code",
   "execution_count": 46,
   "id": "d6eee2c4",
   "metadata": {},
   "outputs": [
    {
     "data": {
      "text/plain": [
       "0.6826783114992722"
      ]
     },
     "execution_count": 46,
     "metadata": {},
     "output_type": "execute_result"
    }
   ],
   "source": [
    "469/(469+218)"
   ]
  },
  {
   "cell_type": "code",
   "execution_count": 47,
   "id": "6fd82f54",
   "metadata": {},
   "outputs": [
    {
     "data": {
      "text/html": [
       "<div>\n",
       "<style scoped>\n",
       "    .dataframe tbody tr th:only-of-type {\n",
       "        vertical-align: middle;\n",
       "    }\n",
       "\n",
       "    .dataframe tbody tr th {\n",
       "        vertical-align: top;\n",
       "    }\n",
       "\n",
       "    .dataframe thead th {\n",
       "        text-align: right;\n",
       "    }\n",
       "</style>\n",
       "<table border=\"1\" class=\"dataframe\">\n",
       "  <thead>\n",
       "    <tr style=\"text-align: right;\">\n",
       "      <th></th>\n",
       "      <th>id</th>\n",
       "      <th>tokens</th>\n",
       "    </tr>\n",
       "  </thead>\n",
       "  <tbody>\n",
       "    <tr>\n",
       "      <th>9</th>\n",
       "      <td>907315054151962629</td>\n",
       "      <td>[{'Miami': 0.9995778}, {'Beach': 0.9994505}]</td>\n",
       "    </tr>\n",
       "    <tr>\n",
       "      <th>28</th>\n",
       "      <td>907249999553159168</td>\n",
       "      <td>[{'Florida': 0.9995338}]</td>\n",
       "    </tr>\n",
       "    <tr>\n",
       "      <th>35</th>\n",
       "      <td>907216307321491456</td>\n",
       "      <td>[{'Florida': 0.9996426}]</td>\n",
       "    </tr>\n",
       "    <tr>\n",
       "      <th>37</th>\n",
       "      <td>907197471339794434</td>\n",
       "      <td>[{'Florida': 0.99937505}]</td>\n",
       "    </tr>\n",
       "    <tr>\n",
       "      <th>41</th>\n",
       "      <td>907169643898572800</td>\n",
       "      <td>[{'Trelleborg': 0.99761}]</td>\n",
       "    </tr>\n",
       "    <tr>\n",
       "      <th>42</th>\n",
       "      <td>907168859228135424</td>\n",
       "      <td>[{'Florida': 0.9993895}]</td>\n",
       "    </tr>\n",
       "    <tr>\n",
       "      <th>50</th>\n",
       "      <td>907128844431237120</td>\n",
       "      <td>[{'Florida': 0.99947363}]</td>\n",
       "    </tr>\n",
       "    <tr>\n",
       "      <th>51</th>\n",
       "      <td>907123196159242240</td>\n",
       "      <td>[{'Florida': 0.9991867}]</td>\n",
       "    </tr>\n",
       "    <tr>\n",
       "      <th>53</th>\n",
       "      <td>907116790093938688</td>\n",
       "      <td>[{'Florida': 0.9995834}]</td>\n",
       "    </tr>\n",
       "    <tr>\n",
       "      <th>56</th>\n",
       "      <td>907044532767936514</td>\n",
       "      <td>[{'Florida': 0.9992543}]</td>\n",
       "    </tr>\n",
       "  </tbody>\n",
       "</table>\n",
       "</div>"
      ],
      "text/plain": [
       "                    id                                        tokens\n",
       "9   907315054151962629  [{'Miami': 0.9995778}, {'Beach': 0.9994505}]\n",
       "28  907249999553159168                      [{'Florida': 0.9995338}]\n",
       "35  907216307321491456                      [{'Florida': 0.9996426}]\n",
       "37  907197471339794434                     [{'Florida': 0.99937505}]\n",
       "41  907169643898572800                     [{'Trelleborg': 0.99761}]\n",
       "42  907168859228135424                      [{'Florida': 0.9993895}]\n",
       "50  907128844431237120                     [{'Florida': 0.99947363}]\n",
       "51  907123196159242240                      [{'Florida': 0.9991867}]\n",
       "53  907116790093938688                      [{'Florida': 0.9995834}]\n",
       "56  907044532767936514                      [{'Florida': 0.9992543}]"
      ]
     },
     "execution_count": 47,
     "metadata": {},
     "output_type": "execute_result"
    }
   ],
   "source": [
    "df[(df[\"mentions_location\"] == 0) & df['loc_ent_is_swedish']][['id', 'tokens']].head(10)"
   ]
  },
  {
   "cell_type": "code",
   "execution_count": 48,
   "id": "c03dcc50",
   "metadata": {},
   "outputs": [
    {
     "data": {
      "text/plain": [
       "{'place_id': 78229519,\n",
       " 'licence': 'Data © OpenStreetMap contributors, ODbL 1.0. https://osm.org/copyright',\n",
       " 'osm_type': 'node',\n",
       " 'osm_id': 7466858592,\n",
       " 'boundingbox': ['56.4729872', '56.4730872', '14.7061858', '14.7062858'],\n",
       " 'lat': '56.4730372',\n",
       " 'lon': '14.7062358',\n",
       " 'display_name': 'Florida, Ryd, Tingsryds kommun, Kronoberg County, 360 10, Sweden',\n",
       " 'class': 'place',\n",
       " 'type': 'isolated_dwelling',\n",
       " 'importance': 0.30999999999999994,\n",
       " 'address': {'isolated_dwelling': 'Florida',\n",
       "  'village': 'Ryd',\n",
       "  'municipality': 'Tingsryds kommun',\n",
       "  'county': 'Kronoberg County',\n",
       "  'ISO3166-2-lvl4': 'SE-G',\n",
       "  'postcode': '360 10',\n",
       "  'country': 'Sweden',\n",
       "  'country_code': 'se'},\n",
       " 'extratags': {}}"
      ]
     },
     "execution_count": 48,
     "metadata": {},
     "output_type": "execute_result"
    }
   ],
   "source": [
    "swedish_location = geolocator.geocode(\"Florida\", country_codes=\"se\", language=\"en\", extratags=True, addressdetails=True)\n",
    "swedish_location.raw"
   ]
  },
  {
   "cell_type": "code",
   "execution_count": 56,
   "id": "74c35cf6",
   "metadata": {},
   "outputs": [
    {
     "data": {
      "text/plain": [
       "{'capital': 'yes',\n",
       " 'wikidata': 'Q1754',\n",
       " 'wikipedia': 'sv:Stockholm',\n",
       " 'population': '829417',\n",
       " 'ref:se:scb': '0336',\n",
       " 'ref:se:pts:postort': 'STOCKHOLM'}"
      ]
     },
     "execution_count": 56,
     "metadata": {},
     "output_type": "execute_result"
    }
   ],
   "source": [
    "swedish_location = geolocator.geocode(\"Stockholm\", country_codes=\"se\", language=\"en\", extratags=True, addressdetails=True)\n",
    "swedish_location.raw['extratags']"
   ]
  },
  {
   "cell_type": "markdown",
   "id": "75007352",
   "metadata": {},
   "source": [
    "It seems that some locations in Sweden use terms like miami and Florida.\n",
    "Let's update the filter so that we limit them further. Importance and population seem to be logical picks.\n",
    "Let's filter out places that don't have population tag or have less than 1000"
   ]
  },
  {
   "cell_type": "code",
   "execution_count": 99,
   "id": "ca3cafdc",
   "metadata": {},
   "outputs": [
    {
     "data": {
      "application/vnd.jupyter.widget-view+json": {
       "model_id": "8ddc34e78e6a4e6fb603648f9ae91df7",
       "version_major": 2,
       "version_minor": 0
      },
      "text/plain": [
       "Is Swidish location:   0%|          | 0/1493 [00:00<?, ?it/s]"
      ]
     },
     "metadata": {},
     "output_type": "display_data"
    }
   ],
   "source": [
    "def is_swedish_geo(list_entities):\n",
    "    for geo in list_entities:\n",
    "        entity_name = list(geo.keys())[0]\n",
    "        swedish_location = geolocator.geocode(entity_name, country_codes=\"se\", language=\"en\", extratags=True)\n",
    "        if swedish_location is not None:\n",
    "#             if swedish_location.raw['importance'] > 0.5:\n",
    "                # if 'population' in swedish_location.raw['extratags'] and \\\n",
    "                #     int(swedish_location.raw['extratags']['population']) > 1000:\n",
    "                return swedish_location.raw\n",
    "    return False\n",
    "\n",
    "df['has_loc_entities'] = df['tokens'].apply(lambda x: len(x) > 0)\n",
    "tqdm.pandas(desc=\"Is Swidish location\")\n",
    "df['loc_ent_is_swedish'] = df['tokens'].progress_apply(is_swedish_geo)"
   ]
  },
  {
   "cell_type": "code",
   "execution_count": 107,
   "id": "5eebedeb",
   "metadata": {},
   "outputs": [
    {
     "data": {
      "text/html": [
       "<div>\n",
       "<style scoped>\n",
       "    .dataframe tbody tr th:only-of-type {\n",
       "        vertical-align: middle;\n",
       "    }\n",
       "\n",
       "    .dataframe tbody tr th {\n",
       "        vertical-align: top;\n",
       "    }\n",
       "\n",
       "    .dataframe thead th {\n",
       "        text-align: right;\n",
       "    }\n",
       "</style>\n",
       "<table border=\"1\" class=\"dataframe\">\n",
       "  <thead>\n",
       "    <tr style=\"text-align: right;\">\n",
       "      <th>Predicted</th>\n",
       "      <th>False</th>\n",
       "      <th>True</th>\n",
       "    </tr>\n",
       "    <tr>\n",
       "      <th>Actual</th>\n",
       "      <th></th>\n",
       "      <th></th>\n",
       "    </tr>\n",
       "  </thead>\n",
       "  <tbody>\n",
       "    <tr>\n",
       "      <th>0.0</th>\n",
       "      <td>772</td>\n",
       "      <td>218</td>\n",
       "    </tr>\n",
       "    <tr>\n",
       "      <th>1.0</th>\n",
       "      <td>33</td>\n",
       "      <td>469</td>\n",
       "    </tr>\n",
       "  </tbody>\n",
       "</table>\n",
       "</div>"
      ],
      "text/plain": [
       "Predicted  False  True \n",
       "Actual                 \n",
       "0.0          772    218\n",
       "1.0           33    469"
      ]
     },
     "execution_count": 107,
     "metadata": {},
     "output_type": "execute_result"
    }
   ],
   "source": [
    "confusion_matrix = pd.crosstab(df['mentions_location'], df['loc_ent_is_swedish'] != False, rownames=['Actual'], colnames=['Predicted'])\n",
    "confusion_matrix"
   ]
  },
  {
   "cell_type": "code",
   "execution_count": 103,
   "id": "faebaeba",
   "metadata": {},
   "outputs": [
    {
     "data": {
      "text/plain": [
       "9       {'place_id': 78651618, 'licence': 'Data © Open...\n",
       "28      {'place_id': 78229519, 'licence': 'Data © Open...\n",
       "35      {'place_id': 78229519, 'licence': 'Data © Open...\n",
       "37      {'place_id': 78229519, 'licence': 'Data © Open...\n",
       "41      {'place_id': 138406, 'licence': 'Data © OpenSt...\n",
       "                              ...                        \n",
       "4910    {'place_id': 144499694, 'licence': 'Data © Ope...\n",
       "4949    {'place_id': 156164308, 'licence': 'Data © Ope...\n",
       "4967    {'place_id': 297450050, 'licence': 'Data © Ope...\n",
       "5016    {'place_id': 158528919, 'licence': 'Data © Ope...\n",
       "5032    {'place_id': 298284642, 'licence': 'Data © Ope...\n",
       "Name: loc_ent_is_swedish, Length: 687, dtype: object"
      ]
     },
     "execution_count": 103,
     "metadata": {},
     "output_type": "execute_result"
    }
   ],
   "source": [
    "df[df['loc_ent_is_swedish'] != False]['loc_ent_is_swedish']"
   ]
  },
  {
   "cell_type": "code",
   "execution_count": 98,
   "id": "712ece52",
   "metadata": {},
   "outputs": [
    {
     "data": {
      "text/plain": [
       "{'place_id': 830929,\n",
       " 'licence': 'Data © OpenStreetMap contributors, ODbL 1.0. https://osm.org/copyright',\n",
       " 'osm_type': 'node',\n",
       " 'osm_id': 286644597,\n",
       " 'boundingbox': ['60.909974', '60.949974', '17.1206678', '17.1606678'],\n",
       " 'lat': '60.929974',\n",
       " 'lon': '17.1406678',\n",
       " 'display_name': 'Norrsundet, Gävle kommun, Gävleborg County, 817 30, Sweden',\n",
       " 'class': 'place',\n",
       " 'type': 'village',\n",
       " 'importance': 0.385,\n",
       " 'icon': 'https://nominatim.openstreetmap.org/ui/mapicons/poi_place_village.p.20.png',\n",
       " 'address': {'village': 'Norrsundet',\n",
       "  'municipality': 'Gävle kommun',\n",
       "  'county': 'Gävleborg County',\n",
       "  'ISO3166-2-lvl4': 'SE-X',\n",
       "  'postcode': '817 30',\n",
       "  'country': 'Sweden',\n",
       "  'country_code': 'se'},\n",
       " 'extratags': {'ref:se:scb': '7228', 'ref:se:pts:postort': 'NORRSUNDET'}}"
      ]
     },
     "execution_count": 98,
     "metadata": {},
     "output_type": "execute_result"
    }
   ],
   "source": [
    "swedish_location = geolocator.geocode(\"Norrsundet\", country_codes=\"se\", language=\"en\", extratags=True, addressdetails=True)\n",
    "swedish_location.raw"
   ]
  }
 ],
 "metadata": {
  "jupytext": {
   "cell_metadata_filter": "-all",
   "formats": "ipynb,py:percent",
   "notebook_metadata_filter": "-all"
  },
  "kernelspec": {
   "display_name": "Python 3 (ipykernel)",
   "language": "python",
   "name": "python3"
  },
  "language_info": {
   "codemirror_mode": {
    "name": "ipython",
    "version": 3
   },
   "file_extension": ".py",
   "mimetype": "text/x-python",
   "name": "python",
   "nbconvert_exporter": "python",
   "pygments_lexer": "ipython3",
   "version": "3.10.7"
  }
 },
 "nbformat": 4,
 "nbformat_minor": 5
}
