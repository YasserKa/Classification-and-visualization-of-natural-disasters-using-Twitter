{
 "cells": [
  {
   "cell_type": "code",
   "execution_count": null,
   "id": "63d609c5",
   "metadata": {},
   "outputs": [],
   "source": [
    "import json\n",
    "\n",
    "import matplotlib.pyplot as plt\n",
    "import pandas as pd\n",
    "from hydra import compose, initialize\n",
    "from hydra.utils import to_absolute_path as abspath\n",
    "from omegaconf import DictConfig"
   ]
  },
  {
   "cell_type": "code",
   "execution_count": null,
   "id": "ef6b7561",
   "metadata": {},
   "outputs": [],
   "source": [
    "\n",
    "with initialize(version_base=None, config_path=\"../conf\"):\n",
    "    cfg: DictConfig = compose(config_name=\"config\")\n",
    "    supervisor_tweets_path: str = abspath(\n",
    "        \"../\" + cfg.supervisor.tweets,\n",
    "    )\n",
    "\n",
    "with open(supervisor_tweets_path, \"r\") as file:\n",
    "    tweets_json = json.load(file)\n",
    "df = pd.json_normalize(list(tweets_json.values()))"
   ]
  },
  {
   "cell_type": "code",
   "execution_count": null,
   "id": "74512d34",
   "metadata": {},
   "outputs": [],
   "source": [
    "df.head()"
   ]
  },
  {
   "cell_type": "code",
   "execution_count": null,
   "id": "445faa9d",
   "metadata": {},
   "outputs": [],
   "source": [
    "def value_counts_lambda(col):\n",
    "    return print(df[col].value_counts())\n",
    "\n",
    "\n",
    "value_counts_lambda(\"On Topic\")\n",
    "value_counts_lambda(\"Informative/relevant/non sarcastic\")\n",
    "value_counts_lambda(\"Contains specific information about IMPACTS\")"
   ]
  },
  {
   "cell_type": "code",
   "execution_count": null,
   "id": "291511cd",
   "metadata": {},
   "outputs": [],
   "source": [
    "df = df[\n",
    "    (df[\"On Topic\"] != \"\")\n",
    "    & (df[\"Informative/relevant/non sarcastic\"] != \"\")\n",
    "    & (df[\"Contains specific information about IMPACTS\"] != \"\")\n",
    "]\n",
    "df[\"created_at\"] = pd.to_datetime(df[\"created_at\"])\n",
    "\n",
    "df[\"On Topic\"] = df[\"On Topic\"].astype(int)\n",
    "df[\"Informative/relevant/non sarcastic\"] = df[\n",
    "    \"Informative/relevant/non sarcastic\"\n",
    "].astype(int)\n",
    "df[\"Contains specific information about IMPACTS\"] = df[\n",
    "    \"Contains specific information about IMPACTS\"\n",
    "].astype(int)\n",
    "\n",
    "df_gb = df.groupby([df[\"created_at\"].dt.date])"
   ]
  },
  {
   "cell_type": "code",
   "execution_count": null,
   "id": "7ee2191c",
   "metadata": {},
   "outputs": [],
   "source": [
    "fig, ax1 = plt.subplots()\n",
    "dates = df_gb.groups.keys()\n",
    "\n",
    "plt.plot(dates, df_gb[\"On Topic\"].sum().values)\n",
    "plt.plot(dates, df_gb[\"Informative/relevant/non sarcastic\"].sum().values)\n",
    "plt.plot(dates, df_gb[\"Contains specific information about IMPACTS\"].sum().values)\n",
    "\n",
    "plt.title(\"Time series for tweets\")\n",
    "plt.xlabel(\"Date\")\n",
    "plt.ylabel(\"count\")\n",
    "\n",
    "plt.show()"
   ]
  }
 ],
 "metadata": {
  "jupytext": {
   "cell_metadata_filter": "-all",
   "formats": "ipynb,py:percent",
   "notebook_metadata_filter": "-all"
  },
  "kernelspec": {
   "display_name": "Python 3 (ipykernel)",
   "language": "python",
   "name": "python3"
  },
  "language_info": {
   "codemirror_mode": {
    "name": "ipython",
    "version": 3
   },
   "file_extension": ".py",
   "mimetype": "text/x-python",
   "name": "python",
   "nbconvert_exporter": "python",
   "pygments_lexer": "ipython3",
   "version": "3.10.7"
  }
 },
 "nbformat": 4,
 "nbformat_minor": 5
}
